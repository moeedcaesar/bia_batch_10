{
 "cells": [
  {
   "cell_type": "code",
   "execution_count": 2,
   "id": "6bff015d-584f-4b07-8495-3a1a242d4699",
   "metadata": {},
   "outputs": [],
   "source": [
    "import pandas as pd"
   ]
  },
  {
   "cell_type": "code",
   "execution_count": 3,
   "id": "f311438d-4e19-466f-8c94-748b96b87f6e",
   "metadata": {},
   "outputs": [],
   "source": [
    "df8 = pd.DataFrame({\n",
    "    'customer_id': [1, 2, 1, 3, 4],\n",
    "    'email': ['alice@example.com', 'bob@example.com', 'alice@example.com', 'charlie@example.com', 'david@example.com'],\n",
    "    'purchase': [50.0, 75.5, 50.0, 100.0, 25.5],\n",
    "    'category': ['Electronics', 'Books', 'Electronics', 'Clothing', 'Books']\n",
    "})"
   ]
  },
  {
   "cell_type": "code",
   "execution_count": 4,
   "id": "b5376c9a-39d6-4053-9acf-fd46226c7f23",
   "metadata": {},
   "outputs": [
    {
     "data": {
      "text/html": [
       "<div>\n",
       "<style scoped>\n",
       "    .dataframe tbody tr th:only-of-type {\n",
       "        vertical-align: middle;\n",
       "    }\n",
       "\n",
       "    .dataframe tbody tr th {\n",
       "        vertical-align: top;\n",
       "    }\n",
       "\n",
       "    .dataframe thead th {\n",
       "        text-align: right;\n",
       "    }\n",
       "</style>\n",
       "<table border=\"1\" class=\"dataframe\">\n",
       "  <thead>\n",
       "    <tr style=\"text-align: right;\">\n",
       "      <th></th>\n",
       "      <th>customer_id</th>\n",
       "      <th>email</th>\n",
       "      <th>purchase</th>\n",
       "      <th>category</th>\n",
       "    </tr>\n",
       "  </thead>\n",
       "  <tbody>\n",
       "    <tr>\n",
       "      <th>0</th>\n",
       "      <td>1</td>\n",
       "      <td>alice@example.com</td>\n",
       "      <td>50.0</td>\n",
       "      <td>Electronics</td>\n",
       "    </tr>\n",
       "    <tr>\n",
       "      <th>1</th>\n",
       "      <td>2</td>\n",
       "      <td>bob@example.com</td>\n",
       "      <td>75.5</td>\n",
       "      <td>Books</td>\n",
       "    </tr>\n",
       "    <tr>\n",
       "      <th>2</th>\n",
       "      <td>1</td>\n",
       "      <td>alice@example.com</td>\n",
       "      <td>50.0</td>\n",
       "      <td>Electronics</td>\n",
       "    </tr>\n",
       "    <tr>\n",
       "      <th>3</th>\n",
       "      <td>3</td>\n",
       "      <td>charlie@example.com</td>\n",
       "      <td>100.0</td>\n",
       "      <td>Clothing</td>\n",
       "    </tr>\n",
       "    <tr>\n",
       "      <th>4</th>\n",
       "      <td>4</td>\n",
       "      <td>david@example.com</td>\n",
       "      <td>25.5</td>\n",
       "      <td>Books</td>\n",
       "    </tr>\n",
       "  </tbody>\n",
       "</table>\n",
       "</div>"
      ],
      "text/plain": [
       "   customer_id                email  purchase     category\n",
       "0            1    alice@example.com      50.0  Electronics\n",
       "1            2      bob@example.com      75.5        Books\n",
       "2            1    alice@example.com      50.0  Electronics\n",
       "3            3  charlie@example.com     100.0     Clothing\n",
       "4            4    david@example.com      25.5        Books"
      ]
     },
     "execution_count": 4,
     "metadata": {},
     "output_type": "execute_result"
    }
   ],
   "source": [
    "df8"
   ]
  },
  {
   "cell_type": "code",
   "execution_count": 12,
   "id": "e1665596-50cd-470d-be4e-330b518014f7",
   "metadata": {},
   "outputs": [
    {
     "data": {
      "text/html": [
       "<div>\n",
       "<style scoped>\n",
       "    .dataframe tbody tr th:only-of-type {\n",
       "        vertical-align: middle;\n",
       "    }\n",
       "\n",
       "    .dataframe tbody tr th {\n",
       "        vertical-align: top;\n",
       "    }\n",
       "\n",
       "    .dataframe thead tr th {\n",
       "        text-align: left;\n",
       "    }\n",
       "\n",
       "    .dataframe thead tr:last-of-type th {\n",
       "        text-align: right;\n",
       "    }\n",
       "</style>\n",
       "<table border=\"1\" class=\"dataframe\">\n",
       "  <thead>\n",
       "    <tr>\n",
       "      <th></th>\n",
       "      <th colspan=\"3\" halign=\"left\">purchase</th>\n",
       "    </tr>\n",
       "    <tr>\n",
       "      <th></th>\n",
       "      <th>sum</th>\n",
       "      <th>mean</th>\n",
       "      <th>median</th>\n",
       "    </tr>\n",
       "    <tr>\n",
       "      <th>email</th>\n",
       "      <th></th>\n",
       "      <th></th>\n",
       "      <th></th>\n",
       "    </tr>\n",
       "  </thead>\n",
       "  <tbody>\n",
       "    <tr>\n",
       "      <th>alice@example.com</th>\n",
       "      <td>100.0</td>\n",
       "      <td>50.0</td>\n",
       "      <td>50.0</td>\n",
       "    </tr>\n",
       "    <tr>\n",
       "      <th>bob@example.com</th>\n",
       "      <td>75.5</td>\n",
       "      <td>75.5</td>\n",
       "      <td>75.5</td>\n",
       "    </tr>\n",
       "    <tr>\n",
       "      <th>charlie@example.com</th>\n",
       "      <td>100.0</td>\n",
       "      <td>100.0</td>\n",
       "      <td>100.0</td>\n",
       "    </tr>\n",
       "    <tr>\n",
       "      <th>david@example.com</th>\n",
       "      <td>25.5</td>\n",
       "      <td>25.5</td>\n",
       "      <td>25.5</td>\n",
       "    </tr>\n",
       "  </tbody>\n",
       "</table>\n",
       "</div>"
      ],
      "text/plain": [
       "                    purchase              \n",
       "                         sum   mean median\n",
       "email                                     \n",
       "alice@example.com      100.0   50.0   50.0\n",
       "bob@example.com         75.5   75.5   75.5\n",
       "charlie@example.com    100.0  100.0  100.0\n",
       "david@example.com       25.5   25.5   25.5"
      ]
     },
     "execution_count": 12,
     "metadata": {},
     "output_type": "execute_result"
    }
   ],
   "source": [
    "df8.groupby(['email'])[['purchase']].agg(['sum', 'mean', 'median'])"
   ]
  },
  {
   "cell_type": "code",
   "execution_count": 16,
   "id": "26e4f440-9be8-4abc-9c7a-e01e751f62fd",
   "metadata": {},
   "outputs": [
    {
     "data": {
      "text/html": [
       "<div>\n",
       "<style scoped>\n",
       "    .dataframe tbody tr th:only-of-type {\n",
       "        vertical-align: middle;\n",
       "    }\n",
       "\n",
       "    .dataframe tbody tr th {\n",
       "        vertical-align: top;\n",
       "    }\n",
       "\n",
       "    .dataframe thead th {\n",
       "        text-align: right;\n",
       "    }\n",
       "</style>\n",
       "<table border=\"1\" class=\"dataframe\">\n",
       "  <thead>\n",
       "    <tr style=\"text-align: right;\">\n",
       "      <th></th>\n",
       "      <th>purchase_x</th>\n",
       "      <th>purchase_y</th>\n",
       "      <th>purchase</th>\n",
       "    </tr>\n",
       "    <tr>\n",
       "      <th>email</th>\n",
       "      <th></th>\n",
       "      <th></th>\n",
       "      <th></th>\n",
       "    </tr>\n",
       "  </thead>\n",
       "  <tbody>\n",
       "    <tr>\n",
       "      <th>alice@example.com</th>\n",
       "      <td>100.0</td>\n",
       "      <td>50.0</td>\n",
       "      <td>50.0</td>\n",
       "    </tr>\n",
       "    <tr>\n",
       "      <th>bob@example.com</th>\n",
       "      <td>75.5</td>\n",
       "      <td>75.5</td>\n",
       "      <td>75.5</td>\n",
       "    </tr>\n",
       "    <tr>\n",
       "      <th>charlie@example.com</th>\n",
       "      <td>100.0</td>\n",
       "      <td>100.0</td>\n",
       "      <td>100.0</td>\n",
       "    </tr>\n",
       "    <tr>\n",
       "      <th>david@example.com</th>\n",
       "      <td>25.5</td>\n",
       "      <td>25.5</td>\n",
       "      <td>25.5</td>\n",
       "    </tr>\n",
       "  </tbody>\n",
       "</table>\n",
       "</div>"
      ],
      "text/plain": [
       "                     purchase_x  purchase_y  purchase\n",
       "email                                                \n",
       "alice@example.com         100.0        50.0      50.0\n",
       "bob@example.com            75.5        75.5      75.5\n",
       "charlie@example.com       100.0       100.0     100.0\n",
       "david@example.com          25.5        25.5      25.5"
      ]
     },
     "execution_count": 16,
     "metadata": {},
     "output_type": "execute_result"
    }
   ],
   "source": [
    "df_sum = df8.groupby(['email'])[['purchase']].sum()\n",
    "df_mean = df8.groupby(['email'])[['purchase']].mean()\n",
    "df_median = df8.groupby(['email'])[['purchase']].median()\n",
    "\n",
    "merged_df = pd.merge(df_sum, df_mean, on='email', how='inner')\n",
    "merged_df = pd.merge(merged_df, df_median, on='email', how='inner')\n",
    "merged_df"
   ]
  },
  {
   "cell_type": "code",
   "execution_count": 17,
   "id": "124360cf-e5bd-4d2a-b413-a11f6be48c0d",
   "metadata": {},
   "outputs": [],
   "source": [
    "data = {\n",
    "    'name': ['Alice', 'Bob', 'Charlie', 'David', 'Eva'],\n",
    "    'age': [25, 17, 35, 70, 15],\n",
    "    'email': ['alice@gmail.com', 'bob@yahoo.com', 'charlie@gmail.com', 'david@hotmail.com', 'eva@gmail.com'],\n",
    "    'math_score': [88, 92, 79, 85, 90],\n",
    "    'science_score': [84, 90, 80, 87, 89]\n",
    "}\n",
    " \n",
    "df = pd.DataFrame(data)"
   ]
  },
  {
   "cell_type": "code",
   "execution_count": 28,
   "id": "52091c6c-c9b5-49a3-a653-89d284d1d12f",
   "metadata": {},
   "outputs": [
    {
     "data": {
      "text/html": [
       "<div>\n",
       "<style scoped>\n",
       "    .dataframe tbody tr th:only-of-type {\n",
       "        vertical-align: middle;\n",
       "    }\n",
       "\n",
       "    .dataframe tbody tr th {\n",
       "        vertical-align: top;\n",
       "    }\n",
       "\n",
       "    .dataframe thead th {\n",
       "        text-align: right;\n",
       "    }\n",
       "</style>\n",
       "<table border=\"1\" class=\"dataframe\">\n",
       "  <thead>\n",
       "    <tr style=\"text-align: right;\">\n",
       "      <th></th>\n",
       "      <th>name</th>\n",
       "      <th>age</th>\n",
       "      <th>email</th>\n",
       "      <th>math_score</th>\n",
       "      <th>science_score</th>\n",
       "      <th>name_lower</th>\n",
       "    </tr>\n",
       "  </thead>\n",
       "  <tbody>\n",
       "    <tr>\n",
       "      <th>0</th>\n",
       "      <td>Alice</td>\n",
       "      <td>25</td>\n",
       "      <td>alice@gmail.com</td>\n",
       "      <td>88</td>\n",
       "      <td>84</td>\n",
       "      <td>alice</td>\n",
       "    </tr>\n",
       "    <tr>\n",
       "      <th>1</th>\n",
       "      <td>Bob</td>\n",
       "      <td>17</td>\n",
       "      <td>bob@yahoo.com</td>\n",
       "      <td>92</td>\n",
       "      <td>90</td>\n",
       "      <td>bob</td>\n",
       "    </tr>\n",
       "    <tr>\n",
       "      <th>2</th>\n",
       "      <td>Charlie</td>\n",
       "      <td>35</td>\n",
       "      <td>charlie@gmail.com</td>\n",
       "      <td>79</td>\n",
       "      <td>80</td>\n",
       "      <td>charlie</td>\n",
       "    </tr>\n",
       "    <tr>\n",
       "      <th>3</th>\n",
       "      <td>David</td>\n",
       "      <td>70</td>\n",
       "      <td>david@hotmail.com</td>\n",
       "      <td>85</td>\n",
       "      <td>87</td>\n",
       "      <td>david</td>\n",
       "    </tr>\n",
       "    <tr>\n",
       "      <th>4</th>\n",
       "      <td>Eva</td>\n",
       "      <td>15</td>\n",
       "      <td>eva@gmail.com</td>\n",
       "      <td>90</td>\n",
       "      <td>89</td>\n",
       "      <td>eva</td>\n",
       "    </tr>\n",
       "  </tbody>\n",
       "</table>\n",
       "</div>"
      ],
      "text/plain": [
       "      name  age              email  math_score  science_score name_lower\n",
       "0    Alice   25    alice@gmail.com          88             84      alice\n",
       "1      Bob   17      bob@yahoo.com          92             90        bob\n",
       "2  Charlie   35  charlie@gmail.com          79             80    charlie\n",
       "3    David   70  david@hotmail.com          85             87      david\n",
       "4      Eva   15      eva@gmail.com          90             89        eva"
      ]
     },
     "execution_count": 28,
     "metadata": {},
     "output_type": "execute_result"
    }
   ],
   "source": [
    "df['name_lower'] = df['name'].apply(lambda x: x.lower())\n",
    "df"
   ]
  },
  {
   "cell_type": "code",
   "execution_count": 33,
   "id": "026ee245-5850-42be-b1e2-9a97e759f5bb",
   "metadata": {},
   "outputs": [
    {
     "data": {
      "text/html": [
       "<div>\n",
       "<style scoped>\n",
       "    .dataframe tbody tr th:only-of-type {\n",
       "        vertical-align: middle;\n",
       "    }\n",
       "\n",
       "    .dataframe tbody tr th {\n",
       "        vertical-align: top;\n",
       "    }\n",
       "\n",
       "    .dataframe thead th {\n",
       "        text-align: right;\n",
       "    }\n",
       "</style>\n",
       "<table border=\"1\" class=\"dataframe\">\n",
       "  <thead>\n",
       "    <tr style=\"text-align: right;\">\n",
       "      <th></th>\n",
       "      <th>name</th>\n",
       "      <th>age</th>\n",
       "      <th>email</th>\n",
       "      <th>math_score</th>\n",
       "      <th>science_score</th>\n",
       "      <th>name_lower</th>\n",
       "      <th>age_category</th>\n",
       "    </tr>\n",
       "  </thead>\n",
       "  <tbody>\n",
       "    <tr>\n",
       "      <th>0</th>\n",
       "      <td>Alice</td>\n",
       "      <td>25</td>\n",
       "      <td>alice@gmail.com</td>\n",
       "      <td>88</td>\n",
       "      <td>84</td>\n",
       "      <td>alice</td>\n",
       "      <td>Young</td>\n",
       "    </tr>\n",
       "    <tr>\n",
       "      <th>1</th>\n",
       "      <td>Bob</td>\n",
       "      <td>17</td>\n",
       "      <td>bob@yahoo.com</td>\n",
       "      <td>92</td>\n",
       "      <td>90</td>\n",
       "      <td>bob</td>\n",
       "      <td>Young</td>\n",
       "    </tr>\n",
       "    <tr>\n",
       "      <th>2</th>\n",
       "      <td>Charlie</td>\n",
       "      <td>35</td>\n",
       "      <td>charlie@gmail.com</td>\n",
       "      <td>79</td>\n",
       "      <td>80</td>\n",
       "      <td>charlie</td>\n",
       "      <td>Old</td>\n",
       "    </tr>\n",
       "    <tr>\n",
       "      <th>3</th>\n",
       "      <td>David</td>\n",
       "      <td>70</td>\n",
       "      <td>david@hotmail.com</td>\n",
       "      <td>85</td>\n",
       "      <td>87</td>\n",
       "      <td>david</td>\n",
       "      <td>Old</td>\n",
       "    </tr>\n",
       "    <tr>\n",
       "      <th>4</th>\n",
       "      <td>Eva</td>\n",
       "      <td>15</td>\n",
       "      <td>eva@gmail.com</td>\n",
       "      <td>90</td>\n",
       "      <td>89</td>\n",
       "      <td>eva</td>\n",
       "      <td>Young</td>\n",
       "    </tr>\n",
       "  </tbody>\n",
       "</table>\n",
       "</div>"
      ],
      "text/plain": [
       "      name  age              email  math_score  science_score name_lower  \\\n",
       "0    Alice   25    alice@gmail.com          88             84      alice   \n",
       "1      Bob   17      bob@yahoo.com          92             90        bob   \n",
       "2  Charlie   35  charlie@gmail.com          79             80    charlie   \n",
       "3    David   70  david@hotmail.com          85             87      david   \n",
       "4      Eva   15      eva@gmail.com          90             89        eva   \n",
       "\n",
       "  age_category  \n",
       "0        Young  \n",
       "1        Young  \n",
       "2          Old  \n",
       "3          Old  \n",
       "4        Young  "
      ]
     },
     "execution_count": 33,
     "metadata": {},
     "output_type": "execute_result"
    }
   ],
   "source": [
    "df['age_category'] = df['age'].apply(lambda x: 'Young' if (x < 30) else 'Old')\n",
    "df"
   ]
  },
  {
   "cell_type": "code",
   "execution_count": 34,
   "id": "a82f130b-c416-409f-810a-e385ea8730d2",
   "metadata": {},
   "outputs": [],
   "source": [
    "def category(x):\n",
    "    if x < 30:\n",
    "        return 'Young'\n",
    "    elif x > 40 and x < 60:\n",
    "        return 'Adult'\n",
    "    else:\n",
    "        return 'Old'"
   ]
  },
  {
   "cell_type": "code",
   "execution_count": 37,
   "id": "d0ae9c5c-7239-4362-be9d-42dc49bfc801",
   "metadata": {},
   "outputs": [
    {
     "data": {
      "text/plain": [
       "0    Young\n",
       "1    Young\n",
       "2      Old\n",
       "3      Old\n",
       "4    Young\n",
       "Name: age, dtype: object"
      ]
     },
     "execution_count": 37,
     "metadata": {},
     "output_type": "execute_result"
    }
   ],
   "source": [
    "df_categorize = df['age'].apply(category)\n",
    "df_categorize"
   ]
  },
  {
   "cell_type": "markdown",
   "id": "46f4bd47-d502-46b4-ad43-a8267a479256",
   "metadata": {},
   "source": [
    "# 1"
   ]
  },
  {
   "cell_type": "code",
   "execution_count": 1,
   "id": "d48e013a-6347-4631-b46f-fa89aa6c8796",
   "metadata": {},
   "outputs": [],
   "source": [
    "import pandas as pd\n",
    "df = pd.DataFrame({'name': ['Alice', 'Bob', 'Charlie']})"
   ]
  },
  {
   "cell_type": "code",
   "execution_count": 2,
   "id": "c2e0e991-71dc-4f0b-be33-c875cbc686be",
   "metadata": {},
   "outputs": [
    {
     "data": {
      "text/plain": [
       "0      ALICE\n",
       "1        BOB\n",
       "2    CHARLIE\n",
       "Name: name, dtype: object"
      ]
     },
     "execution_count": 2,
     "metadata": {},
     "output_type": "execute_result"
    }
   ],
   "source": [
    "df_lower = df['name'].apply(lambda x: x.upper())\n",
    "df_lower"
   ]
  },
  {
   "cell_type": "markdown",
   "id": "818af37c-69f4-4134-9d5b-5b6c2f05933f",
   "metadata": {},
   "source": [
    "# 2"
   ]
  },
  {
   "cell_type": "code",
   "execution_count": null,
   "id": "7d26b150-b576-4190-9cd9-8c149a14d0b7",
   "metadata": {},
   "outputs": [],
   "source": [
    "# Write a lambda function to multiply each value in a DataFrame column by 2 using apply. "
   ]
  },
  {
   "cell_type": "code",
   "execution_count": 6,
   "id": "725c01cf-39e6-4204-83fe-be107db80204",
   "metadata": {},
   "outputs": [],
   "source": [
    " df = pd.DataFrame({'value': [10, 20, 30]})"
   ]
  },
  {
   "cell_type": "code",
   "execution_count": 9,
   "id": "52fbc9db-5ba1-4df7-ac5c-9ac6b5106e46",
   "metadata": {},
   "outputs": [
    {
     "data": {
      "text/plain": [
       "0    20\n",
       "1    40\n",
       "2    60\n",
       "Name: value, dtype: int64"
      ]
     },
     "execution_count": 9,
     "metadata": {},
     "output_type": "execute_result"
    }
   ],
   "source": [
    "df_multiplied = df['value'].apply(lambda x: x*2)\n",
    "df_multiplied"
   ]
  },
  {
   "cell_type": "markdown",
   "id": "cb0fb777-9f72-4418-88ac-cf4a3f2b4939",
   "metadata": {},
   "source": [
    "# 3"
   ]
  },
  {
   "cell_type": "code",
   "execution_count": null,
   "id": "d289f55e-3cb2-4326-b8b8-8e9a9b1c97d8",
   "metadata": {},
   "outputs": [],
   "source": [
    "# How would you use apply with a lambda to create a new column\n",
    "# that categorizes ages as 'Young' (<30), 'Adult' (30-60), or 'Senior' (>60)?"
   ]
  },
  {
   "cell_type": "code",
   "execution_count": 10,
   "id": "7cd13ecb-1892-4995-a099-fb41b5010659",
   "metadata": {},
   "outputs": [],
   "source": [
    "df = pd.DataFrame({'age': [25, 45, 70]})"
   ]
  },
  {
   "cell_type": "code",
   "execution_count": 18,
   "id": "60cab9a2-a2d3-43e6-b423-da641fcb9947",
   "metadata": {},
   "outputs": [
    {
     "data": {
      "text/html": [
       "<div>\n",
       "<style scoped>\n",
       "    .dataframe tbody tr th:only-of-type {\n",
       "        vertical-align: middle;\n",
       "    }\n",
       "\n",
       "    .dataframe tbody tr th {\n",
       "        vertical-align: top;\n",
       "    }\n",
       "\n",
       "    .dataframe thead th {\n",
       "        text-align: right;\n",
       "    }\n",
       "</style>\n",
       "<table border=\"1\" class=\"dataframe\">\n",
       "  <thead>\n",
       "    <tr style=\"text-align: right;\">\n",
       "      <th></th>\n",
       "      <th>age</th>\n",
       "      <th>age_category</th>\n",
       "    </tr>\n",
       "  </thead>\n",
       "  <tbody>\n",
       "    <tr>\n",
       "      <th>0</th>\n",
       "      <td>25</td>\n",
       "      <td>Young</td>\n",
       "    </tr>\n",
       "    <tr>\n",
       "      <th>1</th>\n",
       "      <td>45</td>\n",
       "      <td>Adult</td>\n",
       "    </tr>\n",
       "    <tr>\n",
       "      <th>2</th>\n",
       "      <td>70</td>\n",
       "      <td>Senior</td>\n",
       "    </tr>\n",
       "  </tbody>\n",
       "</table>\n",
       "</div>"
      ],
      "text/plain": [
       "   age age_category\n",
       "0   25        Young\n",
       "1   45        Adult\n",
       "2   70       Senior"
      ]
     },
     "execution_count": 18,
     "metadata": {},
     "output_type": "execute_result"
    }
   ],
   "source": [
    "df['age_category'] = df['age'].apply(categorize)\n",
    "df"
   ]
  },
  {
   "cell_type": "code",
   "execution_count": 16,
   "id": "f409294d-dbb8-41e2-b6b9-21da7047bd49",
   "metadata": {},
   "outputs": [],
   "source": [
    "def categorize(x):\n",
    "    if x < 30:\n",
    "        return 'Young'\n",
    "    elif x >= 30 and x <= 60:\n",
    "        return 'Adult'\n",
    "    else:\n",
    "        return 'Senior'"
   ]
  },
  {
   "cell_type": "markdown",
   "id": "aae443a6-4457-4d6b-91b3-382c16f467c9",
   "metadata": {},
   "source": [
    "# 4"
   ]
  },
  {
   "cell_type": "code",
   "execution_count": null,
   "id": "cbc894e7-5bd3-48b3-b297-f0f00ee6ac77",
   "metadata": {},
   "outputs": [],
   "source": [
    "# Using apply and lambda , how can you replace negative values in a DataFrame column with zero?"
   ]
  },
  {
   "cell_type": "code",
   "execution_count": 19,
   "id": "42c83345-7ea6-4d15-b0a0-7fd645ac7852",
   "metadata": {},
   "outputs": [],
   "source": [
    "df = pd.DataFrame({'score': [-5, 10, -15, 20]})"
   ]
  },
  {
   "cell_type": "code",
   "execution_count": 20,
   "id": "e204dd84-3432-44a4-b199-a01d377b7c30",
   "metadata": {},
   "outputs": [],
   "source": [
    "df['replaced'] = df['score'].apply(lambda x: 0 if (x < 0) else x)"
   ]
  },
  {
   "cell_type": "code",
   "execution_count": 21,
   "id": "67a0a6c6-090d-48e7-9c95-07813b8cfe49",
   "metadata": {},
   "outputs": [
    {
     "data": {
      "text/html": [
       "<div>\n",
       "<style scoped>\n",
       "    .dataframe tbody tr th:only-of-type {\n",
       "        vertical-align: middle;\n",
       "    }\n",
       "\n",
       "    .dataframe tbody tr th {\n",
       "        vertical-align: top;\n",
       "    }\n",
       "\n",
       "    .dataframe thead th {\n",
       "        text-align: right;\n",
       "    }\n",
       "</style>\n",
       "<table border=\"1\" class=\"dataframe\">\n",
       "  <thead>\n",
       "    <tr style=\"text-align: right;\">\n",
       "      <th></th>\n",
       "      <th>score</th>\n",
       "      <th>replaced</th>\n",
       "    </tr>\n",
       "  </thead>\n",
       "  <tbody>\n",
       "    <tr>\n",
       "      <th>0</th>\n",
       "      <td>-5</td>\n",
       "      <td>0</td>\n",
       "    </tr>\n",
       "    <tr>\n",
       "      <th>1</th>\n",
       "      <td>10</td>\n",
       "      <td>10</td>\n",
       "    </tr>\n",
       "    <tr>\n",
       "      <th>2</th>\n",
       "      <td>-15</td>\n",
       "      <td>0</td>\n",
       "    </tr>\n",
       "    <tr>\n",
       "      <th>3</th>\n",
       "      <td>20</td>\n",
       "      <td>20</td>\n",
       "    </tr>\n",
       "  </tbody>\n",
       "</table>\n",
       "</div>"
      ],
      "text/plain": [
       "   score  replaced\n",
       "0     -5         0\n",
       "1     10        10\n",
       "2    -15         0\n",
       "3     20        20"
      ]
     },
     "execution_count": 21,
     "metadata": {},
     "output_type": "execute_result"
    }
   ],
   "source": [
    "df"
   ]
  },
  {
   "cell_type": "markdown",
   "id": "9651279e-c81a-4bd8-9728-a442f33c315c",
   "metadata": {},
   "source": [
    "# 5"
   ]
  },
  {
   "cell_type": "code",
   "execution_count": null,
   "id": "5edc8f40-9087-4c5b-80f9-c462edc4d44b",
   "metadata": {},
   "outputs": [],
   "source": [
    "# How do you apply a lambda function to multiple columns of a DataFrame to compute their sum?"
   ]
  },
  {
   "cell_type": "code",
   "execution_count": 22,
   "id": "7cc4b7c6-8e7a-4336-a72d-b142533b6ed8",
   "metadata": {},
   "outputs": [],
   "source": [
    "df = pd.DataFrame({'A': [1, 2, 3], 'B': [4, 5, 6]})"
   ]
  },
  {
   "cell_type": "code",
   "execution_count": 26,
   "id": "7c316423-78ef-430e-bccf-814d75120b64",
   "metadata": {},
   "outputs": [],
   "source": [
    "df['sum'] = df.apply(lambda x: x['A'] + x['B'], axis=1)"
   ]
  },
  {
   "cell_type": "code",
   "execution_count": 27,
   "id": "7e12fe61-680b-479c-8331-c32863d0c7f2",
   "metadata": {},
   "outputs": [
    {
     "data": {
      "text/html": [
       "<div>\n",
       "<style scoped>\n",
       "    .dataframe tbody tr th:only-of-type {\n",
       "        vertical-align: middle;\n",
       "    }\n",
       "\n",
       "    .dataframe tbody tr th {\n",
       "        vertical-align: top;\n",
       "    }\n",
       "\n",
       "    .dataframe thead th {\n",
       "        text-align: right;\n",
       "    }\n",
       "</style>\n",
       "<table border=\"1\" class=\"dataframe\">\n",
       "  <thead>\n",
       "    <tr style=\"text-align: right;\">\n",
       "      <th></th>\n",
       "      <th>A</th>\n",
       "      <th>B</th>\n",
       "      <th>sum</th>\n",
       "    </tr>\n",
       "  </thead>\n",
       "  <tbody>\n",
       "    <tr>\n",
       "      <th>0</th>\n",
       "      <td>1</td>\n",
       "      <td>4</td>\n",
       "      <td>5</td>\n",
       "    </tr>\n",
       "    <tr>\n",
       "      <th>1</th>\n",
       "      <td>2</td>\n",
       "      <td>5</td>\n",
       "      <td>7</td>\n",
       "    </tr>\n",
       "    <tr>\n",
       "      <th>2</th>\n",
       "      <td>3</td>\n",
       "      <td>6</td>\n",
       "      <td>9</td>\n",
       "    </tr>\n",
       "  </tbody>\n",
       "</table>\n",
       "</div>"
      ],
      "text/plain": [
       "   A  B  sum\n",
       "0  1  4    5\n",
       "1  2  5    7\n",
       "2  3  6    9"
      ]
     },
     "execution_count": 27,
     "metadata": {},
     "output_type": "execute_result"
    }
   ],
   "source": [
    "df"
   ]
  },
  {
   "cell_type": "markdown",
   "id": "ed6d276c-b51e-4913-959f-1fe6e2c49cbe",
   "metadata": {},
   "source": [
    "# 6"
   ]
  },
  {
   "cell_type": "code",
   "execution_count": null,
   "id": "cbf0f8e9-58ed-40fc-8450-a025a058d254",
   "metadata": {},
   "outputs": [],
   "source": [
    "# How would you use apply and lambda to normalize a numerical column to a range [0, 1]?"
   ]
  },
  {
   "cell_type": "code",
   "execution_count": 28,
   "id": "9b3c81ae-0c2d-4a33-ab22-b95a90999587",
   "metadata": {},
   "outputs": [],
   "source": [
    "df = pd.DataFrame({'value': [10, 20, 30, 40]})"
   ]
  },
  {
   "cell_type": "code",
   "execution_count": 35,
   "id": "4c387e7e-2a0e-44be-a17c-8a2dbbbdca18",
   "metadata": {},
   "outputs": [
    {
     "data": {
      "text/html": [
       "<div>\n",
       "<style scoped>\n",
       "    .dataframe tbody tr th:only-of-type {\n",
       "        vertical-align: middle;\n",
       "    }\n",
       "\n",
       "    .dataframe tbody tr th {\n",
       "        vertical-align: top;\n",
       "    }\n",
       "\n",
       "    .dataframe thead th {\n",
       "        text-align: right;\n",
       "    }\n",
       "</style>\n",
       "<table border=\"1\" class=\"dataframe\">\n",
       "  <thead>\n",
       "    <tr style=\"text-align: right;\">\n",
       "      <th></th>\n",
       "      <th>value</th>\n",
       "      <th>normalized</th>\n",
       "    </tr>\n",
       "  </thead>\n",
       "  <tbody>\n",
       "    <tr>\n",
       "      <th>0</th>\n",
       "      <td>10</td>\n",
       "      <td>0.000000</td>\n",
       "    </tr>\n",
       "    <tr>\n",
       "      <th>1</th>\n",
       "      <td>20</td>\n",
       "      <td>0.333333</td>\n",
       "    </tr>\n",
       "    <tr>\n",
       "      <th>2</th>\n",
       "      <td>30</td>\n",
       "      <td>0.666667</td>\n",
       "    </tr>\n",
       "    <tr>\n",
       "      <th>3</th>\n",
       "      <td>40</td>\n",
       "      <td>1.000000</td>\n",
       "    </tr>\n",
       "  </tbody>\n",
       "</table>\n",
       "</div>"
      ],
      "text/plain": [
       "   value  normalized\n",
       "0     10    0.000000\n",
       "1     20    0.333333\n",
       "2     30    0.666667\n",
       "3     40    1.000000"
      ]
     },
     "execution_count": 35,
     "metadata": {},
     "output_type": "execute_result"
    }
   ],
   "source": [
    "min_val = df['value'].min()\n",
    "max_val = df['value'].max()\n",
    "df['normalized'] = df['value'].apply(lambda x: (x - min_val) / (max_val - min_val))\n",
    "df"
   ]
  },
  {
   "cell_type": "markdown",
   "id": "f9e5073b-881b-47d0-aa06-2bbf71ebdb69",
   "metadata": {},
   "source": [
    "# 7"
   ]
  },
  {
   "cell_type": "code",
   "execution_count": null,
   "id": "034d5d2d-5244-401d-9f73-7cce2a7e0c02",
   "metadata": {},
   "outputs": [],
   "source": [
    "# How can you use apply with a lambda to extract the first three characters of a string column?"
   ]
  },
  {
   "cell_type": "code",
   "execution_count": 36,
   "id": "42804791-4dca-4022-b16c-ccc4ca4400eb",
   "metadata": {},
   "outputs": [],
   "source": [
    "df = pd.DataFrame({'text': ['apple', 'banana', 'cherry']})"
   ]
  },
  {
   "cell_type": "code",
   "execution_count": 38,
   "id": "fc5b191c-54ee-400a-bb72-8f53cf2e60cf",
   "metadata": {},
   "outputs": [
    {
     "data": {
      "text/html": [
       "<div>\n",
       "<style scoped>\n",
       "    .dataframe tbody tr th:only-of-type {\n",
       "        vertical-align: middle;\n",
       "    }\n",
       "\n",
       "    .dataframe tbody tr th {\n",
       "        vertical-align: top;\n",
       "    }\n",
       "\n",
       "    .dataframe thead th {\n",
       "        text-align: right;\n",
       "    }\n",
       "</style>\n",
       "<table border=\"1\" class=\"dataframe\">\n",
       "  <thead>\n",
       "    <tr style=\"text-align: right;\">\n",
       "      <th></th>\n",
       "      <th>text</th>\n",
       "      <th>first_three</th>\n",
       "    </tr>\n",
       "  </thead>\n",
       "  <tbody>\n",
       "    <tr>\n",
       "      <th>0</th>\n",
       "      <td>apple</td>\n",
       "      <td>app</td>\n",
       "    </tr>\n",
       "    <tr>\n",
       "      <th>1</th>\n",
       "      <td>banana</td>\n",
       "      <td>ban</td>\n",
       "    </tr>\n",
       "    <tr>\n",
       "      <th>2</th>\n",
       "      <td>cherry</td>\n",
       "      <td>che</td>\n",
       "    </tr>\n",
       "  </tbody>\n",
       "</table>\n",
       "</div>"
      ],
      "text/plain": [
       "     text first_three\n",
       "0   apple         app\n",
       "1  banana         ban\n",
       "2  cherry         che"
      ]
     },
     "execution_count": 38,
     "metadata": {},
     "output_type": "execute_result"
    }
   ],
   "source": [
    "num = 3\n",
    "df['first_three'] = df['text'].apply(lambda x: x[:num])\n",
    "df"
   ]
  },
  {
   "cell_type": "markdown",
   "id": "49df81b8-23ca-449d-a3a2-e892fac5c6f8",
   "metadata": {},
   "source": [
    "# 8"
   ]
  },
  {
   "cell_type": "code",
   "execution_count": null,
   "id": "f3c1bb1d-12dc-4dc4-aba7-0ab9f6b2d026",
   "metadata": {},
   "outputs": [],
   "source": [
    "# Using lambda and apply, how would you create a new column that flags rows where a value exceeds the column mean?"
   ]
  },
  {
   "cell_type": "code",
   "execution_count": 39,
   "id": "d4037681-22e3-4211-b23c-85fc3d3c659b",
   "metadata": {},
   "outputs": [],
   "source": [
    "df = pd.DataFrame({'score': [50, 75, 25, 100]})"
   ]
  },
  {
   "cell_type": "code",
   "execution_count": 43,
   "id": "05a8c7e5-c8f8-44e2-9619-088dfbb4f1e0",
   "metadata": {},
   "outputs": [
    {
     "data": {
      "text/html": [
       "<div>\n",
       "<style scoped>\n",
       "    .dataframe tbody tr th:only-of-type {\n",
       "        vertical-align: middle;\n",
       "    }\n",
       "\n",
       "    .dataframe tbody tr th {\n",
       "        vertical-align: top;\n",
       "    }\n",
       "\n",
       "    .dataframe thead th {\n",
       "        text-align: right;\n",
       "    }\n",
       "</style>\n",
       "<table border=\"1\" class=\"dataframe\">\n",
       "  <thead>\n",
       "    <tr style=\"text-align: right;\">\n",
       "      <th></th>\n",
       "      <th>score</th>\n",
       "      <th>flag</th>\n",
       "    </tr>\n",
       "  </thead>\n",
       "  <tbody>\n",
       "    <tr>\n",
       "      <th>0</th>\n",
       "      <td>50</td>\n",
       "      <td>0</td>\n",
       "    </tr>\n",
       "    <tr>\n",
       "      <th>1</th>\n",
       "      <td>75</td>\n",
       "      <td>1</td>\n",
       "    </tr>\n",
       "    <tr>\n",
       "      <th>2</th>\n",
       "      <td>25</td>\n",
       "      <td>0</td>\n",
       "    </tr>\n",
       "    <tr>\n",
       "      <th>3</th>\n",
       "      <td>100</td>\n",
       "      <td>1</td>\n",
       "    </tr>\n",
       "  </tbody>\n",
       "</table>\n",
       "</div>"
      ],
      "text/plain": [
       "   score  flag\n",
       "0     50     0\n",
       "1     75     1\n",
       "2     25     0\n",
       "3    100     1"
      ]
     },
     "execution_count": 43,
     "metadata": {},
     "output_type": "execute_result"
    }
   ],
   "source": [
    "mean = df['score'].mean()\n",
    "df['flag'] = df['score'].apply(lambda x: 1 if (x > mean) else 0)\n",
    "df"
   ]
  },
  {
   "cell_type": "markdown",
   "id": "aff63f69-463e-4cfe-ae3a-fc5654803594",
   "metadata": {},
   "source": [
    "# 9"
   ]
  },
  {
   "cell_type": "code",
   "execution_count": null,
   "id": "0b122570-5409-4138-91d3-2722b00b6a02",
   "metadata": {},
   "outputs": [],
   "source": [
    "# How do you use apply with a lambda to apply a custom function that rounds floats \n",
    "# to the nearest integer in a DataFrame?"
   ]
  },
  {
   "cell_type": "code",
   "execution_count": 44,
   "id": "6579fe7e-8dc9-40f6-9e13-f44abf9a63aa",
   "metadata": {},
   "outputs": [],
   "source": [
    "df = pd.DataFrame({'price': [10.4, 20.7, 30.2]})"
   ]
  },
  {
   "cell_type": "code",
   "execution_count": 54,
   "id": "6c97b996-6f0a-4c15-9ed5-bcca13a6af3a",
   "metadata": {},
   "outputs": [
    {
     "data": {
      "text/html": [
       "<div>\n",
       "<style scoped>\n",
       "    .dataframe tbody tr th:only-of-type {\n",
       "        vertical-align: middle;\n",
       "    }\n",
       "\n",
       "    .dataframe tbody tr th {\n",
       "        vertical-align: top;\n",
       "    }\n",
       "\n",
       "    .dataframe thead th {\n",
       "        text-align: right;\n",
       "    }\n",
       "</style>\n",
       "<table border=\"1\" class=\"dataframe\">\n",
       "  <thead>\n",
       "    <tr style=\"text-align: right;\">\n",
       "      <th></th>\n",
       "      <th>price</th>\n",
       "      <th>rounded_off</th>\n",
       "    </tr>\n",
       "  </thead>\n",
       "  <tbody>\n",
       "    <tr>\n",
       "      <th>0</th>\n",
       "      <td>10.4</td>\n",
       "      <td>10</td>\n",
       "    </tr>\n",
       "    <tr>\n",
       "      <th>1</th>\n",
       "      <td>20.7</td>\n",
       "      <td>21</td>\n",
       "    </tr>\n",
       "    <tr>\n",
       "      <th>2</th>\n",
       "      <td>30.2</td>\n",
       "      <td>30</td>\n",
       "    </tr>\n",
       "  </tbody>\n",
       "</table>\n",
       "</div>"
      ],
      "text/plain": [
       "   price  rounded_off\n",
       "0   10.4           10\n",
       "1   20.7           21\n",
       "2   30.2           30"
      ]
     },
     "execution_count": 54,
     "metadata": {},
     "output_type": "execute_result"
    }
   ],
   "source": [
    "df['rounded_off'] = df['price'].apply(lambda x: round(x))\n",
    "df"
   ]
  },
  {
   "cell_type": "markdown",
   "id": "2a08cf62-fa8f-4b86-85b2-1b03721f8ea6",
   "metadata": {},
   "source": [
    "# 10"
   ]
  },
  {
   "cell_type": "code",
   "execution_count": null,
   "id": "aebbaf7d-ba44-4eed-93f7-1090e723e823",
   "metadata": {},
   "outputs": [],
   "source": [
    "# What is the difference between using apply with a lambda versus a named function for a DataFrame operation?"
   ]
  },
  {
   "cell_type": "markdown",
   "id": "d3e91628-3445-44ba-bf48-2d96859db6d9",
   "metadata": {},
   "source": [
    "# 11"
   ]
  },
  {
   "cell_type": "code",
   "execution_count": null,
   "id": "138d4e95-3e71-414f-a825-255e0113f7a6",
   "metadata": {},
   "outputs": [],
   "source": [
    "# How do you perform an inner merge between two DataFrames on a common column?"
   ]
  },
  {
   "cell_type": "code",
   "execution_count": 4,
   "id": "f2caf011-8f31-4f92-be8d-a195a3e6c39d",
   "metadata": {},
   "outputs": [],
   "source": [
    "df1 = pd.DataFrame({'id': [1, 2, 3], 'name': ['Alice', 'Bob', 'Charlie']})\n",
    "df2 = pd.DataFrame({'id': [1, 2, 4], 'age': [25, 30, 35]})"
   ]
  },
  {
   "cell_type": "code",
   "execution_count": 6,
   "id": "aecc2f0e-ee9b-4b0c-8dc8-4f52f0aaf770",
   "metadata": {},
   "outputs": [
    {
     "data": {
      "text/html": [
       "<div>\n",
       "<style scoped>\n",
       "    .dataframe tbody tr th:only-of-type {\n",
       "        vertical-align: middle;\n",
       "    }\n",
       "\n",
       "    .dataframe tbody tr th {\n",
       "        vertical-align: top;\n",
       "    }\n",
       "\n",
       "    .dataframe thead th {\n",
       "        text-align: right;\n",
       "    }\n",
       "</style>\n",
       "<table border=\"1\" class=\"dataframe\">\n",
       "  <thead>\n",
       "    <tr style=\"text-align: right;\">\n",
       "      <th></th>\n",
       "      <th>id</th>\n",
       "      <th>name</th>\n",
       "      <th>age</th>\n",
       "    </tr>\n",
       "  </thead>\n",
       "  <tbody>\n",
       "    <tr>\n",
       "      <th>0</th>\n",
       "      <td>1</td>\n",
       "      <td>Alice</td>\n",
       "      <td>25</td>\n",
       "    </tr>\n",
       "    <tr>\n",
       "      <th>1</th>\n",
       "      <td>2</td>\n",
       "      <td>Bob</td>\n",
       "      <td>30</td>\n",
       "    </tr>\n",
       "  </tbody>\n",
       "</table>\n",
       "</div>"
      ],
      "text/plain": [
       "   id   name  age\n",
       "0   1  Alice   25\n",
       "1   2    Bob   30"
      ]
     },
     "execution_count": 6,
     "metadata": {},
     "output_type": "execute_result"
    }
   ],
   "source": [
    "df = df1.merge(df2, on='id', how='inner')\n",
    "df"
   ]
  },
  {
   "cell_type": "markdown",
   "id": "7b2867bd-7641-447f-aa63-b03fc1125028",
   "metadata": {},
   "source": [
    "# 12"
   ]
  },
  {
   "cell_type": "code",
   "execution_count": null,
   "id": "6d0a3f09-9d8b-47d6-8cfe-7e1f7c98bf0a",
   "metadata": {},
   "outputs": [],
   "source": [
    "# How would you merge two DataFrames using a left join on multiple columns?"
   ]
  },
  {
   "cell_type": "code",
   "execution_count": 8,
   "id": "3c96293e-dcd3-405a-8551-49eabeb43643",
   "metadata": {},
   "outputs": [],
   "source": [
    "df1 = pd.DataFrame({'id': [1, 2, 3], 'dept': ['HR', 'IT', 'HR'], 'name': ['Alice', 'Bob', 'Charlie']})\n",
    "df2 = pd.DataFrame({'id': [1, 2, 4], 'dept': ['HR', 'IT', 'Sales'], 'salary': [50000, 60000, 55000]})"
   ]
  },
  {
   "cell_type": "code",
   "execution_count": 9,
   "id": "bde00b87-a2b3-406e-996c-ae0a185ec392",
   "metadata": {},
   "outputs": [
    {
     "data": {
      "text/html": [
       "<div>\n",
       "<style scoped>\n",
       "    .dataframe tbody tr th:only-of-type {\n",
       "        vertical-align: middle;\n",
       "    }\n",
       "\n",
       "    .dataframe tbody tr th {\n",
       "        vertical-align: top;\n",
       "    }\n",
       "\n",
       "    .dataframe thead th {\n",
       "        text-align: right;\n",
       "    }\n",
       "</style>\n",
       "<table border=\"1\" class=\"dataframe\">\n",
       "  <thead>\n",
       "    <tr style=\"text-align: right;\">\n",
       "      <th></th>\n",
       "      <th>id</th>\n",
       "      <th>dept</th>\n",
       "      <th>name</th>\n",
       "      <th>salary</th>\n",
       "    </tr>\n",
       "  </thead>\n",
       "  <tbody>\n",
       "    <tr>\n",
       "      <th>0</th>\n",
       "      <td>1</td>\n",
       "      <td>HR</td>\n",
       "      <td>Alice</td>\n",
       "      <td>50000.0</td>\n",
       "    </tr>\n",
       "    <tr>\n",
       "      <th>1</th>\n",
       "      <td>2</td>\n",
       "      <td>IT</td>\n",
       "      <td>Bob</td>\n",
       "      <td>60000.0</td>\n",
       "    </tr>\n",
       "    <tr>\n",
       "      <th>2</th>\n",
       "      <td>3</td>\n",
       "      <td>HR</td>\n",
       "      <td>Charlie</td>\n",
       "      <td>NaN</td>\n",
       "    </tr>\n",
       "  </tbody>\n",
       "</table>\n",
       "</div>"
      ],
      "text/plain": [
       "   id dept     name   salary\n",
       "0   1   HR    Alice  50000.0\n",
       "1   2   IT      Bob  60000.0\n",
       "2   3   HR  Charlie      NaN"
      ]
     },
     "execution_count": 9,
     "metadata": {},
     "output_type": "execute_result"
    }
   ],
   "source": [
    "df = df1.merge(df2, on=['id', 'dept'], how='left')\n",
    "df"
   ]
  },
  {
   "cell_type": "markdown",
   "id": "d3709202-63da-4f3d-b6c8-43647ce81c62",
   "metadata": {},
   "source": [
    "# 13"
   ]
  },
  {
   "cell_type": "code",
   "execution_count": null,
   "id": "c3155b41-e97b-454b-b940-2b81d152e7d1",
   "metadata": {},
   "outputs": [],
   "source": [
    "# What happens to rows in a right merge when the right DataFrame has missing values in the merge key?"
   ]
  },
  {
   "cell_type": "code",
   "execution_count": 10,
   "id": "538541b8-ed25-45fb-8f95-ba9a304238fc",
   "metadata": {},
   "outputs": [],
   "source": [
    "df1 = pd.DataFrame({'id': [1, 2, 3], 'name': ['Alice', 'Bob', 'Charlie']})\n",
    "df2 = pd.DataFrame({'id': [1, 2, None], 'age': [25, 30, 35]})"
   ]
  },
  {
   "cell_type": "code",
   "execution_count": 11,
   "id": "8d56c918-c418-4562-9772-db12d9f0cccb",
   "metadata": {},
   "outputs": [
    {
     "data": {
      "text/html": [
       "<div>\n",
       "<style scoped>\n",
       "    .dataframe tbody tr th:only-of-type {\n",
       "        vertical-align: middle;\n",
       "    }\n",
       "\n",
       "    .dataframe tbody tr th {\n",
       "        vertical-align: top;\n",
       "    }\n",
       "\n",
       "    .dataframe thead th {\n",
       "        text-align: right;\n",
       "    }\n",
       "</style>\n",
       "<table border=\"1\" class=\"dataframe\">\n",
       "  <thead>\n",
       "    <tr style=\"text-align: right;\">\n",
       "      <th></th>\n",
       "      <th>id</th>\n",
       "      <th>name</th>\n",
       "      <th>age</th>\n",
       "    </tr>\n",
       "  </thead>\n",
       "  <tbody>\n",
       "    <tr>\n",
       "      <th>0</th>\n",
       "      <td>1.0</td>\n",
       "      <td>Alice</td>\n",
       "      <td>25</td>\n",
       "    </tr>\n",
       "    <tr>\n",
       "      <th>1</th>\n",
       "      <td>2.0</td>\n",
       "      <td>Bob</td>\n",
       "      <td>30</td>\n",
       "    </tr>\n",
       "    <tr>\n",
       "      <th>2</th>\n",
       "      <td>NaN</td>\n",
       "      <td>NaN</td>\n",
       "      <td>35</td>\n",
       "    </tr>\n",
       "  </tbody>\n",
       "</table>\n",
       "</div>"
      ],
      "text/plain": [
       "    id   name  age\n",
       "0  1.0  Alice   25\n",
       "1  2.0    Bob   30\n",
       "2  NaN    NaN   35"
      ]
     },
     "execution_count": 11,
     "metadata": {},
     "output_type": "execute_result"
    }
   ],
   "source": [
    "df = df1.merge(df2, on='id', how='right')\n",
    "df"
   ]
  },
  {
   "cell_type": "code",
   "execution_count": null,
   "id": "cd34861c-4985-46fb-8031-18279d38eab5",
   "metadata": {},
   "outputs": [],
   "source": [
    "# It gives the value of NaN where the value is missing"
   ]
  },
  {
   "cell_type": "markdown",
   "id": "d9d87e09-0c96-4425-bf71-d1a4d302cc7e",
   "metadata": {},
   "source": [
    "# 14"
   ]
  },
  {
   "cell_type": "code",
   "execution_count": null,
   "id": "754612a4-4ba7-4e13-bfe5-60545ad86b7d",
   "metadata": {},
   "outputs": [],
   "source": [
    "# How can you merge two DataFrames and keep only rows that don’t match (anti-join equivalent)?"
   ]
  },
  {
   "cell_type": "code",
   "execution_count": 16,
   "id": "344060af-9d40-4b6f-91ce-51c02d48b4be",
   "metadata": {},
   "outputs": [],
   "source": [
    "df1 = pd.DataFrame({'id': [1, 2, 3], 'name': ['Alice', 'Bob', 'Charlie']})\n",
    "df2 = pd.DataFrame({'id': [1, 2, 4], 'age': [25, 30, 35]})"
   ]
  },
  {
   "cell_type": "code",
   "execution_count": 19,
   "id": "d8f1cea7-9222-42fe-98c2-9e972ab7dbd8",
   "metadata": {},
   "outputs": [
    {
     "data": {
      "text/html": [
       "<div>\n",
       "<style scoped>\n",
       "    .dataframe tbody tr th:only-of-type {\n",
       "        vertical-align: middle;\n",
       "    }\n",
       "\n",
       "    .dataframe tbody tr th {\n",
       "        vertical-align: top;\n",
       "    }\n",
       "\n",
       "    .dataframe thead th {\n",
       "        text-align: right;\n",
       "    }\n",
       "</style>\n",
       "<table border=\"1\" class=\"dataframe\">\n",
       "  <thead>\n",
       "    <tr style=\"text-align: right;\">\n",
       "      <th></th>\n",
       "      <th>id</th>\n",
       "      <th>name</th>\n",
       "      <th>age</th>\n",
       "    </tr>\n",
       "  </thead>\n",
       "  <tbody>\n",
       "    <tr>\n",
       "      <th>2</th>\n",
       "      <td>3</td>\n",
       "      <td>Charlie</td>\n",
       "      <td>NaN</td>\n",
       "    </tr>\n",
       "  </tbody>\n",
       "</table>\n",
       "</div>"
      ],
      "text/plain": [
       "   id     name  age\n",
       "2   3  Charlie  NaN"
      ]
     },
     "execution_count": 19,
     "metadata": {},
     "output_type": "execute_result"
    }
   ],
   "source": [
    "df = df1.merge(df2, on='id', how='left', indicator=True)\n",
    "df_not_matched = df[df['_merge'] == 'left_only'].drop(columns=['_merge'])\n",
    "df_not_matched"
   ]
  },
  {
   "cell_type": "markdown",
   "id": "74489d7c-d109-4878-ac8f-6fa7ad5002c3",
   "metadata": {},
   "source": [
    "# 15"
   ]
  },
  {
   "cell_type": "markdown",
   "id": "ffd192d9-701c-49e0-8ad6-3827b9f2370c",
   "metadata": {},
   "source": [
    "How would you combine two DataFrames with different column names for the same key using merge ?"
   ]
  },
  {
   "cell_type": "code",
   "execution_count": 20,
   "id": "6211eb9d-9839-4d69-b2ee-8374d6600399",
   "metadata": {},
   "outputs": [],
   "source": [
    "df1 = pd.DataFrame({'user_id': [1, 2, 3], 'name': ['Alice', 'Bob', 'Charlie']})\n",
    "df2 = pd.DataFrame({'id': [1, 2, 4], 'age': [25, 30, 35]})"
   ]
  },
  {
   "cell_type": "code",
   "execution_count": 21,
   "id": "a834c404-373b-44f3-824e-7fa5be3a9568",
   "metadata": {},
   "outputs": [
    {
     "data": {
      "text/html": [
       "<div>\n",
       "<style scoped>\n",
       "    .dataframe tbody tr th:only-of-type {\n",
       "        vertical-align: middle;\n",
       "    }\n",
       "\n",
       "    .dataframe tbody tr th {\n",
       "        vertical-align: top;\n",
       "    }\n",
       "\n",
       "    .dataframe thead th {\n",
       "        text-align: right;\n",
       "    }\n",
       "</style>\n",
       "<table border=\"1\" class=\"dataframe\">\n",
       "  <thead>\n",
       "    <tr style=\"text-align: right;\">\n",
       "      <th></th>\n",
       "      <th>user_id</th>\n",
       "      <th>name</th>\n",
       "      <th>id</th>\n",
       "      <th>age</th>\n",
       "    </tr>\n",
       "  </thead>\n",
       "  <tbody>\n",
       "    <tr>\n",
       "      <th>0</th>\n",
       "      <td>1</td>\n",
       "      <td>Alice</td>\n",
       "      <td>1</td>\n",
       "      <td>25</td>\n",
       "    </tr>\n",
       "    <tr>\n",
       "      <th>1</th>\n",
       "      <td>2</td>\n",
       "      <td>Bob</td>\n",
       "      <td>2</td>\n",
       "      <td>30</td>\n",
       "    </tr>\n",
       "  </tbody>\n",
       "</table>\n",
       "</div>"
      ],
      "text/plain": [
       "   user_id   name  id  age\n",
       "0        1  Alice   1   25\n",
       "1        2    Bob   2   30"
      ]
     },
     "execution_count": 21,
     "metadata": {},
     "output_type": "execute_result"
    }
   ],
   "source": [
    "df = df1.merge(df2, left_on='user_id', right_on='id', how='inner')\n",
    "df"
   ]
  },
  {
   "cell_type": "markdown",
   "id": "bcaa9ef0-646a-4545-aab7-23eb18b7840b",
   "metadata": {},
   "source": [
    "# 16\n",
    "How do you handle duplicate column names after merging two DataFrames?"
   ]
  },
  {
   "cell_type": "code",
   "execution_count": 23,
   "id": "f82d3ef4-a58f-42ff-a0e5-897a335bcc5b",
   "metadata": {},
   "outputs": [],
   "source": [
    "df1 = pd.DataFrame({'id': [1, 2], 'value': ['A', 'B']})\n",
    "df2 = pd.DataFrame({'id': [1, 2], 'value': [10, 20]})"
   ]
  },
  {
   "cell_type": "code",
   "execution_count": 27,
   "id": "dd4b92fd-be87-446c-a873-d588ac17d0f7",
   "metadata": {},
   "outputs": [
    {
     "data": {
      "text/html": [
       "<div>\n",
       "<style scoped>\n",
       "    .dataframe tbody tr th:only-of-type {\n",
       "        vertical-align: middle;\n",
       "    }\n",
       "\n",
       "    .dataframe tbody tr th {\n",
       "        vertical-align: top;\n",
       "    }\n",
       "\n",
       "    .dataframe thead th {\n",
       "        text-align: right;\n",
       "    }\n",
       "</style>\n",
       "<table border=\"1\" class=\"dataframe\">\n",
       "  <thead>\n",
       "    <tr style=\"text-align: right;\">\n",
       "      <th></th>\n",
       "      <th>id</th>\n",
       "      <th>value_from_df1</th>\n",
       "      <th>value_from_df2</th>\n",
       "    </tr>\n",
       "  </thead>\n",
       "  <tbody>\n",
       "    <tr>\n",
       "      <th>0</th>\n",
       "      <td>1</td>\n",
       "      <td>A</td>\n",
       "      <td>10</td>\n",
       "    </tr>\n",
       "    <tr>\n",
       "      <th>1</th>\n",
       "      <td>2</td>\n",
       "      <td>B</td>\n",
       "      <td>20</td>\n",
       "    </tr>\n",
       "  </tbody>\n",
       "</table>\n",
       "</div>"
      ],
      "text/plain": [
       "   id value_from_df1  value_from_df2\n",
       "0   1              A              10\n",
       "1   2              B              20"
      ]
     },
     "execution_count": 27,
     "metadata": {},
     "output_type": "execute_result"
    }
   ],
   "source": [
    "df = df1.merge(df2, on='id', how='inner', suffixes=['_from_df1', '_from_df2'])\n",
    "df"
   ]
  },
  {
   "cell_type": "markdown",
   "id": "dae31196-e0a6-40e3-a6b1-f929ded34a1a",
   "metadata": {},
   "source": [
    "# 17\n",
    "How would you merge three DataFrames sequentially on a common key?"
   ]
  },
  {
   "cell_type": "code",
   "execution_count": 28,
   "id": "f37bb78b-e4c0-407e-ab98-ea1b1678357b",
   "metadata": {},
   "outputs": [],
   "source": [
    "df1 = pd.DataFrame({'id': [1, 2, 3], 'name': ['Alice', 'Bob', 'Charlie']})\n",
    "df2 = pd.DataFrame({'id': [1, 2, 4], 'age': [25, 30, 35]})\n",
    "df3 = pd.DataFrame({'id': [1, 3, 4], 'salary': [50000, 60000, 55000]})"
   ]
  },
  {
   "cell_type": "code",
   "execution_count": 31,
   "id": "d753163a-890b-4fb0-9fd3-b73a77c5e018",
   "metadata": {},
   "outputs": [
    {
     "data": {
      "text/html": [
       "<div>\n",
       "<style scoped>\n",
       "    .dataframe tbody tr th:only-of-type {\n",
       "        vertical-align: middle;\n",
       "    }\n",
       "\n",
       "    .dataframe tbody tr th {\n",
       "        vertical-align: top;\n",
       "    }\n",
       "\n",
       "    .dataframe thead th {\n",
       "        text-align: right;\n",
       "    }\n",
       "</style>\n",
       "<table border=\"1\" class=\"dataframe\">\n",
       "  <thead>\n",
       "    <tr style=\"text-align: right;\">\n",
       "      <th></th>\n",
       "      <th>id</th>\n",
       "      <th>name</th>\n",
       "      <th>age</th>\n",
       "      <th>salary</th>\n",
       "    </tr>\n",
       "  </thead>\n",
       "  <tbody>\n",
       "    <tr>\n",
       "      <th>0</th>\n",
       "      <td>1</td>\n",
       "      <td>Alice</td>\n",
       "      <td>25.0</td>\n",
       "      <td>50000.0</td>\n",
       "    </tr>\n",
       "    <tr>\n",
       "      <th>1</th>\n",
       "      <td>2</td>\n",
       "      <td>Bob</td>\n",
       "      <td>30.0</td>\n",
       "      <td>NaN</td>\n",
       "    </tr>\n",
       "    <tr>\n",
       "      <th>2</th>\n",
       "      <td>3</td>\n",
       "      <td>Charlie</td>\n",
       "      <td>NaN</td>\n",
       "      <td>60000.0</td>\n",
       "    </tr>\n",
       "    <tr>\n",
       "      <th>3</th>\n",
       "      <td>4</td>\n",
       "      <td>NaN</td>\n",
       "      <td>35.0</td>\n",
       "      <td>55000.0</td>\n",
       "    </tr>\n",
       "  </tbody>\n",
       "</table>\n",
       "</div>"
      ],
      "text/plain": [
       "   id     name   age   salary\n",
       "0   1    Alice  25.0  50000.0\n",
       "1   2      Bob  30.0      NaN\n",
       "2   3  Charlie   NaN  60000.0\n",
       "3   4      NaN  35.0  55000.0"
      ]
     },
     "execution_count": 31,
     "metadata": {},
     "output_type": "execute_result"
    }
   ],
   "source": [
    "df = df1.merge(df2, on='id', how='outer').merge(df3, on='id', how='outer')\n",
    "df"
   ]
  },
  {
   "cell_type": "markdown",
   "id": "94bba5de-264c-44ec-ad5c-e2c780691fda",
   "metadata": {},
   "source": [
    "# 18\n",
    " What is the difference between merge and join in pandas, and when would you use each?"
   ]
  },
  {
   "cell_type": "code",
   "execution_count": 32,
   "id": "50024417-4fbb-4eb6-83ab-10f9dbfe595d",
   "metadata": {},
   "outputs": [],
   "source": [
    "df1 = pd.DataFrame({'id': [1, 2, 3], 'name': ['Alice', 'Bob', 'Charlie']}).set_index('id')\n",
    "df2 = pd.DataFrame({'id': [1, 2, 4], 'age': [25, 30, 35]}).set_index('id')"
   ]
  },
  {
   "cell_type": "code",
   "execution_count": 34,
   "id": "01917aa0-0f37-481b-acbe-5415cac75026",
   "metadata": {},
   "outputs": [
    {
     "data": {
      "text/html": [
       "<div>\n",
       "<style scoped>\n",
       "    .dataframe tbody tr th:only-of-type {\n",
       "        vertical-align: middle;\n",
       "    }\n",
       "\n",
       "    .dataframe tbody tr th {\n",
       "        vertical-align: top;\n",
       "    }\n",
       "\n",
       "    .dataframe thead th {\n",
       "        text-align: right;\n",
       "    }\n",
       "</style>\n",
       "<table border=\"1\" class=\"dataframe\">\n",
       "  <thead>\n",
       "    <tr style=\"text-align: right;\">\n",
       "      <th></th>\n",
       "      <th>name</th>\n",
       "      <th>age</th>\n",
       "    </tr>\n",
       "    <tr>\n",
       "      <th>id</th>\n",
       "      <th></th>\n",
       "      <th></th>\n",
       "    </tr>\n",
       "  </thead>\n",
       "  <tbody>\n",
       "    <tr>\n",
       "      <th>1</th>\n",
       "      <td>Alice</td>\n",
       "      <td>25</td>\n",
       "    </tr>\n",
       "    <tr>\n",
       "      <th>2</th>\n",
       "      <td>Bob</td>\n",
       "      <td>30</td>\n",
       "    </tr>\n",
       "  </tbody>\n",
       "</table>\n",
       "</div>"
      ],
      "text/plain": [
       "     name  age\n",
       "id            \n",
       "1   Alice   25\n",
       "2     Bob   30"
      ]
     },
     "execution_count": 34,
     "metadata": {},
     "output_type": "execute_result"
    }
   ],
   "source": [
    "df = df1.merge(df2, on='id')\n",
    "df"
   ]
  },
  {
   "cell_type": "code",
   "execution_count": 35,
   "id": "c74e61a1-35ea-4107-92dd-8bafb4065020",
   "metadata": {},
   "outputs": [
    {
     "data": {
      "text/html": [
       "<div>\n",
       "<style scoped>\n",
       "    .dataframe tbody tr th:only-of-type {\n",
       "        vertical-align: middle;\n",
       "    }\n",
       "\n",
       "    .dataframe tbody tr th {\n",
       "        vertical-align: top;\n",
       "    }\n",
       "\n",
       "    .dataframe thead th {\n",
       "        text-align: right;\n",
       "    }\n",
       "</style>\n",
       "<table border=\"1\" class=\"dataframe\">\n",
       "  <thead>\n",
       "    <tr style=\"text-align: right;\">\n",
       "      <th></th>\n",
       "      <th>name</th>\n",
       "      <th>age</th>\n",
       "    </tr>\n",
       "    <tr>\n",
       "      <th>id</th>\n",
       "      <th></th>\n",
       "      <th></th>\n",
       "    </tr>\n",
       "  </thead>\n",
       "  <tbody>\n",
       "    <tr>\n",
       "      <th>1</th>\n",
       "      <td>Alice</td>\n",
       "      <td>25.0</td>\n",
       "    </tr>\n",
       "    <tr>\n",
       "      <th>2</th>\n",
       "      <td>Bob</td>\n",
       "      <td>30.0</td>\n",
       "    </tr>\n",
       "    <tr>\n",
       "      <th>3</th>\n",
       "      <td>Charlie</td>\n",
       "      <td>NaN</td>\n",
       "    </tr>\n",
       "  </tbody>\n",
       "</table>\n",
       "</div>"
      ],
      "text/plain": [
       "       name   age\n",
       "id               \n",
       "1     Alice  25.0\n",
       "2       Bob  30.0\n",
       "3   Charlie   NaN"
      ]
     },
     "execution_count": 35,
     "metadata": {},
     "output_type": "execute_result"
    }
   ],
   "source": [
    "df = df1.join(df2)\n",
    "df"
   ]
  },
  {
   "cell_type": "markdown",
   "id": "f380da34-e815-45e4-ba14-2b32c7e880f8",
   "metadata": {},
   "source": [
    "# 19\n",
    "How can you use merge to add a single column from one DataFrame to another based on a key?"
   ]
  },
  {
   "cell_type": "code",
   "execution_count": 36,
   "id": "06980f0c-d2b2-4e9d-8b74-730f01219b2b",
   "metadata": {},
   "outputs": [],
   "source": [
    "df1 = pd.DataFrame({'id': [1, 2, 3], 'name': ['Alice', 'Bob', 'Charlie']})\n",
    "df2 = pd.DataFrame({'id': [1, 2, 4], 'age': [25, 30, 35]})"
   ]
  },
  {
   "cell_type": "code",
   "execution_count": 41,
   "id": "30abfd4b-6138-41f3-8626-0380f32e94be",
   "metadata": {},
   "outputs": [
    {
     "data": {
      "text/html": [
       "<div>\n",
       "<style scoped>\n",
       "    .dataframe tbody tr th:only-of-type {\n",
       "        vertical-align: middle;\n",
       "    }\n",
       "\n",
       "    .dataframe tbody tr th {\n",
       "        vertical-align: top;\n",
       "    }\n",
       "\n",
       "    .dataframe thead th {\n",
       "        text-align: right;\n",
       "    }\n",
       "</style>\n",
       "<table border=\"1\" class=\"dataframe\">\n",
       "  <thead>\n",
       "    <tr style=\"text-align: right;\">\n",
       "      <th></th>\n",
       "      <th>id</th>\n",
       "      <th>name</th>\n",
       "      <th>age</th>\n",
       "    </tr>\n",
       "  </thead>\n",
       "  <tbody>\n",
       "    <tr>\n",
       "      <th>0</th>\n",
       "      <td>1</td>\n",
       "      <td>Alice</td>\n",
       "      <td>25</td>\n",
       "    </tr>\n",
       "    <tr>\n",
       "      <th>1</th>\n",
       "      <td>2</td>\n",
       "      <td>Bob</td>\n",
       "      <td>30</td>\n",
       "    </tr>\n",
       "  </tbody>\n",
       "</table>\n",
       "</div>"
      ],
      "text/plain": [
       "   id   name  age\n",
       "0   1  Alice   25\n",
       "1   2    Bob   30"
      ]
     },
     "execution_count": 41,
     "metadata": {},
     "output_type": "execute_result"
    }
   ],
   "source": [
    "df = df1.merge(df2[['id', 'age']], on='id')\n",
    "df"
   ]
  },
  {
   "cell_type": "markdown",
   "id": "166679eb-75b6-4eca-90eb-493e71a54a8a",
   "metadata": {},
   "source": [
    "# 20\n",
    " How do you perform a merge that preserves the index of one of the DataFrames?"
   ]
  },
  {
   "cell_type": "code",
   "execution_count": 47,
   "id": "bd5e1f3c-c2c6-4742-a5a7-f58b5bbd5eb1",
   "metadata": {},
   "outputs": [],
   "source": [
    "df1 = pd.DataFrame({'name': ['Alice', 'Bob', 'Charlie']}, index=[1, 2, 3])\n",
    "df2 = pd.DataFrame({'id': [1, 2, 4], 'age': [25, 30, 35]})"
   ]
  },
  {
   "cell_type": "code",
   "execution_count": 45,
   "id": "2efb115d-4bb3-4938-aaf5-d900db94b89f",
   "metadata": {},
   "outputs": [
    {
     "data": {
      "text/html": [
       "<div>\n",
       "<style scoped>\n",
       "    .dataframe tbody tr th:only-of-type {\n",
       "        vertical-align: middle;\n",
       "    }\n",
       "\n",
       "    .dataframe tbody tr th {\n",
       "        vertical-align: top;\n",
       "    }\n",
       "\n",
       "    .dataframe thead th {\n",
       "        text-align: right;\n",
       "    }\n",
       "</style>\n",
       "<table border=\"1\" class=\"dataframe\">\n",
       "  <thead>\n",
       "    <tr style=\"text-align: right;\">\n",
       "      <th></th>\n",
       "      <th>name</th>\n",
       "      <th>id</th>\n",
       "      <th>age</th>\n",
       "    </tr>\n",
       "  </thead>\n",
       "  <tbody>\n",
       "    <tr>\n",
       "      <th>1</th>\n",
       "      <td>Alice</td>\n",
       "      <td>2</td>\n",
       "      <td>30</td>\n",
       "    </tr>\n",
       "    <tr>\n",
       "      <th>2</th>\n",
       "      <td>Bob</td>\n",
       "      <td>4</td>\n",
       "      <td>35</td>\n",
       "    </tr>\n",
       "  </tbody>\n",
       "</table>\n",
       "</div>"
      ],
      "text/plain": [
       "    name  id  age\n",
       "1  Alice   2   30\n",
       "2    Bob   4   35"
      ]
     },
     "execution_count": 45,
     "metadata": {},
     "output_type": "execute_result"
    }
   ],
   "source": [
    "df = df1.merge(df2, left_index=True, right_index=True)\n",
    "df"
   ]
  },
  {
   "cell_type": "markdown",
   "id": "cd061caf-78af-4923-a30c-110a621bce29",
   "metadata": {},
   "source": [
    "# 21\n",
    "How do you use groupby to calculate the mean of a column grouped by another column?"
   ]
  },
  {
   "cell_type": "code",
   "execution_count": 18,
   "id": "946d0dab-cc3d-4267-9652-65fb67a83e84",
   "metadata": {},
   "outputs": [],
   "source": [
    "import pandas as pd\n",
    "df = pd.DataFrame({'dept': ['HR', 'IT', 'HR', 'IT'], 'salary': [50000, 60000, 55000, 65000]})"
   ]
  },
  {
   "cell_type": "code",
   "execution_count": 20,
   "id": "4198f407-c4a3-469e-adb9-6bf4df3a64bb",
   "metadata": {},
   "outputs": [
    {
     "data": {
      "text/html": [
       "<div>\n",
       "<style scoped>\n",
       "    .dataframe tbody tr th:only-of-type {\n",
       "        vertical-align: middle;\n",
       "    }\n",
       "\n",
       "    .dataframe tbody tr th {\n",
       "        vertical-align: top;\n",
       "    }\n",
       "\n",
       "    .dataframe thead th {\n",
       "        text-align: right;\n",
       "    }\n",
       "</style>\n",
       "<table border=\"1\" class=\"dataframe\">\n",
       "  <thead>\n",
       "    <tr style=\"text-align: right;\">\n",
       "      <th></th>\n",
       "      <th>dept</th>\n",
       "      <th>salary</th>\n",
       "    </tr>\n",
       "  </thead>\n",
       "  <tbody>\n",
       "    <tr>\n",
       "      <th>0</th>\n",
       "      <td>HR</td>\n",
       "      <td>52500.0</td>\n",
       "    </tr>\n",
       "    <tr>\n",
       "      <th>1</th>\n",
       "      <td>IT</td>\n",
       "      <td>62500.0</td>\n",
       "    </tr>\n",
       "  </tbody>\n",
       "</table>\n",
       "</div>"
      ],
      "text/plain": [
       "  dept   salary\n",
       "0   HR  52500.0\n",
       "1   IT  62500.0"
      ]
     },
     "execution_count": 20,
     "metadata": {},
     "output_type": "execute_result"
    }
   ],
   "source": [
    "df_mean = df.groupby('dept')['salary'].mean().reset_index()\n",
    "df_mean"
   ]
  },
  {
   "cell_type": "markdown",
   "id": "e9420c52-2209-4dfa-ae61-d54bc75501a2",
   "metadata": {},
   "source": [
    "# 22\n",
    "How would you group a DataFrame by two columns and count the number of rows in each group?"
   ]
  },
  {
   "cell_type": "code",
   "execution_count": 31,
   "id": "cb4620de-37a1-4fce-af6f-9caa026c6bea",
   "metadata": {},
   "outputs": [],
   "source": [
    "df = pd.DataFrame({\n",
    "    'dept': ['HR', 'IT', 'HR', 'IT'],\n",
    "    'region': ['North', 'South', 'South', 'North'],\n",
    "    'name': ['Alice', 'Bob', 'Carol', 'Dave'],\n",
    "    'salary': [50000, 60000, 55000, 65000]\n",
    "})"
   ]
  },
  {
   "cell_type": "code",
   "execution_count": 35,
   "id": "5318de47-43f0-4714-a21e-5336a52a5459",
   "metadata": {},
   "outputs": [
    {
     "data": {
      "text/html": [
       "<div>\n",
       "<style scoped>\n",
       "    .dataframe tbody tr th:only-of-type {\n",
       "        vertical-align: middle;\n",
       "    }\n",
       "\n",
       "    .dataframe tbody tr th {\n",
       "        vertical-align: top;\n",
       "    }\n",
       "\n",
       "    .dataframe thead th {\n",
       "        text-align: right;\n",
       "    }\n",
       "</style>\n",
       "<table border=\"1\" class=\"dataframe\">\n",
       "  <thead>\n",
       "    <tr style=\"text-align: right;\">\n",
       "      <th></th>\n",
       "      <th>dept</th>\n",
       "      <th>region</th>\n",
       "      <th>count</th>\n",
       "    </tr>\n",
       "  </thead>\n",
       "  <tbody>\n",
       "    <tr>\n",
       "      <th>0</th>\n",
       "      <td>HR</td>\n",
       "      <td>North</td>\n",
       "      <td>1</td>\n",
       "    </tr>\n",
       "    <tr>\n",
       "      <th>1</th>\n",
       "      <td>HR</td>\n",
       "      <td>South</td>\n",
       "      <td>1</td>\n",
       "    </tr>\n",
       "    <tr>\n",
       "      <th>2</th>\n",
       "      <td>IT</td>\n",
       "      <td>North</td>\n",
       "      <td>1</td>\n",
       "    </tr>\n",
       "    <tr>\n",
       "      <th>3</th>\n",
       "      <td>IT</td>\n",
       "      <td>South</td>\n",
       "      <td>1</td>\n",
       "    </tr>\n",
       "  </tbody>\n",
       "</table>\n",
       "</div>"
      ],
      "text/plain": [
       "  dept region  count\n",
       "0   HR  North      1\n",
       "1   HR  South      1\n",
       "2   IT  North      1\n",
       "3   IT  South      1"
      ]
     },
     "execution_count": 35,
     "metadata": {},
     "output_type": "execute_result"
    }
   ],
   "source": [
    "df_grouped = df.groupby(['dept', 'region']).size().reset_index(name='count')\n",
    "df_grouped"
   ]
  },
  {
   "cell_type": "markdown",
   "id": "404d3d91-ad28-4488-af96-229a57104ad7",
   "metadata": {},
   "source": [
    "# 23\n",
    "How can you use groupby with agg to apply multiple aggregation functions (e.g., mean, sum) to a column?"
   ]
  },
  {
   "cell_type": "code",
   "execution_count": 44,
   "id": "8d701e81-a493-4b03-9eb5-a1d2c2c42061",
   "metadata": {},
   "outputs": [],
   "source": [
    "df = pd.DataFrame({'dept': ['HR', 'IT', 'HR'], 'salary': [50000, 60000, 55000]})"
   ]
  },
  {
   "cell_type": "code",
   "execution_count": 48,
   "id": "e2ff1a9b-4e6f-4f81-bfcd-b019a25fad54",
   "metadata": {},
   "outputs": [
    {
     "data": {
      "text/html": [
       "<div>\n",
       "<style scoped>\n",
       "    .dataframe tbody tr th:only-of-type {\n",
       "        vertical-align: middle;\n",
       "    }\n",
       "\n",
       "    .dataframe tbody tr th {\n",
       "        vertical-align: top;\n",
       "    }\n",
       "\n",
       "    .dataframe thead th {\n",
       "        text-align: right;\n",
       "    }\n",
       "</style>\n",
       "<table border=\"1\" class=\"dataframe\">\n",
       "  <thead>\n",
       "    <tr style=\"text-align: right;\">\n",
       "      <th></th>\n",
       "      <th>dept</th>\n",
       "      <th>sum</th>\n",
       "      <th>mean</th>\n",
       "    </tr>\n",
       "  </thead>\n",
       "  <tbody>\n",
       "    <tr>\n",
       "      <th>0</th>\n",
       "      <td>HR</td>\n",
       "      <td>105000</td>\n",
       "      <td>52500.0</td>\n",
       "    </tr>\n",
       "    <tr>\n",
       "      <th>1</th>\n",
       "      <td>IT</td>\n",
       "      <td>60000</td>\n",
       "      <td>60000.0</td>\n",
       "    </tr>\n",
       "  </tbody>\n",
       "</table>\n",
       "</div>"
      ],
      "text/plain": [
       "  dept     sum     mean\n",
       "0   HR  105000  52500.0\n",
       "1   IT   60000  60000.0"
      ]
     },
     "execution_count": 48,
     "metadata": {},
     "output_type": "execute_result"
    }
   ],
   "source": [
    "df_multiple = df.groupby('dept')['salary'].agg(['sum', 'mean']).reset_index()\n",
    "df_multiple"
   ]
  },
  {
   "cell_type": "markdown",
   "id": "da7565af-9c08-4875-9ead-629c831f239d",
   "metadata": {},
   "source": [
    "# 24\n",
    "How would you find the maximum value in a column for each group using groupby ?"
   ]
  },
  {
   "cell_type": "code",
   "execution_count": 53,
   "id": "f6069f92-e761-4d7e-b162-18f953cd2ec9",
   "metadata": {},
   "outputs": [],
   "source": [
    "df = pd.DataFrame({'dept': ['HR', 'IT', 'HR', 'IT'], 'salary': [50000, 60000, 55000, 65000]})"
   ]
  },
  {
   "cell_type": "code",
   "execution_count": 55,
   "id": "7fdd676c-640d-4f99-906f-64078883bf14",
   "metadata": {},
   "outputs": [
    {
     "data": {
      "text/html": [
       "<div>\n",
       "<style scoped>\n",
       "    .dataframe tbody tr th:only-of-type {\n",
       "        vertical-align: middle;\n",
       "    }\n",
       "\n",
       "    .dataframe tbody tr th {\n",
       "        vertical-align: top;\n",
       "    }\n",
       "\n",
       "    .dataframe thead th {\n",
       "        text-align: right;\n",
       "    }\n",
       "</style>\n",
       "<table border=\"1\" class=\"dataframe\">\n",
       "  <thead>\n",
       "    <tr style=\"text-align: right;\">\n",
       "      <th></th>\n",
       "      <th>dept</th>\n",
       "      <th>maximum_salary</th>\n",
       "    </tr>\n",
       "  </thead>\n",
       "  <tbody>\n",
       "    <tr>\n",
       "      <th>0</th>\n",
       "      <td>HR</td>\n",
       "      <td>55000</td>\n",
       "    </tr>\n",
       "    <tr>\n",
       "      <th>1</th>\n",
       "      <td>IT</td>\n",
       "      <td>65000</td>\n",
       "    </tr>\n",
       "  </tbody>\n",
       "</table>\n",
       "</div>"
      ],
      "text/plain": [
       "  dept  maximum_salary\n",
       "0   HR           55000\n",
       "1   IT           65000"
      ]
     },
     "execution_count": 55,
     "metadata": {},
     "output_type": "execute_result"
    }
   ],
   "source": [
    "df_max = df.groupby('dept')['salary'].max().reset_index()\n",
    "df_max = df_max.rename(columns={'salary': 'maximum_salary'})\n",
    "df_max"
   ]
  },
  {
   "cell_type": "markdown",
   "id": "a2ba6260-a80c-4b91-a05f-5d70b063c33a",
   "metadata": {},
   "source": [
    "# 25\n",
    " How do you use groupby to create a new column that ranks values within each group?"
   ]
  },
  {
   "cell_type": "code",
   "execution_count": 58,
   "id": "4f187c98-4ba3-43fb-802e-e80e20f5309c",
   "metadata": {},
   "outputs": [],
   "source": [
    "df = pd.DataFrame({'dept': ['HR', 'HR', 'IT', 'IT'], 'salary': [50000, 55000, 60000, 65000]})"
   ]
  },
  {
   "cell_type": "code",
   "execution_count": 65,
   "id": "b22e6102-bd39-4818-8f89-2edf652e16b6",
   "metadata": {},
   "outputs": [
    {
     "data": {
      "text/html": [
       "<div>\n",
       "<style scoped>\n",
       "    .dataframe tbody tr th:only-of-type {\n",
       "        vertical-align: middle;\n",
       "    }\n",
       "\n",
       "    .dataframe tbody tr th {\n",
       "        vertical-align: top;\n",
       "    }\n",
       "\n",
       "    .dataframe thead th {\n",
       "        text-align: right;\n",
       "    }\n",
       "</style>\n",
       "<table border=\"1\" class=\"dataframe\">\n",
       "  <thead>\n",
       "    <tr style=\"text-align: right;\">\n",
       "      <th></th>\n",
       "      <th>dept</th>\n",
       "      <th>salary</th>\n",
       "      <th>ranked_department</th>\n",
       "    </tr>\n",
       "  </thead>\n",
       "  <tbody>\n",
       "    <tr>\n",
       "      <th>0</th>\n",
       "      <td>HR</td>\n",
       "      <td>50000</td>\n",
       "      <td>2.0</td>\n",
       "    </tr>\n",
       "    <tr>\n",
       "      <th>1</th>\n",
       "      <td>HR</td>\n",
       "      <td>55000</td>\n",
       "      <td>1.0</td>\n",
       "    </tr>\n",
       "    <tr>\n",
       "      <th>2</th>\n",
       "      <td>IT</td>\n",
       "      <td>60000</td>\n",
       "      <td>2.0</td>\n",
       "    </tr>\n",
       "    <tr>\n",
       "      <th>3</th>\n",
       "      <td>IT</td>\n",
       "      <td>65000</td>\n",
       "      <td>1.0</td>\n",
       "    </tr>\n",
       "  </tbody>\n",
       "</table>\n",
       "</div>"
      ],
      "text/plain": [
       "  dept  salary  ranked_department\n",
       "0   HR   50000                2.0\n",
       "1   HR   55000                1.0\n",
       "2   IT   60000                2.0\n",
       "3   IT   65000                1.0"
      ]
     },
     "execution_count": 65,
     "metadata": {},
     "output_type": "execute_result"
    }
   ],
   "source": [
    "df['ranked_department'] = df.groupby('dept')['salary'].rank(ascending=False)\n",
    "df"
   ]
  },
  {
   "cell_type": "markdown",
   "id": "a1d5eab4-03a0-4c89-bf01-3ac0290f6d34",
   "metadata": {},
   "source": [
    "# 26\n",
    "How would you group a DataFrame by a column and compute the percentage of each group’s total sum?"
   ]
  },
  {
   "cell_type": "code",
   "execution_count": 66,
   "id": "2c16663f-0e1d-4325-8ebf-57f94f2b5c68",
   "metadata": {},
   "outputs": [],
   "source": [
    "df = pd.DataFrame({'dept': ['HR', 'IT', 'HR', 'IT'], 'salary': [50000, 60000, 55000, 65000]})"
   ]
  },
  {
   "cell_type": "code",
   "execution_count": 78,
   "id": "617341d9-fa74-42e3-9af4-123bc88117ee",
   "metadata": {},
   "outputs": [
    {
     "data": {
      "text/html": [
       "<div>\n",
       "<style scoped>\n",
       "    .dataframe tbody tr th:only-of-type {\n",
       "        vertical-align: middle;\n",
       "    }\n",
       "\n",
       "    .dataframe tbody tr th {\n",
       "        vertical-align: top;\n",
       "    }\n",
       "\n",
       "    .dataframe thead th {\n",
       "        text-align: right;\n",
       "    }\n",
       "</style>\n",
       "<table border=\"1\" class=\"dataframe\">\n",
       "  <thead>\n",
       "    <tr style=\"text-align: right;\">\n",
       "      <th></th>\n",
       "      <th>dept</th>\n",
       "      <th>salary</th>\n",
       "      <th>salary_pct_in_dept</th>\n",
       "    </tr>\n",
       "  </thead>\n",
       "  <tbody>\n",
       "    <tr>\n",
       "      <th>0</th>\n",
       "      <td>HR</td>\n",
       "      <td>50000</td>\n",
       "      <td>47.6</td>\n",
       "    </tr>\n",
       "    <tr>\n",
       "      <th>1</th>\n",
       "      <td>IT</td>\n",
       "      <td>60000</td>\n",
       "      <td>48.0</td>\n",
       "    </tr>\n",
       "    <tr>\n",
       "      <th>2</th>\n",
       "      <td>HR</td>\n",
       "      <td>55000</td>\n",
       "      <td>52.4</td>\n",
       "    </tr>\n",
       "    <tr>\n",
       "      <th>3</th>\n",
       "      <td>IT</td>\n",
       "      <td>65000</td>\n",
       "      <td>52.0</td>\n",
       "    </tr>\n",
       "  </tbody>\n",
       "</table>\n",
       "</div>"
      ],
      "text/plain": [
       "  dept  salary  salary_pct_in_dept\n",
       "0   HR   50000                47.6\n",
       "1   IT   60000                48.0\n",
       "2   HR   55000                52.4\n",
       "3   IT   65000                52.0"
      ]
     },
     "execution_count": 78,
     "metadata": {},
     "output_type": "execute_result"
    }
   ],
   "source": [
    "df['salary_pct_in_dept'] = (\n",
    "    df['salary'] / df.groupby('dept')['salary'].transform('sum') * 100\n",
    ").round(1)\n",
    "\n",
    "df"
   ]
  },
  {
   "cell_type": "code",
   "execution_count": 83,
   "id": "2262bb60-2ad7-488d-aa9d-e687e4a38dbc",
   "metadata": {},
   "outputs": [
    {
     "data": {
      "text/html": [
       "<div>\n",
       "<style scoped>\n",
       "    .dataframe tbody tr th:only-of-type {\n",
       "        vertical-align: middle;\n",
       "    }\n",
       "\n",
       "    .dataframe tbody tr th {\n",
       "        vertical-align: top;\n",
       "    }\n",
       "\n",
       "    .dataframe thead th {\n",
       "        text-align: right;\n",
       "    }\n",
       "</style>\n",
       "<table border=\"1\" class=\"dataframe\">\n",
       "  <thead>\n",
       "    <tr style=\"text-align: right;\">\n",
       "      <th></th>\n",
       "      <th>dept</th>\n",
       "      <th>salary</th>\n",
       "      <th>salary_pct_in_dept</th>\n",
       "      <th>group_share</th>\n",
       "    </tr>\n",
       "  </thead>\n",
       "  <tbody>\n",
       "    <tr>\n",
       "      <th>0</th>\n",
       "      <td>HR</td>\n",
       "      <td>50000</td>\n",
       "      <td>47.6</td>\n",
       "      <td>45.7</td>\n",
       "    </tr>\n",
       "    <tr>\n",
       "      <th>1</th>\n",
       "      <td>IT</td>\n",
       "      <td>60000</td>\n",
       "      <td>48.0</td>\n",
       "      <td>54.3</td>\n",
       "    </tr>\n",
       "    <tr>\n",
       "      <th>2</th>\n",
       "      <td>HR</td>\n",
       "      <td>55000</td>\n",
       "      <td>52.4</td>\n",
       "      <td>45.7</td>\n",
       "    </tr>\n",
       "    <tr>\n",
       "      <th>3</th>\n",
       "      <td>IT</td>\n",
       "      <td>65000</td>\n",
       "      <td>52.0</td>\n",
       "      <td>54.3</td>\n",
       "    </tr>\n",
       "  </tbody>\n",
       "</table>\n",
       "</div>"
      ],
      "text/plain": [
       "  dept  salary  salary_pct_in_dept  group_share\n",
       "0   HR   50000                47.6         45.7\n",
       "1   IT   60000                48.0         54.3\n",
       "2   HR   55000                52.4         45.7\n",
       "3   IT   65000                52.0         54.3"
      ]
     },
     "execution_count": 83,
     "metadata": {},
     "output_type": "execute_result"
    }
   ],
   "source": [
    "total_sum = df['salary'].sum()\n",
    "df['group_share'] = (df.groupby('dept')['salary'].transform('sum') / total_sum * 100).round(1)"
   ]
  },
  {
   "cell_type": "code",
   "execution_count": 86,
   "id": "0b71075f-52ed-446d-a71b-8d0f9649bf13",
   "metadata": {},
   "outputs": [
    {
     "data": {
      "text/html": [
       "<div>\n",
       "<style scoped>\n",
       "    .dataframe tbody tr th:only-of-type {\n",
       "        vertical-align: middle;\n",
       "    }\n",
       "\n",
       "    .dataframe tbody tr th {\n",
       "        vertical-align: top;\n",
       "    }\n",
       "\n",
       "    .dataframe thead th {\n",
       "        text-align: right;\n",
       "    }\n",
       "</style>\n",
       "<table border=\"1\" class=\"dataframe\">\n",
       "  <thead>\n",
       "    <tr style=\"text-align: right;\">\n",
       "      <th></th>\n",
       "      <th>dept</th>\n",
       "      <th>salary</th>\n",
       "      <th>salary_pct_in_dept</th>\n",
       "      <th>group_share</th>\n",
       "      <th>individual_share</th>\n",
       "    </tr>\n",
       "  </thead>\n",
       "  <tbody>\n",
       "    <tr>\n",
       "      <th>0</th>\n",
       "      <td>HR</td>\n",
       "      <td>50000</td>\n",
       "      <td>47.6</td>\n",
       "      <td>45.7</td>\n",
       "      <td>21.7</td>\n",
       "    </tr>\n",
       "    <tr>\n",
       "      <th>1</th>\n",
       "      <td>IT</td>\n",
       "      <td>60000</td>\n",
       "      <td>48.0</td>\n",
       "      <td>54.3</td>\n",
       "      <td>26.1</td>\n",
       "    </tr>\n",
       "    <tr>\n",
       "      <th>2</th>\n",
       "      <td>HR</td>\n",
       "      <td>55000</td>\n",
       "      <td>52.4</td>\n",
       "      <td>45.7</td>\n",
       "      <td>23.9</td>\n",
       "    </tr>\n",
       "    <tr>\n",
       "      <th>3</th>\n",
       "      <td>IT</td>\n",
       "      <td>65000</td>\n",
       "      <td>52.0</td>\n",
       "      <td>54.3</td>\n",
       "      <td>28.3</td>\n",
       "    </tr>\n",
       "  </tbody>\n",
       "</table>\n",
       "</div>"
      ],
      "text/plain": [
       "  dept  salary  salary_pct_in_dept  group_share  individual_share\n",
       "0   HR   50000                47.6         45.7              21.7\n",
       "1   IT   60000                48.0         54.3              26.1\n",
       "2   HR   55000                52.4         45.7              23.9\n",
       "3   IT   65000                52.0         54.3              28.3"
      ]
     },
     "execution_count": 86,
     "metadata": {},
     "output_type": "execute_result"
    }
   ],
   "source": [
    "df['individual_share'] = (df['salary'] / total_sum * 100).round(1)\n",
    "df"
   ]
  },
  {
   "cell_type": "markdown",
   "id": "dd161b19-df4d-4ac7-9c23-4babb0b56ffb",
   "metadata": {},
   "source": [
    "# 27\n",
    "How can you use groupby with transform to normalize values within each group?"
   ]
  },
  {
   "cell_type": "code",
   "execution_count": 87,
   "id": "77da6a07-1fe3-4339-a1cd-094547901f2a",
   "metadata": {},
   "outputs": [],
   "source": [
    "df = pd.DataFrame({'dept': ['HR', 'IT', 'HR', 'IT'], 'salary': [50000, 60000, 55000, 65000]})"
   ]
  },
  {
   "cell_type": "code",
   "execution_count": 93,
   "id": "b2d47e0e-45e0-4415-a173-06f8917242c0",
   "metadata": {},
   "outputs": [
    {
     "data": {
      "text/html": [
       "<div>\n",
       "<style scoped>\n",
       "    .dataframe tbody tr th:only-of-type {\n",
       "        vertical-align: middle;\n",
       "    }\n",
       "\n",
       "    .dataframe tbody tr th {\n",
       "        vertical-align: top;\n",
       "    }\n",
       "\n",
       "    .dataframe thead th {\n",
       "        text-align: right;\n",
       "    }\n",
       "</style>\n",
       "<table border=\"1\" class=\"dataframe\">\n",
       "  <thead>\n",
       "    <tr style=\"text-align: right;\">\n",
       "      <th></th>\n",
       "      <th>dept</th>\n",
       "      <th>salary</th>\n",
       "      <th>normalized</th>\n",
       "    </tr>\n",
       "  </thead>\n",
       "  <tbody>\n",
       "    <tr>\n",
       "      <th>0</th>\n",
       "      <td>HR</td>\n",
       "      <td>50000</td>\n",
       "      <td>0.0</td>\n",
       "    </tr>\n",
       "    <tr>\n",
       "      <th>1</th>\n",
       "      <td>IT</td>\n",
       "      <td>60000</td>\n",
       "      <td>1.0</td>\n",
       "    </tr>\n",
       "    <tr>\n",
       "      <th>2</th>\n",
       "      <td>HR</td>\n",
       "      <td>55000</td>\n",
       "      <td>0.0</td>\n",
       "    </tr>\n",
       "    <tr>\n",
       "      <th>3</th>\n",
       "      <td>IT</td>\n",
       "      <td>65000</td>\n",
       "      <td>1.0</td>\n",
       "    </tr>\n",
       "  </tbody>\n",
       "</table>\n",
       "</div>"
      ],
      "text/plain": [
       "  dept  salary  normalized\n",
       "0   HR   50000         0.0\n",
       "1   IT   60000         1.0\n",
       "2   HR   55000         0.0\n",
       "3   IT   65000         1.0"
      ]
     },
     "execution_count": 93,
     "metadata": {},
     "output_type": "execute_result"
    }
   ],
   "source": [
    "sum_salary_dept = df.groupby('dept')['salary'].transform('sum')\n",
    "\n",
    "df['normalized'] = (sum_salary_dept - sum_salary_dept.min()) / (sum_salary_dept.max() - sum_salary_dept.min())\n",
    "df"
   ]
  },
  {
   "cell_type": "markdown",
   "id": "db73beef-cf55-4e0c-8ddc-0a0fb2b07d01",
   "metadata": {},
   "source": [
    "# 28\n",
    " What is the difference between groupby with apply versus agg for custom aggregations?"
   ]
  },
  {
   "cell_type": "code",
   "execution_count": 2,
   "id": "6cadc231-1f30-4289-bc12-38020a396f56",
   "metadata": {},
   "outputs": [],
   "source": [
    "import pandas as pd\n",
    "df = pd.DataFrame({'dept': ['HR', 'IT', 'HR'], 'salary': [50000, 60000, 55000]})"
   ]
  },
  {
   "cell_type": "code",
   "execution_count": 10,
   "id": "52449bf4-1eae-4d57-9b12-ddcb98e1b63c",
   "metadata": {},
   "outputs": [
    {
     "data": {
      "text/html": [
       "<div>\n",
       "<style scoped>\n",
       "    .dataframe tbody tr th:only-of-type {\n",
       "        vertical-align: middle;\n",
       "    }\n",
       "\n",
       "    .dataframe tbody tr th {\n",
       "        vertical-align: top;\n",
       "    }\n",
       "\n",
       "    .dataframe thead th {\n",
       "        text-align: right;\n",
       "    }\n",
       "</style>\n",
       "<table border=\"1\" class=\"dataframe\">\n",
       "  <thead>\n",
       "    <tr style=\"text-align: right;\">\n",
       "      <th></th>\n",
       "      <th>dept</th>\n",
       "      <th>level_1</th>\n",
       "      <th>salary</th>\n",
       "    </tr>\n",
       "  </thead>\n",
       "  <tbody>\n",
       "    <tr>\n",
       "      <th>0</th>\n",
       "      <td>HR</td>\n",
       "      <td>0</td>\n",
       "      <td>47.6</td>\n",
       "    </tr>\n",
       "    <tr>\n",
       "      <th>1</th>\n",
       "      <td>HR</td>\n",
       "      <td>2</td>\n",
       "      <td>52.4</td>\n",
       "    </tr>\n",
       "    <tr>\n",
       "      <th>2</th>\n",
       "      <td>IT</td>\n",
       "      <td>1</td>\n",
       "      <td>100.0</td>\n",
       "    </tr>\n",
       "  </tbody>\n",
       "</table>\n",
       "</div>"
      ],
      "text/plain": [
       "  dept  level_1  salary\n",
       "0   HR        0    47.6\n",
       "1   HR        2    52.4\n",
       "2   IT        1   100.0"
      ]
     },
     "execution_count": 10,
     "metadata": {},
     "output_type": "execute_result"
    }
   ],
   "source": [
    "df_apply = (df.groupby('dept')['salary'].apply(lambda x: (x/x.sum()) * 100).reset_index()).round(1)\n",
    "df_apply"
   ]
  },
  {
   "cell_type": "code",
   "execution_count": 12,
   "id": "bac33962-5ea2-4707-a0ae-37082c2685b4",
   "metadata": {},
   "outputs": [
    {
     "data": {
      "text/html": [
       "<div>\n",
       "<style scoped>\n",
       "    .dataframe tbody tr th:only-of-type {\n",
       "        vertical-align: middle;\n",
       "    }\n",
       "\n",
       "    .dataframe tbody tr th {\n",
       "        vertical-align: top;\n",
       "    }\n",
       "\n",
       "    .dataframe thead th {\n",
       "        text-align: right;\n",
       "    }\n",
       "</style>\n",
       "<table border=\"1\" class=\"dataframe\">\n",
       "  <thead>\n",
       "    <tr style=\"text-align: right;\">\n",
       "      <th></th>\n",
       "      <th>sum</th>\n",
       "      <th>mean</th>\n",
       "    </tr>\n",
       "    <tr>\n",
       "      <th>dept</th>\n",
       "      <th></th>\n",
       "      <th></th>\n",
       "    </tr>\n",
       "  </thead>\n",
       "  <tbody>\n",
       "    <tr>\n",
       "      <th>HR</th>\n",
       "      <td>105000</td>\n",
       "      <td>52500.0</td>\n",
       "    </tr>\n",
       "    <tr>\n",
       "      <th>IT</th>\n",
       "      <td>60000</td>\n",
       "      <td>60000.0</td>\n",
       "    </tr>\n",
       "  </tbody>\n",
       "</table>\n",
       "</div>"
      ],
      "text/plain": [
       "         sum     mean\n",
       "dept                 \n",
       "HR    105000  52500.0\n",
       "IT     60000  60000.0"
      ]
     },
     "execution_count": 12,
     "metadata": {},
     "output_type": "execute_result"
    }
   ],
   "source": [
    "df_agg = df.groupby('dept')['salary'].agg(['sum', 'mean'])\n",
    "df_agg"
   ]
  },
  {
   "cell_type": "markdown",
   "id": "69ce146e-7e3c-4bfb-a287-21fad855f2d4",
   "metadata": {},
   "source": [
    "# 29\n",
    "How do you use groupby to filter groups based on a condition, such as groups with more than 2 rows?"
   ]
  },
  {
   "cell_type": "code",
   "execution_count": 13,
   "id": "1dddb856-c358-4a1c-bcfe-2a802f1a01ae",
   "metadata": {},
   "outputs": [],
   "source": [
    "df = pd.DataFrame({'dept': ['HR', 'HR', 'HR', 'IT', 'IT'], 'salary': [50000, 55000, 52000, 60000, 65000]})"
   ]
  },
  {
   "cell_type": "code",
   "execution_count": 22,
   "id": "df0fbb38-1077-4730-b355-6d79b91c79d2",
   "metadata": {},
   "outputs": [],
   "source": [
    "df_gb_filter_on_condition = df.groupby('dept').filter(lambda x: len(x) > 2).reset_index()"
   ]
  },
  {
   "cell_type": "code",
   "execution_count": 23,
   "id": "034dfa9f-52af-4ffd-878c-128931d24fce",
   "metadata": {},
   "outputs": [
    {
     "data": {
      "text/html": [
       "<div>\n",
       "<style scoped>\n",
       "    .dataframe tbody tr th:only-of-type {\n",
       "        vertical-align: middle;\n",
       "    }\n",
       "\n",
       "    .dataframe tbody tr th {\n",
       "        vertical-align: top;\n",
       "    }\n",
       "\n",
       "    .dataframe thead th {\n",
       "        text-align: right;\n",
       "    }\n",
       "</style>\n",
       "<table border=\"1\" class=\"dataframe\">\n",
       "  <thead>\n",
       "    <tr style=\"text-align: right;\">\n",
       "      <th></th>\n",
       "      <th>index</th>\n",
       "      <th>dept</th>\n",
       "      <th>salary</th>\n",
       "    </tr>\n",
       "  </thead>\n",
       "  <tbody>\n",
       "    <tr>\n",
       "      <th>0</th>\n",
       "      <td>0</td>\n",
       "      <td>HR</td>\n",
       "      <td>50000</td>\n",
       "    </tr>\n",
       "    <tr>\n",
       "      <th>1</th>\n",
       "      <td>1</td>\n",
       "      <td>HR</td>\n",
       "      <td>55000</td>\n",
       "    </tr>\n",
       "    <tr>\n",
       "      <th>2</th>\n",
       "      <td>2</td>\n",
       "      <td>HR</td>\n",
       "      <td>52000</td>\n",
       "    </tr>\n",
       "  </tbody>\n",
       "</table>\n",
       "</div>"
      ],
      "text/plain": [
       "   index dept  salary\n",
       "0      0   HR   50000\n",
       "1      1   HR   55000\n",
       "2      2   HR   52000"
      ]
     },
     "execution_count": 23,
     "metadata": {},
     "output_type": "execute_result"
    }
   ],
   "source": [
    "df_gb_filter_on_condition"
   ]
  },
  {
   "cell_type": "markdown",
   "id": "254885b4-5f44-4352-b6ec-6e9c8cabd0fe",
   "metadata": {},
   "source": [
    "# 30\n",
    "How would you group a DataFrame by a column and return the top 3 rows for each group based on a value?"
   ]
  },
  {
   "cell_type": "code",
   "execution_count": 29,
   "id": "95b65b03-919e-4515-a0b0-fdfd0aa5380d",
   "metadata": {},
   "outputs": [],
   "source": [
    "df = pd.DataFrame({'dept': ['HR', 'HR', 'IT', 'IT', 'IT'], 'salary': [50000, 55000, 60000, 65000, 62000]})"
   ]
  },
  {
   "cell_type": "code",
   "execution_count": 43,
   "id": "8d9dbfaf-3ea4-4033-95c5-b1e05de91a3a",
   "metadata": {},
   "outputs": [
    {
     "name": "stderr",
     "output_type": "stream",
     "text": [
      "C:\\Users\\AYAT LAPTOP POINT\\AppData\\Local\\Temp\\ipykernel_10784\\2134251806.py:1: DeprecationWarning: DataFrameGroupBy.apply operated on the grouping columns. This behavior is deprecated, and in a future version of pandas the grouping columns will be excluded from the operation. Either pass `include_groups=False` to exclude the groupings or explicitly select the grouping columns after groupby to silence this warning.\n",
      "  df_top_3 = df.groupby('dept').apply(lambda x: x.sort_values(by='salary', ascending=False).head(3))\n"
     ]
    }
   ],
   "source": [
    "df_top_3 = df.groupby('dept').apply(lambda x: x.sort_values(by='salary', ascending=False).head(3))"
   ]
  },
  {
   "cell_type": "code",
   "execution_count": 44,
   "id": "dbf2ca5e-ff98-4cb0-b9fd-5f384075d1e8",
   "metadata": {},
   "outputs": [
    {
     "data": {
      "text/html": [
       "<div>\n",
       "<style scoped>\n",
       "    .dataframe tbody tr th:only-of-type {\n",
       "        vertical-align: middle;\n",
       "    }\n",
       "\n",
       "    .dataframe tbody tr th {\n",
       "        vertical-align: top;\n",
       "    }\n",
       "\n",
       "    .dataframe thead th {\n",
       "        text-align: right;\n",
       "    }\n",
       "</style>\n",
       "<table border=\"1\" class=\"dataframe\">\n",
       "  <thead>\n",
       "    <tr style=\"text-align: right;\">\n",
       "      <th></th>\n",
       "      <th></th>\n",
       "      <th>dept</th>\n",
       "      <th>salary</th>\n",
       "    </tr>\n",
       "    <tr>\n",
       "      <th>dept</th>\n",
       "      <th></th>\n",
       "      <th></th>\n",
       "      <th></th>\n",
       "    </tr>\n",
       "  </thead>\n",
       "  <tbody>\n",
       "    <tr>\n",
       "      <th rowspan=\"2\" valign=\"top\">HR</th>\n",
       "      <th>1</th>\n",
       "      <td>HR</td>\n",
       "      <td>55000</td>\n",
       "    </tr>\n",
       "    <tr>\n",
       "      <th>0</th>\n",
       "      <td>HR</td>\n",
       "      <td>50000</td>\n",
       "    </tr>\n",
       "    <tr>\n",
       "      <th rowspan=\"3\" valign=\"top\">IT</th>\n",
       "      <th>3</th>\n",
       "      <td>IT</td>\n",
       "      <td>65000</td>\n",
       "    </tr>\n",
       "    <tr>\n",
       "      <th>4</th>\n",
       "      <td>IT</td>\n",
       "      <td>62000</td>\n",
       "    </tr>\n",
       "    <tr>\n",
       "      <th>2</th>\n",
       "      <td>IT</td>\n",
       "      <td>60000</td>\n",
       "    </tr>\n",
       "  </tbody>\n",
       "</table>\n",
       "</div>"
      ],
      "text/plain": [
       "       dept  salary\n",
       "dept               \n",
       "HR   1   HR   55000\n",
       "     0   HR   50000\n",
       "IT   3   IT   65000\n",
       "     4   IT   62000\n",
       "     2   IT   60000"
      ]
     },
     "execution_count": 44,
     "metadata": {},
     "output_type": "execute_result"
    }
   ],
   "source": [
    "df_top_3"
   ]
  },
  {
   "cell_type": "markdown",
   "id": "1264f987-e0db-4871-9e02-b4f9ce20df6d",
   "metadata": {},
   "source": [
    "# 31\n",
    " How do you pivot a DataFrame to reshape it from long to wide format?"
   ]
  },
  {
   "cell_type": "code",
   "execution_count": 45,
   "id": "a6961052-17da-42f2-bd77-aa30428591e8",
   "metadata": {},
   "outputs": [],
   "source": [
    "df = pd.DataFrame({'date': ['2023-01', '2023-01', '2023-02', '2023-02'],\n",
    "                   'category': ['A', 'B', 'A', 'B'], 'value': [10, 20, 15, 25]})"
   ]
  },
  {
   "cell_type": "code",
   "execution_count": 47,
   "id": "997f9213-dcc2-40d2-ad89-1f44364d04a1",
   "metadata": {},
   "outputs": [],
   "source": [
    "df_pivoted = pd.pivot(df, index='category', columns='date', values='value')"
   ]
  },
  {
   "cell_type": "code",
   "execution_count": 48,
   "id": "e7fb18ab-ba51-4d62-bba9-1acde4604286",
   "metadata": {},
   "outputs": [
    {
     "data": {
      "text/html": [
       "<div>\n",
       "<style scoped>\n",
       "    .dataframe tbody tr th:only-of-type {\n",
       "        vertical-align: middle;\n",
       "    }\n",
       "\n",
       "    .dataframe tbody tr th {\n",
       "        vertical-align: top;\n",
       "    }\n",
       "\n",
       "    .dataframe thead th {\n",
       "        text-align: right;\n",
       "    }\n",
       "</style>\n",
       "<table border=\"1\" class=\"dataframe\">\n",
       "  <thead>\n",
       "    <tr style=\"text-align: right;\">\n",
       "      <th>date</th>\n",
       "      <th>2023-01</th>\n",
       "      <th>2023-02</th>\n",
       "    </tr>\n",
       "    <tr>\n",
       "      <th>category</th>\n",
       "      <th></th>\n",
       "      <th></th>\n",
       "    </tr>\n",
       "  </thead>\n",
       "  <tbody>\n",
       "    <tr>\n",
       "      <th>A</th>\n",
       "      <td>10</td>\n",
       "      <td>15</td>\n",
       "    </tr>\n",
       "    <tr>\n",
       "      <th>B</th>\n",
       "      <td>20</td>\n",
       "      <td>25</td>\n",
       "    </tr>\n",
       "  </tbody>\n",
       "</table>\n",
       "</div>"
      ],
      "text/plain": [
       "date      2023-01  2023-02\n",
       "category                  \n",
       "A              10       15\n",
       "B              20       25"
      ]
     },
     "execution_count": 48,
     "metadata": {},
     "output_type": "execute_result"
    }
   ],
   "source": [
    "df_pivoted"
   ]
  },
  {
   "cell_type": "markdown",
   "id": "a28db36f-aa59-4d0e-9eae-c465c2b7f0b6",
   "metadata": {},
   "source": [
    "# 32\n",
    "How would you stack a DataFrame to convert it from wide to long format?"
   ]
  },
  {
   "cell_type": "code",
   "execution_count": 49,
   "id": "5df83a77-a5da-4a69-a557-41f2ad7c41d6",
   "metadata": {},
   "outputs": [],
   "source": [
    "df = pd.DataFrame({'date': ['2023-01', '2023-02'], 'A': [10, 15], 'B': [20, 25]})"
   ]
  },
  {
   "cell_type": "code",
   "execution_count": 58,
   "id": "9645bb9c-025c-4cc4-a3ad-76caf31e13d6",
   "metadata": {},
   "outputs": [],
   "source": [
    "df_stacked = df.stack()"
   ]
  },
  {
   "cell_type": "code",
   "execution_count": 59,
   "id": "72eab3f9-ef11-49ab-b1da-00bd45dd7a68",
   "metadata": {},
   "outputs": [
    {
     "data": {
      "text/plain": [
       "0  date    2023-01\n",
       "   A            10\n",
       "   B            20\n",
       "1  date    2023-02\n",
       "   A            15\n",
       "   B            25\n",
       "dtype: object"
      ]
     },
     "execution_count": 59,
     "metadata": {},
     "output_type": "execute_result"
    }
   ],
   "source": [
    "df_stacked"
   ]
  },
  {
   "cell_type": "markdown",
   "id": "a719bdfb-b3df-4807-87eb-c3953934b01f",
   "metadata": {},
   "source": [
    "# 33 \n",
    "How can you use cut to bin a numerical column into discrete intervals?"
   ]
  },
  {
   "cell_type": "code",
   "execution_count": 66,
   "id": "42fb0eb6-bc2c-4c43-bc57-2786bc5b28bb",
   "metadata": {},
   "outputs": [],
   "source": [
    "df = pd.DataFrame({'score': [55, 75, 85, 95, 65]})"
   ]
  },
  {
   "cell_type": "code",
   "execution_count": 68,
   "id": "c0211feb-778d-4a59-afe8-05fcbcf0a89f",
   "metadata": {},
   "outputs": [
    {
     "data": {
      "text/html": [
       "<div>\n",
       "<style scoped>\n",
       "    .dataframe tbody tr th:only-of-type {\n",
       "        vertical-align: middle;\n",
       "    }\n",
       "\n",
       "    .dataframe tbody tr th {\n",
       "        vertical-align: top;\n",
       "    }\n",
       "\n",
       "    .dataframe thead th {\n",
       "        text-align: right;\n",
       "    }\n",
       "</style>\n",
       "<table border=\"1\" class=\"dataframe\">\n",
       "  <thead>\n",
       "    <tr style=\"text-align: right;\">\n",
       "      <th></th>\n",
       "      <th>score</th>\n",
       "      <th>category</th>\n",
       "    </tr>\n",
       "  </thead>\n",
       "  <tbody>\n",
       "    <tr>\n",
       "      <th>0</th>\n",
       "      <td>55</td>\n",
       "      <td>Low</td>\n",
       "    </tr>\n",
       "    <tr>\n",
       "      <th>1</th>\n",
       "      <td>75</td>\n",
       "      <td>Average</td>\n",
       "    </tr>\n",
       "    <tr>\n",
       "      <th>2</th>\n",
       "      <td>85</td>\n",
       "      <td>Above Average</td>\n",
       "    </tr>\n",
       "    <tr>\n",
       "      <th>3</th>\n",
       "      <td>95</td>\n",
       "      <td>Above Average</td>\n",
       "    </tr>\n",
       "    <tr>\n",
       "      <th>4</th>\n",
       "      <td>65</td>\n",
       "      <td>Average</td>\n",
       "    </tr>\n",
       "  </tbody>\n",
       "</table>\n",
       "</div>"
      ],
      "text/plain": [
       "   score       category\n",
       "0     55            Low\n",
       "1     75        Average\n",
       "2     85  Above Average\n",
       "3     95  Above Average\n",
       "4     65        Average"
      ]
     },
     "execution_count": 68,
     "metadata": {},
     "output_type": "execute_result"
    }
   ],
   "source": [
    "bins = [0, 60, 80, 100]\n",
    "labels = ('Low', 'Average', 'Above Average')\n",
    "df['category'] = pd.cut(df['score'], bins=bins, labels=labels, include_lowest=True)\n",
    "df"
   ]
  },
  {
   "cell_type": "markdown",
   "id": "14fd5f8e-86d2-47ee-a601-5843050de07f",
   "metadata": {},
   "source": [
    "# 34\n",
    "What is the purpose of pd.concat , and how does it differ from merge ?"
   ]
  },
  {
   "cell_type": "code",
   "execution_count": 69,
   "id": "278c7e52-af0f-40a0-b9ea-cdb12929ebbc",
   "metadata": {},
   "outputs": [],
   "source": [
    "df1 = pd.DataFrame({'name': ['Alice', 'Bob'], 'age': [25, 30]})\n",
    "df2 = pd.DataFrame({'name': ['Charlie', 'David'], 'age': [35, 40]})"
   ]
  },
  {
   "cell_type": "code",
   "execution_count": 75,
   "id": "c91f1a64-16b4-45fc-a354-12f972477750",
   "metadata": {},
   "outputs": [],
   "source": [
    "df_concatinated = pd.concat([df1, df2])"
   ]
  },
  {
   "cell_type": "code",
   "execution_count": 76,
   "id": "5d2e01bc-51d8-44ca-92bf-675e96761a3d",
   "metadata": {},
   "outputs": [
    {
     "data": {
      "text/html": [
       "<div>\n",
       "<style scoped>\n",
       "    .dataframe tbody tr th:only-of-type {\n",
       "        vertical-align: middle;\n",
       "    }\n",
       "\n",
       "    .dataframe tbody tr th {\n",
       "        vertical-align: top;\n",
       "    }\n",
       "\n",
       "    .dataframe thead th {\n",
       "        text-align: right;\n",
       "    }\n",
       "</style>\n",
       "<table border=\"1\" class=\"dataframe\">\n",
       "  <thead>\n",
       "    <tr style=\"text-align: right;\">\n",
       "      <th></th>\n",
       "      <th>name</th>\n",
       "      <th>age</th>\n",
       "    </tr>\n",
       "  </thead>\n",
       "  <tbody>\n",
       "    <tr>\n",
       "      <th>0</th>\n",
       "      <td>Alice</td>\n",
       "      <td>25</td>\n",
       "    </tr>\n",
       "    <tr>\n",
       "      <th>1</th>\n",
       "      <td>Bob</td>\n",
       "      <td>30</td>\n",
       "    </tr>\n",
       "    <tr>\n",
       "      <th>0</th>\n",
       "      <td>Charlie</td>\n",
       "      <td>35</td>\n",
       "    </tr>\n",
       "    <tr>\n",
       "      <th>1</th>\n",
       "      <td>David</td>\n",
       "      <td>40</td>\n",
       "    </tr>\n",
       "  </tbody>\n",
       "</table>\n",
       "</div>"
      ],
      "text/plain": [
       "      name  age\n",
       "0    Alice   25\n",
       "1      Bob   30\n",
       "0  Charlie   35\n",
       "1    David   40"
      ]
     },
     "execution_count": 76,
     "metadata": {},
     "output_type": "execute_result"
    }
   ],
   "source": [
    "df_concatinated"
   ]
  },
  {
   "cell_type": "code",
   "execution_count": 77,
   "id": "5430e2cb-4a46-4e0b-b93b-3b953dcf8c09",
   "metadata": {},
   "outputs": [],
   "source": [
    "df_merge = df1.merge(df2)"
   ]
  },
  {
   "cell_type": "code",
   "execution_count": 78,
   "id": "a61bf62a-947c-4e75-8063-d8ef5a8f7086",
   "metadata": {},
   "outputs": [
    {
     "data": {
      "text/html": [
       "<div>\n",
       "<style scoped>\n",
       "    .dataframe tbody tr th:only-of-type {\n",
       "        vertical-align: middle;\n",
       "    }\n",
       "\n",
       "    .dataframe tbody tr th {\n",
       "        vertical-align: top;\n",
       "    }\n",
       "\n",
       "    .dataframe thead th {\n",
       "        text-align: right;\n",
       "    }\n",
       "</style>\n",
       "<table border=\"1\" class=\"dataframe\">\n",
       "  <thead>\n",
       "    <tr style=\"text-align: right;\">\n",
       "      <th></th>\n",
       "      <th>name</th>\n",
       "      <th>age</th>\n",
       "    </tr>\n",
       "  </thead>\n",
       "  <tbody>\n",
       "  </tbody>\n",
       "</table>\n",
       "</div>"
      ],
      "text/plain": [
       "Empty DataFrame\n",
       "Columns: [name, age]\n",
       "Index: []"
      ]
     },
     "execution_count": 78,
     "metadata": {},
     "output_type": "execute_result"
    }
   ],
   "source": [
    "df_merge"
   ]
  },
  {
   "cell_type": "code",
   "execution_count": null,
   "id": "edb829a3-497e-4ba1-9d0e-082c00f7ac43",
   "metadata": {},
   "outputs": [],
   "source": [
    "# Basically pd.concat adds data horizontally or vertically in a dataframe while pd.merge just joins data where\n",
    "# they both have a common key"
   ]
  },
  {
   "cell_type": "markdown",
   "id": "c1fcfbc0-ffb4-4116-ad9f-35679c65a7db",
   "metadata": {},
   "source": [
    "# 35\n",
    "How do you handle missing values in a DataFrame using fillna and dropna ?"
   ]
  },
  {
   "cell_type": "code",
   "execution_count": 79,
   "id": "e5a4c0c0-d410-4d98-8a00-1be1b32c6994",
   "metadata": {},
   "outputs": [],
   "source": [
    "df = pd.DataFrame({'name': ['Alice', 'Bob', None], 'age': [25, None, 35]})"
   ]
  },
  {
   "cell_type": "code",
   "execution_count": 82,
   "id": "9b49f544-5335-43ab-af96-db4de75831e7",
   "metadata": {},
   "outputs": [],
   "source": [
    "df_dropped = df.dropna()"
   ]
  },
  {
   "cell_type": "code",
   "execution_count": 83,
   "id": "8498cab9-d712-4215-ac64-12e07a18e627",
   "metadata": {},
   "outputs": [
    {
     "data": {
      "text/html": [
       "<div>\n",
       "<style scoped>\n",
       "    .dataframe tbody tr th:only-of-type {\n",
       "        vertical-align: middle;\n",
       "    }\n",
       "\n",
       "    .dataframe tbody tr th {\n",
       "        vertical-align: top;\n",
       "    }\n",
       "\n",
       "    .dataframe thead th {\n",
       "        text-align: right;\n",
       "    }\n",
       "</style>\n",
       "<table border=\"1\" class=\"dataframe\">\n",
       "  <thead>\n",
       "    <tr style=\"text-align: right;\">\n",
       "      <th></th>\n",
       "      <th>name</th>\n",
       "      <th>age</th>\n",
       "    </tr>\n",
       "  </thead>\n",
       "  <tbody>\n",
       "    <tr>\n",
       "      <th>0</th>\n",
       "      <td>Alice</td>\n",
       "      <td>25.0</td>\n",
       "    </tr>\n",
       "  </tbody>\n",
       "</table>\n",
       "</div>"
      ],
      "text/plain": [
       "    name   age\n",
       "0  Alice  25.0"
      ]
     },
     "execution_count": 83,
     "metadata": {},
     "output_type": "execute_result"
    }
   ],
   "source": [
    "df_dropped"
   ]
  },
  {
   "cell_type": "code",
   "execution_count": 84,
   "id": "3b922870-2445-4371-b77a-0f6f3034ce23",
   "metadata": {},
   "outputs": [],
   "source": [
    "df_filled = df.fillna('Unknown')"
   ]
  },
  {
   "cell_type": "code",
   "execution_count": 85,
   "id": "93a3918e-b801-4a85-a046-6e47fa77f8f4",
   "metadata": {},
   "outputs": [
    {
     "data": {
      "text/html": [
       "<div>\n",
       "<style scoped>\n",
       "    .dataframe tbody tr th:only-of-type {\n",
       "        vertical-align: middle;\n",
       "    }\n",
       "\n",
       "    .dataframe tbody tr th {\n",
       "        vertical-align: top;\n",
       "    }\n",
       "\n",
       "    .dataframe thead th {\n",
       "        text-align: right;\n",
       "    }\n",
       "</style>\n",
       "<table border=\"1\" class=\"dataframe\">\n",
       "  <thead>\n",
       "    <tr style=\"text-align: right;\">\n",
       "      <th></th>\n",
       "      <th>name</th>\n",
       "      <th>age</th>\n",
       "    </tr>\n",
       "  </thead>\n",
       "  <tbody>\n",
       "    <tr>\n",
       "      <th>0</th>\n",
       "      <td>Alice</td>\n",
       "      <td>25.0</td>\n",
       "    </tr>\n",
       "    <tr>\n",
       "      <th>1</th>\n",
       "      <td>Bob</td>\n",
       "      <td>Unknown</td>\n",
       "    </tr>\n",
       "    <tr>\n",
       "      <th>2</th>\n",
       "      <td>Unknown</td>\n",
       "      <td>35.0</td>\n",
       "    </tr>\n",
       "  </tbody>\n",
       "</table>\n",
       "</div>"
      ],
      "text/plain": [
       "      name      age\n",
       "0    Alice     25.0\n",
       "1      Bob  Unknown\n",
       "2  Unknown     35.0"
      ]
     },
     "execution_count": 85,
     "metadata": {},
     "output_type": "execute_result"
    }
   ],
   "source": [
    "df_filled"
   ]
  },
  {
   "cell_type": "markdown",
   "id": "3c905189-b392-456a-9fff-3003bfceffae",
   "metadata": {},
   "source": [
    "# 36\n",
    "How would you sort a DataFrame by multiple columns in different orders (ascending and descending)?"
   ]
  },
  {
   "cell_type": "code",
   "execution_count": 86,
   "id": "cae88af2-81de-4f72-806f-ec00acf02b10",
   "metadata": {},
   "outputs": [],
   "source": [
    "df = pd.DataFrame({'dept': ['HR', 'IT', 'HR', 'IT'], 'salary': [50000, 60000, 55000, 65000]})"
   ]
  },
  {
   "cell_type": "code",
   "execution_count": 100,
   "id": "e453b30c-72ce-4166-9a7b-e9bc5c49bab6",
   "metadata": {},
   "outputs": [],
   "source": [
    "df_sorted = df.sort_values(by=['dept', 'salary'], ascending=[False, True])"
   ]
  },
  {
   "cell_type": "code",
   "execution_count": 101,
   "id": "5398a7a1-5868-405b-bd18-5a2f8892435e",
   "metadata": {},
   "outputs": [
    {
     "data": {
      "text/html": [
       "<div>\n",
       "<style scoped>\n",
       "    .dataframe tbody tr th:only-of-type {\n",
       "        vertical-align: middle;\n",
       "    }\n",
       "\n",
       "    .dataframe tbody tr th {\n",
       "        vertical-align: top;\n",
       "    }\n",
       "\n",
       "    .dataframe thead th {\n",
       "        text-align: right;\n",
       "    }\n",
       "</style>\n",
       "<table border=\"1\" class=\"dataframe\">\n",
       "  <thead>\n",
       "    <tr style=\"text-align: right;\">\n",
       "      <th></th>\n",
       "      <th>dept</th>\n",
       "      <th>salary</th>\n",
       "    </tr>\n",
       "  </thead>\n",
       "  <tbody>\n",
       "    <tr>\n",
       "      <th>1</th>\n",
       "      <td>IT</td>\n",
       "      <td>60000</td>\n",
       "    </tr>\n",
       "    <tr>\n",
       "      <th>3</th>\n",
       "      <td>IT</td>\n",
       "      <td>65000</td>\n",
       "    </tr>\n",
       "    <tr>\n",
       "      <th>0</th>\n",
       "      <td>HR</td>\n",
       "      <td>50000</td>\n",
       "    </tr>\n",
       "    <tr>\n",
       "      <th>2</th>\n",
       "      <td>HR</td>\n",
       "      <td>55000</td>\n",
       "    </tr>\n",
       "  </tbody>\n",
       "</table>\n",
       "</div>"
      ],
      "text/plain": [
       "  dept  salary\n",
       "1   IT   60000\n",
       "3   IT   65000\n",
       "0   HR   50000\n",
       "2   HR   55000"
      ]
     },
     "execution_count": 101,
     "metadata": {},
     "output_type": "execute_result"
    }
   ],
   "source": [
    "df_sorted"
   ]
  },
  {
   "cell_type": "markdown",
   "id": "b1b8db7c-509c-4601-ba08-e5703efea8d7",
   "metadata": {},
   "source": [
    "# 37\n",
    "How can you use query to filter rows in a DataFrame based on a condition?"
   ]
  },
  {
   "cell_type": "code",
   "execution_count": 102,
   "id": "61320782-25a2-4d16-af11-1fbd0cd07a83",
   "metadata": {},
   "outputs": [],
   "source": [
    "df = pd.DataFrame({'name': ['Alice', 'Bob', 'Charlie'], 'age': [25, 30, 35]})"
   ]
  },
  {
   "cell_type": "code",
   "execution_count": 108,
   "id": "7ed09186-589f-41ca-8c70-dc739a249536",
   "metadata": {},
   "outputs": [],
   "source": [
    "df_filter = df[df['age'] >= 30]"
   ]
  },
  {
   "cell_type": "code",
   "execution_count": 109,
   "id": "64f290c6-46be-43f4-ad59-d2b084b9142c",
   "metadata": {},
   "outputs": [
    {
     "data": {
      "text/html": [
       "<div>\n",
       "<style scoped>\n",
       "    .dataframe tbody tr th:only-of-type {\n",
       "        vertical-align: middle;\n",
       "    }\n",
       "\n",
       "    .dataframe tbody tr th {\n",
       "        vertical-align: top;\n",
       "    }\n",
       "\n",
       "    .dataframe thead th {\n",
       "        text-align: right;\n",
       "    }\n",
       "</style>\n",
       "<table border=\"1\" class=\"dataframe\">\n",
       "  <thead>\n",
       "    <tr style=\"text-align: right;\">\n",
       "      <th></th>\n",
       "      <th>name</th>\n",
       "      <th>age</th>\n",
       "    </tr>\n",
       "  </thead>\n",
       "  <tbody>\n",
       "    <tr>\n",
       "      <th>1</th>\n",
       "      <td>Bob</td>\n",
       "      <td>30</td>\n",
       "    </tr>\n",
       "    <tr>\n",
       "      <th>2</th>\n",
       "      <td>Charlie</td>\n",
       "      <td>35</td>\n",
       "    </tr>\n",
       "  </tbody>\n",
       "</table>\n",
       "</div>"
      ],
      "text/plain": [
       "      name  age\n",
       "1      Bob   30\n",
       "2  Charlie   35"
      ]
     },
     "execution_count": 109,
     "metadata": {},
     "output_type": "execute_result"
    }
   ],
   "source": [
    "df_filter"
   ]
  },
  {
   "cell_type": "markdown",
   "id": "2294aa6e-78f4-4112-9300-476134cb554e",
   "metadata": {},
   "source": [
    "# 38\n",
    "What is the difference between loc and iloc for DataFrame indexing?"
   ]
  },
  {
   "cell_type": "code",
   "execution_count": 110,
   "id": "eaed3053-1a2b-4b1f-b3d6-868209953213",
   "metadata": {},
   "outputs": [],
   "source": [
    "df = pd.DataFrame({'name': ['Alice', 'Bob', 'Charlie'], 'age': [25, 30, 35]})"
   ]
  },
  {
   "cell_type": "code",
   "execution_count": 116,
   "id": "adb4665e-94c6-4fbb-8a29-bb826ca3cc36",
   "metadata": {},
   "outputs": [
    {
     "data": {
      "text/html": [
       "<div>\n",
       "<style scoped>\n",
       "    .dataframe tbody tr th:only-of-type {\n",
       "        vertical-align: middle;\n",
       "    }\n",
       "\n",
       "    .dataframe tbody tr th {\n",
       "        vertical-align: top;\n",
       "    }\n",
       "\n",
       "    .dataframe thead th {\n",
       "        text-align: right;\n",
       "    }\n",
       "</style>\n",
       "<table border=\"1\" class=\"dataframe\">\n",
       "  <thead>\n",
       "    <tr style=\"text-align: right;\">\n",
       "      <th></th>\n",
       "      <th>index</th>\n",
       "      <th>0</th>\n",
       "    </tr>\n",
       "  </thead>\n",
       "  <tbody>\n",
       "    <tr>\n",
       "      <th>0</th>\n",
       "      <td>name</td>\n",
       "      <td>Alice</td>\n",
       "    </tr>\n",
       "    <tr>\n",
       "      <th>1</th>\n",
       "      <td>age</td>\n",
       "      <td>25</td>\n",
       "    </tr>\n",
       "  </tbody>\n",
       "</table>\n",
       "</div>"
      ],
      "text/plain": [
       "  index      0\n",
       "0  name  Alice\n",
       "1   age     25"
      ]
     },
     "execution_count": 116,
     "metadata": {},
     "output_type": "execute_result"
    }
   ],
   "source": [
    "df.loc[0].reset_index()"
   ]
  },
  {
   "cell_type": "code",
   "execution_count": 118,
   "id": "a703db26-009e-474f-ae8e-f87bcd58fca0",
   "metadata": {},
   "outputs": [
    {
     "data": {
      "text/plain": [
       "np.int64(35)"
      ]
     },
     "execution_count": 118,
     "metadata": {},
     "output_type": "execute_result"
    }
   ],
   "source": [
    "df.loc[2, 'age']"
   ]
  },
  {
   "cell_type": "code",
   "execution_count": 121,
   "id": "e67f80a0-f3b0-42f9-b36c-341cb773656b",
   "metadata": {},
   "outputs": [
    {
     "data": {
      "text/plain": [
       "0    Alice\n",
       "1      Bob\n",
       "Name: name, dtype: object"
      ]
     },
     "execution_count": 121,
     "metadata": {},
     "output_type": "execute_result"
    }
   ],
   "source": [
    "df.loc[[0, 1], 'name']"
   ]
  },
  {
   "cell_type": "code",
   "execution_count": 122,
   "id": "37c1a91c-19d8-4214-a4c4-385231ca091a",
   "metadata": {},
   "outputs": [
    {
     "data": {
      "text/html": [
       "<div>\n",
       "<style scoped>\n",
       "    .dataframe tbody tr th:only-of-type {\n",
       "        vertical-align: middle;\n",
       "    }\n",
       "\n",
       "    .dataframe tbody tr th {\n",
       "        vertical-align: top;\n",
       "    }\n",
       "\n",
       "    .dataframe thead th {\n",
       "        text-align: right;\n",
       "    }\n",
       "</style>\n",
       "<table border=\"1\" class=\"dataframe\">\n",
       "  <thead>\n",
       "    <tr style=\"text-align: right;\">\n",
       "      <th></th>\n",
       "      <th>name</th>\n",
       "      <th>age</th>\n",
       "    </tr>\n",
       "  </thead>\n",
       "  <tbody>\n",
       "    <tr>\n",
       "      <th>1</th>\n",
       "      <td>Bob</td>\n",
       "      <td>30</td>\n",
       "    </tr>\n",
       "    <tr>\n",
       "      <th>2</th>\n",
       "      <td>Charlie</td>\n",
       "      <td>35</td>\n",
       "    </tr>\n",
       "  </tbody>\n",
       "</table>\n",
       "</div>"
      ],
      "text/plain": [
       "      name  age\n",
       "1      Bob   30\n",
       "2  Charlie   35"
      ]
     },
     "execution_count": 122,
     "metadata": {},
     "output_type": "execute_result"
    }
   ],
   "source": [
    "df.loc[1:2]"
   ]
  },
  {
   "cell_type": "code",
   "execution_count": 124,
   "id": "14f3bccd-06fa-4833-9966-0a50f9bdd780",
   "metadata": {},
   "outputs": [
    {
     "data": {
      "text/plain": [
       "np.int64(25)"
      ]
     },
     "execution_count": 124,
     "metadata": {},
     "output_type": "execute_result"
    }
   ],
   "source": [
    "df.iloc[0, 1]"
   ]
  },
  {
   "cell_type": "code",
   "execution_count": 125,
   "id": "f86f143b-ab0e-4e36-b2c5-da9301bb0d93",
   "metadata": {},
   "outputs": [
    {
     "data": {
      "text/html": [
       "<div>\n",
       "<style scoped>\n",
       "    .dataframe tbody tr th:only-of-type {\n",
       "        vertical-align: middle;\n",
       "    }\n",
       "\n",
       "    .dataframe tbody tr th {\n",
       "        vertical-align: top;\n",
       "    }\n",
       "\n",
       "    .dataframe thead th {\n",
       "        text-align: right;\n",
       "    }\n",
       "</style>\n",
       "<table border=\"1\" class=\"dataframe\">\n",
       "  <thead>\n",
       "    <tr style=\"text-align: right;\">\n",
       "      <th></th>\n",
       "      <th>name</th>\n",
       "      <th>age</th>\n",
       "    </tr>\n",
       "  </thead>\n",
       "  <tbody>\n",
       "    <tr>\n",
       "      <th>0</th>\n",
       "      <td>Alice</td>\n",
       "      <td>25</td>\n",
       "    </tr>\n",
       "    <tr>\n",
       "      <th>1</th>\n",
       "      <td>Bob</td>\n",
       "      <td>30</td>\n",
       "    </tr>\n",
       "  </tbody>\n",
       "</table>\n",
       "</div>"
      ],
      "text/plain": [
       "    name  age\n",
       "0  Alice   25\n",
       "1    Bob   30"
      ]
     },
     "execution_count": 125,
     "metadata": {},
     "output_type": "execute_result"
    }
   ],
   "source": [
    "df.iloc[0:2]"
   ]
  },
  {
   "cell_type": "markdown",
   "id": "8d7711aa-f911-43b4-b90d-2bb900889700",
   "metadata": {},
   "source": [
    "'loc' do label based indexing of the df\n",
    "'iloc' do the integer-based indexing of the df"
   ]
  },
  {
   "cell_type": "markdown",
   "id": "bdfad21d-3bcf-439e-8b45-74bf67e77782",
   "metadata": {},
   "source": [
    "# 39\n",
    "How do you create a new column based on a condition using np.where ?"
   ]
  },
  {
   "cell_type": "code",
   "execution_count": 1,
   "id": "e8bc2640-e888-4670-916c-901aba454763",
   "metadata": {},
   "outputs": [],
   "source": [
    "import pandas as pd\n",
    "import numpy as np\n",
    "df = pd.DataFrame({'score': [55, 75, 85, 95]})"
   ]
  },
  {
   "cell_type": "code",
   "execution_count": 2,
   "id": "02776851-0f23-4923-a2c1-5d7b91f10418",
   "metadata": {},
   "outputs": [],
   "source": [
    "df['remarks'] = np.where(df['score']>90, 'Outstanding', 'Good')"
   ]
  },
  {
   "cell_type": "code",
   "execution_count": 3,
   "id": "cbc41ef6-61f1-4ebc-9b16-d33ba23d911b",
   "metadata": {},
   "outputs": [
    {
     "data": {
      "text/html": [
       "<div>\n",
       "<style scoped>\n",
       "    .dataframe tbody tr th:only-of-type {\n",
       "        vertical-align: middle;\n",
       "    }\n",
       "\n",
       "    .dataframe tbody tr th {\n",
       "        vertical-align: top;\n",
       "    }\n",
       "\n",
       "    .dataframe thead th {\n",
       "        text-align: right;\n",
       "    }\n",
       "</style>\n",
       "<table border=\"1\" class=\"dataframe\">\n",
       "  <thead>\n",
       "    <tr style=\"text-align: right;\">\n",
       "      <th></th>\n",
       "      <th>score</th>\n",
       "      <th>remarks</th>\n",
       "    </tr>\n",
       "  </thead>\n",
       "  <tbody>\n",
       "    <tr>\n",
       "      <th>0</th>\n",
       "      <td>55</td>\n",
       "      <td>Good</td>\n",
       "    </tr>\n",
       "    <tr>\n",
       "      <th>1</th>\n",
       "      <td>75</td>\n",
       "      <td>Good</td>\n",
       "    </tr>\n",
       "    <tr>\n",
       "      <th>2</th>\n",
       "      <td>85</td>\n",
       "      <td>Good</td>\n",
       "    </tr>\n",
       "    <tr>\n",
       "      <th>3</th>\n",
       "      <td>95</td>\n",
       "      <td>Outstanding</td>\n",
       "    </tr>\n",
       "  </tbody>\n",
       "</table>\n",
       "</div>"
      ],
      "text/plain": [
       "   score      remarks\n",
       "0     55         Good\n",
       "1     75         Good\n",
       "2     85         Good\n",
       "3     95  Outstanding"
      ]
     },
     "execution_count": 3,
     "metadata": {},
     "output_type": "execute_result"
    }
   ],
   "source": [
    "df"
   ]
  },
  {
   "cell_type": "markdown",
   "id": "8160d71e-bddf-4ca5-a044-68850a1cef3b",
   "metadata": {},
   "source": [
    "# 40\n",
    "How would you compute a rolling mean for a column with a window size of 3?"
   ]
  },
  {
   "cell_type": "code",
   "execution_count": 5,
   "id": "a0eb9145-582f-4753-bf38-071773df7329",
   "metadata": {},
   "outputs": [],
   "source": [
    "df = pd.DataFrame({'value': [10, 20, 30, 40, 50]})"
   ]
  },
  {
   "cell_type": "code",
   "execution_count": 20,
   "id": "788c6184-ebf9-4f87-b5db-d9b5cfd1909f",
   "metadata": {},
   "outputs": [],
   "source": [
    "df_rolling = df.rolling(3, min_periods=0).mean()"
   ]
  },
  {
   "cell_type": "code",
   "execution_count": 21,
   "id": "01ae1095-28fc-4bec-a455-1cb651fbd578",
   "metadata": {},
   "outputs": [
    {
     "data": {
      "text/html": [
       "<div>\n",
       "<style scoped>\n",
       "    .dataframe tbody tr th:only-of-type {\n",
       "        vertical-align: middle;\n",
       "    }\n",
       "\n",
       "    .dataframe tbody tr th {\n",
       "        vertical-align: top;\n",
       "    }\n",
       "\n",
       "    .dataframe thead th {\n",
       "        text-align: right;\n",
       "    }\n",
       "</style>\n",
       "<table border=\"1\" class=\"dataframe\">\n",
       "  <thead>\n",
       "    <tr style=\"text-align: right;\">\n",
       "      <th></th>\n",
       "      <th>value</th>\n",
       "    </tr>\n",
       "  </thead>\n",
       "  <tbody>\n",
       "    <tr>\n",
       "      <th>0</th>\n",
       "      <td>10.0</td>\n",
       "    </tr>\n",
       "    <tr>\n",
       "      <th>1</th>\n",
       "      <td>15.0</td>\n",
       "    </tr>\n",
       "    <tr>\n",
       "      <th>2</th>\n",
       "      <td>20.0</td>\n",
       "    </tr>\n",
       "    <tr>\n",
       "      <th>3</th>\n",
       "      <td>30.0</td>\n",
       "    </tr>\n",
       "    <tr>\n",
       "      <th>4</th>\n",
       "      <td>40.0</td>\n",
       "    </tr>\n",
       "  </tbody>\n",
       "</table>\n",
       "</div>"
      ],
      "text/plain": [
       "   value\n",
       "0   10.0\n",
       "1   15.0\n",
       "2   20.0\n",
       "3   30.0\n",
       "4   40.0"
      ]
     },
     "execution_count": 21,
     "metadata": {},
     "output_type": "execute_result"
    }
   ],
   "source": [
    "df_rolling"
   ]
  },
  {
   "cell_type": "markdown",
   "id": "eec0281a-5565-4bc4-89fb-954105de025c",
   "metadata": {},
   "source": [
    "# 41\n",
    "How do you create a line plot of a DataFrame column using pandas’ built-in plotting?"
   ]
  },
  {
   "cell_type": "code",
   "execution_count": 2,
   "id": "67882855-01ff-40ec-8d6b-a26a5287beca",
   "metadata": {},
   "outputs": [],
   "source": [
    "import matplotlib.pyplot as plt\n",
    "import pandas as pd\n",
    "df = pd.DataFrame({'date': ['2023-01', '2023-02', '2023-03'], 'value': [10, 20, 30]})"
   ]
  },
  {
   "cell_type": "code",
   "execution_count": 3,
   "id": "f939d9b1-7f3a-4a0a-b1f6-7543fe6dff49",
   "metadata": {},
   "outputs": [
    {
     "data": {
      "image/png": "[encoded data removed]",
      "text/plain": [
       "<Figure size 640x480 with 1 Axes>"
      ]
     },
     "metadata": {},
     "output_type": "display_data"
    }
   ],
   "source": [
    "df_plotted = df.plot(x='date', y='value')"
   ]
  },
  {
   "cell_type": "markdown",
   "id": "bcd5723f-77cc-453a-b4e3-878cc997082d",
   "metadata": {},
   "source": [
    "# 42\n",
    "How would you create a bar plot of group counts after a groupby operation?"
   ]
  },
  {
   "cell_type": "code",
   "execution_count": 4,
   "id": "4a19afe0-d43f-4d52-90a8-fc07a2a7df52",
   "metadata": {},
   "outputs": [],
   "source": [
    "df = pd.DataFrame({'dept': ['HR', 'IT', 'HR', 'IT', 'HR'], 'name': ['Alice', 'Bob', 'Charlie', 'David', 'Eve']})"
   ]
  },
  {
   "cell_type": "code",
   "execution_count": 6,
   "id": "af0eefc0-85e6-4d33-852e-e87a7e17f789",
   "metadata": {},
   "outputs": [],
   "source": [
    "df_grouped = df.groupby('dept')['name'].count()"
   ]
  },
  {
   "cell_type": "code",
   "execution_count": 8,
   "id": "70886173-2442-4c9c-9207-bf7511ad8792",
   "metadata": {},
   "outputs": [
    {
     "data": {
      "text/plain": [
       "<Axes: xlabel='dept'>"
      ]
     },
     "execution_count": 8,
     "metadata": {},
     "output_type": "execute_result"
    },
    {
     "data": {
      "image/png": "[encoded data removed]",
      "text/plain": [
       "<Figure size 640x480 with 1 Axes>"
      ]
     },
     "metadata": {},
     "output_type": "display_data"
    }
   ],
   "source": [
    "df_grouped.plot.bar()"
   ]
  },
  {
   "cell_type": "markdown",
   "id": "049c3108-ed01-418a-b03f-f4718f633a64",
   "metadata": {},
   "source": [
    "# 43\n",
    "How can you use pandas to plot a histogram of a numerical column with custom bins?"
   ]
  },
  {
   "cell_type": "code",
   "execution_count": 11,
   "id": "bd2938d3-973a-42a7-b9aa-533c3c0103b2",
   "metadata": {},
   "outputs": [],
   "source": [
    "df = pd.DataFrame({'score': [55, 65, 75, 85, 95, 60, 70]})"
   ]
  },
  {
   "cell_type": "code",
   "execution_count": 12,
   "id": "39dc5506-ac0a-4c79-9f99-044747f6e675",
   "metadata": {},
   "outputs": [],
   "source": [
    "bins = [50, 60, 70, 80, 90, 100]"
   ]
  },
  {
   "cell_type": "code",
   "execution_count": 15,
   "id": "56779a73-5fb7-4916-ab22-e344d4990558",
   "metadata": {},
   "outputs": [
    {
     "data": {
      "text/plain": [
       "<function matplotlib.pyplot.show(close=None, block=None)>"
      ]
     },
     "execution_count": 15,
     "metadata": {},
     "output_type": "execute_result"
    },
    {
     "data": {
      "image/png": "[encoded data removed]",
      "text/plain": [
       "<Figure size 640x480 with 1 Axes>"
      ]
     },
     "metadata": {},
     "output_type": "display_data"
    }
   ],
   "source": [
    "plt.hist(df, bins=bins, color='green', edgecolor='black')\n",
    "\n",
    "plt.xlabel('Values')\n",
    "plt.ylabel('Frequency')\n",
    "plt.title('Basic Histogram')\n",
    "\n",
    "plt.show"
   ]
  },
  {
   "cell_type": "markdown",
   "id": "b1526127-9c88-4845-ad6b-fa26fdcc83f2",
   "metadata": {},
   "source": [
    "# 44\n",
    "How would you create a scatter plot of two columns with different colors for each category?"
   ]
  },
  {
   "cell_type": "code",
   "execution_count": 26,
   "id": "7b7fe622-f6ff-4edd-97a2-7d65d43af0b0",
   "metadata": {},
   "outputs": [],
   "source": [
    "import numpy as np"
   ]
  },
  {
   "cell_type": "code",
   "execution_count": 19,
   "id": "56c15b93-3272-4b06-ab07-d665871cfb1b",
   "metadata": {},
   "outputs": [],
   "source": [
    "df = pd.DataFrame({'x': [1, 2, 3, 4, 5], 'y': [10, 20, 25, 30, 35], 'category': ['A', 'B', 'A', 'B', 'A']})"
   ]
  },
  {
   "cell_type": "code",
   "execution_count": 29,
   "id": "18b8a9ba-7cfd-464a-809e-f8422c288e64",
   "metadata": {},
   "outputs": [],
   "source": [
    "categories = df['category'].unique()"
   ]
  },
  {
   "cell_type": "code",
   "execution_count": 30,
   "id": "d5e021e1-71c3-4686-8075-b42007b09b66",
   "metadata": {},
   "outputs": [
    {
     "data": {
      "image/png": "[encoded data removed]",
      "text/plain": [
       "<Figure size 640x480 with 1 Axes>"
      ]
     },
     "metadata": {},
     "output_type": "display_data"
    }
   ],
   "source": [
    "for category in categories:\n",
    "    subset = df[df['category'] == category]\n",
    "    plt.scatter(subset['x'], subset['y'], label=category)"
   ]
  },
  {
   "cell_type": "markdown",
   "id": "90b73476-6e89-463a-9ec0-6dae03205362",
   "metadata": {},
   "source": [
    "# 45\n",
    "How do you create a box plot for a DataFrame column grouped by another column?"
   ]
  },
  {
   "cell_type": "code",
   "execution_count": 34,
   "id": "b93986f9-3198-42a4-90dd-215b796aa1e3",
   "metadata": {},
   "outputs": [],
   "source": [
    "df = pd.DataFrame({'dept': ['HR', 'IT', 'HR', 'IT', 'HR'], 'salary': [50000, 60000, 55000, 65000, 52000]})"
   ]
  },
  {
   "cell_type": "code",
   "execution_count": 42,
   "id": "5b9c5a9e-9859-4c12-a342-940881664db0",
   "metadata": {},
   "outputs": [
    {
     "data": {
      "image/png": "[encoded data removed]",
      "text/plain": [
       "<Figure size 640x480 with 1 Axes>"
      ]
     },
     "metadata": {},
     "output_type": "display_data"
    }
   ],
   "source": [
    "df.boxplot(column='salary', by='dept')\n",
    "plt.title('Salary Distribution by Department')\n",
    "plt.suptitle('')\n",
    "plt.xlabel('Department')\n",
    "plt.ylabel('Salary')\n",
    "plt.show()"
   ]
  },
  {
   "cell_type": "markdown",
   "id": "678bdbca-aef8-443a-8260-357c3af67a32",
   "metadata": {},
   "source": [
    "# 46\n",
    "How would you plot multiple columns of a DataFrame as lines on the same plot with a legend?"
   ]
  },
  {
   "cell_type": "code",
   "execution_count": 81,
   "id": "58fef643-d065-4f25-bdd3-ac70df6ced77",
   "metadata": {},
   "outputs": [],
   "source": [
    "df = pd.DataFrame({'date': ['2023-01', '2023-02', '2023-03'], 'A': [25, 15, 20], 'B': [17, 20, 15]})"
   ]
  },
  {
   "cell_type": "code",
   "execution_count": 82,
   "id": "589b41cc-91c9-4254-94eb-14dfc999e3f9",
   "metadata": {},
   "outputs": [
    {
     "data": {
      "image/png": "[encoded data removed]",
      "text/plain": [
       "<Figure size 640x480 with 1 Axes>"
      ]
     },
     "metadata": {},
     "output_type": "display_data"
    }
   ],
   "source": [
    "df['date'] = pd.to_datetime(df['date'])\n",
    "df.set_index('date', inplace=True)\n",
    "df.plot()\n",
    "plt.legend(loc=0)\n",
    "\n",
    "plt.title('Line Plot of A and B')\n",
    "plt.xlabel('Date')\n",
    "plt.ylabel('Values')\n",
    "plt.grid(True)\n",
    "plt.show()"
   ]
  },
  {
   "cell_type": "markdown",
   "id": "b6d240ad-7245-40e0-8a88-981f0f32ecc1",
   "metadata": {},
   "source": [
    "# 47\n",
    "How can you customize the title, labels, and style of a pandas plot?"
   ]
  },
  {
   "cell_type": "code",
   "execution_count": 108,
   "id": "4e3ec40b-b7de-45a9-852a-58679d20593a",
   "metadata": {},
   "outputs": [],
   "source": [
    "df = pd.DataFrame({'date': ['2023-01', '2023-02', '2023-03'], 'value': [10, 20, 30]})"
   ]
  },
  {
   "cell_type": "code",
   "execution_count": 109,
   "id": "c922e461-35ef-4636-8e07-463cd66fab14",
   "metadata": {},
   "outputs": [
    {
     "data": {
      "image/png": "[encoded data removed]",
      "text/plain": [
       "<Figure size 640x480 with 1 Axes>"
      ]
     },
     "metadata": {},
     "output_type": "display_data"
    }
   ],
   "source": [
    "df.set_index('date', inplace=True)\n",
    "plt.style.use('dark_background')\n",
    "df.plot()\n",
    "\n",
    "plt.title('Question No. 47')\n",
    "plt.xlabel('Date')\n",
    "plt.ylabel('Value')\n",
    "plt.show()"
   ]
  },
  {
   "cell_type": "code",
   "execution_count": 93,
   "id": "e710ccbc-8a58-4f04-aaa2-d4bfb0939bdd",
   "metadata": {},
   "outputs": [
    {
     "name": "stdout",
     "output_type": "stream",
     "text": [
      "['Solarize_Light2', '_classic_test_patch', '_mpl-gallery', '_mpl-gallery-nogrid', 'bmh', 'classic', 'dark_background', 'fast', 'fivethirtyeight', 'ggplot', 'grayscale', 'petroff10', 'seaborn-v0_8', 'seaborn-v0_8-bright', 'seaborn-v0_8-colorblind', 'seaborn-v0_8-dark', 'seaborn-v0_8-dark-palette', 'seaborn-v0_8-darkgrid', 'seaborn-v0_8-deep', 'seaborn-v0_8-muted', 'seaborn-v0_8-notebook', 'seaborn-v0_8-paper', 'seaborn-v0_8-pastel', 'seaborn-v0_8-poster', 'seaborn-v0_8-talk', 'seaborn-v0_8-ticks', 'seaborn-v0_8-white', 'seaborn-v0_8-whitegrid', 'tableau-colorblind10']\n"
     ]
    }
   ],
   "source": [
    "print(plt.style.available)"
   ]
  }
 ],
 "metadata": {
  "kernelspec": {
   "display_name": "Python 3 (ipykernel)",
   "language": "python",
   "name": "python3"
  },
  "language_info": {
   "codemirror_mode": {
    "name": "ipython",
    "version": 3
   },
   "file_extension": ".py",
   "mimetype": "text/x-python",
   "name": "python",
   "nbconvert_exporter": "python",
   "pygments_lexer": "ipython3",
   "version": "3.10.16"
  }
 },
 "nbformat": 4,
 "nbformat_minor": 5
}
