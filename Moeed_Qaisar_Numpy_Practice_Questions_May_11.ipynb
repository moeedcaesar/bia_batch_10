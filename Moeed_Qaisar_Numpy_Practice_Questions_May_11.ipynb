{
 "cells": [
  {
   "cell_type": "code",
   "execution_count": 1,
   "id": "b81a382c-3214-4fd1-86a4-16d0575ea946",
   "metadata": {},
   "outputs": [],
   "source": [
    "import numpy as np"
   ]
  },
  {
   "cell_type": "markdown",
   "id": "434d5f64-0a3c-4ab9-931d-dda11c9f1c54",
   "metadata": {},
   "source": [
    "# 1\n",
    "(B) Create a 1D NumPy array of integers from 10 to 20 inclusive."
   ]
  },
  {
   "cell_type": "code",
   "execution_count": 6,
   "id": "2c805074-f42f-4bc5-8407-35efd1330ea9",
   "metadata": {},
   "outputs": [
    {
     "data": {
      "text/plain": [
       "array([10, 11, 12, 13, 14, 15, 16, 17, 18, 19, 20])"
      ]
     },
     "execution_count": 6,
     "metadata": {},
     "output_type": "execute_result"
    }
   ],
   "source": [
    "x = np.arange(10, 21)\n",
    "x"
   ]
  },
  {
   "cell_type": "markdown",
   "id": "4c7d6503-b94c-4eae-8af7-68f91108812d",
   "metadata": {},
   "source": [
    "# 2\n",
    "Generate a 3x3 array filled with zeros."
   ]
  },
  {
   "cell_type": "code",
   "execution_count": 10,
   "id": "a914f35b-66f1-48e9-85db-0325c767f3d3",
   "metadata": {},
   "outputs": [
    {
     "data": {
      "text/plain": [
       "array([[0., 0., 0.],\n",
       "       [0., 0., 0.],\n",
       "       [0., 0., 0.]])"
      ]
     },
     "execution_count": 10,
     "metadata": {},
     "output_type": "execute_result"
    }
   ],
   "source": [
    "arr = np.zeros((3, 3))\n",
    "arr"
   ]
  },
  {
   "cell_type": "markdown",
   "id": "f6162410-8bc8-425c-9a16-d505f430ac12",
   "metadata": {},
   "source": [
    "# 3\n",
    "Create a 2x4 array of ones with data type int32."
   ]
  },
  {
   "cell_type": "code",
   "execution_count": 17,
   "id": "b2bfaa31-f6e1-42ba-99aa-323f83fc0350",
   "metadata": {},
   "outputs": [
    {
     "data": {
      "text/plain": [
       "array([[0, 0, 0, 0],\n",
       "       [0, 0, 0, 0]], dtype=int32)"
      ]
     },
     "execution_count": 17,
     "metadata": {},
     "output_type": "execute_result"
    }
   ],
   "source": [
    "arr = np.zeros((2, 4), dtype=np.int32)\n",
    "arr"
   ]
  },
  {
   "cell_type": "markdown",
   "id": "5bdf9cac-9c2f-4d0b-8add-d413c8e20196",
   "metadata": {},
   "source": [
    "# 4\n",
    "Use np.arange to create an array of even numbers from 2 to 10."
   ]
  },
  {
   "cell_type": "code",
   "execution_count": 21,
   "id": "761246c6-e448-4119-a80a-8354c52c9384",
   "metadata": {},
   "outputs": [
    {
     "data": {
      "text/plain": [
       "array([ 2,  4,  6,  8, 10])"
      ]
     },
     "execution_count": 21,
     "metadata": {},
     "output_type": "execute_result"
    }
   ],
   "source": [
    "arr = np.arange(2, 11, 2)\n",
    "arr"
   ]
  },
  {
   "cell_type": "markdown",
   "id": "74dff557-4164-4bff-affa-1ca8eeda9f2b",
   "metadata": {},
   "source": [
    "# 5\n",
    "Create a 4x4 array with values from 1 to 16 using np.arange and reshape."
   ]
  },
  {
   "cell_type": "code",
   "execution_count": 23,
   "id": "36936d44-60c5-4f7b-84c4-6495060a4361",
   "metadata": {},
   "outputs": [
    {
     "data": {
      "text/plain": [
       "array([[ 1,  2,  3,  4],\n",
       "       [ 5,  6,  7,  8],\n",
       "       [ 9, 10, 11, 12],\n",
       "       [13, 14, 15, 16]])"
      ]
     },
     "execution_count": 23,
     "metadata": {},
     "output_type": "execute_result"
    }
   ],
   "source": [
    "arr = np.arange(1, 17)\n",
    "reshaped = np.reshape(arr, (4, 4))\n",
    "reshaped"
   ]
  },
  {
   "cell_type": "markdown",
   "id": "b4bdc44e-c6cb-4ad8-bb2d-6929ce0a1b9a",
   "metadata": {},
   "source": [
    "# 6\n",
    "Generate a 1D array of 10 evenly spaced values between 0 and 5 using np.linspace."
   ]
  },
  {
   "cell_type": "code",
   "execution_count": 24,
   "id": "7ba675eb-cd17-408e-a13c-66c677caf9b7",
   "metadata": {},
   "outputs": [
    {
     "data": {
      "text/plain": [
       "array([0.        , 0.55555556, 1.11111111, 1.66666667, 2.22222222,\n",
       "       2.77777778, 3.33333333, 3.88888889, 4.44444444, 5.        ])"
      ]
     },
     "execution_count": 24,
     "metadata": {},
     "output_type": "execute_result"
    }
   ],
   "source": [
    "arr = np.linspace(0, 5, num=10)\n",
    "arr"
   ]
  },
  {
   "cell_type": "markdown",
   "id": "2cd8a661-1172-4b16-9b8e-d199e0cc01ef",
   "metadata": {},
   "source": [
    "# 7\n",
    "Create a 5x5 identity matrix using np.eye."
   ]
  },
  {
   "cell_type": "code",
   "execution_count": 25,
   "id": "2df047c4-b7d4-40f2-b976-7390095e41bf",
   "metadata": {},
   "outputs": [
    {
     "data": {
      "text/plain": [
       "array([[1., 0., 0., 0., 0.],\n",
       "       [0., 1., 0., 0., 0.],\n",
       "       [0., 0., 1., 0., 0.],\n",
       "       [0., 0., 0., 1., 0.],\n",
       "       [0., 0., 0., 0., 1.]])"
      ]
     },
     "execution_count": 25,
     "metadata": {},
     "output_type": "execute_result"
    }
   ],
   "source": [
    "identity_matrix = np.eye(5)\n",
    "identity_matrix"
   ]
  },
  {
   "cell_type": "markdown",
   "id": "22e6620e-9e90-42f0-a682-3b6117fb54b8",
   "metadata": {},
   "source": [
    "# 8\n",
    "Generate a 3x3 array of random integers between 1 and 100 using np.random.randint."
   ]
  },
  {
   "cell_type": "code",
   "execution_count": 39,
   "id": "d0a1ddb3-a189-4b25-bbaa-9d0ecea23e2b",
   "metadata": {},
   "outputs": [
    {
     "data": {
      "text/plain": [
       "array([[88, 92, 81],\n",
       "       [66, 95, 83],\n",
       "       [26, 26, 54]], dtype=int32)"
      ]
     },
     "execution_count": 39,
     "metadata": {},
     "output_type": "execute_result"
    }
   ],
   "source": [
    "arr = np.random.randint(1, 100, size=(3, 3))\n",
    "arr"
   ]
  },
  {
   "cell_type": "markdown",
   "id": "62b2d905-15cc-4b01-8e09-d8cad42d8957",
   "metadata": {},
   "source": [
    "# 9\n",
    "Create a 2x3x2 array filled with the value 7 using np.full."
   ]
  },
  {
   "cell_type": "code",
   "execution_count": 40,
   "id": "206597f4-d8a1-4224-a0ab-2fe7ec72718e",
   "metadata": {},
   "outputs": [
    {
     "data": {
      "text/plain": [
       "array([[[7, 7],\n",
       "        [7, 7],\n",
       "        [7, 7]],\n",
       "\n",
       "       [[7, 7],\n",
       "        [7, 7],\n",
       "        [7, 7]]])"
      ]
     },
     "execution_count": 40,
     "metadata": {},
     "output_type": "execute_result"
    }
   ],
   "source": [
    "arr = np.full([2, 3, 2], 7, dtype=int)\n",
    "arr"
   ]
  },
  {
   "cell_type": "markdown",
   "id": "37329ad8-13e4-4246-b466-edd8fabab14c",
   "metadata": {},
   "source": [
    "# 10\n",
    "Use np.logspace to create a 1D array of 5 logarithmically spaced values between 10^1 and 10^5."
   ]
  },
  {
   "cell_type": "code",
   "execution_count": 43,
   "id": "f51a4302-424f-4b91-9335-dfbf23f34130",
   "metadata": {},
   "outputs": [
    {
     "data": {
      "text/plain": [
       "array([1.e+01, 1.e+02, 1.e+03, 1.e+04, 1.e+05])"
      ]
     },
     "execution_count": 43,
     "metadata": {},
     "output_type": "execute_result"
    }
   ],
   "source": [
    "arr = np.logspace(1, 5, num=5)\n",
    "arr"
   ]
  },
  {
   "cell_type": "markdown",
   "id": "6e8d403c-c07d-42a9-84d2-b0b29547fba9",
   "metadata": {},
   "source": [
    "# 11\n",
    "Reshape a 1D array of 12 elements into a 3x4 array."
   ]
  },
  {
   "cell_type": "code",
   "execution_count": 45,
   "id": "55a42d6f-94d8-4f93-b872-97b199c04e06",
   "metadata": {},
   "outputs": [
    {
     "data": {
      "text/plain": [
       "array([[ 0,  1,  2,  3],\n",
       "       [ 4,  5,  6,  7],\n",
       "       [ 8,  9, 10, 11]])"
      ]
     },
     "execution_count": 45,
     "metadata": {},
     "output_type": "execute_result"
    }
   ],
   "source": [
    "arr = np.arange(12)\n",
    "reshaped = arr.reshape(3, 4)\n",
    "reshaped"
   ]
  },
  {
   "cell_type": "markdown",
   "id": "e843fa8d-3f45-4654-9176-32c229734c3e",
   "metadata": {},
   "source": [
    "# 12\n",
    "Flatten a 2x3 array into a 1D array using ravel."
   ]
  },
  {
   "cell_type": "code",
   "execution_count": 55,
   "id": "804f3231-5b33-4efc-87e5-3bc594db6361",
   "metadata": {},
   "outputs": [],
   "source": [
    "arr = np.random.randint(10, size=(2, 3))"
   ]
  },
  {
   "cell_type": "code",
   "execution_count": 54,
   "id": "19d0c2dd-c9ba-4705-a83a-4944ef1947f3",
   "metadata": {},
   "outputs": [
    {
     "data": {
      "text/plain": [
       "array([2, 2, 5, 3, 2, 9], dtype=int32)"
      ]
     },
     "execution_count": 54,
     "metadata": {},
     "output_type": "execute_result"
    }
   ],
   "source": [
    "flattened = arr.reshape(-1)\n",
    "flattened"
   ]
  },
  {
   "cell_type": "markdown",
   "id": "8ad53bfc-cda7-4bfc-9583-76d0db4af75a",
   "metadata": {},
   "source": [
    "# 13\n",
    "Extract the second row of a 4x4 array with values from 1 to 16."
   ]
  },
  {
   "cell_type": "code",
   "execution_count": 58,
   "id": "51f0f298-35a1-4165-88b7-5dc840223d40",
   "metadata": {},
   "outputs": [
    {
     "data": {
      "text/plain": [
       "array([[13, 11, 29,  1],\n",
       "       [13, 23, 12,  9],\n",
       "       [ 5,  1, 19, 12],\n",
       "       [25, 19, 29, 29]], dtype=int32)"
      ]
     },
     "execution_count": 58,
     "metadata": {},
     "output_type": "execute_result"
    }
   ],
   "source": [
    "arr = np.random.randint(30, size=(4, 4))\n",
    "arr"
   ]
  },
  {
   "cell_type": "code",
   "execution_count": 62,
   "id": "01f17442-8405-4c14-af49-8bbed8910a51",
   "metadata": {},
   "outputs": [
    {
     "data": {
      "text/plain": [
       "array([13, 12,  9], dtype=int32)"
      ]
     },
     "execution_count": 62,
     "metadata": {},
     "output_type": "execute_result"
    }
   ],
   "source": [
    "second_row = arr[1]\n",
    "filtered_values = second_row[(second_row > 1) & (second_row < 16)]\n",
    "filtered_values"
   ]
  },
  {
   "cell_type": "markdown",
   "id": "dd885930-78bc-4300-8cea-4304a883e5c8",
   "metadata": {},
   "source": [
    "# 14\n",
    "Swap the first and last rows of a 3x3 array."
   ]
  },
  {
   "cell_type": "code",
   "execution_count": 63,
   "id": "04ccdca0-a962-4175-9bd8-531fef8b4f26",
   "metadata": {},
   "outputs": [
    {
     "data": {
      "text/plain": [
       "array([[5, 4, 8],\n",
       "       [9, 4, 0],\n",
       "       [6, 8, 3]], dtype=int32)"
      ]
     },
     "execution_count": 63,
     "metadata": {},
     "output_type": "execute_result"
    }
   ],
   "source": [
    "arr = np.random.randint(10, size=(3, 3))\n",
    "arr"
   ]
  },
  {
   "cell_type": "code",
   "execution_count": 64,
   "id": "17f26192-4e7c-4cce-891c-5dfcd42a1f22",
   "metadata": {},
   "outputs": [
    {
     "data": {
      "text/plain": [
       "array([[6, 8, 3],\n",
       "       [9, 4, 0],\n",
       "       [5, 4, 8]], dtype=int32)"
      ]
     },
     "execution_count": 64,
     "metadata": {},
     "output_type": "execute_result"
    }
   ],
   "source": [
    "arr[[0, 2]] = arr[[2, 0]]\n",
    "arr"
   ]
  },
  {
   "cell_type": "markdown",
   "id": "8a230abb-f606-4c23-a12d-16b6317be48d",
   "metadata": {},
   "source": [
    "# 15\n",
    "Replace all elements greater than 5 in a 1D array with 0."
   ]
  },
  {
   "cell_type": "code",
   "execution_count": 66,
   "id": "847e7006-fe03-4e39-9b7f-e56bb30322ec",
   "metadata": {},
   "outputs": [
    {
     "data": {
      "text/plain": [
       "array([2, 7, 5, 6, 7, 4, 3, 9, 6, 3], dtype=int32)"
      ]
     },
     "execution_count": 66,
     "metadata": {},
     "output_type": "execute_result"
    }
   ],
   "source": [
    "arr = np.random.randint(10, size=(10))\n",
    "arr"
   ]
  },
  {
   "cell_type": "code",
   "execution_count": 68,
   "id": "9ea9b475-730d-47e4-8c48-1aa59c2d0d2b",
   "metadata": {},
   "outputs": [
    {
     "data": {
      "text/plain": [
       "array([2, 0, 5, 0, 0, 4, 3, 0, 0, 3], dtype=int32)"
      ]
     },
     "execution_count": 68,
     "metadata": {},
     "output_type": "execute_result"
    }
   ],
   "source": [
    "arr[arr > 5] = 0\n",
    "arr"
   ]
  },
  {
   "cell_type": "markdown",
   "id": "8cb1c556-6ede-4085-96e7-a21494e1e38a",
   "metadata": {},
   "source": [
    "# 16\n",
    "Create a 5x5 array of ones and set the border elements to 0."
   ]
  },
  {
   "cell_type": "code",
   "execution_count": 70,
   "id": "ae50868b-ffff-4530-995b-be19b9d7b150",
   "metadata": {},
   "outputs": [
    {
     "data": {
      "text/plain": [
       "array([[0., 0., 0., 0., 0.],\n",
       "       [0., 1., 1., 1., 0.],\n",
       "       [0., 1., 1., 1., 0.],\n",
       "       [0., 1., 1., 1., 0.],\n",
       "       [0., 0., 0., 0., 0.]])"
      ]
     },
     "execution_count": 70,
     "metadata": {},
     "output_type": "execute_result"
    }
   ],
   "source": [
    "arr = np.zeros((5, 5))\n",
    "arr[1:-1, 1:-1] = 1\n",
    "arr"
   ]
  },
  {
   "cell_type": "markdown",
   "id": "3ba931eb-3ccb-4420-8fbf-4da8ae9a14e8",
   "metadata": {},
   "source": [
    "# 17\n",
    "Extract the diagonal elements of a 4x4 array."
   ]
  },
  {
   "cell_type": "code",
   "execution_count": 72,
   "id": "86790dd3-53f2-49fc-a2ff-70ded2b8095a",
   "metadata": {},
   "outputs": [
    {
     "data": {
      "text/plain": [
       "array([[1, 2, 0, 1],\n",
       "       [1, 1, 3, 3],\n",
       "       [3, 2, 1, 0],\n",
       "       [2, 1, 2, 3]], dtype=int32)"
      ]
     },
     "execution_count": 72,
     "metadata": {},
     "output_type": "execute_result"
    }
   ],
   "source": [
    "arr = np.random.randint(4, size=(4, 4))\n",
    "arr"
   ]
  },
  {
   "cell_type": "code",
   "execution_count": 73,
   "id": "125a8896-b7f3-495f-aab4-0188bae86ca5",
   "metadata": {},
   "outputs": [
    {
     "data": {
      "text/plain": [
       "array([1, 1, 1, 3], dtype=int32)"
      ]
     },
     "execution_count": 73,
     "metadata": {},
     "output_type": "execute_result"
    }
   ],
   "source": [
    "diagonal_array = np.diagonal(arr)\n",
    "diagonal_array"
   ]
  },
  {
   "cell_type": "markdown",
   "id": "5d8cda0d-6664-438b-b967-a054e37411aa",
   "metadata": {},
   "source": [
    "# 18\n",
    "Reverse the order of columns in a 3x4 array."
   ]
  },
  {
   "cell_type": "code",
   "execution_count": 74,
   "id": "79856ec8-b874-43e5-ace5-797dd73a1325",
   "metadata": {},
   "outputs": [
    {
     "data": {
      "text/plain": [
       "array([[8, 4, 6, 1],\n",
       "       [0, 8, 9, 2],\n",
       "       [1, 0, 2, 8]], dtype=int32)"
      ]
     },
     "execution_count": 74,
     "metadata": {},
     "output_type": "execute_result"
    }
   ],
   "source": [
    "arr = np.random.randint(10, size=(3, 4))\n",
    "arr"
   ]
  },
  {
   "cell_type": "code",
   "execution_count": 75,
   "id": "a91aa866-463e-4f39-9512-33b0ec56ade4",
   "metadata": {},
   "outputs": [
    {
     "data": {
      "text/plain": [
       "array([[1, 6, 4, 8],\n",
       "       [2, 9, 8, 0],\n",
       "       [8, 2, 0, 1]], dtype=int32)"
      ]
     },
     "execution_count": 75,
     "metadata": {},
     "output_type": "execute_result"
    }
   ],
   "source": [
    "reversed_column = np.fliplr(arr)\n",
    "reversed_column"
   ]
  },
  {
   "cell_type": "markdown",
   "id": "1281cbb6-23a8-4523-9d98-04ed2ab26ada",
   "metadata": {},
   "source": [
    "# 19\n",
    "Create a 3x3 array and stack it vertically with its transpose."
   ]
  },
  {
   "cell_type": "code",
   "execution_count": 76,
   "id": "c2637ca1-2b77-476b-bd31-3048d980b811",
   "metadata": {},
   "outputs": [
    {
     "data": {
      "text/plain": [
       "array([[3, 2, 8],\n",
       "       [8, 1, 0],\n",
       "       [2, 2, 9]], dtype=int32)"
      ]
     },
     "execution_count": 76,
     "metadata": {},
     "output_type": "execute_result"
    }
   ],
   "source": [
    "arr = np.random.randint(10, size=(3, 3))\n",
    "arr"
   ]
  },
  {
   "cell_type": "code",
   "execution_count": 79,
   "id": "0c12a51a-f7f0-4399-9093-255dfabfec83",
   "metadata": {},
   "outputs": [
    {
     "data": {
      "text/plain": [
       "array([[3, 2, 8],\n",
       "       [8, 1, 0],\n",
       "       [2, 2, 9],\n",
       "       [3, 8, 2],\n",
       "       [2, 1, 2],\n",
       "       [8, 0, 9]], dtype=int32)"
      ]
     },
     "execution_count": 79,
     "metadata": {},
     "output_type": "execute_result"
    }
   ],
   "source": [
    "transpose = arr.T\n",
    "result = np.vstack((arr, transpose))\n",
    "result"
   ]
  },
  {
   "cell_type": "markdown",
   "id": "93d635d5-ae69-49e7-a913-40a514d82d14",
   "metadata": {},
   "source": [
    "# 20\n",
    "Split a 6x6 array into three 2x6 subarrays horizontally."
   ]
  },
  {
   "cell_type": "code",
   "execution_count": 80,
   "id": "ac18520b-3b8d-4ad0-afe4-794923eccd64",
   "metadata": {},
   "outputs": [
    {
     "data": {
      "text/plain": [
       "array([[8, 3, 0, 8, 6, 0],\n",
       "       [9, 1, 1, 2, 8, 4],\n",
       "       [3, 2, 9, 9, 1, 3],\n",
       "       [3, 9, 9, 6, 9, 7],\n",
       "       [8, 7, 7, 3, 0, 6],\n",
       "       [9, 0, 1, 3, 0, 6]], dtype=int32)"
      ]
     },
     "execution_count": 80,
     "metadata": {},
     "output_type": "execute_result"
    }
   ],
   "source": [
    "arr = np.random.randint(10, size=(6, 6))\n",
    "arr"
   ]
  },
  {
   "cell_type": "code",
   "execution_count": 83,
   "id": "a2e7a822-a1b0-465e-8b8e-01f61e5df383",
   "metadata": {},
   "outputs": [
    {
     "data": {
      "text/plain": [
       "[array([[8, 3, 0, 8, 6, 0],\n",
       "        [9, 1, 1, 2, 8, 4]], dtype=int32),\n",
       " array([[3, 2, 9, 9, 1, 3],\n",
       "        [3, 9, 9, 6, 9, 7]], dtype=int32),\n",
       " array([[8, 7, 7, 3, 0, 6],\n",
       "        [9, 0, 1, 3, 0, 6]], dtype=int32)]"
      ]
     },
     "execution_count": 83,
     "metadata": {},
     "output_type": "execute_result"
    }
   ],
   "source": [
    "splitted_array = np.array_split(arr, 3) # or I can use vsplit function\n",
    "splitted_array"
   ]
  },
  {
   "cell_type": "markdown",
   "id": "4178f8c3-875b-4b9a-8a01-cc31379522ea",
   "metadata": {},
   "source": [
    "# 21\n",
    "Add two 1D arrays of length 5 element-wise."
   ]
  },
  {
   "cell_type": "code",
   "execution_count": 84,
   "id": "8b85b6fa-84ca-4c12-afa2-95dc1eb0084e",
   "metadata": {},
   "outputs": [
    {
     "data": {
      "text/plain": [
       "array([5, 7, 9])"
      ]
     },
     "execution_count": 84,
     "metadata": {},
     "output_type": "execute_result"
    }
   ],
   "source": [
    "a = np.array([1, 2, 3])\n",
    "b = np.array([4, 5, 6])\n",
    "\n",
    "np.add(a, b)"
   ]
  },
  {
   "cell_type": "markdown",
   "id": "212600a4-acb9-4f80-88d3-b21bd7da7136",
   "metadata": {},
   "source": [
    "# 22\n",
    "Multiply a 2x3 array by a scalar value of 4."
   ]
  },
  {
   "cell_type": "code",
   "execution_count": 95,
   "id": "03d52af7-bfa1-42d1-a1ea-2e26a75cd66c",
   "metadata": {},
   "outputs": [
    {
     "data": {
      "text/plain": [
       "array([[5, 1, 3],\n",
       "       [2, 7, 7]], dtype=int32)"
      ]
     },
     "execution_count": 95,
     "metadata": {},
     "output_type": "execute_result"
    }
   ],
   "source": [
    "arr = np.random.randint(10, size=(2, 3))\n",
    "arr"
   ]
  },
  {
   "cell_type": "code",
   "execution_count": 96,
   "id": "a47dcbd5-4cc2-406e-bc37-dee85ce43f23",
   "metadata": {},
   "outputs": [
    {
     "data": {
      "text/plain": [
       "array([[20,  4, 12],\n",
       "       [ 8, 28, 28]], dtype=int32)"
      ]
     },
     "execution_count": 96,
     "metadata": {},
     "output_type": "execute_result"
    }
   ],
   "source": [
    "row = len(arr)\n",
    "column = len(arr[0])\n",
    "magic_number = 4\n",
    "\n",
    "for i in range(row):\n",
    "    for j in range(column):\n",
    "        arr[i][j] *= magic_number\n",
    "arr"
   ]
  },
  {
   "cell_type": "markdown",
   "id": "4b915b3d-2b89-4491-b474-a90dfe89506f",
   "metadata": {},
   "source": [
    "# 23\n",
    "Compute the element-wise square of a 1D array [1, 2, 3, 4]."
   ]
  },
  {
   "cell_type": "code",
   "execution_count": 100,
   "id": "1c0cd867-b665-489d-9730-4d564179f7cb",
   "metadata": {},
   "outputs": [
    {
     "data": {
      "text/plain": [
       "array([1, 2, 3, 4])"
      ]
     },
     "execution_count": 100,
     "metadata": {},
     "output_type": "execute_result"
    }
   ],
   "source": [
    "arr = np.array([1, 2, 3, 4])\n",
    "arr"
   ]
  },
  {
   "cell_type": "code",
   "execution_count": 104,
   "id": "5bf04413-8d9a-44fe-a406-5e2743140311",
   "metadata": {},
   "outputs": [
    {
     "data": {
      "text/plain": [
       "array([ 1,  4,  9, 16])"
      ]
     },
     "execution_count": 104,
     "metadata": {},
     "output_type": "execute_result"
    }
   ],
   "source": [
    "result = arr ** 2\n",
    "result"
   ]
  },
  {
   "cell_type": "markdown",
   "id": "32885928-f62d-4961-8dc4-eb6035630abd",
   "metadata": {},
   "source": [
    "# 24\n",
    "Perform element-wise division of two 2x2 arrays."
   ]
  },
  {
   "cell_type": "code",
   "execution_count": 129,
   "id": "57fc367f-b17a-4141-9ffa-23c29ed4a1e9",
   "metadata": {},
   "outputs": [
    {
     "name": "stdout",
     "output_type": "stream",
     "text": [
      "A:\n",
      " [[10  6]\n",
      " [24 21]]\n",
      "B:\n",
      " [[5 8]\n",
      " [6 7]]\n"
     ]
    }
   ],
   "source": [
    "a = np.array(([10, 6], [24, 21]))\n",
    "b = np.array(([5, 8], [6, 7]))\n",
    "print('A:\\n', a)\n",
    "print('B:\\n', b)"
   ]
  },
  {
   "cell_type": "code",
   "execution_count": 132,
   "id": "9ad01b3a-ddd0-415c-9064-273438059fe4",
   "metadata": {},
   "outputs": [
    {
     "data": {
      "text/plain": [
       "array([[2.  , 0.75],\n",
       "       [4.  , 3.  ]])"
      ]
     },
     "execution_count": 132,
     "metadata": {},
     "output_type": "execute_result"
    }
   ],
   "source": [
    "result = a / b\n",
    "result"
   ]
  },
  {
   "cell_type": "markdown",
   "id": "c57e64ec-e942-4cce-8960-50a0829bd1f7",
   "metadata": {},
   "source": [
    "# 25\n",
    "Apply np.sin to a 1D array of 5 evenly spaced angles between 0 and π."
   ]
  },
  {
   "cell_type": "code",
   "execution_count": 3,
   "id": "ee7de602-f518-4d86-b4ec-14c029bcf654",
   "metadata": {},
   "outputs": [
    {
     "data": {
      "text/plain": [
       "array([0.00000000e+00, 7.07106781e-01, 1.00000000e+00, 7.07106781e-01,\n",
       "       1.22464680e-16])"
      ]
     },
     "execution_count": 3,
     "metadata": {},
     "output_type": "execute_result"
    }
   ],
   "source": [
    "angles = np.linspace(0, np.pi, 5)\n",
    "sin_values = np.sin(angles)\n",
    "sin_values"
   ]
  },
  {
   "cell_type": "markdown",
   "id": "5f1a6937-dfd0-4644-9dcb-bd991a106937",
   "metadata": {},
   "source": [
    "# 26\n",
    "Add a 1D array of shape (3,) to a 2D array of shape (2, 3) using broadcasting."
   ]
  },
  {
   "cell_type": "code",
   "execution_count": 5,
   "id": "02ab0387-dedd-4c64-951d-4a5d24990868",
   "metadata": {},
   "outputs": [],
   "source": [
    "one_d_array = np.array([1, 2, 3])\n",
    "two_d_array = np.array([[4, 5, 6], [7, 8, 9]])"
   ]
  },
  {
   "cell_type": "code",
   "execution_count": 6,
   "id": "80c0c3f3-a24c-4823-8c6e-9b7c1d329d37",
   "metadata": {},
   "outputs": [
    {
     "data": {
      "text/plain": [
       "array([[ 5,  7,  9],\n",
       "       [ 8, 10, 12]])"
      ]
     },
     "execution_count": 6,
     "metadata": {},
     "output_type": "execute_result"
    }
   ],
   "source": [
    "result = one_d_array + two_d_array\n",
    "result"
   ]
  },
  {
   "cell_type": "markdown",
   "id": "a66f85f1-ceac-45b1-aff5-0a6316702c46",
   "metadata": {},
   "source": [
    "# 27\n",
    "Compute the element-wise product of two 3x3 arrays with random integers between 1 and 10."
   ]
  },
  {
   "cell_type": "code",
   "execution_count": 11,
   "id": "c86bc0f2-2914-496a-9fbc-4bfe2cf38e30",
   "metadata": {},
   "outputs": [
    {
     "name": "stdout",
     "output_type": "stream",
     "text": [
      "A:\n",
      " [[10  4  3]\n",
      " [ 5 10  7]\n",
      " [ 2  9  9]]\n",
      "B:\n",
      " [[8 5 2]\n",
      " [9 5 6]\n",
      " [9 8 2]]\n"
     ]
    }
   ],
   "source": [
    "arr1 = np.random.randint(1, 11, size=(3, 3))\n",
    "arr2 = np.random.randint(1, 11, size=(3, 3))\n",
    "print('A:\\n', arr1)\n",
    "print('B:\\n', arr2)"
   ]
  },
  {
   "cell_type": "code",
   "execution_count": 12,
   "id": "b34b941c-8b23-40ba-89f3-216c06c25154",
   "metadata": {},
   "outputs": [
    {
     "data": {
      "text/plain": [
       "array([[80, 20,  6],\n",
       "       [45, 50, 42],\n",
       "       [18, 72, 18]], dtype=int32)"
      ]
     },
     "execution_count": 12,
     "metadata": {},
     "output_type": "execute_result"
    }
   ],
   "source": [
    "result = arr1 * arr2\n",
    "result"
   ]
  },
  {
   "cell_type": "markdown",
   "id": "a1148a93-f441-4771-9806-8db3adceb962",
   "metadata": {},
   "source": [
    "# 28\n",
    "Raise all elements of a 2x2 array to the power of 3."
   ]
  },
  {
   "cell_type": "code",
   "execution_count": 13,
   "id": "3b00c4b6-6c4d-487f-94b8-649b2aabe0c7",
   "metadata": {},
   "outputs": [
    {
     "data": {
      "text/plain": [
       "array([[8, 2],\n",
       "       [2, 8]], dtype=int32)"
      ]
     },
     "execution_count": 13,
     "metadata": {},
     "output_type": "execute_result"
    }
   ],
   "source": [
    "arr = np.random.randint(10, size=(2, 2))\n",
    "arr"
   ]
  },
  {
   "cell_type": "code",
   "execution_count": 14,
   "id": "00083e74-ab76-4b96-8c6d-9d6112ae7644",
   "metadata": {},
   "outputs": [
    {
     "data": {
      "text/plain": [
       "array([[512,   8],\n",
       "       [  8, 512]], dtype=int32)"
      ]
     },
     "execution_count": 14,
     "metadata": {},
     "output_type": "execute_result"
    }
   ],
   "source": [
    "result = arr ** 3\n",
    "result"
   ]
  },
  {
   "cell_type": "markdown",
   "id": "b5e84340-d31d-492b-abe4-fb0805843045",
   "metadata": {},
   "source": [
    "# 29\n",
    "Create a 4x4 array and subtract its row-wise mean from each element."
   ]
  },
  {
   "cell_type": "code",
   "execution_count": 16,
   "id": "676fe06b-7364-4440-96cd-cbcd5e270301",
   "metadata": {},
   "outputs": [
    {
     "data": {
      "text/plain": [
       "array([[5, 4, 8, 3],\n",
       "       [9, 1, 0, 1],\n",
       "       [1, 6, 3, 7],\n",
       "       [7, 9, 0, 6]], dtype=int32)"
      ]
     },
     "execution_count": 16,
     "metadata": {},
     "output_type": "execute_result"
    }
   ],
   "source": [
    "arr = np.random.randint(10, size=(4, 4))\n",
    "arr"
   ]
  },
  {
   "cell_type": "code",
   "execution_count": 33,
   "id": "670e4c24-80f8-4491-b2f5-7b64ffda4e37",
   "metadata": {},
   "outputs": [
    {
     "data": {
      "text/plain": [
       "array([[ 0.  , -1.  ,  3.  , -2.  ],\n",
       "       [ 6.25, -1.75, -2.75, -1.75],\n",
       "       [-3.25,  1.75, -1.25,  2.75],\n",
       "       [ 1.5 ,  3.5 , -5.5 ,  0.5 ]])"
      ]
     },
     "execution_count": 33,
     "metadata": {},
     "output_type": "execute_result"
    }
   ],
   "source": [
    "row_mean = arr.mean(axis=1, keepdims=True)\n",
    "normalized = arr - row_mean\n",
    "normalized"
   ]
  },
  {
   "cell_type": "markdown",
   "id": "187d0758-9339-48c9-a4be-484d6f3e005f",
   "metadata": {},
   "source": [
    "# 30\n",
    "Use broadcasting to multiply a 3x1 array with a 1x3 array to get a 3x3 result."
   ]
  },
  {
   "cell_type": "code",
   "execution_count": 6,
   "id": "34b0dfe8-c9b9-4a81-bd18-2659b6483c37",
   "metadata": {},
   "outputs": [],
   "source": [
    "a = np.array([[1], [2], [3]])\n",
    "b = np.array([4, 5, 6])"
   ]
  },
  {
   "cell_type": "code",
   "execution_count": 8,
   "id": "fe3e0bb3-2bc9-4dbf-8d26-88f699ce8ba0",
   "metadata": {},
   "outputs": [],
   "source": [
    "result = a * b"
   ]
  },
  {
   "cell_type": "code",
   "execution_count": 9,
   "id": "21f25aa5-72ec-4623-8f58-6fb30cd26c70",
   "metadata": {},
   "outputs": [
    {
     "data": {
      "text/plain": [
       "array([[ 4,  5,  6],\n",
       "       [ 8, 10, 12],\n",
       "       [12, 15, 18]])"
      ]
     },
     "execution_count": 9,
     "metadata": {},
     "output_type": "execute_result"
    }
   ],
   "source": [
    "result"
   ]
  },
  {
   "cell_type": "markdown",
   "id": "7876d227-0896-4fcf-932f-c4e19de705af",
   "metadata": {},
   "source": [
    "# 31\n",
    "Compute the mean of a 1D array of 10 random integers."
   ]
  },
  {
   "cell_type": "code",
   "execution_count": 19,
   "id": "fe6cd806-c142-4d6f-b274-bcedb52c4b4c",
   "metadata": {},
   "outputs": [
    {
     "data": {
      "text/plain": [
       "array([3, 1, 1, 0, 4, 7, 6, 2, 8, 4], dtype=int32)"
      ]
     },
     "execution_count": 19,
     "metadata": {},
     "output_type": "execute_result"
    }
   ],
   "source": [
    "arr = np.random.randint(10, size=(10))\n",
    "arr"
   ]
  },
  {
   "cell_type": "code",
   "execution_count": 21,
   "id": "5d366f88-eb82-466f-91c5-2c5cb7ccbcc4",
   "metadata": {},
   "outputs": [
    {
     "data": {
      "text/plain": [
       "np.float64(3.6)"
      ]
     },
     "execution_count": 21,
     "metadata": {},
     "output_type": "execute_result"
    }
   ],
   "source": [
    "mean = np.mean(arr)\n",
    "mean"
   ]
  },
  {
   "cell_type": "markdown",
   "id": "79a95ed0-01fd-4d9d-9762-35fa6f7fecb6",
   "metadata": {},
   "source": [
    "# 32\n",
    "Find the maximum value in a 3x3 array."
   ]
  },
  {
   "cell_type": "code",
   "execution_count": 22,
   "id": "a82024d0-c3cb-47ef-a972-e798d493b73c",
   "metadata": {},
   "outputs": [
    {
     "data": {
      "text/plain": [
       "array([[2, 3, 8],\n",
       "       [3, 6, 9],\n",
       "       [2, 9, 7]], dtype=int32)"
      ]
     },
     "execution_count": 22,
     "metadata": {},
     "output_type": "execute_result"
    }
   ],
   "source": [
    "arr = np.random.randint(10, size=(3, 3))\n",
    "arr"
   ]
  },
  {
   "cell_type": "code",
   "execution_count": 23,
   "id": "95155769-bbf0-4cc5-89f5-174333330cb1",
   "metadata": {},
   "outputs": [
    {
     "data": {
      "text/plain": [
       "np.int32(9)"
      ]
     },
     "execution_count": 23,
     "metadata": {},
     "output_type": "execute_result"
    }
   ],
   "source": [
    "maximum = np.max(arr)\n",
    "maximum"
   ]
  },
  {
   "cell_type": "markdown",
   "id": "7f813711-e60a-4071-abea-76868d34949d",
   "metadata": {},
   "source": [
    "# 33\n",
    "Calculate the sum of all elements in a 2x4 array."
   ]
  },
  {
   "cell_type": "code",
   "execution_count": 25,
   "id": "4dc01b69-a256-415e-829f-a15648348ab9",
   "metadata": {},
   "outputs": [
    {
     "data": {
      "text/plain": [
       "array([[3, 4, 3, 4],\n",
       "       [5, 3, 1, 7]], dtype=int32)"
      ]
     },
     "execution_count": 25,
     "metadata": {},
     "output_type": "execute_result"
    }
   ],
   "source": [
    "arr = np.random.randint(10, size=(2, 4))\n",
    "arr"
   ]
  },
  {
   "cell_type": "code",
   "execution_count": 26,
   "id": "1b6491dd-8d95-48e8-bed9-70d563d9b2cd",
   "metadata": {},
   "outputs": [
    {
     "data": {
      "text/plain": [
       "np.int64(30)"
      ]
     },
     "execution_count": 26,
     "metadata": {},
     "output_type": "execute_result"
    }
   ],
   "source": [
    "sum_arr = np.sum(arr)\n",
    "sum_arr"
   ]
  },
  {
   "cell_type": "markdown",
   "id": "1060c858-59a4-4945-9a67-23764f0b5cb5",
   "metadata": {},
   "source": [
    "# 34\n",
    "Compute the standard deviation of a 1D array with values from 1 to 10."
   ]
  },
  {
   "cell_type": "code",
   "execution_count": 29,
   "id": "63616559-2605-43c2-bc62-c258d8041fd3",
   "metadata": {},
   "outputs": [
    {
     "data": {
      "text/plain": [
       "array([ 1,  2,  3,  4,  5,  6,  7,  8,  9, 10])"
      ]
     },
     "execution_count": 29,
     "metadata": {},
     "output_type": "execute_result"
    }
   ],
   "source": [
    "arr = np.arange(1, 11)\n",
    "arr"
   ]
  },
  {
   "cell_type": "code",
   "execution_count": 30,
   "id": "ca9207f1-164d-486d-94a2-1b61e27632d6",
   "metadata": {},
   "outputs": [
    {
     "data": {
      "text/plain": [
       "np.float64(2.8722813232690143)"
      ]
     },
     "execution_count": 30,
     "metadata": {},
     "output_type": "execute_result"
    }
   ],
   "source": [
    "std = np.std(arr)\n",
    "std"
   ]
  },
  {
   "cell_type": "markdown",
   "id": "13047e95-c372-438d-90a4-c2f1c0b96614",
   "metadata": {},
   "source": [
    "# 35\n",
    "Find the row-wise minimum of a 4x4 array."
   ]
  },
  {
   "cell_type": "code",
   "execution_count": 31,
   "id": "e3a641dd-e53c-4380-b197-e965b56c771f",
   "metadata": {},
   "outputs": [
    {
     "data": {
      "text/plain": [
       "array([[3, 2, 7, 5],\n",
       "       [8, 9, 8, 7],\n",
       "       [8, 5, 4, 4],\n",
       "       [0, 1, 0, 5]], dtype=int32)"
      ]
     },
     "execution_count": 31,
     "metadata": {},
     "output_type": "execute_result"
    }
   ],
   "source": [
    "arr = np.random.randint(10, size=(4, 4))\n",
    "arr"
   ]
  },
  {
   "cell_type": "code",
   "execution_count": 33,
   "id": "103239d0-07cf-43e7-806d-3131c36937b2",
   "metadata": {},
   "outputs": [
    {
     "data": {
      "text/plain": [
       "array([[2],\n",
       "       [7],\n",
       "       [4],\n",
       "       [0]], dtype=int32)"
      ]
     },
     "execution_count": 33,
     "metadata": {},
     "output_type": "execute_result"
    }
   ],
   "source": [
    "min_row = arr.min(axis=1, keepdims=True)\n",
    "min_row"
   ]
  },
  {
   "cell_type": "markdown",
   "id": "2ff53ac7-5482-4086-8dbb-670d23862627",
   "metadata": {},
   "source": [
    "# 36\n",
    "Calculate the median of a 1D array containing [1, 2, 3, 4, 5]."
   ]
  },
  {
   "cell_type": "code",
   "execution_count": 34,
   "id": "552e2450-a1f6-439a-91ee-896a1af66e87",
   "metadata": {},
   "outputs": [
    {
     "data": {
      "text/plain": [
       "array([1, 2, 3, 4, 5])"
      ]
     },
     "execution_count": 34,
     "metadata": {},
     "output_type": "execute_result"
    }
   ],
   "source": [
    "arr = np.array([1, 2, 3, 4, 5])\n",
    "arr"
   ]
  },
  {
   "cell_type": "code",
   "execution_count": 36,
   "id": "872a7414-c73c-4d24-9f79-85e5b1621b34",
   "metadata": {},
   "outputs": [
    {
     "data": {
      "text/plain": [
       "np.float64(3.0)"
      ]
     },
     "execution_count": 36,
     "metadata": {},
     "output_type": "execute_result"
    }
   ],
   "source": [
    "median = np.median(arr)\n",
    "median"
   ]
  },
  {
   "cell_type": "markdown",
   "id": "b0ec39c4-0ec3-4016-9aad-566ca5dc5db2",
   "metadata": {},
   "source": [
    "# 37\n",
    "Compute the column-wise mean of a 5x5 array of random floats between 0 and 1."
   ]
  },
  {
   "cell_type": "code",
   "execution_count": 43,
   "id": "9ec1a313-5595-4b08-aa7a-ea99f2cfcd0d",
   "metadata": {},
   "outputs": [
    {
     "data": {
      "text/plain": [
       "array([[0.49055892, 0.2858216 , 0.88099673, 0.89514037, 0.22956369],\n",
       "       [0.06906509, 0.27453145, 0.14380866, 0.15976841, 0.26772923],\n",
       "       [0.03684755, 0.4490184 , 0.54313409, 0.07973669, 0.43192856],\n",
       "       [0.65612997, 0.09791033, 0.6478203 , 0.13360937, 0.97275218],\n",
       "       [0.92710414, 0.4077793 , 0.89519979, 0.24589152, 0.12459979]])"
      ]
     },
     "execution_count": 43,
     "metadata": {},
     "output_type": "execute_result"
    }
   ],
   "source": [
    "arr = np.random.rand(5, 5)\n",
    "arr"
   ]
  },
  {
   "cell_type": "code",
   "execution_count": 45,
   "id": "9be3ecd8-6af8-4b59-a1e4-8164080caa1c",
   "metadata": {},
   "outputs": [
    {
     "data": {
      "text/plain": [
       "array([[0.56],\n",
       "       [0.18],\n",
       "       [0.31],\n",
       "       [0.5 ],\n",
       "       [0.52]])"
      ]
     },
     "execution_count": 45,
     "metadata": {},
     "output_type": "execute_result"
    }
   ],
   "source": [
    "mean = (arr.mean(axis=1, keepdims=True)).round(2)\n",
    "mean"
   ]
  },
  {
   "cell_type": "markdown",
   "id": "570cc080-6efb-4c49-b70b-e4701e781b59",
   "metadata": {},
   "source": [
    "# 38\n",
    "Replace all np.nan values in a 1D array with the array’s mean (excluding np.nan)."
   ]
  },
  {
   "cell_type": "code",
   "execution_count": 54,
   "id": "2715c752-925d-4df5-ae5c-10c6a2c33db6",
   "metadata": {},
   "outputs": [
    {
     "data": {
      "text/plain": [
       "array([ 1.,  2.,  3., nan,  5., nan, nan,  8., nan, 10.])"
      ]
     },
     "execution_count": 54,
     "metadata": {},
     "output_type": "execute_result"
    }
   ],
   "source": [
    "arr = np.array([1, 2, 3, np.nan, 5, np.nan, np.nan, 8, np.nan, 10])\n",
    "arr"
   ]
  },
  {
   "cell_type": "code",
   "execution_count": 63,
   "id": "304ee87e-92d9-41c9-96e8-ead0a0e7c5c5",
   "metadata": {},
   "outputs": [
    {
     "data": {
      "text/plain": [
       "array([ 1.        ,  2.        ,  3.        ,  4.83333333,  5.        ,\n",
       "        4.83333333,  4.83333333,  8.        ,  4.83333333, 10.        ])"
      ]
     },
     "execution_count": 63,
     "metadata": {},
     "output_type": "execute_result"
    }
   ],
   "source": [
    "mean = np.nanmean(arr)\n",
    "\n",
    "arr[np.isnan(arr)] = mean\n",
    "arr"
   ]
  },
  {
   "cell_type": "markdown",
   "id": "c2492027-1243-4f03-8c4d-05b6c6556662",
   "metadata": {},
   "source": [
    "# 39\n",
    "Find the index of the maximum value in a 2D array using np.argmax."
   ]
  },
  {
   "cell_type": "code",
   "execution_count": 77,
   "id": "5743c669-c602-4791-9cb5-5b4385768288",
   "metadata": {},
   "outputs": [
    {
     "data": {
      "text/plain": [
       "array([[4, 7],\n",
       "       [8, 3]], dtype=int32)"
      ]
     },
     "execution_count": 77,
     "metadata": {},
     "output_type": "execute_result"
    }
   ],
   "source": [
    "arr = np.random.randint(10, size=(2, 2))\n",
    "arr"
   ]
  },
  {
   "cell_type": "code",
   "execution_count": 82,
   "id": "3c3626b6-c460-4ddf-b11a-d73a3924429b",
   "metadata": {},
   "outputs": [
    {
     "data": {
      "text/plain": [
       "(np.int64(1), np.int64(0))"
      ]
     },
     "execution_count": 82,
     "metadata": {},
     "output_type": "execute_result"
    }
   ],
   "source": [
    "max_index = np.argmax(arr)\n",
    "max_index_2d = np.unravel_index(max_index, arr.shape)\n",
    "max_index_2d"
   ]
  },
  {
   "cell_type": "markdown",
   "id": "859464a8-5344-49fb-94af-9ad14ef1e38c",
   "metadata": {},
   "source": [
    "# 40\n",
    "Compute the cumulative sum of a 1D array of 6 elements."
   ]
  },
  {
   "cell_type": "code",
   "execution_count": 83,
   "id": "b53cc046-e50c-483c-a256-c09a981157ec",
   "metadata": {},
   "outputs": [
    {
     "data": {
      "text/plain": [
       "array([1, 2, 3, 4, 5, 6])"
      ]
     },
     "execution_count": 83,
     "metadata": {},
     "output_type": "execute_result"
    }
   ],
   "source": [
    "arr = np.array([1, 2, 3, 4, 5, 6])\n",
    "arr"
   ]
  },
  {
   "cell_type": "code",
   "execution_count": 85,
   "id": "abfadf44-9cf5-4f45-aca3-31655f253034",
   "metadata": {},
   "outputs": [
    {
     "data": {
      "text/plain": [
       "array([ 1,  3,  6, 10, 15, 21])"
      ]
     },
     "execution_count": 85,
     "metadata": {},
     "output_type": "execute_result"
    }
   ],
   "source": [
    "cumulative_sum = np.cumsum(arr)\n",
    "cumulative_sum"
   ]
  },
  {
   "cell_type": "markdown",
   "id": "602d5bcf-8d90-482e-89bc-3160919e1f4f",
   "metadata": {},
   "source": [
    "# 41\n",
    "Compute the dot product of two 1D arrays of length 3."
   ]
  },
  {
   "cell_type": "code",
   "execution_count": 87,
   "id": "0f326f0b-2240-4487-94a5-0775d91dec0f",
   "metadata": {},
   "outputs": [],
   "source": [
    "a = np.array([1, 2, 3])\n",
    "b = np.array([4, 5, 6])"
   ]
  },
  {
   "cell_type": "code",
   "execution_count": 92,
   "id": "e6cc1799-7617-4515-b917-1347143aa048",
   "metadata": {},
   "outputs": [
    {
     "data": {
      "text/plain": [
       "np.int64(32)"
      ]
     },
     "execution_count": 92,
     "metadata": {},
     "output_type": "execute_result"
    }
   ],
   "source": [
    "dot_product = np.dot(a, b)\n",
    "dot_product"
   ]
  },
  {
   "cell_type": "markdown",
   "id": "70a40d37-3f5d-455c-ad6c-59ac724bca81",
   "metadata": {},
   "source": [
    "# 42\n",
    "Find the transpose of a 2x3 array."
   ]
  },
  {
   "cell_type": "code",
   "execution_count": 93,
   "id": "0bb4b89d-5e4a-433a-9ce4-ab62bd5730f7",
   "metadata": {},
   "outputs": [
    {
     "data": {
      "text/plain": [
       "array([[1, 4, 8],\n",
       "       [7, 6, 4]], dtype=int32)"
      ]
     },
     "execution_count": 93,
     "metadata": {},
     "output_type": "execute_result"
    }
   ],
   "source": [
    "arr = np.random.randint(10, size=(2, 3))\n",
    "arr"
   ]
  },
  {
   "cell_type": "code",
   "execution_count": 94,
   "id": "f747272a-22b4-4c46-9f5d-7db89fb8b662",
   "metadata": {},
   "outputs": [
    {
     "data": {
      "text/plain": [
       "array([[1, 7],\n",
       "       [4, 6],\n",
       "       [8, 4]], dtype=int32)"
      ]
     },
     "execution_count": 94,
     "metadata": {},
     "output_type": "execute_result"
    }
   ],
   "source": [
    "transpose = arr.T\n",
    "transpose"
   ]
  },
  {
   "cell_type": "markdown",
   "id": "58c119bd-0d8a-4138-aefc-5277846505c7",
   "metadata": {},
   "source": [
    "# 43\n",
    "Perform matrix multiplication of two 2x2 arrays using np.matmul."
   ]
  },
  {
   "cell_type": "code",
   "execution_count": 99,
   "id": "16398b3b-d064-4c99-b3ed-dfba7b2f9600",
   "metadata": {},
   "outputs": [],
   "source": [
    "a = np.array([[1, 2], [3, 4]])\n",
    "b = np.array([[5, 6], [7, 8]])"
   ]
  },
  {
   "cell_type": "code",
   "execution_count": 101,
   "id": "e3c757a7-b085-4022-a708-71b5ffe8f07c",
   "metadata": {},
   "outputs": [
    {
     "data": {
      "text/plain": [
       "array([[19, 22],\n",
       "       [43, 50]])"
      ]
     },
     "execution_count": 101,
     "metadata": {},
     "output_type": "execute_result"
    }
   ],
   "source": [
    "matrix_multiplication = np.matmul(a, b)\n",
    "matrix_multiplication"
   ]
  },
  {
   "cell_type": "markdown",
   "id": "18afc64b-4255-4752-8a39-f71ce1213a38",
   "metadata": {},
   "source": [
    "# 44\n",
    "Calculate the determinant of a 2x2 array using np.linalg.det."
   ]
  },
  {
   "cell_type": "code",
   "execution_count": 107,
   "id": "44d64257-4657-4fda-b72a-1717f3506119",
   "metadata": {},
   "outputs": [
    {
     "data": {
      "text/plain": [
       "array([[3, 0],\n",
       "       [7, 4]], dtype=int32)"
      ]
     },
     "execution_count": 107,
     "metadata": {},
     "output_type": "execute_result"
    }
   ],
   "source": [
    "arr = np.random.randint(10, size=(2, 2))\n",
    "arr"
   ]
  },
  {
   "cell_type": "code",
   "execution_count": 109,
   "id": "339e0fb1-915e-4ba0-b7ae-66b4d74fb069",
   "metadata": {},
   "outputs": [
    {
     "data": {
      "text/plain": [
       "np.float64(12.0)"
      ]
     },
     "execution_count": 109,
     "metadata": {},
     "output_type": "execute_result"
    }
   ],
   "source": [
    "determinant = (np.linalg.det(arr)).round(0)\n",
    "determinant"
   ]
  },
  {
   "cell_type": "markdown",
   "id": "118bd86f-0be8-40c9-8654-542f424f4606",
   "metadata": {},
   "source": [
    "# 45\n",
    "Compute the trace (sum of diagonal elements) of a 3x3 array."
   ]
  },
  {
   "cell_type": "code",
   "execution_count": 113,
   "id": "5053a89f-adce-4986-8c4c-a8469c13b4a5",
   "metadata": {},
   "outputs": [
    {
     "data": {
      "text/plain": [
       "array([[2, 9, 2],\n",
       "       [2, 7, 9],\n",
       "       [6, 9, 6]], dtype=int32)"
      ]
     },
     "execution_count": 113,
     "metadata": {},
     "output_type": "execute_result"
    }
   ],
   "source": [
    "arr = np.random.randint(10, size=(3, 3))\n",
    "arr"
   ]
  },
  {
   "cell_type": "code",
   "execution_count": 114,
   "id": "878ab1d6-2a5e-4756-9f03-cb5909e5d6b0",
   "metadata": {},
   "outputs": [
    {
     "data": {
      "text/plain": [
       "np.int64(15)"
      ]
     },
     "execution_count": 114,
     "metadata": {},
     "output_type": "execute_result"
    }
   ],
   "source": [
    "matrix_trace = arr.trace()\n",
    "matrix_trace"
   ]
  },
  {
   "cell_type": "markdown",
   "id": "839b6886-73f6-4416-a6b4-c9ea3ac6b65f",
   "metadata": {},
   "source": [
    "# 46\n",
    "Find the inverse of a 2x2 array using np.linalg.inv."
   ]
  },
  {
   "cell_type": "code",
   "execution_count": 122,
   "id": "6c2a9faa-3b57-4d41-9f47-3faf199266c3",
   "metadata": {},
   "outputs": [
    {
     "data": {
      "text/plain": [
       "array([[0, 9],\n",
       "       [2, 8]], dtype=int32)"
      ]
     },
     "execution_count": 122,
     "metadata": {},
     "output_type": "execute_result"
    }
   ],
   "source": [
    "arr = np.random.randint(10, size=(2, 2))\n",
    "arr"
   ]
  },
  {
   "cell_type": "code",
   "execution_count": 123,
   "id": "a243f978-e16d-45df-86f8-16bc2fa7a925",
   "metadata": {},
   "outputs": [
    {
     "data": {
      "text/plain": [
       "array([[-0.44444444,  0.5       ],\n",
       "       [ 0.11111111,  0.        ]])"
      ]
     },
     "execution_count": 123,
     "metadata": {},
     "output_type": "execute_result"
    }
   ],
   "source": [
    "inverse_matrix = np.linalg.inv(arr)\n",
    "inverse_matrix"
   ]
  },
  {
   "cell_type": "markdown",
   "id": "a978a35a-3ce8-4bef-b5d5-23df00fcf61a",
   "metadata": {},
   "source": [
    "# 47\n",
    "Solve a system of linear equations with a 3x3 coefficient matrix and a 3x1 vector\n",
    "using np.linalg.solve."
   ]
  },
  {
   "cell_type": "code",
   "execution_count": 124,
   "id": "d376a5aa-711f-4b16-97c5-349558958552",
   "metadata": {},
   "outputs": [
    {
     "data": {
      "text/plain": [
       "array([[9, 6, 4],\n",
       "       [1, 7, 9],\n",
       "       [3, 6, 2]], dtype=int32)"
      ]
     },
     "execution_count": 124,
     "metadata": {},
     "output_type": "execute_result"
    }
   ],
   "source": [
    "arr1 = np.random.randint(10, size=(3, 3))\n",
    "arr1"
   ]
  },
  {
   "cell_type": "code",
   "execution_count": 125,
   "id": "ab47330e-78dc-4298-83f6-173b3f5962ec",
   "metadata": {},
   "outputs": [
    {
     "data": {
      "text/plain": [
       "array([8, 7, 2], dtype=int32)"
      ]
     },
     "execution_count": 125,
     "metadata": {},
     "output_type": "execute_result"
    }
   ],
   "source": [
    "arr2 = np.random.randint(10, size=(3))\n",
    "arr2"
   ]
  },
  {
   "cell_type": "code",
   "execution_count": 126,
   "id": "272e6d8d-9976-45dd-b054-f0315874ec91",
   "metadata": {},
   "outputs": [
    {
     "data": {
      "text/plain": [
       "array([ 0.68148148, -0.32592593,  0.95555556])"
      ]
     },
     "execution_count": 126,
     "metadata": {},
     "output_type": "execute_result"
    }
   ],
   "source": [
    "solved = np.linalg.solve(arr1, arr2)\n",
    "solved"
   ]
  },
  {
   "cell_type": "markdown",
   "id": "539439ed-59a0-4e62-90a1-6e8c29891b18",
   "metadata": {},
   "source": [
    "# 48\n",
    "Compute the eigenvalues of a 2x2 array using np.linalg.eigvals."
   ]
  },
  {
   "cell_type": "code",
   "execution_count": 130,
   "id": "efdf3d5c-ad29-4d4d-b0af-78ea6028a58e",
   "metadata": {},
   "outputs": [
    {
     "data": {
      "text/plain": [
       "array([[8, 5],\n",
       "       [3, 9]], dtype=int32)"
      ]
     },
     "execution_count": 130,
     "metadata": {},
     "output_type": "execute_result"
    }
   ],
   "source": [
    "arr = np.random.randint(10, size=(2, 2))\n",
    "arr"
   ]
  },
  {
   "cell_type": "code",
   "execution_count": 131,
   "id": "f7a88131-cdf5-4dac-b29a-d9deca6852b5",
   "metadata": {},
   "outputs": [],
   "source": [
    "eigenvalue = np.linalg.eigvals(arr)"
   ]
  },
  {
   "cell_type": "code",
   "execution_count": 132,
   "id": "c5e01e04-72d9-4d77-96da-a08a1fd28406",
   "metadata": {},
   "outputs": [
    {
     "data": {
      "text/plain": [
       "array([ 4.59487516, 12.40512484])"
      ]
     },
     "execution_count": 132,
     "metadata": {},
     "output_type": "execute_result"
    }
   ],
   "source": [
    "eigenvalue"
   ]
  },
  {
   "cell_type": "markdown",
   "id": "385e0ae1-f62d-4dfb-a40f-8831b45c73bb",
   "metadata": {},
   "source": [
    "# 49\n",
    "Perform matrix multiplication of a 3x2 and a 2x3 array to get a 3x3 result."
   ]
  },
  {
   "cell_type": "code",
   "execution_count": 134,
   "id": "4ca56b27-79d0-4c89-a330-eb378f5be473",
   "metadata": {},
   "outputs": [
    {
     "data": {
      "text/plain": [
       "array([[5, 4],\n",
       "       [7, 7],\n",
       "       [9, 8]], dtype=int32)"
      ]
     },
     "execution_count": 134,
     "metadata": {},
     "output_type": "execute_result"
    }
   ],
   "source": [
    "arr1 = np.random.randint(10, size=(3, 2))\n",
    "arr1"
   ]
  },
  {
   "cell_type": "code",
   "execution_count": 135,
   "id": "0b5e928a-2eb9-4d34-a0ed-ece5128ff2d6",
   "metadata": {},
   "outputs": [
    {
     "data": {
      "text/plain": [
       "array([[1, 1, 9],\n",
       "       [2, 8, 3]], dtype=int32)"
      ]
     },
     "execution_count": 135,
     "metadata": {},
     "output_type": "execute_result"
    }
   ],
   "source": [
    "arr2 = np.random.randint(10, size=(2, 3))\n",
    "arr2"
   ]
  },
  {
   "cell_type": "code",
   "execution_count": 137,
   "id": "897fbb38-8330-4aeb-a40e-7a516b4ecc74",
   "metadata": {},
   "outputs": [
    {
     "data": {
      "text/plain": [
       "array([[ 13,  37,  57],\n",
       "       [ 21,  63,  84],\n",
       "       [ 25,  73, 105]], dtype=int32)"
      ]
     },
     "execution_count": 137,
     "metadata": {},
     "output_type": "execute_result"
    }
   ],
   "source": [
    "result = np.dot(arr1, arr2)\n",
    "result"
   ]
  },
  {
   "cell_type": "markdown",
   "id": "5b6c968c-556b-48a8-b7e2-665021fefe51",
   "metadata": {},
   "source": [
    "# 50\n",
    "Normalize a 1D array by dividing it by its Euclidean norm (use np.linalg.norm)."
   ]
  },
  {
   "cell_type": "code",
   "execution_count": 138,
   "id": "7eb4497f-07cd-4212-90fb-a1f69f8eeaea",
   "metadata": {},
   "outputs": [
    {
     "data": {
      "text/plain": [
       "array([1, 2, 3, 4, 5])"
      ]
     },
     "execution_count": 138,
     "metadata": {},
     "output_type": "execute_result"
    }
   ],
   "source": [
    "arr = np.array([1, 2, 3, 4, 5])\n",
    "arr"
   ]
  },
  {
   "cell_type": "code",
   "execution_count": 140,
   "id": "da80ff82-8606-4db8-b4ff-7f85c9680d2d",
   "metadata": {},
   "outputs": [
    {
     "data": {
      "text/plain": [
       "array([0.13483997, 0.26967994, 0.40451992, 0.53935989, 0.67419986])"
      ]
     },
     "execution_count": 140,
     "metadata": {},
     "output_type": "execute_result"
    }
   ],
   "source": [
    "normalized = np.linalg.norm(arr)\n",
    "normalized_arr = arr / normalized\n",
    "normalized_arr"
   ]
  }
 ],
 "metadata": {
  "kernelspec": {
   "display_name": "Python 3 (ipykernel)",
   "language": "python",
   "name": "python3"
  },
  "language_info": {
   "codemirror_mode": {
    "name": "ipython",
    "version": 3
   },
   "file_extension": ".py",
   "mimetype": "text/x-python",
   "name": "python",
   "nbconvert_exporter": "python",
   "pygments_lexer": "ipython3",
   "version": "3.10.16"
  }
 },
 "nbformat": 4,
 "nbformat_minor": 5
}
