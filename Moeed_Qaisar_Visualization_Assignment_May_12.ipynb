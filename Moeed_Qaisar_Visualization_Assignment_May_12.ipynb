{
 "cells": [
  {
   "cell_type": "code",
   "execution_count": null,
   "id": "fa021a04-f6a6-46ae-b919-93b9e499b79c",
   "metadata": {},
   "outputs": [],
   "source": [
    "import pandas as pd"
   ]
  },
  {
   "cell_type": "code",
   "execution_count": null,
   "id": "f89bd88d-0e10-4e20-944b-71116df3f8a3",
   "metadata": {},
   "outputs": [],
   "source": [
    "import matplotlib.pyplot as plt"
   ]
  },
  {
   "cell_type": "code",
   "execution_count": null,
   "id": "1c82a5d4-c2d6-448f-899f-c2b3b69369c6",
   "metadata": {},
   "outputs": [],
   "source": [
    "import numpy as np "
   ]
  },
  {
   "cell_type": "code",
   "execution_count": null,
   "id": "5cf7a6f9-d3eb-4ed0-b053-2f84d04e51f6",
   "metadata": {},
   "outputs": [],
   "source": [
    "import plotly.express as px"
   ]
  },
  {
   "cell_type": "markdown",
   "id": "e146410e-862c-4c3c-a591-1641f932b1f0",
   "metadata": {},
   "source": [
    "# 1\n",
    "How would you create a line plot of a single column from a DataFrame using Matplotlib?"
   ]
  },
  {
   "cell_type": "code",
   "execution_count": null,
   "id": "bf958763-6d9f-44ab-92a5-b5d67c189e63",
   "metadata": {},
   "outputs": [],
   "source": [
    "df = pd.DataFrame({'date': ['2023-01', '2023-02', '2023-03'], 'value': [10, 20, 30]})"
   ]
  },
  {
   "cell_type": "code",
   "execution_count": null,
   "id": "ffe603e5-d004-42e9-ab1d-1034e840a1df",
   "metadata": {},
   "outputs": [],
   "source": [
    "df.plot.line(x='date', y='value')"
   ]
  },
  {
   "cell_type": "markdown",
   "id": "ec6eecb7-62e5-41b7-8f00-9fc176bd2611",
   "metadata": {},
   "source": [
    "# 2\n",
    "How can you plot multiple lines from different columns of a DataFrame on the same Matplotlib figure?"
   ]
  },
  {
   "cell_type": "code",
   "execution_count": null,
   "id": "a9db9100-b373-4e00-a51c-c7133f41b0ba",
   "metadata": {},
   "outputs": [],
   "source": [
    "df = pd.DataFrame({'date': ['2023-01', '2023-02', '2023-03'], 'A': [10, 15, 20], 'B': [5, 10, 15]})"
   ]
  },
  {
   "cell_type": "code",
   "execution_count": null,
   "id": "02481279-69cc-40cb-839f-d691dd394730",
   "metadata": {},
   "outputs": [],
   "source": [
    "plt.plot(df['date'], df['A'])\n",
    "plt.plot(df['date'], df['B'])\n",
    "plt.show()"
   ]
  },
  {
   "cell_type": "markdown",
   "id": "89992dfc-2e4e-4a85-9428-9dfba841e124",
   "metadata": {},
   "source": [
    "# 3\n",
    "How do you create a scatter plot of two columns with Matplotlib?"
   ]
  },
  {
   "cell_type": "code",
   "execution_count": null,
   "id": "66144b1c-ed94-4826-a0d2-bd1b7e741b17",
   "metadata": {},
   "outputs": [],
   "source": [
    "df = pd.DataFrame({'x': [1, 2, 3, 4], 'y': [10, 20, 25, 30]})"
   ]
  },
  {
   "cell_type": "code",
   "execution_count": null,
   "id": "675e35d5-4b18-4ac6-827e-2694fe621da7",
   "metadata": {},
   "outputs": [],
   "source": [
    "plt.scatter(df['x'], df['y'])\n",
    "plt.xlabel('x')\n",
    "plt.ylabel('y')\n",
    "plt.title('Q.3: Scatter Plot')\n",
    "plt.show"
   ]
  },
  {
   "cell_type": "markdown",
   "id": "e763c3af-18b9-460f-811e-468034461098",
   "metadata": {},
   "source": [
    "# 4\n",
    "How would you create a bar plot of categorical counts in Matplotlib?"
   ]
  },
  {
   "cell_type": "code",
   "execution_count": null,
   "id": "99d90aa5-5248-4bec-bdc8-cdfbd06ec004",
   "metadata": {},
   "outputs": [],
   "source": [
    "df = pd.DataFrame({'category': ['A', 'A', 'B', 'B', 'C'], 'value': [10, 15, 20, 25, 30]})"
   ]
  },
  {
   "cell_type": "code",
   "execution_count": null,
   "id": "2454d192-be43-4f70-b654-7fb28ceb12d0",
   "metadata": {},
   "outputs": [],
   "source": [
    "category_counts = df['category'].value_counts()\n",
    "\n",
    "plt.bar(category_counts.index, category_counts.values)\n",
    "plt.xlabel('Category')\n",
    "plt.ylabel('Count')\n",
    "plt.title('Bar Plot of Categorical Counts')\n",
    "plt.show"
   ]
  },
  {
   "cell_type": "markdown",
   "id": "418069a3-e249-40c8-84ed-cc8467c4c5f2",
   "metadata": {},
   "source": [
    "# 5\n",
    "How can you create a histogram of a numerical column with custom bins in Matplotlib?"
   ]
  },
  {
   "cell_type": "code",
   "execution_count": null,
   "id": "6116e62b-8425-4ac3-8ae6-7d408507dcb7",
   "metadata": {},
   "outputs": [],
   "source": [
    "df = pd.DataFrame({'score': [55, 65, 75, 85, 95, 60, 70]})"
   ]
  },
  {
   "cell_type": "code",
   "execution_count": null,
   "id": "d2672e6e-00cb-417f-a244-23d733bb2022",
   "metadata": {},
   "outputs": [],
   "source": [
    "bins = [50, 60, 70, 80, 90, 100]\n",
    "plt.hist(df['score'], bins=bins, color='lightgreen', edgecolor='black')\n",
    "plt.xlabel('Categories')\n",
    "plt.ylabel('Count')\n",
    "plt.title('Histogram with bins')\n",
    "plt.show"
   ]
  },
  {
   "cell_type": "markdown",
   "id": "9b161cf1-9cf6-49ba-9d29-460f51e1b9f0",
   "metadata": {},
   "source": [
    "# 6\n",
    "How do you create a box plot for a DataFrame column grouped by another column in Matplotlib?"
   ]
  },
  {
   "cell_type": "code",
   "execution_count": null,
   "id": "cfcc2d23-89e3-49d8-a457-ce5b75ecc02b",
   "metadata": {},
   "outputs": [],
   "source": [
    "df = pd.DataFrame({'dept': ['HR', 'IT', 'HR', 'IT'], 'salary': [50000, 60000, 55000, 65000]})"
   ]
  },
  {
   "cell_type": "code",
   "execution_count": null,
   "id": "9d471323-0eea-4063-bb73-fee2e89cae03",
   "metadata": {},
   "outputs": [],
   "source": [
    "df.boxplot(column='salary', by='dept')\n",
    "plt.title('Salary of departments')\n",
    "plt.suptitle('')\n",
    "plt.xlabel('Departments')\n",
    "plt.ylabel('Salary')\n",
    "plt.show()"
   ]
  },
  {
   "cell_type": "markdown",
   "id": "d2891921-f8a9-48ec-8519-b34b7070d53c",
   "metadata": {},
   "source": [
    "# 7\n",
    "How would you customize the title, axis labels, and legend of a Matplotlib plot?"
   ]
  },
  {
   "cell_type": "code",
   "execution_count": null,
   "id": "4ce3f8b9-d5ab-48c4-837d-fc34a78cacde",
   "metadata": {},
   "outputs": [],
   "source": [
    "df = pd.DataFrame({'date': ['2023-01', '2023-02', '2023-03'], 'value': [10, 20, 30]})"
   ]
  },
  {
   "cell_type": "code",
   "execution_count": null,
   "id": "8653d23e-cbd2-455f-87c2-6dd325d7bb20",
   "metadata": {},
   "outputs": [],
   "source": [
    "plt.plot(df['date'], df['value'])\n",
    "plt.title('A line Graph')\n",
    "plt.xlabel('Date')\n",
    "plt.ylabel('Values')\n",
    "plt.show()"
   ]
  },
  {
   "cell_type": "markdown",
   "id": "8cdee135-1eb3-40da-adf8-df9ae46002e0",
   "metadata": {},
   "source": [
    "# 8\n",
    "How can you create a stacked bar plot from a pivoted DataFrame in Matplotlib?"
   ]
  },
  {
   "cell_type": "code",
   "execution_count": null,
   "id": "cbe94f10-8cb7-48f1-a469-321641504318",
   "metadata": {},
   "outputs": [],
   "source": [
    "df = pd.DataFrame({'date': ['2023-01', '2023-01', '2023-02', '2023-02'],\n",
    "                   'category': ['A', 'B', 'A', 'B'],\n",
    "                   'value': [10, 20, 15, 25]})"
   ]
  },
  {
   "cell_type": "code",
   "execution_count": null,
   "id": "bccf65a0-0c71-4ede-94d3-fdb04b0c48a9",
   "metadata": {},
   "outputs": [],
   "source": [
    "pivoted = df.pivot(index='date', columns='category', values='value')"
   ]
  },
  {
   "cell_type": "code",
   "execution_count": null,
   "id": "e7a94cd1-3791-4f1c-9978-b903ffcec799",
   "metadata": {},
   "outputs": [],
   "source": [
    "pivoted"
   ]
  },
  {
   "cell_type": "code",
   "execution_count": null,
   "id": "7af315c6-40bd-4fcd-a5da-50aa04983c79",
   "metadata": {},
   "outputs": [],
   "source": [
    "pivoted.plot(kind='bar', stacked=True, title='Stacked Bar Graph by dataframe')\n",
    "plt.xlabel('Date')\n",
    "plt.ylabel('Value')\n",
    "plt.legend(title='Category')\n",
    "plt.tight_layout()\n",
    "plt.show()"
   ]
  },
  {
   "cell_type": "markdown",
   "id": "277ab3d4-9d6d-424e-bfe7-aa70f791aa7b",
   "metadata": {},
   "source": [
    "# 9\n",
    "How do you create a pie chart of categorical counts in Matplotlib?"
   ]
  },
  {
   "cell_type": "code",
   "execution_count": null,
   "id": "0674b3e5-ffec-4d76-a665-f6b66a769931",
   "metadata": {},
   "outputs": [],
   "source": [
    "df = pd.DataFrame({'category': ['A', 'A', 'B', 'B', 'C']})"
   ]
  },
  {
   "cell_type": "code",
   "execution_count": null,
   "id": "29bcca06-f1a7-4fbd-9a0b-aefda94c6e16",
   "metadata": {},
   "outputs": [],
   "source": [
    "count = df['category'].value_counts()"
   ]
  },
  {
   "cell_type": "code",
   "execution_count": null,
   "id": "1ebfebf7-0e53-4cd3-b2c5-a74546b662a5",
   "metadata": {},
   "outputs": [],
   "source": [
    "plt.pie(count, labels=count.index, startangle=90)\n",
    "plt.title('Pie Chart of Categorical Count')\n",
    "plt.show()"
   ]
  },
  {
   "cell_type": "markdown",
   "id": "3b8cd11f-d769-4116-8460-d38dca115ece",
   "metadata": {},
   "source": [
    "# 10\n",
    "How would you create a heatmap of a DataFrame’s correlation matrix in Matplotlib?"
   ]
  },
  {
   "cell_type": "code",
   "execution_count": null,
   "id": "8fd2550d-06f7-45fc-ad76-b8af22b14bee",
   "metadata": {},
   "outputs": [],
   "source": [
    "df = pd.DataFrame({'A': [1, 2, 3, 4], 'B': [2, 4, 6, 8], 'C': [1, 3, 5, 7]})"
   ]
  },
  {
   "cell_type": "code",
   "execution_count": null,
   "id": "0f55265a-9a5f-4717-a3a0-52dcee4ff59a",
   "metadata": {},
   "outputs": [],
   "source": [
    "import seaborn as sns"
   ]
  },
  {
   "cell_type": "code",
   "execution_count": null,
   "id": "5e45002d-6450-45f6-b43f-56785f76baf0",
   "metadata": {},
   "outputs": [],
   "source": [
    "sns.heatmap(df)\n",
    "plt.show"
   ]
  },
  {
   "cell_type": "markdown",
   "id": "ce670099-0a6d-4432-8064-a789c196d702",
   "metadata": {},
   "source": [
    "# 11\n",
    "How can you add grid lines to a Matplotlib line plot?"
   ]
  },
  {
   "cell_type": "code",
   "execution_count": null,
   "id": "98b094b9-948c-4843-a75b-6c8c80435981",
   "metadata": {},
   "outputs": [],
   "source": [
    "df = pd.DataFrame({'x': [1, 2, 3, 4], 'y': [10, 20, 25, 30]})"
   ]
  },
  {
   "cell_type": "code",
   "execution_count": null,
   "id": "84ac28a8-3987-42cb-a0cc-4a0be0a29a67",
   "metadata": {},
   "outputs": [],
   "source": [
    "df.plot(grid=True)\n",
    "plt.show()"
   ]
  },
  {
   "cell_type": "markdown",
   "id": "2c583457-bf66-40ea-965f-ab83a744313e",
   "metadata": {},
   "source": [
    "# 12\n",
    "How do you create a subplot with two different plots (e.g., line and scatter) in Matplotlib?"
   ]
  },
  {
   "cell_type": "code",
   "execution_count": null,
   "id": "78ee0efe-04ad-4301-8116-d26ca1e76171",
   "metadata": {},
   "outputs": [],
   "source": [
    "df = pd.DataFrame({'x': [1, 2, 3, 4], 'y1': [10, 20, 25, 30], 'y2': [5, 15, 10, 20]})"
   ]
  },
  {
   "cell_type": "code",
   "execution_count": null,
   "id": "10af8d9e-c3f3-4a41-8457-20b524442189",
   "metadata": {},
   "outputs": [],
   "source": [
    "fig, axs = plt.subplots(2, 1)\n",
    "\n",
    "axs[0].plot(df['x'], df['y1'], color='red')\n",
    "axs[1].scatter(df['y1'], df['y2'], color='green')\n",
    "plt.show()"
   ]
  },
  {
   "cell_type": "markdown",
   "id": "4dd24806-bd58-4e4f-8769-644ff2dd12aa",
   "metadata": {},
   "source": [
    "# 13\n",
    "How would you change the color and marker style of a scatter plot in Matplotlib?"
   ]
  },
  {
   "cell_type": "code",
   "execution_count": null,
   "id": "dc9b4182-aaa9-4d0b-ad97-7453011e43d2",
   "metadata": {},
   "outputs": [],
   "source": [
    "df = pd.DataFrame({'x': [1, 2, 3, 4], 'y': [10, 20, 25, 30]})"
   ]
  },
  {
   "cell_type": "code",
   "execution_count": null,
   "id": "fe19f4c9-3966-4746-9eec-967f1c5e1f2a",
   "metadata": {},
   "outputs": [],
   "source": [
    "plt.scatter(df['x'], df['y'], color='red')\n",
    "plt.style.use('dark_background')\n",
    "plt.show()"
   ]
  },
  {
   "cell_type": "code",
   "execution_count": null,
   "id": "5ddfdbd7-de22-457a-bc6c-6d24134efbf1",
   "metadata": {},
   "outputs": [],
   "source": [
    "print(plt.style.available)"
   ]
  },
  {
   "cell_type": "markdown",
   "id": "543164f2-22b8-4f5a-ba92-7e0693383a39",
   "metadata": {},
   "source": [
    "# 14\n",
    "How can you plot a time series with proper date formatting on the x-axis in Matplotlib?"
   ]
  },
  {
   "cell_type": "code",
   "execution_count": null,
   "id": "39126ba1-dda0-46e3-a124-ea16ed63273d",
   "metadata": {},
   "outputs": [],
   "source": [
    "df = pd.DataFrame({'date': pd.to_datetime(['2023-01-01', '2023-02-01', '2023-03-01']),\n",
    "                   'value': [10, 20, 30]})"
   ]
  },
  {
   "cell_type": "code",
   "execution_count": null,
   "id": "320c076b-e118-4ef9-98ce-915581b43771",
   "metadata": {},
   "outputs": [],
   "source": [
    "plt.plot(df['date'], df['value'])\n",
    "plt.xticks(rotation=45, ha='left')\n",
    "plt.xlabel('Date')\n",
    "plt.ylabel('Value')\n",
    "plt.title('Time Series Plot')\n",
    "plt.show()"
   ]
  },
  {
   "cell_type": "markdown",
   "id": "5df769e6-7759-442b-abe6-dcf4e675f79b",
   "metadata": {},
   "source": [
    "# 15\n",
    "How do you create an error bar plot in Matplotlib?"
   ]
  },
  {
   "cell_type": "code",
   "execution_count": null,
   "id": "c5e5c31b-fe0c-4d51-8eee-f8623ebe38d8",
   "metadata": {},
   "outputs": [],
   "source": [
    "df = pd.DataFrame({'x': [1, 2, 3], 'y': [10, 20, 30], 'error': [1, 2, 3]})"
   ]
  },
  {
   "cell_type": "code",
   "execution_count": null,
   "id": "aa480bf1-69a0-47de-b9dc-d8bf1716a321",
   "metadata": {},
   "outputs": [],
   "source": [
    "plt.plot(df['x'], df['y'])\n",
    "plt.errorbar(df['x'], df['y'], yerr=df['error'], xerr=df['error'], fmt='x')\n",
    "plt.show"
   ]
  },
  {
   "cell_type": "markdown",
   "id": "219f714f-1b8a-4893-91a0-b5a796b60f75",
   "metadata": {},
   "source": [
    "# 16\n",
    "How would you create a contour plot from a 2D dataset in Matplotlib?"
   ]
  },
  {
   "cell_type": "code",
   "execution_count": null,
   "id": "a06669a5-7e68-49e6-9c3e-dafcbd791ab2",
   "metadata": {},
   "outputs": [],
   "source": [
    "import numpy as np\n",
    "x = np.linspace(-5, 5, 100)\n",
    "y = np.linspace(-5, 5, 100)\n",
    "X, Y = np.meshgrid(x, y)\n",
    "Z = np.sin(np.sqrt(X**2 + Y**2))"
   ]
  },
  {
   "cell_type": "code",
   "execution_count": null,
   "id": "5a7c1499-f7f6-4516-907b-4d7363a487fd",
   "metadata": {},
   "outputs": [],
   "source": [
    "plt.contour(X, Y, Z, levels=20, cmap='viridis')\n",
    "plt.title('Contour Plot')\n",
    "plt.xlabel('x-axis')\n",
    "plt.ylabel('y-axis')\n",
    "plt.show()"
   ]
  },
  {
   "cell_type": "markdown",
   "id": "541e1853-a935-4dfb-a22c-935d3136a098",
   "metadata": {},
   "source": [
    "# 17\n",
    "How can you add annotations to specific points on a Matplotlib scatter plot?"
   ]
  },
  {
   "cell_type": "code",
   "execution_count": null,
   "id": "b5767c02-876d-47f9-a88f-a8e6a1c82b39",
   "metadata": {},
   "outputs": [],
   "source": [
    "df = pd.DataFrame({'x': [1, 2, 3, 4], 'y': [10, 20, 25, 30], 'label': ['A', 'B', 'C', 'D']})"
   ]
  },
  {
   "cell_type": "code",
   "execution_count": null,
   "id": "4a27b839-3fee-463f-81bd-579dc05c8683",
   "metadata": {},
   "outputs": [],
   "source": [
    "plt.scatter(df['x'], df['y'])\n",
    "for i in range(len(df)):\n",
    "    plt.annotate(df['label'][i], (df['x'][i], df['y'][i] + 0.4))\n",
    "plt.style.use('default')\n",
    "plt.show()"
   ]
  },
  {
   "cell_type": "markdown",
   "id": "e6487747-4e9e-4ec9-bb86-f2a05375da16",
   "metadata": {},
   "source": [
    "# 18\n",
    "How do you create a log-scale plot for a numerical column in Matplotlib?"
   ]
  },
  {
   "cell_type": "code",
   "execution_count": null,
   "id": "0e658114-54fa-4a77-93a0-746ec4202d58",
   "metadata": {},
   "outputs": [],
   "source": [
    "df = pd.DataFrame({'x': [1, 10, 100, 1000], 'y': [1, 100, 10000, 1000000]})"
   ]
  },
  {
   "cell_type": "code",
   "execution_count": null,
   "id": "8ab23e49-92d3-4617-b752-dc6a0a694022",
   "metadata": {},
   "outputs": [],
   "source": [
    "plt.yscale('log')\n",
    "plt.xscale('log')\n",
    "plt.plot(df['x'], df['y'])\n",
    "plt.title('Log-scale plot')\n",
    "plt.xlabel('X log-scale')\n",
    "plt.ylabel('Y log-scale')\n",
    "plt.grid(True, which=\"both\", ls=\"--\", linewidth=0.5)\n",
    "plt.show()"
   ]
  },
  {
   "cell_type": "markdown",
   "id": "d93c4a83-8565-418c-a184-057d60db41fe",
   "metadata": {},
   "source": [
    "# 19\n",
    "How would you create a 3D scatter plot in Matplotlib?"
   ]
  },
  {
   "cell_type": "code",
   "execution_count": null,
   "id": "b6a460e5-f35c-476d-adc8-73041e8f461c",
   "metadata": {},
   "outputs": [],
   "source": [
    "df = pd.DataFrame({'x': [1, 2, 3, 4], 'y': [10, 20, 25, 30], 'z': [5, 15, 10, 20]})"
   ]
  },
  {
   "cell_type": "code",
   "execution_count": null,
   "id": "a21bfd4e-dbe4-4839-82cc-02f9249d439a",
   "metadata": {},
   "outputs": [],
   "source": [
    "from mpl_toolkits.mplot3d import Axes3D as ax3"
   ]
  },
  {
   "cell_type": "code",
   "execution_count": null,
   "id": "6b5be9ef-aec9-45a7-bc22-ace9ef382a79",
   "metadata": {},
   "outputs": [],
   "source": [
    "colors = df['z']\n",
    "fig = plt.figure(figsize=(8,6))\n",
    "ax = fig.add_subplot(111, projection='3d')\n",
    "\n",
    "sc = ax.scatter3D(df['x'], df['y'], df['z'], c=colors, cmap='viridis_r', marker='^')\n",
    "plt.colorbar(sc, ax=ax, label='Z Value')\n",
    "\n",
    "ax.set_xlabel('X Axis')\n",
    "ax.set_ylabel('Y Axis')\n",
    "ax.set_zlabel('Z Axis')\n",
    "ax.set_title('Basic 3D Scatter Plot')\n",
    "plt.show()"
   ]
  },
  {
   "cell_type": "markdown",
   "id": "953d6a52-2e32-47e7-8fa7-8415aea8acf5",
   "metadata": {},
   "source": [
    "# 20\n",
    "How can you save a Matplotlib plot to a file in PNG format?"
   ]
  },
  {
   "cell_type": "code",
   "execution_count": null,
   "id": "152e0a50-1444-420a-b0a8-fe53807e5562",
   "metadata": {},
   "outputs": [],
   "source": [
    "df = pd.DataFrame({'x': [1, 2, 3, 4], 'y': [10, 20, 25, 30]})"
   ]
  },
  {
   "cell_type": "code",
   "execution_count": null,
   "id": "c197f491-3935-42e0-b447-30e7818c388c",
   "metadata": {},
   "outputs": [],
   "source": [
    "plt.plot(df['x'], df['y'])\n",
    "plt.savefig('output.jpg')"
   ]
  },
  {
   "cell_type": "markdown",
   "id": "02900da3-7a03-4d13-87fd-a1aa21cc7b7c",
   "metadata": {},
   "source": [
    "# 21\n",
    "How do you create a violin plot for a numerical column grouped by category in Matplotlib?"
   ]
  },
  {
   "cell_type": "code",
   "execution_count": null,
   "id": "82b04558-bf1d-41a3-a3c4-e2414518cb6d",
   "metadata": {},
   "outputs": [],
   "source": [
    "df = pd.DataFrame({'category': ['A', 'A', 'B', 'B'], 'value': [10, 15, 20, 25]})"
   ]
  },
  {
   "cell_type": "code",
   "execution_count": null,
   "id": "42fe92c7-3533-4e5c-a629-008e91bc3882",
   "metadata": {},
   "outputs": [],
   "source": [
    "import seaborn as sns"
   ]
  },
  {
   "cell_type": "code",
   "execution_count": null,
   "id": "8e4f936f-257c-4dd3-89f9-11305458741f",
   "metadata": {},
   "outputs": [],
   "source": [
    "sns.violinplot(x = df['category'], y = df['value'], hue='category', data=df, palette='Set2')\n",
    "plt.show()"
   ]
  },
  {
   "cell_type": "markdown",
   "id": "abbc8b94-3016-40e5-a2f2-ee557469a348",
   "metadata": {},
   "source": [
    "# 22\n",
    "How would you customize the font size and style of text elements in a Matplotlib plot?"
   ]
  },
  {
   "cell_type": "code",
   "execution_count": null,
   "id": "00641ee3-ed2f-4434-b39c-46248484e3df",
   "metadata": {},
   "outputs": [],
   "source": [
    "df = pd.DataFrame({'x': [1, 2, 3, 4], 'y': [10, 20, 25, 30]})"
   ]
  },
  {
   "cell_type": "code",
   "execution_count": null,
   "id": "ad3fc405-a486-44b8-91be-104cbb194c8d",
   "metadata": {},
   "outputs": [],
   "source": [
    "plt.plot(df['x'], df['y'])\n",
    "plt.title('Line Plot', fontsize=30, fontweight='bold', fontstyle='oblique', fontfamily='serif')\n",
    "plt.xlabel('X-Axis', fontsize=15, fontweight='light', fontstyle='italic')\n",
    "plt.ylabel('Y-Axis', fontsize=15, fontweight='medium', fontstyle='italic')\n",
    "plt.show()"
   ]
  },
  {
   "cell_type": "markdown",
   "id": "6108ab2a-2c69-4ada-b59d-983f22b0f7c7",
   "metadata": {},
   "source": [
    "# 23\n",
    "How can you create a polar plot in Matplotlib?"
   ]
  },
  {
   "cell_type": "code",
   "execution_count": null,
   "id": "5e28a3ea-880f-42c1-a115-061c1ef3644c",
   "metadata": {},
   "outputs": [],
   "source": [
    "theta = np.linspace(0, 2*np.pi, 100)\n",
    "r = np.sin(3*theta)"
   ]
  },
  {
   "cell_type": "code",
   "execution_count": null,
   "id": "10a86b4f-2f8d-417b-a13e-6eb3935f4acf",
   "metadata": {},
   "outputs": [],
   "source": [
    "plt.polar(theta, r)"
   ]
  },
  {
   "cell_type": "markdown",
   "id": "19ad70ef-ae6f-43a2-8180-cecf52bb55cf",
   "metadata": {},
   "source": [
    "# 24\n",
    "How do you create a filled area plot between two lines in Matplotlib?"
   ]
  },
  {
   "cell_type": "code",
   "execution_count": null,
   "id": "d492a6d6-8774-431e-b535-c922550ec62e",
   "metadata": {},
   "outputs": [],
   "source": [
    "df = pd.DataFrame({'x': [1, 2, 3, 4], 'y1': [10, 20, 25, 30], 'y2': [5, 15, 10, 20]})"
   ]
  },
  {
   "cell_type": "code",
   "execution_count": null,
   "id": "86829cf2-d043-4adb-80c6-80fcab348ef0",
   "metadata": {},
   "outputs": [],
   "source": [
    "plt.plot(df['x'], df['y1'])\n",
    "plt.plot(df['x'], df['y2'])\n",
    "plt.fill_between(df['x'], df['y1'], df['y2'], color='lightgreen', alpha=0.5)\n",
    "plt.show()"
   ]
  },
  {
   "cell_type": "markdown",
   "id": "664ca5f9-8915-4242-9cec-462e4341a7cf",
   "metadata": {},
   "source": [
    "# 25\n",
    "How would you create a hexbin plot for two numerical columns in Matplotlib?"
   ]
  },
  {
   "cell_type": "code",
   "execution_count": null,
   "id": "d228f4fc-fe7d-4108-8a44-e78549019e02",
   "metadata": {},
   "outputs": [],
   "source": [
    "df = pd.DataFrame({'x': np.random.randn(1000), 'y': np.random.randn(1000)})"
   ]
  },
  {
   "cell_type": "code",
   "execution_count": null,
   "id": "71b9ade4-3a9a-450f-bf71-4b44584f05fb",
   "metadata": {},
   "outputs": [],
   "source": [
    "plt.hexbin(df['x'], df['y'])"
   ]
  },
  {
   "cell_type": "markdown",
   "id": "c08461ca-c251-4cd2-bf45-dc19c135e92c",
   "metadata": {},
   "source": [
    "# 26\n",
    "How do you create a line plot of a single column from a DataFrame using Plotly Express?"
   ]
  },
  {
   "cell_type": "code",
   "execution_count": null,
   "id": "cbd1d343-9e81-4f0d-ae0d-7b69529bd320",
   "metadata": {},
   "outputs": [],
   "source": [
    "df = pd.DataFrame({'date': ['2023-01', '2023-02', '2023-03'], 'value': [10, 20, 30]})"
   ]
  },
  {
   "cell_type": "code",
   "execution_count": null,
   "id": "f996bdce-b735-4080-ba88-310b8017d826",
   "metadata": {},
   "outputs": [],
   "source": [
    "import plotly.express as px\n",
    "\n",
    "fig = px.line(df, x=df['date'], y=df['value'], title='Plot Line by Plotly')\n",
    "fig.show()"
   ]
  },
  {
   "cell_type": "markdown",
   "id": "6b4ff6f9-5a39-4468-a943-e1501eaf46f1",
   "metadata": {},
   "source": [
    "# 27\n",
    "How can you plot multiple lines from different columns of a DataFrame in a single Plotly figure?"
   ]
  },
  {
   "cell_type": "code",
   "execution_count": null,
   "id": "85d3fe64-bb14-4ddd-bc39-cd9445ab1ae1",
   "metadata": {},
   "outputs": [],
   "source": [
    "df = pd.DataFrame({'date': ['2023-01', '2023-02', '2023-03'], 'A': [10, 15, 20], 'B': [5, 10, 15]})"
   ]
  },
  {
   "cell_type": "code",
   "execution_count": null,
   "id": "0778b6e1-36a0-4438-a93f-2c9f076c7a08",
   "metadata": {},
   "outputs": [],
   "source": [
    "fig = px.line(df, x='date', y=['A', 'B'], title='Comparision of A and B')\n",
    "fig.show()"
   ]
  },
  {
   "cell_type": "markdown",
   "id": "98f92448-df8d-4179-85ee-e4b2b3b4ec4c",
   "metadata": {},
   "source": [
    "# 28\n",
    "How would you create a scatter plot of two columns with Plotly Express?"
   ]
  },
  {
   "cell_type": "code",
   "execution_count": null,
   "id": "0e761560-e2af-4f86-b9f0-2ed5b7e9f3a3",
   "metadata": {},
   "outputs": [],
   "source": [
    "df = pd.DataFrame({'x': [1, 2, 3, 4], 'y': [10, 20, 25, 30]})"
   ]
  },
  {
   "cell_type": "code",
   "execution_count": null,
   "id": "cddbe7a3-7146-4633-b6dd-82fe09e2290f",
   "metadata": {},
   "outputs": [],
   "source": [
    "fig = px.scatter(x=df['x'], y=df['y'])\n",
    "fig.show()"
   ]
  },
  {
   "cell_type": "markdown",
   "id": "906244a5-445a-4ab2-a706-ed95d4e878ae",
   "metadata": {},
   "source": [
    "# 29\n",
    "How can you create a bar plot of categorical counts in Plotly Express?"
   ]
  },
  {
   "cell_type": "code",
   "execution_count": null,
   "id": "b90b4cb2-ebaf-473d-b987-3dd9884881a8",
   "metadata": {},
   "outputs": [],
   "source": [
    "df = pd.DataFrame({'category': ['A', 'A', 'B', 'B', 'C'], 'value': [10, 15, 20, 25, 30]})"
   ]
  },
  {
   "cell_type": "code",
   "execution_count": null,
   "id": "cb4759d4-8adc-4f16-b1f0-a67f0be3edd9",
   "metadata": {},
   "outputs": [],
   "source": [
    "count_categories = df['category'].value_counts().reset_index()"
   ]
  },
  {
   "cell_type": "code",
   "execution_count": null,
   "id": "aabb6ca1-5cd4-499e-b121-2f5668234244",
   "metadata": {},
   "outputs": [],
   "source": [
    "count_categories.columns = ['category', 'count']"
   ]
  },
  {
   "cell_type": "code",
   "execution_count": null,
   "id": "05cc32b6-888f-4888-b6e8-7c2a68250e91",
   "metadata": {},
   "outputs": [],
   "source": [
    "fig = px.bar(count_categories, x='category', y='count', title='Column Counts')\n",
    "fig.show()"
   ]
  },
  {
   "cell_type": "markdown",
   "id": "b34f6b21-c91e-4d93-a323-0831ba26c4a6",
   "metadata": {},
   "source": [
    "# 30\n",
    "How do you create a histogram of a numerical column with custom bins in Plotly Express?"
   ]
  },
  {
   "cell_type": "code",
   "execution_count": null,
   "id": "6acbe22e-5aed-4c0f-b55d-8287e78d37e1",
   "metadata": {},
   "outputs": [],
   "source": [
    "df = pd.DataFrame({'score': [55, 65, 75, 85, 95, 60, 70]})"
   ]
  },
  {
   "cell_type": "code",
   "execution_count": null,
   "id": "f51074fe-4303-440e-b00e-d2bd6557a673",
   "metadata": {},
   "outputs": [],
   "source": [
    "fig = px.histogram(df, x='score', nbins = 5, color_discrete_sequence=['Red'])\n",
    "fig.show()"
   ]
  },
  {
   "cell_type": "markdown",
   "id": "248a7b3f-0d13-4c72-bfb5-5d00023ccce8",
   "metadata": {},
   "source": [
    "# 31\n",
    "How would you create a box plot for a DataFrame column grouped by another column in Plotly Express?"
   ]
  },
  {
   "cell_type": "code",
   "execution_count": null,
   "id": "e331d296-fc14-4b4b-8b1f-8cd977734b50",
   "metadata": {},
   "outputs": [],
   "source": [
    "df = pd.DataFrame({'dept': ['HR', 'IT', 'HR', 'IT'], 'salary': [50000, 60000, 55000, 65000]})"
   ]
  },
  {
   "cell_type": "code",
   "execution_count": null,
   "id": "d032a115-fd49-4c43-be3e-9f53915f7668",
   "metadata": {},
   "outputs": [],
   "source": [
    "fig = px.box(df, x='dept', y='salary', title='Salary Distribution by Department')\n",
    "fig.show()"
   ]
  },
  {
   "cell_type": "markdown",
   "id": "da72269e-4c2f-49a4-83e6-4649cfa2d30b",
   "metadata": {},
   "source": [
    "# 32\n",
    "How can you customize the title, axis labels, and legend of a Plotly plot?"
   ]
  },
  {
   "cell_type": "code",
   "execution_count": null,
   "id": "8bc42ac0-1681-4b80-83f6-916074d5327a",
   "metadata": {},
   "outputs": [],
   "source": [
    "df = pd.DataFrame({'date': ['2023-01', '2023-02', '2023-03'], 'value': [10, 20, 30]})"
   ]
  },
  {
   "cell_type": "code",
   "execution_count": null,
   "id": "269e8052-c267-44c9-8b0c-dc7eb87a57b9",
   "metadata": {},
   "outputs": [],
   "source": [
    "fig = px.line(df, x='date', y='value', title='A Simple Line Graph')\n",
    "fig.update_layout(\n",
    "    title='A Line Graph',\n",
    "    xaxis_title='Date',\n",
    "    yaxis_title='Value',\n",
    "    legend_title='A'\n",
    ")\n",
    "fig.show()"
   ]
  },
  {
   "cell_type": "markdown",
   "id": "3faaadc7-58df-4b65-805f-ddc84a6160dc",
   "metadata": {},
   "source": [
    "# 33\n",
    "How do you create a stacked bar plot from a pivoted DataFrame in Plotly Express?"
   ]
  },
  {
   "cell_type": "code",
   "execution_count": null,
   "id": "6b7dc15f-8612-45fe-9c64-63d2e0efbaae",
   "metadata": {},
   "outputs": [],
   "source": [
    "df = pd.DataFrame({'date': ['2023-01', '2023-01', '2023-02', '2023-02'],\n",
    "                   'category': ['A', 'B', 'A', 'B'],\n",
    "                   'value': [10, 20, 15, 25]})"
   ]
  },
  {
   "cell_type": "code",
   "execution_count": null,
   "id": "1f64000e-405c-450a-b3cd-d47a809d2637",
   "metadata": {},
   "outputs": [],
   "source": [
    "fig = px.bar(df, x='date', y='value', color='category', barmode='stack', title='Stacked Bar Plot')\n",
    "fig.show()"
   ]
  },
  {
   "cell_type": "markdown",
   "id": "b9ed7483-b8dc-436b-933c-500060219acf",
   "metadata": {},
   "source": [
    "# 34\n",
    "How can you create a pie chart of categorical counts in Plotly Express?"
   ]
  },
  {
   "cell_type": "code",
   "execution_count": null,
   "id": "a8c0f781-d0a5-4460-899e-119d78d31827",
   "metadata": {},
   "outputs": [],
   "source": [
    "df = pd.DataFrame({'category': ['A', 'A', 'B', 'B', 'C']})"
   ]
  },
  {
   "cell_type": "code",
   "execution_count": null,
   "id": "59489a2e-2ee8-444a-9744-de3b88af89a6",
   "metadata": {},
   "outputs": [],
   "source": [
    "df_count = df['category'].value_counts().reset_index()\n",
    "df_count.columns = ['category', 'count']\n",
    "\n",
    "fig = px.pie(df_count, names='category', values='count', title='Category Distribution')\n",
    "fig.show()"
   ]
  },
  {
   "cell_type": "markdown",
   "id": "e8062105-528b-480b-98fe-b13c1a9f595e",
   "metadata": {},
   "source": [
    "# 35\n",
    "How would you create a heatmap of a DataFrame’s correlation matrix in Plotly?"
   ]
  },
  {
   "cell_type": "code",
   "execution_count": null,
   "id": "b1d8cb96-ba3e-4516-8f96-43f42dcab4b2",
   "metadata": {},
   "outputs": [],
   "source": [
    "df = pd.DataFrame({'A': [1, 2, 3, 4], 'B': [2, 4, 6, 8], 'C': [1, 3, 5, 7]})"
   ]
  },
  {
   "cell_type": "code",
   "execution_count": null,
   "id": "45e386cb-44e2-4c07-b923-c5020e9e1e6e",
   "metadata": {},
   "outputs": [],
   "source": [
    "fig = px.imshow(df)\n",
    "fig.show()"
   ]
  },
  {
   "cell_type": "markdown",
   "id": "19f827d1-3860-4e12-8a54-c8cbe8aaec0b",
   "metadata": {},
   "source": [
    "# 36\n",
    "How can you add hover information to a Plotly scatter plot?"
   ]
  },
  {
   "cell_type": "code",
   "execution_count": null,
   "id": "a8f625c8-4ee0-42e3-9164-e990f55defea",
   "metadata": {},
   "outputs": [],
   "source": [
    "df = pd.DataFrame({'x': [1, 2, 3, 4], 'y': [10, 20, 25, 30], 'label': ['A', 'B', 'C', 'D']})"
   ]
  },
  {
   "cell_type": "code",
   "execution_count": null,
   "id": "f86f5220-9e6e-45a2-a1a9-fd2a8488610a",
   "metadata": {},
   "outputs": [],
   "source": [
    "fig = px.line(df, x='x', y='y', title=\"layout.hovermode='closest' (the default)\")\n",
    "fig.update_traces(mode=\"markers+lines\")\n",
    "fig.update_layout(hovermode='y unified')\n",
    "fig.show()"
   ]
  },
  {
   "cell_type": "markdown",
   "id": "80f43982-22db-4824-be03-0802afeb831f",
   "metadata": {},
   "source": [
    "# 37\n",
    "How do you create a subplot with two different plots (e.g., line and scatter) in Plotly?"
   ]
  },
  {
   "cell_type": "code",
   "execution_count": null,
   "id": "791974d9-df19-40aa-a137-03ed35f54a8c",
   "metadata": {},
   "outputs": [],
   "source": [
    "df = pd.DataFrame({'x': [1, 2, 3, 4], 'y1': [10, 20, 25, 30], 'y2': [5, 15, 10, 20]})"
   ]
  },
  {
   "cell_type": "code",
   "execution_count": null,
   "id": "d16f9982-4083-4c46-bbde-aa5189ab343e",
   "metadata": {},
   "outputs": [],
   "source": [
    "from plotly.subplots import make_subplots\n",
    "import plotly.graph_objects as go"
   ]
  },
  {
   "cell_type": "code",
   "execution_count": null,
   "id": "61ef1288-2ef2-470a-9986-793a8b6255df",
   "metadata": {},
   "outputs": [],
   "source": [
    "fig = make_subplots(rows=1, cols=2)\n",
    "\n",
    "fig.add_trace(\n",
    "    go.Scatter(x=df['x'], y=df['y1'], mode='lines', name='y1'),\n",
    "    row=1, col=1\n",
    ")\n",
    "\n",
    "fig.add_trace(\n",
    "    go.Scatter(x=df['x'], y=df['y2'], mode='markers', name='y2'),\n",
    "    row=1, col=2\n",
    ")\n",
    "\n",
    "fig.update_layout(height=600, width=800, title_text='Side by side subplots')\n",
    "fig.show()"
   ]
  },
  {
   "cell_type": "code",
   "execution_count": null,
   "id": "ed2cac14-edf0-44e5-a284-258f9846f318",
   "metadata": {},
   "outputs": [],
   "source": [
    "fig = make_subplots(rows=1, cols=2)\n",
    "\n",
    "graph1 = go.Scatter(x=df['x'], y=df['y1'], mode='lines', name='y1')\n",
    "graph2 = go.Scatter(x=df['x'], y=df['y2'], mode='markers', name='y2')\n",
    "\n",
    "fig.add_trace(graph1, row=1, col=1)\n",
    "\n",
    "fig.add_trace(graph2, row=1, col=2)\n",
    "\n",
    "fig.update_layout(height=600, width=800, title_text='Side by side subplots')\n",
    "fig.show()"
   ]
  },
  {
   "cell_type": "markdown",
   "id": "d45cb5bc-2118-4a87-afa4-578a949a3ff3",
   "metadata": {},
   "source": [
    "# 38\n",
    "How would you change the color scheme of a Plotly plot?"
   ]
  },
  {
   "cell_type": "code",
   "execution_count": null,
   "id": "db93948a-fe32-4567-ad94-c212adb6ebf5",
   "metadata": {},
   "outputs": [],
   "source": [
    "df = pd.DataFrame({'x': [1, 2, 3, 4], 'y': [10, 20, 25, 30]})"
   ]
  },
  {
   "cell_type": "code",
   "execution_count": null,
   "id": "9228f6c5-eb74-4a70-8bc8-97cf5e3ec277",
   "metadata": {},
   "outputs": [],
   "source": [
    "fig = px.scatter(df, x='x', y='y', color='y',\n",
    "                 title='Setting up a colour pallate',\n",
    "                 color_continuous_scale=[\"green\", \n",
    "                                         \"yellow\",\n",
    "                                         \"red\"])\n",
    "fig.show()"
   ]
  },
  {
   "cell_type": "code",
   "execution_count": null,
   "id": "fbe49e0f-3ca2-4cd0-8de1-597c4b675ebb",
   "metadata": {},
   "outputs": [],
   "source": [
    "fig = px.colors.qualitative.swatches()\n",
    "fig.show()"
   ]
  },
  {
   "cell_type": "markdown",
   "id": "89834580-3624-4ab9-af90-f2ea2bb3bf65",
   "metadata": {},
   "source": [
    "# 39\n",
    "How can you create an interactive time series plot with a range slider in Plotly?"
   ]
  },
  {
   "cell_type": "code",
   "execution_count": null,
   "id": "7017dee5-4549-485e-9c57-b18e5ae89cc2",
   "metadata": {},
   "outputs": [],
   "source": [
    "df = pd.DataFrame({'date': pd.to_datetime(['2023-01-01', '2023-02-01', '2023-03-01']), 'value': [10, 18, 30]})"
   ]
  },
  {
   "cell_type": "code",
   "execution_count": null,
   "id": "dbaf32f0-955c-469e-80a1-579c8dc8b396",
   "metadata": {},
   "outputs": [],
   "source": [
    "fig = go.Figure()\n",
    "\n",
    "fig.add_trace(\n",
    "    go.Scatter(x=df['date'], y=df['value'], mode='lines+markers', name='value')\n",
    ")\n",
    "\n",
    "fig.update_layout(\n",
    "    title='Time Series with Range Slider',\n",
    "    xaxis=dict(\n",
    "        rangeselector=dict(\n",
    "            buttons=list([\n",
    "                dict(count=1,\n",
    "                     label='1m',\n",
    "                     step='month',\n",
    "                     stepmode='backward'),\n",
    "                dict(step='all', label='All')\n",
    "            ])\n",
    "        ),\n",
    "        rangeslider=dict(\n",
    "            visible=True\n",
    "        ),\n",
    "            type=\"date\"\n",
    "        )\n",
    ")\n",
    "fig.show()"
   ]
  },
  {
   "cell_type": "code",
   "execution_count": null,
   "id": "b302061e-2f0f-44fc-beff-ca764673f1d8",
   "metadata": {},
   "outputs": [],
   "source": [
    "df = pd.DataFrame({'date': pd.to_datetime(['2023-01-01', '2023-02-01', '2023-03-01']), 'value': [10, 18, 30]})"
   ]
  },
  {
   "cell_type": "markdown",
   "id": "f2d5bc24-9f49-4333-a01a-6141b890a0d9",
   "metadata": {},
   "source": [
    "# 40\n",
    "How do you create an error bar plot in Plotly?"
   ]
  },
  {
   "cell_type": "code",
   "execution_count": null,
   "id": "e1ee94dc-525b-4a3d-b615-87a62fe45d0e",
   "metadata": {},
   "outputs": [],
   "source": [
    "df = pd.DataFrame({'x': [1, 2, 3], 'y': [10, 20, 30], 'error': [1, 2, 3]})"
   ]
  },
  {
   "cell_type": "code",
   "execution_count": null,
   "id": "61c72e89-0c22-486e-85e6-0299cc7c578f",
   "metadata": {},
   "outputs": [],
   "source": [
    "fig = px.line(df, x=df['x'], y=df['y'], error_x=df['error'], error_y=df['error'])\n",
    "fig.show()"
   ]
  },
  {
   "cell_type": "markdown",
   "id": "e8515471-468d-4032-9895-e5c9adcb11b5",
   "metadata": {},
   "source": [
    "# 41\n",
    "How would you create a 3D scatter plot in Plotly?"
   ]
  },
  {
   "cell_type": "code",
   "execution_count": null,
   "id": "534e73f3-6e0b-46c0-a59c-57d25e796f19",
   "metadata": {},
   "outputs": [],
   "source": [
    "df = pd.DataFrame({'x': [1, 2, 3, 4], 'y': [10, 20, 25, 30], 'z': [5, 15, 10, 20]})"
   ]
  },
  {
   "cell_type": "code",
   "execution_count": null,
   "id": "e04bead3-e7f4-4a52-bd6f-a0b384b60664",
   "metadata": {},
   "outputs": [],
   "source": [
    "fig = px.scatter_3d(df, x='x', y='y', z='z', color='y')\n",
    "fig.show()"
   ]
  },
  {
   "cell_type": "markdown",
   "id": "68b488b7-beb5-438c-861a-f373245253e3",
   "metadata": {},
   "source": [
    "# 42\n",
    "How can you create a choropleth map in Plotly using geographical data?"
   ]
  },
  {
   "cell_type": "code",
   "execution_count": null,
   "id": "c759ad79-2639-4837-92fb-13570e94ca56",
   "metadata": {},
   "outputs": [],
   "source": [
    "df = pd.DataFrame({'country': ['USA', 'Canada', 'Mexico'], 'value': [100, 200, 150]})"
   ]
  },
  {
   "cell_type": "code",
   "execution_count": null,
   "id": "55d0ea22-c10a-422b-bad9-3ac8649c074d",
   "metadata": {},
   "outputs": [],
   "source": [
    "fig = px.choropleth(df['value'], locations=df['country'],\n",
    "                    locationmode='country names',\n",
    "                    color=df['value'],\n",
    "                    scope='world')\n",
    "fig.show()"
   ]
  },
  {
   "cell_type": "markdown",
   "id": "df303ec3-1139-4c08-8021-f88ba6f4126b",
   "metadata": {},
   "source": [
    "# 43\n",
    "How do you add dropdown menus to interact with a Plotly plot?"
   ]
  },
  {
   "cell_type": "code",
   "execution_count": null,
   "id": "e984c6f6-fac1-45d7-9d88-1cc09f9edf0d",
   "metadata": {},
   "outputs": [],
   "source": [
    "import plotly.graph_objects as go"
   ]
  },
  {
   "cell_type": "code",
   "execution_count": null,
   "id": "4b50f9bb-5719-4abd-9626-6cb35962e132",
   "metadata": {},
   "outputs": [],
   "source": [
    "df = pd.DataFrame({'x': [1, 2, 3, 4], 'y1': [10, 20, 25, 30], 'y2': [5, 15, 10, 20]})"
   ]
  },
  {
   "cell_type": "code",
   "execution_count": null,
   "id": "c31b7d4e-0c40-41dd-9a6c-e4e7426359ca",
   "metadata": {},
   "outputs": [],
   "source": [
    "fig = go.Figure(data=[go.Scatter(\n",
    "    x=df['x'],\n",
    "    y=df['y1'],\n",
    "    mode='markers')\n",
    "])\n",
    "\n",
    "fig.update_layout(\n",
    "    updatemenus=[\n",
    "        dict(\n",
    "            buttons=list([\n",
    "                dict(\n",
    "                    args=['type', 'scatter'],\n",
    "                    label='Scatter Plot',\n",
    "                    method='restyle'\n",
    "                ),\n",
    "                dict(\n",
    "                    args=['type', 'bar'],\n",
    "                    label='Bar Chart',\n",
    "                    method='restyle'\n",
    "                )\n",
    "            ]),\n",
    "            direction='down',\n",
    "        ),\n",
    "    ]\n",
    ")\n",
    "fig.show()"
   ]
  },
  {
   "cell_type": "markdown",
   "id": "2280f040-346b-4f2c-9b9f-5a2832cc8e2f",
   "metadata": {},
   "source": [
    "# 44\n",
    "How would you create a violin plot for a numerical column grouped by category in Plotly?"
   ]
  },
  {
   "cell_type": "code",
   "execution_count": null,
   "id": "dbc396ab-f1d3-4805-ba6a-86bcd472a86e",
   "metadata": {},
   "outputs": [],
   "source": [
    "df = pd.DataFrame({'category': ['A', 'A', 'B', 'B'], 'value': [10, 15, 20, 25]})"
   ]
  },
  {
   "cell_type": "code",
   "execution_count": null,
   "id": "95471aa2-cbec-47b2-9c68-2718cb5e00c6",
   "metadata": {},
   "outputs": [],
   "source": [
    "fig = px.violin(df, x='category',\n",
    "                y='value', box=True,\n",
    "                points='all',\n",
    "                color='category',\n",
    "                hover_data=['category', 'value'])\n",
    "fig.show()"
   ]
  },
  {
   "cell_type": "markdown",
   "id": "8fe9ff46-d9e3-461c-b6e0-e5e26fb7549c",
   "metadata": {},
   "source": [
    "# 45\n",
    "How can you export a Plotly plot as an HTML file?"
   ]
  },
  {
   "cell_type": "code",
   "execution_count": null,
   "id": "384b62ad-4fc2-47e9-bfee-aa94e1f41dc9",
   "metadata": {},
   "outputs": [],
   "source": [
    "df = pd.DataFrame({'x': [1, 2, 3, 4], 'y': [10, 20, 25, 30]})"
   ]
  },
  {
   "cell_type": "code",
   "execution_count": null,
   "id": "df707ffa-b7a4-4f69-99d7-83a6c5f2769f",
   "metadata": {},
   "outputs": [],
   "source": [
    "fig = px.line(df, x='x', y='y')\n",
    "fig.write_html('line_graph.html')"
   ]
  },
  {
   "cell_type": "markdown",
   "id": "962aacae-37ed-430d-9ba6-8ef8d399e99e",
   "metadata": {},
   "source": [
    "# 46\n",
    "How do you create a sankey diagram in Plotly?"
   ]
  },
  {
   "cell_type": "code",
   "execution_count": null,
   "id": "73faf768-a6c3-46da-af77-0c695dc8e70c",
   "metadata": {},
   "outputs": [],
   "source": [
    "df = pd.DataFrame({'source': ['A', 'A', 'B'], 'target': ['B', 'C', 'C'], 'value': [10, 20, 30]})"
   ]
  },
  {
   "cell_type": "code",
   "execution_count": null,
   "id": "7829a829-8f9a-493a-b11e-0ed17d19e256",
   "metadata": {},
   "outputs": [],
   "source": [
    "import plotly.graph_objects as go"
   ]
  },
  {
   "cell_type": "code",
   "execution_count": null,
   "id": "8de9313c-62ad-4915-8f36-23c009bda9f7",
   "metadata": {},
   "outputs": [],
   "source": [
    "labels = list(pd.unique(df[['source', 'target']].values.ravel()))\n",
    "\n",
    "label_to_index = {label: i for i, label in enumerate(labels)}\n",
    "\n",
    "df['source_id'] = df['source'].map(label_to_index)\n",
    "df['target_id'] = df['target'].map(label_to_index)\n",
    "\n",
    "fig = go.Figure(data=[go.Sankey(\n",
    "    node = dict(\n",
    "        pad = 15,\n",
    "        thickness = 30,\n",
    "        line = dict(color='black', width=0.5),\n",
    "        label=labels\n",
    "    ),\n",
    "    link = dict(\n",
    "        source = df['source_id'],\n",
    "        target = df['target_id'],\n",
    "        value = df['value']\n",
    "    )\n",
    ")])\n",
    "\n",
    "fig.show()"
   ]
  },
  {
   "cell_type": "markdown",
   "id": "38a7657a-8a8b-4c82-9c92-67080fbd18e3",
   "metadata": {},
   "source": [
    "# 47\n",
    "How would you create a facet grid of scatter plots in Plotly Express?"
   ]
  },
  {
   "cell_type": "code",
   "execution_count": null,
   "id": "ca45dc2a-fc41-4bdb-91f5-9696a543bd64",
   "metadata": {},
   "outputs": [],
   "source": [
    "df = pd.DataFrame({'x': [1, 2, 3, 4, 5, 6],\n",
    "                   'y': [10, 20, 25, 30, 35, 40],\n",
    "                   'category': ['A', 'A', 'B', 'B', 'A', 'B']})"
   ]
  },
  {
   "cell_type": "code",
   "execution_count": null,
   "id": "388150ad-5443-4d15-a669-2da36227302b",
   "metadata": {},
   "outputs": [],
   "source": [
    "fig = px.scatter(df, x='x', y='y', color='category', facet_col='category')\n",
    "fig.show()"
   ]
  },
  {
   "cell_type": "markdown",
   "id": "8e91a9c4-3ff7-45f8-908b-1979fccc1232",
   "metadata": {},
   "source": [
    "# 48\n",
    "How can you create a density contour plot in Plotly?"
   ]
  },
  {
   "cell_type": "code",
   "execution_count": null,
   "id": "aae57be6-ceaf-4a17-9b77-8df63ec9dab6",
   "metadata": {},
   "outputs": [],
   "source": [
    "df = pd.DataFrame({'x': np.random.randn(1000), 'y': np.random.randn(1000)})"
   ]
  },
  {
   "cell_type": "code",
   "execution_count": null,
   "id": "85e375ef-2948-435e-be24-23ea36b10a2d",
   "metadata": {},
   "outputs": [],
   "source": [
    "fig = px.density_contour(df, x='x', y='y', color='y')\n",
    "fig.show()"
   ]
  },
  {
   "cell_type": "markdown",
   "id": "4b19da48-7cb7-42d4-a906-cd09e0d90c2f",
   "metadata": {},
   "source": [
    "# 49\n",
    "How do you create a polar plot in Plotly?"
   ]
  },
  {
   "cell_type": "code",
   "execution_count": null,
   "id": "98b7a2c2-bb90-458a-838d-ae9a0cee6891",
   "metadata": {},
   "outputs": [],
   "source": [
    "theta = np.linspace(0, 2*np.pi, 100)\n",
    "r = np.sin(3*theta)\n",
    "df = pd.DataFrame({'theta': theta, 'r': r})"
   ]
  },
  {
   "cell_type": "code",
   "execution_count": null,
   "id": "c6ae5108-8739-4ca2-a6a1-c4337f7ec65e",
   "metadata": {},
   "outputs": [],
   "source": [
    "fig = px.scatter_polar(df, r=r, theta=theta, template='plotly_dark')\n",
    "fig.show()"
   ]
  },
  {
   "cell_type": "markdown",
   "id": "4341f092-be8c-463e-ae39-f38ffce00948",
   "metadata": {},
   "source": [
    "# 50\n",
    "How would you create an animated scatter plot in Plotly to show changes over time?"
   ]
  },
  {
   "cell_type": "code",
   "execution_count": null,
   "id": "37857d54-ece5-463f-a0e0-a81981c488bd",
   "metadata": {},
   "outputs": [],
   "source": [
    "df = pd.DataFrame({\n",
    "'x': [1, 2, 3, 1, 2, 3],\n",
    "'y': [10, 20, 30, 15, 25, 35],\n",
    "'time': ['2023-01', '2023-01', '2023-01', '2023-02', '2023-02', '2023-02']\n",
    "})"
   ]
  },
  {
   "cell_type": "code",
   "execution_count": null,
   "id": "f9781f11-6247-4868-92cb-73d1e4bbf13c",
   "metadata": {},
   "outputs": [],
   "source": [
    "fig = px.scatter(\n",
    "    df,\n",
    "    x='x',\n",
    "    y='y',\n",
    "    animation_frame='time',\n",
    "    size='y',\n",
    "    color='x',\n",
    "    title='Animated Montly Sales Data',\n",
    "    labels={'x': 'Product ID', 'y': 'Sales'})\n",
    "\n",
    "fig.update_layout(\n",
    "    title_x=0.5,\n",
    "    xaxis_title='Product ID',\n",
    "    yaxis_title='Sales',\n",
    "    legend_title='Product',\n",
    "    hovermode='closest',\n",
    "    showlegend=True\n",
    ")\n",
    "fig.show()"
   ]
  }
 ],
 "metadata": {
  "kernelspec": {
   "display_name": "Python 3 (ipykernel)",
   "language": "python",
   "name": "python3"
  },
  "language_info": {
   "codemirror_mode": {
    "name": "ipython",
    "version": 3
   },
   "file_extension": ".py",
   "mimetype": "text/x-python",
   "name": "python",
   "nbconvert_exporter": "python",
   "pygments_lexer": "ipython3",
   "version": "3.10.16"
  }
 },
 "nbformat": 4,
 "nbformat_minor": 5
}
