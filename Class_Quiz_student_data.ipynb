{
 "cells": [
  {
   "cell_type": "code",
   "execution_count": 1,
   "id": "600b3f15-7585-4a7f-a890-7caa2d620fa1",
   "metadata": {},
   "outputs": [],
   "source": [
    "import pandas as pd"
   ]
  },
  {
   "cell_type": "code",
   "execution_count": 2,
   "id": "9404ce9b-65f0-4fea-a018-cfe2477da759",
   "metadata": {},
   "outputs": [],
   "source": [
    "import numpy as np"
   ]
  },
  {
   "cell_type": "code",
   "execution_count": 3,
   "id": "985982a7-d097-4975-a368-c9c97bb20878",
   "metadata": {},
   "outputs": [],
   "source": [
    "import matplotlib.pyplot as plt"
   ]
  },
  {
   "cell_type": "code",
   "execution_count": 4,
   "id": "692905ef-9492-4257-aa96-eb652d58199d",
   "metadata": {},
   "outputs": [],
   "source": [
    "import seaborn as sns"
   ]
  },
  {
   "cell_type": "code",
   "execution_count": 5,
   "id": "fc312109-c276-42ea-8b30-3dbaacbed86d",
   "metadata": {},
   "outputs": [],
   "source": [
    "df = pd.read_csv('student_data (1).csv')"
   ]
  },
  {
   "cell_type": "code",
   "execution_count": 7,
   "id": "005868b1-44e4-4e44-8c5d-ac211eaed2a1",
   "metadata": {},
   "outputs": [
    {
     "name": "stdout",
     "output_type": "stream",
     "text": [
      "<class 'pandas.core.frame.DataFrame'>\n",
      "RangeIndex: 100 entries, 0 to 99\n",
      "Data columns (total 9 columns):\n",
      " #   Column           Non-Null Count  Dtype  \n",
      "---  ------           --------------  -----  \n",
      " 0   Student_ID       100 non-null    int64  \n",
      " 1   Name             100 non-null    object \n",
      " 2   Age              100 non-null    int64  \n",
      " 3   Gender           100 non-null    object \n",
      " 4   Math_Grade       95 non-null     float64\n",
      " 5   Science_Grade    100 non-null    float64\n",
      " 6   English_Grade    100 non-null    float64\n",
      " 7   Attendance (%)   97 non-null     float64\n",
      " 8   Extracurricular  100 non-null    object \n",
      "dtypes: float64(4), int64(2), object(3)\n",
      "memory usage: 7.2+ KB\n"
     ]
    }
   ],
   "source": [
    "df.info()"
   ]
  },
  {
   "cell_type": "code",
   "execution_count": 10,
   "id": "539cee97-54a7-4e40-b09f-c0ce3c8f0ae9",
   "metadata": {},
   "outputs": [
    {
     "data": {
      "text/plain": [
       "(100, 9)"
      ]
     },
     "execution_count": 10,
     "metadata": {},
     "output_type": "execute_result"
    }
   ],
   "source": [
    "df.shape"
   ]
  },
  {
   "cell_type": "code",
   "execution_count": 11,
   "id": "9f2dea0a-6f26-4d73-acd4-5600a2e4b02e",
   "metadata": {},
   "outputs": [
    {
     "data": {
      "text/plain": [
       "2"
      ]
     },
     "execution_count": 11,
     "metadata": {},
     "output_type": "execute_result"
    }
   ],
   "source": [
    "df.ndim"
   ]
  },
  {
   "cell_type": "code",
   "execution_count": 7,
   "id": "8e715519-c205-4914-8c9b-5364bf9358c2",
   "metadata": {},
   "outputs": [],
   "source": [
    "summary = (df.describe()).round(1)"
   ]
  },
  {
   "cell_type": "code",
   "execution_count": 8,
   "id": "35d56b06-5350-4f8c-98a7-0fb0723de49b",
   "metadata": {},
   "outputs": [
    {
     "data": {
      "text/html": [
       "<div>\n",
       "<style scoped>\n",
       "    .dataframe tbody tr th:only-of-type {\n",
       "        vertical-align: middle;\n",
       "    }\n",
       "\n",
       "    .dataframe tbody tr th {\n",
       "        vertical-align: top;\n",
       "    }\n",
       "\n",
       "    .dataframe thead th {\n",
       "        text-align: right;\n",
       "    }\n",
       "</style>\n",
       "<table border=\"1\" class=\"dataframe\">\n",
       "  <thead>\n",
       "    <tr style=\"text-align: right;\">\n",
       "      <th></th>\n",
       "      <th>Student_ID</th>\n",
       "      <th>Age</th>\n",
       "      <th>Math_Grade</th>\n",
       "      <th>Science_Grade</th>\n",
       "      <th>English_Grade</th>\n",
       "      <th>Attendance (%)</th>\n",
       "    </tr>\n",
       "  </thead>\n",
       "  <tbody>\n",
       "    <tr>\n",
       "      <th>count</th>\n",
       "      <td>100.0</td>\n",
       "      <td>100.0</td>\n",
       "      <td>95.0</td>\n",
       "      <td>100.0</td>\n",
       "      <td>100.0</td>\n",
       "      <td>97.0</td>\n",
       "    </tr>\n",
       "    <tr>\n",
       "      <th>mean</th>\n",
       "      <td>50.5</td>\n",
       "      <td>15.6</td>\n",
       "      <td>74.9</td>\n",
       "      <td>71.2</td>\n",
       "      <td>72.6</td>\n",
       "      <td>90.3</td>\n",
       "    </tr>\n",
       "    <tr>\n",
       "      <th>std</th>\n",
       "      <td>29.0</td>\n",
       "      <td>1.1</td>\n",
       "      <td>9.6</td>\n",
       "      <td>11.4</td>\n",
       "      <td>10.3</td>\n",
       "      <td>5.1</td>\n",
       "    </tr>\n",
       "    <tr>\n",
       "      <th>min</th>\n",
       "      <td>1.0</td>\n",
       "      <td>14.0</td>\n",
       "      <td>48.8</td>\n",
       "      <td>45.7</td>\n",
       "      <td>36.3</td>\n",
       "      <td>79.4</td>\n",
       "    </tr>\n",
       "    <tr>\n",
       "      <th>25%</th>\n",
       "      <td>25.8</td>\n",
       "      <td>15.0</td>\n",
       "      <td>69.5</td>\n",
       "      <td>61.4</td>\n",
       "      <td>65.5</td>\n",
       "      <td>86.3</td>\n",
       "    </tr>\n",
       "    <tr>\n",
       "      <th>50%</th>\n",
       "      <td>50.5</td>\n",
       "      <td>16.0</td>\n",
       "      <td>74.7</td>\n",
       "      <td>72.7</td>\n",
       "      <td>72.5</td>\n",
       "      <td>90.4</td>\n",
       "    </tr>\n",
       "    <tr>\n",
       "      <th>75%</th>\n",
       "      <td>75.2</td>\n",
       "      <td>17.0</td>\n",
       "      <td>81.0</td>\n",
       "      <td>77.9</td>\n",
       "      <td>79.7</td>\n",
       "      <td>93.6</td>\n",
       "    </tr>\n",
       "    <tr>\n",
       "      <th>max</th>\n",
       "      <td>100.0</td>\n",
       "      <td>17.0</td>\n",
       "      <td>99.6</td>\n",
       "      <td>100.0</td>\n",
       "      <td>95.5</td>\n",
       "      <td>100.0</td>\n",
       "    </tr>\n",
       "  </tbody>\n",
       "</table>\n",
       "</div>"
      ],
      "text/plain": [
       "       Student_ID    Age  Math_Grade  Science_Grade  English_Grade  \\\n",
       "count       100.0  100.0        95.0          100.0          100.0   \n",
       "mean         50.5   15.6        74.9           71.2           72.6   \n",
       "std          29.0    1.1         9.6           11.4           10.3   \n",
       "min           1.0   14.0        48.8           45.7           36.3   \n",
       "25%          25.8   15.0        69.5           61.4           65.5   \n",
       "50%          50.5   16.0        74.7           72.7           72.5   \n",
       "75%          75.2   17.0        81.0           77.9           79.7   \n",
       "max         100.0   17.0        99.6          100.0           95.5   \n",
       "\n",
       "       Attendance (%)  \n",
       "count            97.0  \n",
       "mean             90.3  \n",
       "std               5.1  \n",
       "min              79.4  \n",
       "25%              86.3  \n",
       "50%              90.4  \n",
       "75%              93.6  \n",
       "max             100.0  "
      ]
     },
     "execution_count": 8,
     "metadata": {},
     "output_type": "execute_result"
    }
   ],
   "source": [
    "summary"
   ]
  },
  {
   "cell_type": "code",
   "execution_count": 9,
   "id": "2fb8de7b-667e-4be6-843a-3d7f52dad302",
   "metadata": {},
   "outputs": [],
   "source": [
    "correlation = (summary.corr()).round(3)"
   ]
  },
  {
   "cell_type": "code",
   "execution_count": 10,
   "id": "6a06c3f3-ef03-4dd9-8b53-59ac903fae3d",
   "metadata": {},
   "outputs": [
    {
     "data": {
      "text/html": [
       "<div>\n",
       "<style scoped>\n",
       "    .dataframe tbody tr th:only-of-type {\n",
       "        vertical-align: middle;\n",
       "    }\n",
       "\n",
       "    .dataframe tbody tr th {\n",
       "        vertical-align: top;\n",
       "    }\n",
       "\n",
       "    .dataframe thead th {\n",
       "        text-align: right;\n",
       "    }\n",
       "</style>\n",
       "<table border=\"1\" class=\"dataframe\">\n",
       "  <thead>\n",
       "    <tr style=\"text-align: right;\">\n",
       "      <th></th>\n",
       "      <th>Student_ID</th>\n",
       "      <th>Age</th>\n",
       "      <th>Math_Grade</th>\n",
       "      <th>Science_Grade</th>\n",
       "      <th>English_Grade</th>\n",
       "      <th>Attendance (%)</th>\n",
       "    </tr>\n",
       "  </thead>\n",
       "  <tbody>\n",
       "    <tr>\n",
       "      <th>Student_ID</th>\n",
       "      <td>1.000</td>\n",
       "      <td>0.573</td>\n",
       "      <td>0.747</td>\n",
       "      <td>0.812</td>\n",
       "      <td>0.820</td>\n",
       "      <td>0.470</td>\n",
       "    </tr>\n",
       "    <tr>\n",
       "      <th>Age</th>\n",
       "      <td>0.573</td>\n",
       "      <td>1.000</td>\n",
       "      <td>0.505</td>\n",
       "      <td>0.580</td>\n",
       "      <td>0.577</td>\n",
       "      <td>0.379</td>\n",
       "    </tr>\n",
       "    <tr>\n",
       "      <th>Math_Grade</th>\n",
       "      <td>0.747</td>\n",
       "      <td>0.505</td>\n",
       "      <td>1.000</td>\n",
       "      <td>0.991</td>\n",
       "      <td>0.987</td>\n",
       "      <td>0.931</td>\n",
       "    </tr>\n",
       "    <tr>\n",
       "      <th>Science_Grade</th>\n",
       "      <td>0.812</td>\n",
       "      <td>0.580</td>\n",
       "      <td>0.991</td>\n",
       "      <td>1.000</td>\n",
       "      <td>0.990</td>\n",
       "      <td>0.889</td>\n",
       "    </tr>\n",
       "    <tr>\n",
       "      <th>English_Grade</th>\n",
       "      <td>0.820</td>\n",
       "      <td>0.577</td>\n",
       "      <td>0.987</td>\n",
       "      <td>0.990</td>\n",
       "      <td>1.000</td>\n",
       "      <td>0.872</td>\n",
       "    </tr>\n",
       "    <tr>\n",
       "      <th>Attendance (%)</th>\n",
       "      <td>0.470</td>\n",
       "      <td>0.379</td>\n",
       "      <td>0.931</td>\n",
       "      <td>0.889</td>\n",
       "      <td>0.872</td>\n",
       "      <td>1.000</td>\n",
       "    </tr>\n",
       "  </tbody>\n",
       "</table>\n",
       "</div>"
      ],
      "text/plain": [
       "                Student_ID    Age  Math_Grade  Science_Grade  English_Grade  \\\n",
       "Student_ID           1.000  0.573       0.747          0.812          0.820   \n",
       "Age                  0.573  1.000       0.505          0.580          0.577   \n",
       "Math_Grade           0.747  0.505       1.000          0.991          0.987   \n",
       "Science_Grade        0.812  0.580       0.991          1.000          0.990   \n",
       "English_Grade        0.820  0.577       0.987          0.990          1.000   \n",
       "Attendance (%)       0.470  0.379       0.931          0.889          0.872   \n",
       "\n",
       "                Attendance (%)  \n",
       "Student_ID               0.470  \n",
       "Age                      0.379  \n",
       "Math_Grade               0.931  \n",
       "Science_Grade            0.889  \n",
       "English_Grade            0.872  \n",
       "Attendance (%)           1.000  "
      ]
     },
     "execution_count": 10,
     "metadata": {},
     "output_type": "execute_result"
    }
   ],
   "source": [
    "correlation"
   ]
  },
  {
   "cell_type": "code",
   "execution_count": 25,
   "id": "6af02a2d-ec61-4ef6-a239-e95b942b6798",
   "metadata": {},
   "outputs": [
    {
     "data": {
      "image/png": "[encoded data removed]",
      "text/plain": [
       "<Figure size 640x480 with 2 Axes>"
      ]
     },
     "metadata": {},
     "output_type": "display_data"
    }
   ],
   "source": [
    "plt.imshow(correlation, cmap =\"RdYlBu\")\n",
    "plt.colorbar()\n",
    "plt.show()"
   ]
  },
  {
   "cell_type": "code",
   "execution_count": 31,
   "id": "ce180466-1962-4281-a081-0be0505ec7e3",
   "metadata": {},
   "outputs": [
    {
     "data": {
      "text/plain": [
       "Student_ID         0\n",
       "Name               0\n",
       "Age                0\n",
       "Gender             0\n",
       "Math_Grade         5\n",
       "Science_Grade      0\n",
       "English_Grade      0\n",
       "Attendance (%)     3\n",
       "Extracurricular    0\n",
       "dtype: int64"
      ]
     },
     "execution_count": 31,
     "metadata": {},
     "output_type": "execute_result"
    }
   ],
   "source": [
    "df.isnull().sum()"
   ]
  },
  {
   "cell_type": "code",
   "execution_count": 39,
   "id": "e8753c93-257d-4620-9bdf-e5596feaa29c",
   "metadata": {},
   "outputs": [],
   "source": [
    "mean = df['Math_Grade'].mean()"
   ]
  },
  {
   "cell_type": "code",
   "execution_count": 48,
   "id": "25b6dc9a-a104-4b51-b5f2-4d10f78e651d",
   "metadata": {},
   "outputs": [],
   "source": [
    "df['Math_Grade'] = df['Math_Grade'].fillna(mean)"
   ]
  },
  {
   "cell_type": "code",
   "execution_count": 44,
   "id": "208100bf-8d8a-4ddf-82d0-bbd86c30d627",
   "metadata": {},
   "outputs": [],
   "source": [
    "mean_attendence = df['Attendance (%)'].mean()"
   ]
  },
  {
   "cell_type": "code",
   "execution_count": 49,
   "id": "645126f5-9a5f-417a-b7f8-3ef52f60cbc5",
   "metadata": {},
   "outputs": [],
   "source": [
    "df['Attendance (%)'] = df['Attendance (%)'].fillna(mean_attendence)"
   ]
  },
  {
   "cell_type": "code",
   "execution_count": 50,
   "id": "67f918b3-858b-4623-9641-9135e9d7f50c",
   "metadata": {},
   "outputs": [
    {
     "data": {
      "text/plain": [
       "Student_ID         0\n",
       "Name               0\n",
       "Age                0\n",
       "Gender             0\n",
       "Math_Grade         0\n",
       "Science_Grade      0\n",
       "English_Grade      0\n",
       "Attendance (%)     0\n",
       "Extracurricular    0\n",
       "dtype: int64"
      ]
     },
     "execution_count": 50,
     "metadata": {},
     "output_type": "execute_result"
    }
   ],
   "source": [
    "df.isnull().sum()"
   ]
  },
  {
   "cell_type": "code",
   "execution_count": 58,
   "id": "73014d6c-d3ab-43fc-a38d-f262eef55870",
   "metadata": {},
   "outputs": [],
   "source": [
    "group_gender = df.groupby('Gender')['Gender'].count()"
   ]
  },
  {
   "cell_type": "code",
   "execution_count": 65,
   "id": "0b12ae54-bc66-4230-b59e-de91f393fc74",
   "metadata": {},
   "outputs": [
    {
     "data": {
      "image/png": "[encoded data removed]",
      "text/plain": [
       "<Figure size 640x480 with 1 Axes>"
      ]
     },
     "metadata": {},
     "output_type": "display_data"
    }
   ],
   "source": [
    "plt.pie(group_gender, labels=group_gender.index)\n",
    "plt.show()"
   ]
  },
  {
   "cell_type": "code",
   "execution_count": 73,
   "id": "7953c5a1-1037-46c0-a4f4-b966944f7fea",
   "metadata": {},
   "outputs": [],
   "source": [
    "df = df.replace([' ', ''], np.nan)"
   ]
  },
  {
   "cell_type": "code",
   "execution_count": 74,
   "id": "6c804f26-80c9-4e2e-beab-3ebff2c374cb",
   "metadata": {},
   "outputs": [],
   "source": [
    "df = df.dropna(how='any')"
   ]
  },
  {
   "cell_type": "code",
   "execution_count": 86,
   "id": "a5d57303-5ec3-4a80-9272-859faa5cb96a",
   "metadata": {},
   "outputs": [
    {
     "data": {
      "image/png": "[encoded data removed]",
      "text/plain": [
       "<Figure size 640x480 with 1 Axes>"
      ]
     },
     "metadata": {},
     "output_type": "display_data"
    }
   ],
   "source": [
    "sns.boxplot(df)\n",
    "plt.xticks(rotation=45)\n",
    "plt.show()"
   ]
  },
  {
   "cell_type": "code",
   "execution_count": 94,
   "id": "33bb77ce-bbe4-452e-942b-1bb2e7c2a8ad",
   "metadata": {},
   "outputs": [
    {
     "data": {
      "image/png": "[encoded data removed]",
      "text/plain": [
       "<Figure size 640x480 with 1 Axes>"
      ]
     },
     "metadata": {},
     "output_type": "display_data"
    }
   ],
   "source": [
    "plt.scatter(df['Attendance (%)'], df['Math_Grade'])\n",
    "plt.xlabel('Attendance')\n",
    "plt.ylabel('Math Grade')\n",
    "plt.title('Scatter Plot Showing Relation Between Math Grade and Attendance')\n",
    "plt.show()"
   ]
  },
  {
   "cell_type": "code",
   "execution_count": 98,
   "id": "36ba3f33-62b0-4665-a8a3-20ddb39b44d1",
   "metadata": {},
   "outputs": [],
   "source": [
    "correlation_math_attendance = df['Attendance (%)'].corr(df['Math_Grade'])"
   ]
  },
  {
   "cell_type": "code",
   "execution_count": 99,
   "id": "ce1e8868-bcda-4a59-9977-5a854b28be08",
   "metadata": {},
   "outputs": [
    {
     "data": {
      "text/plain": [
       "np.float64(-0.007729987865728339)"
      ]
     },
     "execution_count": 99,
     "metadata": {},
     "output_type": "execute_result"
    }
   ],
   "source": [
    "correlation_math_attendance"
   ]
  },
  {
   "cell_type": "code",
   "execution_count": 101,
   "id": "c88d6efb-76b7-4a35-b77c-561752b2f610",
   "metadata": {},
   "outputs": [],
   "source": [
    "correlation_english_attendance = df['Attendance (%)'].corr(df['English_Grade'])"
   ]
  },
  {
   "cell_type": "code",
   "execution_count": 102,
   "id": "aaf17a35-6e8b-499c-b8ee-70918b4ef864",
   "metadata": {},
   "outputs": [
    {
     "data": {
      "text/plain": [
       "np.float64(0.03598620943072738)"
      ]
     },
     "execution_count": 102,
     "metadata": {},
     "output_type": "execute_result"
    }
   ],
   "source": [
    "correlation_english_attendance"
   ]
  },
  {
   "cell_type": "code",
   "execution_count": 103,
   "id": "5ca4b4a5-e25f-4cb9-bfe6-162696b276db",
   "metadata": {},
   "outputs": [],
   "source": [
    "correlation_science_attendance = df['Attendance (%)'].corr(df['Science_Grade'])"
   ]
  },
  {
   "cell_type": "code",
   "execution_count": 104,
   "id": "9d3d43c6-674a-4235-a71c-96d973b0e6e6",
   "metadata": {},
   "outputs": [
    {
     "data": {
      "text/plain": [
       "np.float64(-0.03141171288473793)"
      ]
     },
     "execution_count": 104,
     "metadata": {},
     "output_type": "execute_result"
    }
   ],
   "source": [
    "correlation_science_attendance"
   ]
  },
  {
   "cell_type": "markdown",
   "id": "1cf67718-d9aa-4d2a-9940-ebc2751b0fa0",
   "metadata": {},
   "source": [
    "# Average Grade Per Gender"
   ]
  },
  {
   "cell_type": "code",
   "execution_count": 12,
   "id": "6258b7de-b9d1-43f3-bc14-4bdabbf0fa05",
   "metadata": {},
   "outputs": [],
   "source": [
    "df['Total_Grades'] = df['Math_Grade'] + df['Science_Grade'] + df['English_Grade']"
   ]
  },
  {
   "cell_type": "code",
   "execution_count": 16,
   "id": "62d36a7f-3e80-448f-b832-f1d6a884dc85",
   "metadata": {},
   "outputs": [],
   "source": [
    "df = df.round(1)"
   ]
  },
  {
   "cell_type": "code",
   "execution_count": 19,
   "id": "3d7f7141-c716-4028-86cf-cd72b82c9b99",
   "metadata": {},
   "outputs": [],
   "source": [
    "grade_per_gender = df.groupby('Gender')['Total_Grades'].mean().reset_index()"
   ]
  },
  {
   "cell_type": "code",
   "execution_count": 21,
   "id": "adb60ec9-2a29-4f07-a6d7-8f10dcfd63ae",
   "metadata": {},
   "outputs": [
    {
     "data": {
      "text/html": [
       "<div>\n",
       "<style scoped>\n",
       "    .dataframe tbody tr th:only-of-type {\n",
       "        vertical-align: middle;\n",
       "    }\n",
       "\n",
       "    .dataframe tbody tr th {\n",
       "        vertical-align: top;\n",
       "    }\n",
       "\n",
       "    .dataframe thead th {\n",
       "        text-align: right;\n",
       "    }\n",
       "</style>\n",
       "<table border=\"1\" class=\"dataframe\">\n",
       "  <thead>\n",
       "    <tr style=\"text-align: right;\">\n",
       "      <th></th>\n",
       "      <th>Gender</th>\n",
       "      <th>Total_Grades</th>\n",
       "    </tr>\n",
       "  </thead>\n",
       "  <tbody>\n",
       "    <tr>\n",
       "      <th>0</th>\n",
       "      <td>Female</td>\n",
       "      <td>216.7</td>\n",
       "    </tr>\n",
       "    <tr>\n",
       "      <th>1</th>\n",
       "      <td>Male</td>\n",
       "      <td>220.8</td>\n",
       "    </tr>\n",
       "  </tbody>\n",
       "</table>\n",
       "</div>"
      ],
      "text/plain": [
       "   Gender  Total_Grades\n",
       "0  Female         216.7\n",
       "1    Male         220.8"
      ]
     },
     "execution_count": 21,
     "metadata": {},
     "output_type": "execute_result"
    }
   ],
   "source": [
    "grade_per_gender.round(1)"
   ]
  },
  {
   "cell_type": "markdown",
   "id": "e77a3971-a7b3-404c-889b-769cd4777ac4",
   "metadata": {},
   "source": [
    "# Correlation Between Attendance and Grades"
   ]
  },
  {
   "cell_type": "code",
   "execution_count": 23,
   "id": "bd8c0b2c-3199-453b-b12e-7b860575036b",
   "metadata": {},
   "outputs": [],
   "source": [
    "corr_attendance_grades = df['Attendance (%)'].corr(df['Total_Grades'])"
   ]
  },
  {
   "cell_type": "code",
   "execution_count": 24,
   "id": "97af9684-e5d0-47a6-aa51-986a1c002758",
   "metadata": {},
   "outputs": [
    {
     "data": {
      "text/plain": [
       "np.float64(0.008574046516983782)"
      ]
     },
     "execution_count": 24,
     "metadata": {},
     "output_type": "execute_result"
    }
   ],
   "source": [
    "corr_attendance_grades"
   ]
  },
  {
   "cell_type": "code",
   "execution_count": 25,
   "id": "5e773be3-b83e-4e51-8999-097853b33a5b",
   "metadata": {},
   "outputs": [
    {
     "data": {
      "image/png": "[encoded data removed]",
      "text/plain": [
       "<Figure size 640x480 with 1 Axes>"
      ]
     },
     "metadata": {},
     "output_type": "display_data"
    }
   ],
   "source": [
    "plt.scatter(df['Attendance (%)'], df['Total_Grades'])\n",
    "plt.xlabel('Attendance')\n",
    "plt.ylabel('Total Grades')\n",
    "plt.title('Scatter Plot Showing Relation Between Total Grades and Attendance')\n",
    "plt.show()"
   ]
  },
  {
   "cell_type": "markdown",
   "id": "7170228f-76dc-4d55-af1b-96bd5384c190",
   "metadata": {},
   "source": [
    "# Impact of Extracurricular activities on Grades"
   ]
  },
  {
   "cell_type": "code",
   "execution_count": 30,
   "id": "733be541-d4bf-4c27-8af1-6e9d96e4d1b2",
   "metadata": {},
   "outputs": [],
   "source": [
    "extcurr_by_grades = df.groupby('Extracurricular')['Total_Grades'].mean().reset_index()"
   ]
  },
  {
   "cell_type": "code",
   "execution_count": 32,
   "id": "8d384931-7af6-4ada-8c23-43bd7322d182",
   "metadata": {},
   "outputs": [
    {
     "data": {
      "text/html": [
       "<div>\n",
       "<style scoped>\n",
       "    .dataframe tbody tr th:only-of-type {\n",
       "        vertical-align: middle;\n",
       "    }\n",
       "\n",
       "    .dataframe tbody tr th {\n",
       "        vertical-align: top;\n",
       "    }\n",
       "\n",
       "    .dataframe thead th {\n",
       "        text-align: right;\n",
       "    }\n",
       "</style>\n",
       "<table border=\"1\" class=\"dataframe\">\n",
       "  <thead>\n",
       "    <tr style=\"text-align: right;\">\n",
       "      <th></th>\n",
       "      <th>Extracurricular</th>\n",
       "      <th>Total_Grades</th>\n",
       "    </tr>\n",
       "  </thead>\n",
       "  <tbody>\n",
       "    <tr>\n",
       "      <th>0</th>\n",
       "      <td>No</td>\n",
       "      <td>217.2</td>\n",
       "    </tr>\n",
       "    <tr>\n",
       "      <th>1</th>\n",
       "      <td>Yes</td>\n",
       "      <td>219.8</td>\n",
       "    </tr>\n",
       "  </tbody>\n",
       "</table>\n",
       "</div>"
      ],
      "text/plain": [
       "  Extracurricular  Total_Grades\n",
       "0              No         217.2\n",
       "1             Yes         219.8"
      ]
     },
     "execution_count": 32,
     "metadata": {},
     "output_type": "execute_result"
    }
   ],
   "source": [
    "extcurr_by_grades.round(1)"
   ]
  },
  {
   "cell_type": "code",
   "execution_count": 34,
   "id": "da2a271a-ee58-4980-a1e5-2abe241d613f",
   "metadata": {},
   "outputs": [],
   "source": [
    "df['extracurricular_num'] = df['Extracurricular'].map({'Yes': 1, 'No': 0})\n",
    "\n",
    "correlation = df['extracurricular_num'].corr(df['Total_Grades'])"
   ]
  },
  {
   "cell_type": "code",
   "execution_count": 35,
   "id": "2fc8e925-92d4-4a61-aa2f-4ed9fd74cf0d",
   "metadata": {},
   "outputs": [
    {
     "data": {
      "text/plain": [
       "np.float64(0.07673453910608753)"
      ]
     },
     "execution_count": 35,
     "metadata": {},
     "output_type": "execute_result"
    }
   ],
   "source": [
    "correlation"
   ]
  },
  {
   "cell_type": "markdown",
   "id": "c5987b75-cb09-4c20-9da5-6bfbaf9b13ed",
   "metadata": {},
   "source": [
    "# Histogram Showing scores"
   ]
  },
  {
   "cell_type": "code",
   "execution_count": 42,
   "id": "0aecc7b9-bbbf-47b1-ae02-1f323f97d2ef",
   "metadata": {},
   "outputs": [
    {
     "data": {
      "image/png": "[encoded data removed]",
      "text/plain": [
       "<Figure size 640x480 with 1 Axes>"
      ]
     },
     "metadata": {},
     "output_type": "display_data"
    }
   ],
   "source": [
    "bins = [180, 190, 200, 210, 220, 230,240, 250, 260]\n",
    "plt.hist(df['Total_Grades'], bins=bins, color='purple', edgecolor='black')\n",
    "plt.show()"
   ]
  },
  {
   "cell_type": "code",
   "execution_count": 38,
   "id": "98be71ae-b23e-4d3b-86cb-3d3c6b8c3316",
   "metadata": {},
   "outputs": [
    {
     "data": {
      "text/plain": [
       "np.float64(183.3)"
      ]
     },
     "execution_count": 38,
     "metadata": {},
     "output_type": "execute_result"
    }
   ],
   "source": [
    "df['Total_Grades'].min()"
   ]
  },
  {
   "cell_type": "code",
   "execution_count": 39,
   "id": "17f04646-7456-4024-ba3d-bc47fc67cf8f",
   "metadata": {},
   "outputs": [
    {
     "data": {
      "text/plain": [
       "np.float64(258.4)"
      ]
     },
     "execution_count": 39,
     "metadata": {},
     "output_type": "execute_result"
    }
   ],
   "source": [
    "df['Total_Grades'].max()"
   ]
  }
 ],
 "metadata": {
  "kernelspec": {
   "display_name": "Python 3 (ipykernel)",
   "language": "python",
   "name": "python3"
  },
  "language_info": {
   "codemirror_mode": {
    "name": "ipython",
    "version": 3
   },
   "file_extension": ".py",
   "mimetype": "text/x-python",
   "name": "python",
   "nbconvert_exporter": "python",
   "pygments_lexer": "ipython3",
   "version": "3.10.16"
  }
 },
 "nbformat": 4,
 "nbformat_minor": 5
}
