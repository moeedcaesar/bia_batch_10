{
 "cells": [
  {
   "cell_type": "code",
   "execution_count": 2,
   "id": "1dffd635-45a8-47f4-8604-8d073e47393d",
   "metadata": {},
   "outputs": [],
   "source": [
    "import pandas as pd\n",
    "import numpy as np"
   ]
  },
  {
   "cell_type": "code",
   "execution_count": 12,
   "id": "f64d6b36-0e9a-4faf-bd99-f605ba224ab6",
   "metadata": {},
   "outputs": [],
   "source": [
    "import matplotlib.pyplot as plt"
   ]
  },
  {
   "cell_type": "code",
   "execution_count": 2,
   "id": "28f033a3-dc00-4103-ac6f-7694b1ba320e",
   "metadata": {},
   "outputs": [],
   "source": [
    "import pandas as pd\n",
    "import numpy as np\n",
    "import random\n",
    "from datetime import datetime, timedelta\n",
    "# Set random seed for reproducibility\n",
    "np.random.seed(42)\n",
    "random.seed(42)\n",
    "# Generate synthetic data\n",
    "n_rows = 10000\n",
    "categories = ['Electronics', 'Clothing', 'Books', 'Home & Kitchen', 'Toys']\n",
    "payment_methods = ['Credit Card', 'PayPal', 'Cash', 'Debit Card']\n",
    "regions = ['North', 'South', 'East', 'West']\n",
    "genders = ['Male', 'Female', 'Other']\n",
    "data = {\n",
    "'Order_ID': range(1, n_rows + 1),\n",
    "'Customer_ID': ['C' + str(i).zfill(5) for i in range(1, n_rows + 1)],\n",
    "'Product': [f'Product_{i}' for i in range(1, n_rows + 1)],\n",
    "'Category': [random.choice(categories) for _ in range(n_rows)],\n",
    "'Quantity': np.random.randint(1, 10, n_rows),\n",
    "'Price': np.round(np.random.uniform(5, 500, n_rows), 2),\n",
    "'Order_Date': [(datetime(2023, 1, 1) + timedelta(days=random.randint(0, 730))).strftime('%Y-%m-%d') for _ in range(n_rows)],\n",
    "'Customer_Age': np.random.randint(18, 80, n_rows),\n",
    "'Customer_Gender': [random.choice(genders) for _ in range(n_rows)],\n",
    "'Region': [random.choice(regions) for _ in range(n_rows)],\n",
    "'Payment_Method': [random.choice(payment_methods) for _ in range(n_rows)],\n",
    "}\n",
    "df = pd.DataFrame(data)\n",
    "df['Total_Amount'] = df['Quantity'] * df['Price']\n",
    "# Introduce missing values (5% of cells)\n",
    "for col in ['Customer_Age', 'Customer_Gender', 'Price', 'Region']:\n",
    "    mask = np.random.random(n_rows) < 0.05\n",
    "df.loc[mask, col] = np.nan\n",
    "# Introduce duplicates (1% of rows)\n",
    "n_duplicates = int(n_rows * 0.01)\n",
    "duplicate_rows = df.sample(n_duplicates)\n",
    "df = pd.concat([df, duplicate_rows], ignore_index=True)\n",
    "# Introduce inconsistencies\n",
    "df.loc[df.sample(frac=0.02).index, 'Price'] = -df['Price'] # Negative prices\n",
    "df.loc[df.sample(frac=0.02).index, 'Order_Date'] = '2025-13-45' # Invalid dates\n",
    "# Save dataset\n",
    "df.to_csv('ecommerce_sales.csv', index=False)"
   ]
  },
  {
   "cell_type": "markdown",
   "id": "69c021ba-d192-4f6f-b4a8-a0461a009ba5",
   "metadata": {},
   "source": [
    "# Task 1: Data Cleaning"
   ]
  },
  {
   "cell_type": "markdown",
   "id": "784fece9-6c18-41ec-8226-93a55fda9f74",
   "metadata": {},
   "source": [
    "### 1. Load the Dataset:\n",
    "Read ecommerce_sales.csv into a Pandas DataFrame."
   ]
  },
  {
   "cell_type": "code",
   "execution_count": 3,
   "id": "f68f77c7-96fa-46a6-811f-2097b0174db1",
   "metadata": {},
   "outputs": [],
   "source": [
    "df = pd.read_csv('ecommerce_sales.csv')"
   ]
  },
  {
   "cell_type": "code",
   "execution_count": 4,
   "id": "6a7a5954-5381-4db6-b251-acf5cc41555d",
   "metadata": {},
   "outputs": [
    {
     "data": {
      "text/html": [
       "<div>\n",
       "<style scoped>\n",
       "    .dataframe tbody tr th:only-of-type {\n",
       "        vertical-align: middle;\n",
       "    }\n",
       "\n",
       "    .dataframe tbody tr th {\n",
       "        vertical-align: top;\n",
       "    }\n",
       "\n",
       "    .dataframe thead th {\n",
       "        text-align: right;\n",
       "    }\n",
       "</style>\n",
       "<table border=\"1\" class=\"dataframe\">\n",
       "  <thead>\n",
       "    <tr style=\"text-align: right;\">\n",
       "      <th></th>\n",
       "      <th>Order_ID</th>\n",
       "      <th>Customer_ID</th>\n",
       "      <th>Product</th>\n",
       "      <th>Category</th>\n",
       "      <th>Quantity</th>\n",
       "      <th>Price</th>\n",
       "      <th>Order_Date</th>\n",
       "      <th>Customer_Age</th>\n",
       "      <th>Customer_Gender</th>\n",
       "      <th>Region</th>\n",
       "      <th>Payment_Method</th>\n",
       "      <th>Total_Amount</th>\n",
       "    </tr>\n",
       "  </thead>\n",
       "  <tbody>\n",
       "    <tr>\n",
       "      <th>0</th>\n",
       "      <td>1</td>\n",
       "      <td>C00001</td>\n",
       "      <td>Product_1</td>\n",
       "      <td>Electronics</td>\n",
       "      <td>7</td>\n",
       "      <td>181.67</td>\n",
       "      <td>2024-08-22</td>\n",
       "      <td>20</td>\n",
       "      <td>Female</td>\n",
       "      <td>South</td>\n",
       "      <td>Cash</td>\n",
       "      <td>1271.69</td>\n",
       "    </tr>\n",
       "    <tr>\n",
       "      <th>1</th>\n",
       "      <td>2</td>\n",
       "      <td>C00002</td>\n",
       "      <td>Product_2</td>\n",
       "      <td>Electronics</td>\n",
       "      <td>4</td>\n",
       "      <td>58.60</td>\n",
       "      <td>2023-08-29</td>\n",
       "      <td>58</td>\n",
       "      <td>Female</td>\n",
       "      <td>North</td>\n",
       "      <td>Credit Card</td>\n",
       "      <td>234.40</td>\n",
       "    </tr>\n",
       "    <tr>\n",
       "      <th>2</th>\n",
       "      <td>3</td>\n",
       "      <td>C00003</td>\n",
       "      <td>Product_3</td>\n",
       "      <td>Books</td>\n",
       "      <td>8</td>\n",
       "      <td>213.33</td>\n",
       "      <td>2025-13-45</td>\n",
       "      <td>46</td>\n",
       "      <td>Male</td>\n",
       "      <td>East</td>\n",
       "      <td>Credit Card</td>\n",
       "      <td>1706.64</td>\n",
       "    </tr>\n",
       "    <tr>\n",
       "      <th>3</th>\n",
       "      <td>4</td>\n",
       "      <td>C00004</td>\n",
       "      <td>Product_4</td>\n",
       "      <td>Clothing</td>\n",
       "      <td>5</td>\n",
       "      <td>364.92</td>\n",
       "      <td>2024-05-11</td>\n",
       "      <td>54</td>\n",
       "      <td>Other</td>\n",
       "      <td>NaN</td>\n",
       "      <td>Credit Card</td>\n",
       "      <td>1824.60</td>\n",
       "    </tr>\n",
       "    <tr>\n",
       "      <th>4</th>\n",
       "      <td>5</td>\n",
       "      <td>C00005</td>\n",
       "      <td>Product_5</td>\n",
       "      <td>Clothing</td>\n",
       "      <td>7</td>\n",
       "      <td>58.11</td>\n",
       "      <td>2024-11-19</td>\n",
       "      <td>72</td>\n",
       "      <td>Other</td>\n",
       "      <td>South</td>\n",
       "      <td>Cash</td>\n",
       "      <td>406.77</td>\n",
       "    </tr>\n",
       "    <tr>\n",
       "      <th>...</th>\n",
       "      <td>...</td>\n",
       "      <td>...</td>\n",
       "      <td>...</td>\n",
       "      <td>...</td>\n",
       "      <td>...</td>\n",
       "      <td>...</td>\n",
       "      <td>...</td>\n",
       "      <td>...</td>\n",
       "      <td>...</td>\n",
       "      <td>...</td>\n",
       "      <td>...</td>\n",
       "      <td>...</td>\n",
       "    </tr>\n",
       "    <tr>\n",
       "      <th>10095</th>\n",
       "      <td>9605</td>\n",
       "      <td>C09605</td>\n",
       "      <td>Product_9605</td>\n",
       "      <td>Toys</td>\n",
       "      <td>5</td>\n",
       "      <td>205.24</td>\n",
       "      <td>2023-07-02</td>\n",
       "      <td>67</td>\n",
       "      <td>Female</td>\n",
       "      <td>West</td>\n",
       "      <td>Cash</td>\n",
       "      <td>1026.20</td>\n",
       "    </tr>\n",
       "    <tr>\n",
       "      <th>10096</th>\n",
       "      <td>7410</td>\n",
       "      <td>C07410</td>\n",
       "      <td>Product_7410</td>\n",
       "      <td>Toys</td>\n",
       "      <td>4</td>\n",
       "      <td>383.76</td>\n",
       "      <td>2023-02-01</td>\n",
       "      <td>49</td>\n",
       "      <td>Female</td>\n",
       "      <td>South</td>\n",
       "      <td>Cash</td>\n",
       "      <td>1535.04</td>\n",
       "    </tr>\n",
       "    <tr>\n",
       "      <th>10097</th>\n",
       "      <td>1410</td>\n",
       "      <td>C01410</td>\n",
       "      <td>Product_1410</td>\n",
       "      <td>Home &amp; Kitchen</td>\n",
       "      <td>4</td>\n",
       "      <td>391.36</td>\n",
       "      <td>2024-06-12</td>\n",
       "      <td>64</td>\n",
       "      <td>Other</td>\n",
       "      <td>South</td>\n",
       "      <td>Cash</td>\n",
       "      <td>1565.44</td>\n",
       "    </tr>\n",
       "    <tr>\n",
       "      <th>10098</th>\n",
       "      <td>5876</td>\n",
       "      <td>C05876</td>\n",
       "      <td>Product_5876</td>\n",
       "      <td>Clothing</td>\n",
       "      <td>1</td>\n",
       "      <td>285.55</td>\n",
       "      <td>2024-08-28</td>\n",
       "      <td>59</td>\n",
       "      <td>Male</td>\n",
       "      <td>North</td>\n",
       "      <td>Debit Card</td>\n",
       "      <td>285.55</td>\n",
       "    </tr>\n",
       "    <tr>\n",
       "      <th>10099</th>\n",
       "      <td>7836</td>\n",
       "      <td>C07836</td>\n",
       "      <td>Product_7836</td>\n",
       "      <td>Books</td>\n",
       "      <td>3</td>\n",
       "      <td>180.19</td>\n",
       "      <td>2024-05-16</td>\n",
       "      <td>21</td>\n",
       "      <td>Male</td>\n",
       "      <td>East</td>\n",
       "      <td>Cash</td>\n",
       "      <td>540.57</td>\n",
       "    </tr>\n",
       "  </tbody>\n",
       "</table>\n",
       "<p>10100 rows × 12 columns</p>\n",
       "</div>"
      ],
      "text/plain": [
       "       Order_ID Customer_ID       Product        Category  Quantity   Price  \\\n",
       "0             1      C00001     Product_1     Electronics         7  181.67   \n",
       "1             2      C00002     Product_2     Electronics         4   58.60   \n",
       "2             3      C00003     Product_3           Books         8  213.33   \n",
       "3             4      C00004     Product_4        Clothing         5  364.92   \n",
       "4             5      C00005     Product_5        Clothing         7   58.11   \n",
       "...         ...         ...           ...             ...       ...     ...   \n",
       "10095      9605      C09605  Product_9605            Toys         5  205.24   \n",
       "10096      7410      C07410  Product_7410            Toys         4  383.76   \n",
       "10097      1410      C01410  Product_1410  Home & Kitchen         4  391.36   \n",
       "10098      5876      C05876  Product_5876        Clothing         1  285.55   \n",
       "10099      7836      C07836  Product_7836           Books         3  180.19   \n",
       "\n",
       "       Order_Date  Customer_Age Customer_Gender Region Payment_Method  \\\n",
       "0      2024-08-22            20          Female  South           Cash   \n",
       "1      2023-08-29            58          Female  North    Credit Card   \n",
       "2      2025-13-45            46            Male   East    Credit Card   \n",
       "3      2024-05-11            54           Other    NaN    Credit Card   \n",
       "4      2024-11-19            72           Other  South           Cash   \n",
       "...           ...           ...             ...    ...            ...   \n",
       "10095  2023-07-02            67          Female   West           Cash   \n",
       "10096  2023-02-01            49          Female  South           Cash   \n",
       "10097  2024-06-12            64           Other  South           Cash   \n",
       "10098  2024-08-28            59            Male  North     Debit Card   \n",
       "10099  2024-05-16            21            Male   East           Cash   \n",
       "\n",
       "       Total_Amount  \n",
       "0           1271.69  \n",
       "1            234.40  \n",
       "2           1706.64  \n",
       "3           1824.60  \n",
       "4            406.77  \n",
       "...             ...  \n",
       "10095       1026.20  \n",
       "10096       1535.04  \n",
       "10097       1565.44  \n",
       "10098        285.55  \n",
       "10099        540.57  \n",
       "\n",
       "[10100 rows x 12 columns]"
      ]
     },
     "execution_count": 4,
     "metadata": {},
     "output_type": "execute_result"
    }
   ],
   "source": [
    "df"
   ]
  },
  {
   "cell_type": "markdown",
   "id": "c6eef8a9-0019-436b-94a7-ba1d30ab09dc",
   "metadata": {},
   "source": [
    "### 2. Handle Missing Values:\n",
    "- Identify columns with missing values and compute the percentage of missing data for each.\n",
    "- For Customer_Age , impute missing values with the median age.\n",
    "- For Customer_Gender , impute missing values with the mode.\n",
    "- For Price , impute missing values with the median price of the corresponding Category."
   ]
  },
  {
   "cell_type": "code",
   "execution_count": 27,
   "id": "dbdaeb98-6b46-4191-afbd-5f41a1a2cbd9",
   "metadata": {},
   "outputs": [
    {
     "data": {
      "text/plain": [
       "Order_ID           0.000000\n",
       "Customer_ID        0.000000\n",
       "Product            0.000000\n",
       "Category           0.000000\n",
       "Quantity           0.000000\n",
       "Price              0.000000\n",
       "Order_Date         0.000000\n",
       "Customer_Age       0.000000\n",
       "Customer_Gender    0.000000\n",
       "Region             4.851485\n",
       "Payment_Method     0.000000\n",
       "Total_Amount       0.000000\n",
       "dtype: float64"
      ]
     },
     "execution_count": 27,
     "metadata": {},
     "output_type": "execute_result"
    }
   ],
   "source": [
    "total_rows = df.shape[0]\n",
    "\n",
    "missing_values = df.isnull().sum(axis=0)\n",
    "\n",
    "missing_percentage = (missing_values / total_rows) * 100\n",
    "missing_percentage"
   ]
  },
  {
   "cell_type": "markdown",
   "id": "77a74763-8f3c-42e7-84e8-f08d1845f431",
   "metadata": {},
   "source": [
    "### 3. Remove Duplicates:\n",
    "Identify and remove duplicate rows based on all columns."
   ]
  },
  {
   "cell_type": "code",
   "execution_count": 81,
   "id": "df4e8c46-8e67-48ab-8d64-0acee52cf8d6",
   "metadata": {},
   "outputs": [],
   "source": [
    "df = df.drop_duplicates()"
   ]
  },
  {
   "cell_type": "code",
   "execution_count": 82,
   "id": "332546f8-2366-42b6-a747-922d24d6a859",
   "metadata": {},
   "outputs": [
    {
     "data": {
      "text/html": [
       "<div>\n",
       "<style scoped>\n",
       "    .dataframe tbody tr th:only-of-type {\n",
       "        vertical-align: middle;\n",
       "    }\n",
       "\n",
       "    .dataframe tbody tr th {\n",
       "        vertical-align: top;\n",
       "    }\n",
       "\n",
       "    .dataframe thead th {\n",
       "        text-align: right;\n",
       "    }\n",
       "</style>\n",
       "<table border=\"1\" class=\"dataframe\">\n",
       "  <thead>\n",
       "    <tr style=\"text-align: right;\">\n",
       "      <th></th>\n",
       "      <th>Order_ID</th>\n",
       "      <th>Customer_ID</th>\n",
       "      <th>Product</th>\n",
       "      <th>Category</th>\n",
       "      <th>Quantity</th>\n",
       "      <th>Price</th>\n",
       "      <th>Order_Date</th>\n",
       "      <th>Customer_Age</th>\n",
       "      <th>Customer_Gender</th>\n",
       "      <th>Region</th>\n",
       "      <th>Payment_Method</th>\n",
       "      <th>Total_Amount</th>\n",
       "    </tr>\n",
       "  </thead>\n",
       "  <tbody>\n",
       "    <tr>\n",
       "      <th>0</th>\n",
       "      <td>1</td>\n",
       "      <td>C00001</td>\n",
       "      <td>Product_1</td>\n",
       "      <td>Electronics</td>\n",
       "      <td>7</td>\n",
       "      <td>181.67</td>\n",
       "      <td>2024-08-22</td>\n",
       "      <td>20</td>\n",
       "      <td>Female</td>\n",
       "      <td>South</td>\n",
       "      <td>Cash</td>\n",
       "      <td>1271.69</td>\n",
       "    </tr>\n",
       "    <tr>\n",
       "      <th>1</th>\n",
       "      <td>2</td>\n",
       "      <td>C00002</td>\n",
       "      <td>Product_2</td>\n",
       "      <td>Electronics</td>\n",
       "      <td>4</td>\n",
       "      <td>58.60</td>\n",
       "      <td>2023-08-29</td>\n",
       "      <td>58</td>\n",
       "      <td>Female</td>\n",
       "      <td>North</td>\n",
       "      <td>Credit Card</td>\n",
       "      <td>234.40</td>\n",
       "    </tr>\n",
       "    <tr>\n",
       "      <th>2</th>\n",
       "      <td>3</td>\n",
       "      <td>C00003</td>\n",
       "      <td>Product_3</td>\n",
       "      <td>Books</td>\n",
       "      <td>8</td>\n",
       "      <td>213.33</td>\n",
       "      <td>2024-05-11</td>\n",
       "      <td>46</td>\n",
       "      <td>Male</td>\n",
       "      <td>East</td>\n",
       "      <td>Credit Card</td>\n",
       "      <td>1706.64</td>\n",
       "    </tr>\n",
       "    <tr>\n",
       "      <th>3</th>\n",
       "      <td>4</td>\n",
       "      <td>C00004</td>\n",
       "      <td>Product_4</td>\n",
       "      <td>Clothing</td>\n",
       "      <td>5</td>\n",
       "      <td>364.92</td>\n",
       "      <td>2024-05-11</td>\n",
       "      <td>54</td>\n",
       "      <td>Other</td>\n",
       "      <td>NaN</td>\n",
       "      <td>Credit Card</td>\n",
       "      <td>1824.60</td>\n",
       "    </tr>\n",
       "    <tr>\n",
       "      <th>4</th>\n",
       "      <td>5</td>\n",
       "      <td>C00005</td>\n",
       "      <td>Product_5</td>\n",
       "      <td>Clothing</td>\n",
       "      <td>7</td>\n",
       "      <td>58.11</td>\n",
       "      <td>2024-11-19</td>\n",
       "      <td>72</td>\n",
       "      <td>Other</td>\n",
       "      <td>South</td>\n",
       "      <td>Cash</td>\n",
       "      <td>406.77</td>\n",
       "    </tr>\n",
       "    <tr>\n",
       "      <th>...</th>\n",
       "      <td>...</td>\n",
       "      <td>...</td>\n",
       "      <td>...</td>\n",
       "      <td>...</td>\n",
       "      <td>...</td>\n",
       "      <td>...</td>\n",
       "      <td>...</td>\n",
       "      <td>...</td>\n",
       "      <td>...</td>\n",
       "      <td>...</td>\n",
       "      <td>...</td>\n",
       "      <td>...</td>\n",
       "    </tr>\n",
       "    <tr>\n",
       "      <th>9998</th>\n",
       "      <td>9999</td>\n",
       "      <td>C09999</td>\n",
       "      <td>Product_9999</td>\n",
       "      <td>Books</td>\n",
       "      <td>9</td>\n",
       "      <td>378.92</td>\n",
       "      <td>2023-01-16</td>\n",
       "      <td>33</td>\n",
       "      <td>Other</td>\n",
       "      <td>NaN</td>\n",
       "      <td>Debit Card</td>\n",
       "      <td>3410.28</td>\n",
       "    </tr>\n",
       "    <tr>\n",
       "      <th>9999</th>\n",
       "      <td>10000</td>\n",
       "      <td>C10000</td>\n",
       "      <td>Product_10000</td>\n",
       "      <td>Electronics</td>\n",
       "      <td>7</td>\n",
       "      <td>73.51</td>\n",
       "      <td>2024-07-29</td>\n",
       "      <td>59</td>\n",
       "      <td>Other</td>\n",
       "      <td>South</td>\n",
       "      <td>Cash</td>\n",
       "      <td>514.57</td>\n",
       "    </tr>\n",
       "    <tr>\n",
       "      <th>10075</th>\n",
       "      <td>7489</td>\n",
       "      <td>C07489</td>\n",
       "      <td>Product_7489</td>\n",
       "      <td>Books</td>\n",
       "      <td>9</td>\n",
       "      <td>478.35</td>\n",
       "      <td>2024-03-16</td>\n",
       "      <td>38</td>\n",
       "      <td>Female</td>\n",
       "      <td>North</td>\n",
       "      <td>Credit Card</td>\n",
       "      <td>4305.15</td>\n",
       "    </tr>\n",
       "    <tr>\n",
       "      <th>10083</th>\n",
       "      <td>3044</td>\n",
       "      <td>C03044</td>\n",
       "      <td>Product_3044</td>\n",
       "      <td>Home &amp; Kitchen</td>\n",
       "      <td>8</td>\n",
       "      <td>437.26</td>\n",
       "      <td>2024-07-09</td>\n",
       "      <td>34</td>\n",
       "      <td>Male</td>\n",
       "      <td>East</td>\n",
       "      <td>Credit Card</td>\n",
       "      <td>3498.08</td>\n",
       "    </tr>\n",
       "    <tr>\n",
       "      <th>10094</th>\n",
       "      <td>7927</td>\n",
       "      <td>C07927</td>\n",
       "      <td>Product_7927</td>\n",
       "      <td>Toys</td>\n",
       "      <td>9</td>\n",
       "      <td>213.57</td>\n",
       "      <td>2023-07-02</td>\n",
       "      <td>36</td>\n",
       "      <td>Male</td>\n",
       "      <td>West</td>\n",
       "      <td>Credit Card</td>\n",
       "      <td>1922.13</td>\n",
       "    </tr>\n",
       "  </tbody>\n",
       "</table>\n",
       "<p>10003 rows × 12 columns</p>\n",
       "</div>"
      ],
      "text/plain": [
       "       Order_ID Customer_ID        Product        Category  Quantity   Price  \\\n",
       "0             1      C00001      Product_1     Electronics         7  181.67   \n",
       "1             2      C00002      Product_2     Electronics         4   58.60   \n",
       "2             3      C00003      Product_3           Books         8  213.33   \n",
       "3             4      C00004      Product_4        Clothing         5  364.92   \n",
       "4             5      C00005      Product_5        Clothing         7   58.11   \n",
       "...         ...         ...            ...             ...       ...     ...   \n",
       "9998       9999      C09999   Product_9999           Books         9  378.92   \n",
       "9999      10000      C10000  Product_10000     Electronics         7   73.51   \n",
       "10075      7489      C07489   Product_7489           Books         9  478.35   \n",
       "10083      3044      C03044   Product_3044  Home & Kitchen         8  437.26   \n",
       "10094      7927      C07927   Product_7927            Toys         9  213.57   \n",
       "\n",
       "      Order_Date  Customer_Age Customer_Gender Region Payment_Method  \\\n",
       "0     2024-08-22            20          Female  South           Cash   \n",
       "1     2023-08-29            58          Female  North    Credit Card   \n",
       "2     2024-05-11            46            Male   East    Credit Card   \n",
       "3     2024-05-11            54           Other    NaN    Credit Card   \n",
       "4     2024-11-19            72           Other  South           Cash   \n",
       "...          ...           ...             ...    ...            ...   \n",
       "9998  2023-01-16            33           Other    NaN     Debit Card   \n",
       "9999  2024-07-29            59           Other  South           Cash   \n",
       "10075 2024-03-16            38          Female  North    Credit Card   \n",
       "10083 2024-07-09            34            Male   East    Credit Card   \n",
       "10094 2023-07-02            36            Male   West    Credit Card   \n",
       "\n",
       "       Total_Amount  \n",
       "0           1271.69  \n",
       "1            234.40  \n",
       "2           1706.64  \n",
       "3           1824.60  \n",
       "4            406.77  \n",
       "...             ...  \n",
       "9998        3410.28  \n",
       "9999         514.57  \n",
       "10075       4305.15  \n",
       "10083       3498.08  \n",
       "10094       1922.13  \n",
       "\n",
       "[10003 rows x 12 columns]"
      ]
     },
     "execution_count": 82,
     "metadata": {},
     "output_type": "execute_result"
    }
   ],
   "source": [
    "df"
   ]
  },
  {
   "cell_type": "markdown",
   "id": "6026a07c-6e24-4355-90b2-bba938a79e41",
   "metadata": {},
   "source": [
    "### 4. Fix Inconsistencies:\n",
    "\n",
    "- Convert Order_Date to a datetime format. Identify and handle invalid dates \n",
    "(e.g., replace with the nearest valid date or drop).\n",
    "- Ensure Price and Total_Amount are non-negative. Correct or drop rows with negative values.\n",
    "- Verify that Total_Amount equals Quantity * Price . Fix discrepancies."
   ]
  },
  {
   "cell_type": "code",
   "execution_count": 83,
   "id": "aa09b115-7324-4dea-9976-062ed4970b3c",
   "metadata": {},
   "outputs": [],
   "source": [
    "df['Order_Date'] = pd.to_datetime(df['Order_Date'], errors='coerce')"
   ]
  },
  {
   "cell_type": "code",
   "execution_count": 84,
   "id": "6a96a395-d53e-4375-bce7-af71c703f82f",
   "metadata": {},
   "outputs": [
    {
     "name": "stderr",
     "output_type": "stream",
     "text": [
      "C:\\Users\\AYAT LAPTOP POINT\\AppData\\Local\\Temp\\ipykernel_15564\\731002073.py:1: FutureWarning: Series.fillna with 'method' is deprecated and will raise in a future version. Use obj.ffill() or obj.bfill() instead.\n",
      "  df['Order_Date'] = df['Order_Date'].fillna(method='bfill')\n"
     ]
    }
   ],
   "source": [
    "df['Order_Date'] = df['Order_Date'].fillna(method='bfill')"
   ]
  },
  {
   "cell_type": "code",
   "execution_count": 85,
   "id": "747b5361-f09b-4599-a849-619df7fd8c56",
   "metadata": {},
   "outputs": [],
   "source": [
    "# Ensure 'Price' and 'Total_Amount' are non-negative\n",
    "\n",
    "# Write a code to convert negative values with positive values (reducing - from the value)\n",
    "df['Price'] = df['Price'].abs()\n",
    "df['Total_Amount'] = df['Total_Amount'].abs()"
   ]
  },
  {
   "cell_type": "code",
   "execution_count": 86,
   "id": "590a5ce3-ae14-4def-94f3-98e27f160c89",
   "metadata": {},
   "outputs": [
    {
     "data": {
      "text/html": [
       "<div>\n",
       "<style scoped>\n",
       "    .dataframe tbody tr th:only-of-type {\n",
       "        vertical-align: middle;\n",
       "    }\n",
       "\n",
       "    .dataframe tbody tr th {\n",
       "        vertical-align: top;\n",
       "    }\n",
       "\n",
       "    .dataframe thead th {\n",
       "        text-align: right;\n",
       "    }\n",
       "</style>\n",
       "<table border=\"1\" class=\"dataframe\">\n",
       "  <thead>\n",
       "    <tr style=\"text-align: right;\">\n",
       "      <th></th>\n",
       "      <th>Order_ID</th>\n",
       "      <th>Customer_ID</th>\n",
       "      <th>Product</th>\n",
       "      <th>Category</th>\n",
       "      <th>Quantity</th>\n",
       "      <th>Price</th>\n",
       "      <th>Order_Date</th>\n",
       "      <th>Customer_Age</th>\n",
       "      <th>Customer_Gender</th>\n",
       "      <th>Region</th>\n",
       "      <th>Payment_Method</th>\n",
       "      <th>Total_Amount</th>\n",
       "    </tr>\n",
       "  </thead>\n",
       "  <tbody>\n",
       "  </tbody>\n",
       "</table>\n",
       "</div>"
      ],
      "text/plain": [
       "Empty DataFrame\n",
       "Columns: [Order_ID, Customer_ID, Product, Category, Quantity, Price, Order_Date, Customer_Age, Customer_Gender, Region, Payment_Method, Total_Amount]\n",
       "Index: []"
      ]
     },
     "execution_count": 86,
     "metadata": {},
     "output_type": "execute_result"
    }
   ],
   "source": [
    "# Find out the rows where (quantity * price != total_amount)\n",
    "mask = ~np.isclose(df['Total_Amount'], df['Quantity'] * df['Price'])\n",
    "df[mask]"
   ]
  },
  {
   "cell_type": "markdown",
   "id": "44acffa0-4c85-4508-8c7d-68bb0abc0121",
   "metadata": {},
   "source": [
    "### Save Cleaned Data:\n",
    "Save the cleaned dataset as ecommerce_sales_cleaned.csv"
   ]
  },
  {
   "cell_type": "code",
   "execution_count": null,
   "id": "aafe6044-151a-4215-ac94-b7f1f922e738",
   "metadata": {},
   "outputs": [],
   "source": [
    "# But before we are cleaning some other data which is not mentioned in questions before saving it"
   ]
  },
  {
   "cell_type": "code",
   "execution_count": null,
   "id": "02095677-7524-44f5-9ea8-1d474a163fc3",
   "metadata": {},
   "outputs": [],
   "source": [
    "# Replacing the missing values of the region column with the previous value"
   ]
  },
  {
   "cell_type": "code",
   "execution_count": 90,
   "id": "4970b275-cedb-4079-a20a-ede91af143cc",
   "metadata": {},
   "outputs": [
    {
     "name": "stderr",
     "output_type": "stream",
     "text": [
      "C:\\Users\\AYAT LAPTOP POINT\\AppData\\Local\\Temp\\ipykernel_15564\\2076420511.py:1: FutureWarning: Series.fillna with 'method' is deprecated and will raise in a future version. Use obj.ffill() or obj.bfill() instead.\n",
      "  df['Region'] = df['Region'].fillna(method='bfill')\n"
     ]
    }
   ],
   "source": [
    "df['Region'] = df['Region'].fillna(method='bfill')"
   ]
  },
  {
   "cell_type": "code",
   "execution_count": null,
   "id": "a12fbe92-ebf3-40bf-b06e-8ea8e836334d",
   "metadata": {},
   "outputs": [],
   "source": [
    "# Rounding the total amount upto 2 decimal points"
   ]
  },
  {
   "cell_type": "code",
   "execution_count": 95,
   "id": "1286079e-074e-48cc-a0f8-de0cfe0052e5",
   "metadata": {},
   "outputs": [],
   "source": [
    "df['Total_Amount'] = (df['Total_Amount']).round(2)"
   ]
  },
  {
   "cell_type": "code",
   "execution_count": 96,
   "id": "62341fb8-9639-4794-a622-511389ce08d4",
   "metadata": {},
   "outputs": [],
   "source": [
    "df.to_csv('ecommerce_sales_cleaned.csv')"
   ]
  },
  {
   "cell_type": "markdown",
   "id": "6a264b38-cc8c-4c3e-9020-52e959c8aa7e",
   "metadata": {},
   "source": [
    "# Task 2: Exploratory Data Analysis (EDA)"
   ]
  },
  {
   "cell_type": "markdown",
   "id": "9e92fcd3-0a8f-4eba-9031-cc058c8f1af6",
   "metadata": {},
   "source": [
    "### 1. Summary Statistics:\n",
    "- Compute descriptive statistics (mean, median, std, min, max) for Quantity , Price , Total_Amount and Customer_Age\n",
    "using NumPy or Pandas.\n",
    "- Group by Category and compute the average Total_Amount and total Quantity sold."
   ]
  },
  {
   "cell_type": "code",
   "execution_count": 114,
   "id": "d5869e1c-41cf-48da-886e-ed9b63ba6e10",
   "metadata": {},
   "outputs": [],
   "source": [
    "cols = ['Quantity', 'Price', 'Total_Amount', 'Customer_Age']\n",
    "descriptive = (df[cols].describe()).round(2)\n",
    "\n",
    "median_row = df[cols].median()\n",
    "median_row.name = 'median'\n",
    "\n",
    "descriptive = pd.concat([descriptive, pd.DataFrame(median_row).T])"
   ]
  },
  {
   "cell_type": "code",
   "execution_count": 115,
   "id": "b17fdfc1-f963-4517-a36d-a2987ad598a9",
   "metadata": {},
   "outputs": [
    {
     "data": {
      "text/html": [
       "<div>\n",
       "<style scoped>\n",
       "    .dataframe tbody tr th:only-of-type {\n",
       "        vertical-align: middle;\n",
       "    }\n",
       "\n",
       "    .dataframe tbody tr th {\n",
       "        vertical-align: top;\n",
       "    }\n",
       "\n",
       "    .dataframe thead th {\n",
       "        text-align: right;\n",
       "    }\n",
       "</style>\n",
       "<table border=\"1\" class=\"dataframe\">\n",
       "  <thead>\n",
       "    <tr style=\"text-align: right;\">\n",
       "      <th></th>\n",
       "      <th>Quantity</th>\n",
       "      <th>Price</th>\n",
       "      <th>Total_Amount</th>\n",
       "      <th>Customer_Age</th>\n",
       "    </tr>\n",
       "  </thead>\n",
       "  <tbody>\n",
       "    <tr>\n",
       "      <th>count</th>\n",
       "      <td>10003.00</td>\n",
       "      <td>10003.00</td>\n",
       "      <td>10003.00</td>\n",
       "      <td>10003.00</td>\n",
       "    </tr>\n",
       "    <tr>\n",
       "      <th>mean</th>\n",
       "      <td>4.99</td>\n",
       "      <td>251.42</td>\n",
       "      <td>1252.30</td>\n",
       "      <td>48.53</td>\n",
       "    </tr>\n",
       "    <tr>\n",
       "      <th>std</th>\n",
       "      <td>2.59</td>\n",
       "      <td>141.95</td>\n",
       "      <td>1028.68</td>\n",
       "      <td>17.86</td>\n",
       "    </tr>\n",
       "    <tr>\n",
       "      <th>min</th>\n",
       "      <td>1.00</td>\n",
       "      <td>5.00</td>\n",
       "      <td>5.00</td>\n",
       "      <td>18.00</td>\n",
       "    </tr>\n",
       "    <tr>\n",
       "      <th>25%</th>\n",
       "      <td>3.00</td>\n",
       "      <td>129.94</td>\n",
       "      <td>409.00</td>\n",
       "      <td>33.00</td>\n",
       "    </tr>\n",
       "    <tr>\n",
       "      <th>50%</th>\n",
       "      <td>5.00</td>\n",
       "      <td>251.14</td>\n",
       "      <td>961.14</td>\n",
       "      <td>49.00</td>\n",
       "    </tr>\n",
       "    <tr>\n",
       "      <th>75%</th>\n",
       "      <td>7.00</td>\n",
       "      <td>372.04</td>\n",
       "      <td>1878.40</td>\n",
       "      <td>64.00</td>\n",
       "    </tr>\n",
       "    <tr>\n",
       "      <th>max</th>\n",
       "      <td>9.00</td>\n",
       "      <td>499.95</td>\n",
       "      <td>4498.38</td>\n",
       "      <td>79.00</td>\n",
       "    </tr>\n",
       "    <tr>\n",
       "      <th>median</th>\n",
       "      <td>5.00</td>\n",
       "      <td>251.14</td>\n",
       "      <td>961.14</td>\n",
       "      <td>49.00</td>\n",
       "    </tr>\n",
       "  </tbody>\n",
       "</table>\n",
       "</div>"
      ],
      "text/plain": [
       "        Quantity     Price  Total_Amount  Customer_Age\n",
       "count   10003.00  10003.00      10003.00      10003.00\n",
       "mean        4.99    251.42       1252.30         48.53\n",
       "std         2.59    141.95       1028.68         17.86\n",
       "min         1.00      5.00          5.00         18.00\n",
       "25%         3.00    129.94        409.00         33.00\n",
       "50%         5.00    251.14        961.14         49.00\n",
       "75%         7.00    372.04       1878.40         64.00\n",
       "max         9.00    499.95       4498.38         79.00\n",
       "median      5.00    251.14        961.14         49.00"
      ]
     },
     "execution_count": 115,
     "metadata": {},
     "output_type": "execute_result"
    }
   ],
   "source": [
    "descriptive"
   ]
  },
  {
   "cell_type": "code",
   "execution_count": 119,
   "id": "02c06340-27d6-4b73-b59d-4a84e0869184",
   "metadata": {},
   "outputs": [
    {
     "data": {
      "text/html": [
       "<div>\n",
       "<style scoped>\n",
       "    .dataframe tbody tr th:only-of-type {\n",
       "        vertical-align: middle;\n",
       "    }\n",
       "\n",
       "    .dataframe tbody tr th {\n",
       "        vertical-align: top;\n",
       "    }\n",
       "\n",
       "    .dataframe thead th {\n",
       "        text-align: right;\n",
       "    }\n",
       "</style>\n",
       "<table border=\"1\" class=\"dataframe\">\n",
       "  <thead>\n",
       "    <tr style=\"text-align: right;\">\n",
       "      <th></th>\n",
       "      <th>Total_Amount</th>\n",
       "      <th>Quantity</th>\n",
       "    </tr>\n",
       "    <tr>\n",
       "      <th>Category</th>\n",
       "      <th></th>\n",
       "      <th></th>\n",
       "    </tr>\n",
       "  </thead>\n",
       "  <tbody>\n",
       "    <tr>\n",
       "      <th>Home &amp; Kitchen</th>\n",
       "      <td>1283.01</td>\n",
       "      <td>5.05</td>\n",
       "    </tr>\n",
       "    <tr>\n",
       "      <th>Electronics</th>\n",
       "      <td>1252.12</td>\n",
       "      <td>5.04</td>\n",
       "    </tr>\n",
       "    <tr>\n",
       "      <th>Toys</th>\n",
       "      <td>1249.47</td>\n",
       "      <td>5.02</td>\n",
       "    </tr>\n",
       "    <tr>\n",
       "      <th>Books</th>\n",
       "      <td>1244.69</td>\n",
       "      <td>4.90</td>\n",
       "    </tr>\n",
       "    <tr>\n",
       "      <th>Clothing</th>\n",
       "      <td>1230.83</td>\n",
       "      <td>4.95</td>\n",
       "    </tr>\n",
       "  </tbody>\n",
       "</table>\n",
       "</div>"
      ],
      "text/plain": [
       "                Total_Amount  Quantity\n",
       "Category                              \n",
       "Home & Kitchen       1283.01      5.05\n",
       "Electronics          1252.12      5.04\n",
       "Toys                 1249.47      5.02\n",
       "Books                1244.69      4.90\n",
       "Clothing             1230.83      4.95"
      ]
     },
     "execution_count": 119,
     "metadata": {},
     "output_type": "execute_result"
    }
   ],
   "source": [
    "# Group by categorical\n",
    "# Compute the average of tatal amount and total quantity sold\n",
    "grouped = (df.groupby('Category')[['Total_Amount', 'Quantity']].mean()).round(2)\n",
    "sorted_df = grouped.sort_values(by='Total_Amount', ascending=False)\n",
    "sorted_df"
   ]
  },
  {
   "cell_type": "markdown",
   "id": "e2bc503d-cbf7-4180-b1ce-3e375a65b3b0",
   "metadata": {},
   "source": [
    "### 2. Distribution Analysis:\n",
    "- Create histograms for Price , Total_Amount , and Customer_Age using Matplotlib. Use appropriate bin sizes.\n",
    "- Plot a boxplot of Total_Amount by Category to identify outliers."
   ]
  },
  {
   "cell_type": "code",
   "execution_count": 141,
   "id": "395f78ff-55ca-4ee7-8039-bf03c070bc98",
   "metadata": {},
   "outputs": [
    {
     "data": {
      "image/png": "[encoded data removed]",
      "text/plain": [
       "<Figure size 640x480 with 4 Axes>"
      ]
     },
     "metadata": {},
     "output_type": "display_data"
    }
   ],
   "source": [
    "import matplotlib.pyplot as plt\n",
    "# Create Histograms for Price, Total_Amount and Customer_Age\n",
    "    # I am thinking of making histogras for each using subplots\n",
    "cols = ['Price', 'Total_Amount', 'Customer_Age']\n",
    "price_bins = [0, 100, 200, 300, 400, 500]\n",
    "total_amount_bins = [1, 1000, 2000, 3000, 4000, 5000]\n",
    "age_bins = [10, 20, 30, 40, 50, 60, 70, 80]\n",
    "\n",
    "fig, axs = plt.subplots(2, 2)\n",
    "axs[0, 0].hist(df['Price'], bins=price_bins, color='lightgreen', edgecolor='black')\n",
    "axs[0, 1].hist(df['Total_Amount'], bins=total_amount_bins, color='lightblue', edgecolor='black')\n",
    "axs[1, 0].hist(df['Customer_Age'], bins=age_bins, color='purple', edgecolor='black')\n",
    "plt.show()"
   ]
  },
  {
   "cell_type": "code",
   "execution_count": 150,
   "id": "bf64ee0f-f56b-4afc-8334-39f110bc3ad7",
   "metadata": {},
   "outputs": [
    {
     "data": {
      "image/png": "[encoded data removed]",
      "text/plain": [
       "<Figure size 1000x600 with 1 Axes>"
      ]
     },
     "metadata": {},
     "output_type": "display_data"
    }
   ],
   "source": [
    "import seaborn as sns\n",
    "\n",
    "plt.figure(figsize=(10, 6))\n",
    "\n",
    "sns.boxplot(x='Category', y='Total_Amount', data=df)\n",
    "\n",
    "plt.title('Boxplot of Total_Amount by Category')\n",
    "plt.xlabel('Category')\n",
    "plt.ylabel('Total_Amount')\n",
    "\n",
    "# Show the plot\n",
    "plt.show()"
   ]
  },
  {
   "cell_type": "markdown",
   "id": "42841937-3584-4657-a4ea-f48f34ca8f4a",
   "metadata": {},
   "source": [
    "### 3. Categorical Analysis:\n",
    "- Compute the frequency of each Category , Region , Payment_Method , and Customer_Gender.\n",
    "- Create bar plots to visualize the top 5 products by total sales ( Total_Amount )."
   ]
  },
  {
   "cell_type": "code",
   "execution_count": 166,
   "id": "0f1d0576-af44-4f6e-8181-ca5be343e9f9",
   "metadata": {},
   "outputs": [
    {
     "data": {
      "text/html": [
       "<div>\n",
       "<style scoped>\n",
       "    .dataframe tbody tr th:only-of-type {\n",
       "        vertical-align: middle;\n",
       "    }\n",
       "\n",
       "    .dataframe tbody tr th {\n",
       "        vertical-align: top;\n",
       "    }\n",
       "\n",
       "    .dataframe thead th {\n",
       "        text-align: right;\n",
       "    }\n",
       "</style>\n",
       "<table border=\"1\" class=\"dataframe\">\n",
       "  <thead>\n",
       "    <tr style=\"text-align: right;\">\n",
       "      <th></th>\n",
       "      <th>Category</th>\n",
       "      <th>count</th>\n",
       "    </tr>\n",
       "  </thead>\n",
       "  <tbody>\n",
       "    <tr>\n",
       "      <th>0</th>\n",
       "      <td>Home &amp; Kitchen</td>\n",
       "      <td>2071</td>\n",
       "    </tr>\n",
       "    <tr>\n",
       "      <th>1</th>\n",
       "      <td>Toys</td>\n",
       "      <td>2002</td>\n",
       "    </tr>\n",
       "    <tr>\n",
       "      <th>2</th>\n",
       "      <td>Clothing</td>\n",
       "      <td>1985</td>\n",
       "    </tr>\n",
       "    <tr>\n",
       "      <th>3</th>\n",
       "      <td>Electronics</td>\n",
       "      <td>1976</td>\n",
       "    </tr>\n",
       "    <tr>\n",
       "      <th>4</th>\n",
       "      <td>Books</td>\n",
       "      <td>1969</td>\n",
       "    </tr>\n",
       "  </tbody>\n",
       "</table>\n",
       "</div>"
      ],
      "text/plain": [
       "         Category  count\n",
       "0  Home & Kitchen   2071\n",
       "1            Toys   2002\n",
       "2        Clothing   1985\n",
       "3     Electronics   1976\n",
       "4           Books   1969"
      ]
     },
     "execution_count": 166,
     "metadata": {},
     "output_type": "execute_result"
    }
   ],
   "source": [
    "df['Category'].value_counts().sort_values(ascending=False).reset_index()"
   ]
  },
  {
   "cell_type": "code",
   "execution_count": 165,
   "id": "8b1b45b1-375a-4bc1-a209-43c94e89e757",
   "metadata": {},
   "outputs": [
    {
     "data": {
      "text/html": [
       "<div>\n",
       "<style scoped>\n",
       "    .dataframe tbody tr th:only-of-type {\n",
       "        vertical-align: middle;\n",
       "    }\n",
       "\n",
       "    .dataframe tbody tr th {\n",
       "        vertical-align: top;\n",
       "    }\n",
       "\n",
       "    .dataframe thead th {\n",
       "        text-align: right;\n",
       "    }\n",
       "</style>\n",
       "<table border=\"1\" class=\"dataframe\">\n",
       "  <thead>\n",
       "    <tr style=\"text-align: right;\">\n",
       "      <th></th>\n",
       "      <th>Region</th>\n",
       "      <th>count</th>\n",
       "    </tr>\n",
       "  </thead>\n",
       "  <tbody>\n",
       "    <tr>\n",
       "      <th>0</th>\n",
       "      <td>West</td>\n",
       "      <td>2555</td>\n",
       "    </tr>\n",
       "    <tr>\n",
       "      <th>1</th>\n",
       "      <td>East</td>\n",
       "      <td>2522</td>\n",
       "    </tr>\n",
       "    <tr>\n",
       "      <th>2</th>\n",
       "      <td>North</td>\n",
       "      <td>2482</td>\n",
       "    </tr>\n",
       "    <tr>\n",
       "      <th>3</th>\n",
       "      <td>South</td>\n",
       "      <td>2444</td>\n",
       "    </tr>\n",
       "  </tbody>\n",
       "</table>\n",
       "</div>"
      ],
      "text/plain": [
       "  Region  count\n",
       "0   West   2555\n",
       "1   East   2522\n",
       "2  North   2482\n",
       "3  South   2444"
      ]
     },
     "execution_count": 165,
     "metadata": {},
     "output_type": "execute_result"
    }
   ],
   "source": [
    "df['Region'].value_counts().sort_values(ascending=False).reset_index()"
   ]
  },
  {
   "cell_type": "code",
   "execution_count": 164,
   "id": "8d3d02ea-6814-4de0-b624-19f162266c64",
   "metadata": {},
   "outputs": [
    {
     "data": {
      "text/html": [
       "<div>\n",
       "<style scoped>\n",
       "    .dataframe tbody tr th:only-of-type {\n",
       "        vertical-align: middle;\n",
       "    }\n",
       "\n",
       "    .dataframe tbody tr th {\n",
       "        vertical-align: top;\n",
       "    }\n",
       "\n",
       "    .dataframe thead th {\n",
       "        text-align: right;\n",
       "    }\n",
       "</style>\n",
       "<table border=\"1\" class=\"dataframe\">\n",
       "  <thead>\n",
       "    <tr style=\"text-align: right;\">\n",
       "      <th></th>\n",
       "      <th>Payment_Method</th>\n",
       "      <th>count</th>\n",
       "    </tr>\n",
       "  </thead>\n",
       "  <tbody>\n",
       "    <tr>\n",
       "      <th>0</th>\n",
       "      <td>Debit Card</td>\n",
       "      <td>2611</td>\n",
       "    </tr>\n",
       "    <tr>\n",
       "      <th>1</th>\n",
       "      <td>Credit Card</td>\n",
       "      <td>2497</td>\n",
       "    </tr>\n",
       "    <tr>\n",
       "      <th>2</th>\n",
       "      <td>Cash</td>\n",
       "      <td>2492</td>\n",
       "    </tr>\n",
       "    <tr>\n",
       "      <th>3</th>\n",
       "      <td>PayPal</td>\n",
       "      <td>2403</td>\n",
       "    </tr>\n",
       "  </tbody>\n",
       "</table>\n",
       "</div>"
      ],
      "text/plain": [
       "  Payment_Method  count\n",
       "0     Debit Card   2611\n",
       "1    Credit Card   2497\n",
       "2           Cash   2492\n",
       "3         PayPal   2403"
      ]
     },
     "execution_count": 164,
     "metadata": {},
     "output_type": "execute_result"
    }
   ],
   "source": [
    "df['Payment_Method'].value_counts().sort_values(ascending=False).reset_index()"
   ]
  },
  {
   "cell_type": "code",
   "execution_count": 163,
   "id": "4f1c3273-589b-4cd8-b8f9-a873ff22e616",
   "metadata": {},
   "outputs": [
    {
     "data": {
      "text/html": [
       "<div>\n",
       "<style scoped>\n",
       "    .dataframe tbody tr th:only-of-type {\n",
       "        vertical-align: middle;\n",
       "    }\n",
       "\n",
       "    .dataframe tbody tr th {\n",
       "        vertical-align: top;\n",
       "    }\n",
       "\n",
       "    .dataframe thead th {\n",
       "        text-align: right;\n",
       "    }\n",
       "</style>\n",
       "<table border=\"1\" class=\"dataframe\">\n",
       "  <thead>\n",
       "    <tr style=\"text-align: right;\">\n",
       "      <th></th>\n",
       "      <th>Customer_Gender</th>\n",
       "      <th>count</th>\n",
       "    </tr>\n",
       "  </thead>\n",
       "  <tbody>\n",
       "    <tr>\n",
       "      <th>0</th>\n",
       "      <td>Male</td>\n",
       "      <td>3454</td>\n",
       "    </tr>\n",
       "    <tr>\n",
       "      <th>1</th>\n",
       "      <td>Other</td>\n",
       "      <td>3287</td>\n",
       "    </tr>\n",
       "    <tr>\n",
       "      <th>2</th>\n",
       "      <td>Female</td>\n",
       "      <td>3262</td>\n",
       "    </tr>\n",
       "  </tbody>\n",
       "</table>\n",
       "</div>"
      ],
      "text/plain": [
       "  Customer_Gender  count\n",
       "0            Male   3454\n",
       "1           Other   3287\n",
       "2          Female   3262"
      ]
     },
     "execution_count": 163,
     "metadata": {},
     "output_type": "execute_result"
    }
   ],
   "source": [
    "df['Customer_Gender'].value_counts().sort_values(ascending=False).reset_index()"
   ]
  },
  {
   "cell_type": "code",
   "execution_count": 176,
   "id": "12cfe6f2-d9c5-4ba0-affb-e74de566726f",
   "metadata": {},
   "outputs": [
    {
     "data": {
      "text/plain": [
       "<Axes: xlabel='Product', ylabel='Total_Amount'>"
      ]
     },
     "execution_count": 176,
     "metadata": {},
     "output_type": "execute_result"
    },
    {
     "data": {
      "image/png": "[encoded data removed]",
      "text/plain": [
       "<Figure size 1000x600 with 1 Axes>"
      ]
     },
     "metadata": {},
     "output_type": "display_data"
    }
   ],
   "source": [
    "# Create a bar plot to visualize the top 5 products by total sales (Total Amount)\n",
    "top_products = df.groupby('Product')['Total_Amount'].sum().sort_values(ascending=False).head(5)\n",
    "top_products = top_products.reset_index()\n",
    "\n",
    "plt.figure(figsize=(10, 6))\n",
    "sns.barplot(x='Product', y='Total_Amount', data=top_products)"
   ]
  },
  {
   "cell_type": "markdown",
   "id": "88bfe9c8-1132-414a-a082-c7e99307d65b",
   "metadata": {},
   "source": [
    "### 4. Time-Based Analysis:\n",
    "- Extract the year and month from Order_Date .\n",
    "- Plot the total Total_Amount by month using a line plot.\n",
    "- Identify the month with the highest sales."
   ]
  },
  {
   "cell_type": "code",
   "execution_count": 183,
   "id": "280e28b0-3dcd-4e50-ad54-810c08081cf8",
   "metadata": {},
   "outputs": [],
   "source": [
    "df['year'] = pd.DatetimeIndex(df['Order_Date']).year"
   ]
  },
  {
   "cell_type": "code",
   "execution_count": 186,
   "id": "e45355ae-9841-42d4-9e84-9794447b43d2",
   "metadata": {},
   "outputs": [],
   "source": [
    "df['month'] = pd.DatetimeIndex(df['Order_Date']).month"
   ]
  },
  {
   "cell_type": "code",
   "execution_count": 192,
   "id": "a1de19ee-38c4-48d8-b45f-f7f35c7bf7fa",
   "metadata": {},
   "outputs": [
    {
     "data": {
      "image/png": "[encoded data removed]",
      "text/plain": [
       "<Figure size 640x480 with 1 Axes>"
      ]
     },
     "metadata": {},
     "output_type": "display_data"
    }
   ],
   "source": [
    "df.groupby('month')['Total_Amount'].sum().plot(kind='line', marker='o')\n",
    "plt.title('Total Sales by Month')\n",
    "plt.xlabel('Month')\n",
    "plt.ylabel('Total_Amount')\n",
    "plt.grid(True)\n",
    "plt.show()"
   ]
  },
  {
   "cell_type": "code",
   "execution_count": 197,
   "id": "a5468bd3-1733-441b-b29c-b911a5faed86",
   "metadata": {},
   "outputs": [
    {
     "data": {
      "text/plain": [
       "month\n",
       "5    1112827.82\n",
       "Name: Total_Amount, dtype: float64"
      ]
     },
     "execution_count": 197,
     "metadata": {},
     "output_type": "execute_result"
    }
   ],
   "source": [
    "df.groupby('month')['Total_Amount'].sum().sort_values(ascending=False).head(1)"
   ]
  },
  {
   "cell_type": "code",
   "execution_count": null,
   "id": "08fa0246-0145-475f-8918-3398a591f30f",
   "metadata": {},
   "outputs": [],
   "source": [
    "# So according to this the month with the highest sales is 5th month (that is) MAY,\n",
    "# with the total sales of approxemately 1.1M"
   ]
  },
  {
   "cell_type": "markdown",
   "id": "6884313b-fdd3-4773-84b4-21027d208b04",
   "metadata": {},
   "source": [
    "# Task 3: Advanced Analysis"
   ]
  },
  {
   "cell_type": "code",
   "execution_count": 5,
   "id": "45a639a4-3ec5-4d3a-aabd-8d5103d4522e",
   "metadata": {},
   "outputs": [],
   "source": [
    "df = pd.read_csv('ecommerce_sales_cleaned.csv')"
   ]
  },
  {
   "cell_type": "code",
   "execution_count": 6,
   "id": "97ff26e8-1c5e-4fe4-82d6-fd885f37f3c8",
   "metadata": {},
   "outputs": [
    {
     "data": {
      "text/html": [
       "<div>\n",
       "<style scoped>\n",
       "    .dataframe tbody tr th:only-of-type {\n",
       "        vertical-align: middle;\n",
       "    }\n",
       "\n",
       "    .dataframe tbody tr th {\n",
       "        vertical-align: top;\n",
       "    }\n",
       "\n",
       "    .dataframe thead th {\n",
       "        text-align: right;\n",
       "    }\n",
       "</style>\n",
       "<table border=\"1\" class=\"dataframe\">\n",
       "  <thead>\n",
       "    <tr style=\"text-align: right;\">\n",
       "      <th></th>\n",
       "      <th>Unnamed: 0</th>\n",
       "      <th>Order_ID</th>\n",
       "      <th>Customer_ID</th>\n",
       "      <th>Product</th>\n",
       "      <th>Category</th>\n",
       "      <th>Quantity</th>\n",
       "      <th>Price</th>\n",
       "      <th>Order_Date</th>\n",
       "      <th>Customer_Age</th>\n",
       "      <th>Customer_Gender</th>\n",
       "      <th>Region</th>\n",
       "      <th>Payment_Method</th>\n",
       "      <th>Total_Amount</th>\n",
       "    </tr>\n",
       "  </thead>\n",
       "  <tbody>\n",
       "    <tr>\n",
       "      <th>0</th>\n",
       "      <td>0</td>\n",
       "      <td>1</td>\n",
       "      <td>C00001</td>\n",
       "      <td>Product_1</td>\n",
       "      <td>Electronics</td>\n",
       "      <td>7</td>\n",
       "      <td>181.67</td>\n",
       "      <td>2024-08-22</td>\n",
       "      <td>20</td>\n",
       "      <td>Female</td>\n",
       "      <td>South</td>\n",
       "      <td>Cash</td>\n",
       "      <td>1271.69</td>\n",
       "    </tr>\n",
       "    <tr>\n",
       "      <th>1</th>\n",
       "      <td>1</td>\n",
       "      <td>2</td>\n",
       "      <td>C00002</td>\n",
       "      <td>Product_2</td>\n",
       "      <td>Electronics</td>\n",
       "      <td>4</td>\n",
       "      <td>58.60</td>\n",
       "      <td>2023-08-29</td>\n",
       "      <td>58</td>\n",
       "      <td>Female</td>\n",
       "      <td>North</td>\n",
       "      <td>Credit Card</td>\n",
       "      <td>234.40</td>\n",
       "    </tr>\n",
       "    <tr>\n",
       "      <th>2</th>\n",
       "      <td>2</td>\n",
       "      <td>3</td>\n",
       "      <td>C00003</td>\n",
       "      <td>Product_3</td>\n",
       "      <td>Books</td>\n",
       "      <td>8</td>\n",
       "      <td>213.33</td>\n",
       "      <td>2024-05-11</td>\n",
       "      <td>46</td>\n",
       "      <td>Male</td>\n",
       "      <td>East</td>\n",
       "      <td>Credit Card</td>\n",
       "      <td>1706.64</td>\n",
       "    </tr>\n",
       "    <tr>\n",
       "      <th>3</th>\n",
       "      <td>3</td>\n",
       "      <td>4</td>\n",
       "      <td>C00004</td>\n",
       "      <td>Product_4</td>\n",
       "      <td>Clothing</td>\n",
       "      <td>5</td>\n",
       "      <td>364.92</td>\n",
       "      <td>2024-05-11</td>\n",
       "      <td>54</td>\n",
       "      <td>Other</td>\n",
       "      <td>South</td>\n",
       "      <td>Credit Card</td>\n",
       "      <td>1824.60</td>\n",
       "    </tr>\n",
       "    <tr>\n",
       "      <th>4</th>\n",
       "      <td>4</td>\n",
       "      <td>5</td>\n",
       "      <td>C00005</td>\n",
       "      <td>Product_5</td>\n",
       "      <td>Clothing</td>\n",
       "      <td>7</td>\n",
       "      <td>58.11</td>\n",
       "      <td>2024-11-19</td>\n",
       "      <td>72</td>\n",
       "      <td>Other</td>\n",
       "      <td>South</td>\n",
       "      <td>Cash</td>\n",
       "      <td>406.77</td>\n",
       "    </tr>\n",
       "    <tr>\n",
       "      <th>...</th>\n",
       "      <td>...</td>\n",
       "      <td>...</td>\n",
       "      <td>...</td>\n",
       "      <td>...</td>\n",
       "      <td>...</td>\n",
       "      <td>...</td>\n",
       "      <td>...</td>\n",
       "      <td>...</td>\n",
       "      <td>...</td>\n",
       "      <td>...</td>\n",
       "      <td>...</td>\n",
       "      <td>...</td>\n",
       "      <td>...</td>\n",
       "    </tr>\n",
       "    <tr>\n",
       "      <th>9998</th>\n",
       "      <td>9998</td>\n",
       "      <td>9999</td>\n",
       "      <td>C09999</td>\n",
       "      <td>Product_9999</td>\n",
       "      <td>Books</td>\n",
       "      <td>9</td>\n",
       "      <td>378.92</td>\n",
       "      <td>2023-01-16</td>\n",
       "      <td>33</td>\n",
       "      <td>Other</td>\n",
       "      <td>South</td>\n",
       "      <td>Debit Card</td>\n",
       "      <td>3410.28</td>\n",
       "    </tr>\n",
       "    <tr>\n",
       "      <th>9999</th>\n",
       "      <td>9999</td>\n",
       "      <td>10000</td>\n",
       "      <td>C10000</td>\n",
       "      <td>Product_10000</td>\n",
       "      <td>Electronics</td>\n",
       "      <td>7</td>\n",
       "      <td>73.51</td>\n",
       "      <td>2024-07-29</td>\n",
       "      <td>59</td>\n",
       "      <td>Other</td>\n",
       "      <td>South</td>\n",
       "      <td>Cash</td>\n",
       "      <td>514.57</td>\n",
       "    </tr>\n",
       "    <tr>\n",
       "      <th>10000</th>\n",
       "      <td>10075</td>\n",
       "      <td>7489</td>\n",
       "      <td>C07489</td>\n",
       "      <td>Product_7489</td>\n",
       "      <td>Books</td>\n",
       "      <td>9</td>\n",
       "      <td>478.35</td>\n",
       "      <td>2024-03-16</td>\n",
       "      <td>38</td>\n",
       "      <td>Female</td>\n",
       "      <td>North</td>\n",
       "      <td>Credit Card</td>\n",
       "      <td>4305.15</td>\n",
       "    </tr>\n",
       "    <tr>\n",
       "      <th>10001</th>\n",
       "      <td>10083</td>\n",
       "      <td>3044</td>\n",
       "      <td>C03044</td>\n",
       "      <td>Product_3044</td>\n",
       "      <td>Home &amp; Kitchen</td>\n",
       "      <td>8</td>\n",
       "      <td>437.26</td>\n",
       "      <td>2024-07-09</td>\n",
       "      <td>34</td>\n",
       "      <td>Male</td>\n",
       "      <td>East</td>\n",
       "      <td>Credit Card</td>\n",
       "      <td>3498.08</td>\n",
       "    </tr>\n",
       "    <tr>\n",
       "      <th>10002</th>\n",
       "      <td>10094</td>\n",
       "      <td>7927</td>\n",
       "      <td>C07927</td>\n",
       "      <td>Product_7927</td>\n",
       "      <td>Toys</td>\n",
       "      <td>9</td>\n",
       "      <td>213.57</td>\n",
       "      <td>2023-07-02</td>\n",
       "      <td>36</td>\n",
       "      <td>Male</td>\n",
       "      <td>West</td>\n",
       "      <td>Credit Card</td>\n",
       "      <td>1922.13</td>\n",
       "    </tr>\n",
       "  </tbody>\n",
       "</table>\n",
       "<p>10003 rows × 13 columns</p>\n",
       "</div>"
      ],
      "text/plain": [
       "       Unnamed: 0  Order_ID Customer_ID        Product        Category  \\\n",
       "0               0         1      C00001      Product_1     Electronics   \n",
       "1               1         2      C00002      Product_2     Electronics   \n",
       "2               2         3      C00003      Product_3           Books   \n",
       "3               3         4      C00004      Product_4        Clothing   \n",
       "4               4         5      C00005      Product_5        Clothing   \n",
       "...           ...       ...         ...            ...             ...   \n",
       "9998         9998      9999      C09999   Product_9999           Books   \n",
       "9999         9999     10000      C10000  Product_10000     Electronics   \n",
       "10000       10075      7489      C07489   Product_7489           Books   \n",
       "10001       10083      3044      C03044   Product_3044  Home & Kitchen   \n",
       "10002       10094      7927      C07927   Product_7927            Toys   \n",
       "\n",
       "       Quantity   Price  Order_Date  Customer_Age Customer_Gender Region  \\\n",
       "0             7  181.67  2024-08-22            20          Female  South   \n",
       "1             4   58.60  2023-08-29            58          Female  North   \n",
       "2             8  213.33  2024-05-11            46            Male   East   \n",
       "3             5  364.92  2024-05-11            54           Other  South   \n",
       "4             7   58.11  2024-11-19            72           Other  South   \n",
       "...         ...     ...         ...           ...             ...    ...   \n",
       "9998          9  378.92  2023-01-16            33           Other  South   \n",
       "9999          7   73.51  2024-07-29            59           Other  South   \n",
       "10000         9  478.35  2024-03-16            38          Female  North   \n",
       "10001         8  437.26  2024-07-09            34            Male   East   \n",
       "10002         9  213.57  2023-07-02            36            Male   West   \n",
       "\n",
       "      Payment_Method  Total_Amount  \n",
       "0               Cash       1271.69  \n",
       "1        Credit Card        234.40  \n",
       "2        Credit Card       1706.64  \n",
       "3        Credit Card       1824.60  \n",
       "4               Cash        406.77  \n",
       "...              ...           ...  \n",
       "9998      Debit Card       3410.28  \n",
       "9999            Cash        514.57  \n",
       "10000    Credit Card       4305.15  \n",
       "10001    Credit Card       3498.08  \n",
       "10002    Credit Card       1922.13  \n",
       "\n",
       "[10003 rows x 13 columns]"
      ]
     },
     "execution_count": 6,
     "metadata": {},
     "output_type": "execute_result"
    }
   ],
   "source": [
    "df"
   ]
  },
  {
   "cell_type": "markdown",
   "id": "819aa9cf-ca84-4f81-bce5-c059742f5e05",
   "metadata": {},
   "source": [
    "### 1. Correlation Analysis:\n",
    "- Compute the correlation matrix for Quantity , Price , Total_Amount , and Customer_Age using NumPy.\n",
    "- Visualize the correlation matrix as a heatmap using Matplotlib."
   ]
  },
  {
   "cell_type": "code",
   "execution_count": 8,
   "id": "e22207ba-cb80-4825-a503-4d4e8cd7e081",
   "metadata": {},
   "outputs": [],
   "source": [
    "col = ['Quantity', 'Price', 'Total_Amount', 'Customer_Age']\n",
    "df_for_correlation = df[col]"
   ]
  },
  {
   "cell_type": "code",
   "execution_count": 9,
   "id": "428a5037-97fb-43fe-90dc-ee8b84ca91a6",
   "metadata": {},
   "outputs": [],
   "source": [
    "correlation_matrix = df_for_correlation.corr()"
   ]
  },
  {
   "cell_type": "code",
   "execution_count": 10,
   "id": "f2b8f7bc-7525-4cfd-ae7e-b9a53de4bd28",
   "metadata": {},
   "outputs": [
    {
     "data": {
      "text/html": [
       "<div>\n",
       "<style scoped>\n",
       "    .dataframe tbody tr th:only-of-type {\n",
       "        vertical-align: middle;\n",
       "    }\n",
       "\n",
       "    .dataframe tbody tr th {\n",
       "        vertical-align: top;\n",
       "    }\n",
       "\n",
       "    .dataframe thead th {\n",
       "        text-align: right;\n",
       "    }\n",
       "</style>\n",
       "<table border=\"1\" class=\"dataframe\">\n",
       "  <thead>\n",
       "    <tr style=\"text-align: right;\">\n",
       "      <th></th>\n",
       "      <th>Quantity</th>\n",
       "      <th>Price</th>\n",
       "      <th>Total_Amount</th>\n",
       "      <th>Customer_Age</th>\n",
       "    </tr>\n",
       "  </thead>\n",
       "  <tbody>\n",
       "    <tr>\n",
       "      <th>Quantity</th>\n",
       "      <td>1.000000</td>\n",
       "      <td>-0.008919</td>\n",
       "      <td>0.628895</td>\n",
       "      <td>-0.006590</td>\n",
       "    </tr>\n",
       "    <tr>\n",
       "      <th>Price</th>\n",
       "      <td>-0.008919</td>\n",
       "      <td>1.000000</td>\n",
       "      <td>0.684638</td>\n",
       "      <td>-0.023244</td>\n",
       "    </tr>\n",
       "    <tr>\n",
       "      <th>Total_Amount</th>\n",
       "      <td>0.628895</td>\n",
       "      <td>0.684638</td>\n",
       "      <td>1.000000</td>\n",
       "      <td>-0.030149</td>\n",
       "    </tr>\n",
       "    <tr>\n",
       "      <th>Customer_Age</th>\n",
       "      <td>-0.006590</td>\n",
       "      <td>-0.023244</td>\n",
       "      <td>-0.030149</td>\n",
       "      <td>1.000000</td>\n",
       "    </tr>\n",
       "  </tbody>\n",
       "</table>\n",
       "</div>"
      ],
      "text/plain": [
       "              Quantity     Price  Total_Amount  Customer_Age\n",
       "Quantity      1.000000 -0.008919      0.628895     -0.006590\n",
       "Price        -0.008919  1.000000      0.684638     -0.023244\n",
       "Total_Amount  0.628895  0.684638      1.000000     -0.030149\n",
       "Customer_Age -0.006590 -0.023244     -0.030149      1.000000"
      ]
     },
     "execution_count": 10,
     "metadata": {},
     "output_type": "execute_result"
    }
   ],
   "source": [
    "correlation_matrix"
   ]
  },
  {
   "cell_type": "code",
   "execution_count": 17,
   "id": "5c5493be-f450-4900-a185-2ab09029a8d8",
   "metadata": {},
   "outputs": [
    {
     "data": {
      "text/plain": [
       "<matplotlib.colorbar.Colorbar at 0x22457e61ff0>"
      ]
     },
     "execution_count": 17,
     "metadata": {},
     "output_type": "execute_result"
    },
    {
     "data": {
      "image/png": "[encoded data removed]",
      "text/plain": [
       "<Figure size 640x480 with 2 Axes>"
      ]
     },
     "metadata": {},
     "output_type": "display_data"
    }
   ],
   "source": [
    "plt.imshow(correlation_matrix, cmap='RdYlBu')\n",
    "plt.colorbar()"
   ]
  },
  {
   "cell_type": "markdown",
   "id": "6b7b5cf0-ef8f-4b2b-ae9f-bdc24c6af4a3",
   "metadata": {},
   "source": [
    "### 2. Customer Segmentation:\n",
    "- Group customers by Customer_ID and compute their total Total_Amount and number of orders.\n",
    "- Categorize customers into three segments based on total spending: Low (< $500), Medium ($500-$2000), High (> $2000).\n",
    "- Create a pie chart showing the proportion of customers in each segment."
   ]
  },
  {
   "cell_type": "code",
   "execution_count": 21,
   "id": "03a1ea1f-3139-4bb1-b3a3-80203acb11bb",
   "metadata": {},
   "outputs": [
    {
     "data": {
      "text/html": [
       "<div>\n",
       "<style scoped>\n",
       "    .dataframe tbody tr th:only-of-type {\n",
       "        vertical-align: middle;\n",
       "    }\n",
       "\n",
       "    .dataframe tbody tr th {\n",
       "        vertical-align: top;\n",
       "    }\n",
       "\n",
       "    .dataframe thead th {\n",
       "        text-align: right;\n",
       "    }\n",
       "</style>\n",
       "<table border=\"1\" class=\"dataframe\">\n",
       "  <thead>\n",
       "    <tr style=\"text-align: right;\">\n",
       "      <th></th>\n",
       "      <th>Customer_ID</th>\n",
       "      <th>Total_Amount</th>\n",
       "    </tr>\n",
       "  </thead>\n",
       "  <tbody>\n",
       "    <tr>\n",
       "      <th>0</th>\n",
       "      <td>C00001</td>\n",
       "      <td>1271.69</td>\n",
       "    </tr>\n",
       "    <tr>\n",
       "      <th>1</th>\n",
       "      <td>C00002</td>\n",
       "      <td>234.40</td>\n",
       "    </tr>\n",
       "    <tr>\n",
       "      <th>2</th>\n",
       "      <td>C00003</td>\n",
       "      <td>1706.64</td>\n",
       "    </tr>\n",
       "    <tr>\n",
       "      <th>3</th>\n",
       "      <td>C00004</td>\n",
       "      <td>1824.60</td>\n",
       "    </tr>\n",
       "    <tr>\n",
       "      <th>4</th>\n",
       "      <td>C00005</td>\n",
       "      <td>406.77</td>\n",
       "    </tr>\n",
       "    <tr>\n",
       "      <th>...</th>\n",
       "      <td>...</td>\n",
       "      <td>...</td>\n",
       "    </tr>\n",
       "    <tr>\n",
       "      <th>9995</th>\n",
       "      <td>C09996</td>\n",
       "      <td>289.07</td>\n",
       "    </tr>\n",
       "    <tr>\n",
       "      <th>9996</th>\n",
       "      <td>C09997</td>\n",
       "      <td>708.05</td>\n",
       "    </tr>\n",
       "    <tr>\n",
       "      <th>9997</th>\n",
       "      <td>C09998</td>\n",
       "      <td>1796.58</td>\n",
       "    </tr>\n",
       "    <tr>\n",
       "      <th>9998</th>\n",
       "      <td>C09999</td>\n",
       "      <td>3410.28</td>\n",
       "    </tr>\n",
       "    <tr>\n",
       "      <th>9999</th>\n",
       "      <td>C10000</td>\n",
       "      <td>514.57</td>\n",
       "    </tr>\n",
       "  </tbody>\n",
       "</table>\n",
       "<p>10000 rows × 2 columns</p>\n",
       "</div>"
      ],
      "text/plain": [
       "     Customer_ID  Total_Amount\n",
       "0         C00001       1271.69\n",
       "1         C00002        234.40\n",
       "2         C00003       1706.64\n",
       "3         C00004       1824.60\n",
       "4         C00005        406.77\n",
       "...          ...           ...\n",
       "9995      C09996        289.07\n",
       "9996      C09997        708.05\n",
       "9997      C09998       1796.58\n",
       "9998      C09999       3410.28\n",
       "9999      C10000        514.57\n",
       "\n",
       "[10000 rows x 2 columns]"
      ]
     },
     "execution_count": 21,
     "metadata": {},
     "output_type": "execute_result"
    }
   ],
   "source": [
    "df.groupby('Customer_ID')['Total_Amount'].sum().reset_index()"
   ]
  },
  {
   "cell_type": "code",
   "execution_count": 24,
   "id": "aa1df859-1b20-4d36-a5d7-433b9d657e44",
   "metadata": {},
   "outputs": [
    {
     "data": {
      "text/html": [
       "<div>\n",
       "<style scoped>\n",
       "    .dataframe tbody tr th:only-of-type {\n",
       "        vertical-align: middle;\n",
       "    }\n",
       "\n",
       "    .dataframe tbody tr th {\n",
       "        vertical-align: top;\n",
       "    }\n",
       "\n",
       "    .dataframe thead th {\n",
       "        text-align: right;\n",
       "    }\n",
       "</style>\n",
       "<table border=\"1\" class=\"dataframe\">\n",
       "  <thead>\n",
       "    <tr style=\"text-align: right;\">\n",
       "      <th></th>\n",
       "      <th>Customer_ID</th>\n",
       "      <th>Order_ID</th>\n",
       "    </tr>\n",
       "  </thead>\n",
       "  <tbody>\n",
       "    <tr>\n",
       "      <th>0</th>\n",
       "      <td>C03044</td>\n",
       "      <td>2</td>\n",
       "    </tr>\n",
       "    <tr>\n",
       "      <th>1</th>\n",
       "      <td>C07489</td>\n",
       "      <td>2</td>\n",
       "    </tr>\n",
       "    <tr>\n",
       "      <th>2</th>\n",
       "      <td>C07927</td>\n",
       "      <td>2</td>\n",
       "    </tr>\n",
       "    <tr>\n",
       "      <th>3</th>\n",
       "      <td>C09987</td>\n",
       "      <td>1</td>\n",
       "    </tr>\n",
       "    <tr>\n",
       "      <th>4</th>\n",
       "      <td>C09988</td>\n",
       "      <td>1</td>\n",
       "    </tr>\n",
       "    <tr>\n",
       "      <th>...</th>\n",
       "      <td>...</td>\n",
       "      <td>...</td>\n",
       "    </tr>\n",
       "    <tr>\n",
       "      <th>9995</th>\n",
       "      <td>C09980</td>\n",
       "      <td>1</td>\n",
       "    </tr>\n",
       "    <tr>\n",
       "      <th>9996</th>\n",
       "      <td>C09981</td>\n",
       "      <td>1</td>\n",
       "    </tr>\n",
       "    <tr>\n",
       "      <th>9997</th>\n",
       "      <td>C09982</td>\n",
       "      <td>1</td>\n",
       "    </tr>\n",
       "    <tr>\n",
       "      <th>9998</th>\n",
       "      <td>C09983</td>\n",
       "      <td>1</td>\n",
       "    </tr>\n",
       "    <tr>\n",
       "      <th>9999</th>\n",
       "      <td>C09984</td>\n",
       "      <td>1</td>\n",
       "    </tr>\n",
       "  </tbody>\n",
       "</table>\n",
       "<p>10000 rows × 2 columns</p>\n",
       "</div>"
      ],
      "text/plain": [
       "     Customer_ID  Order_ID\n",
       "0         C03044         2\n",
       "1         C07489         2\n",
       "2         C07927         2\n",
       "3         C09987         1\n",
       "4         C09988         1\n",
       "...          ...       ...\n",
       "9995      C09980         1\n",
       "9996      C09981         1\n",
       "9997      C09982         1\n",
       "9998      C09983         1\n",
       "9999      C09984         1\n",
       "\n",
       "[10000 rows x 2 columns]"
      ]
     },
     "execution_count": 24,
     "metadata": {},
     "output_type": "execute_result"
    }
   ],
   "source": [
    "df.groupby('Customer_ID')['Order_ID'].count().sort_values(ascending=False).reset_index()"
   ]
  },
  {
   "cell_type": "code",
   "execution_count": 26,
   "id": "ecd9bddc-150d-43ef-99d4-d311e78795bb",
   "metadata": {},
   "outputs": [],
   "source": [
    "# Categorize customers into 3 categories based on total spending (<500 = Low, 500-2000 = Medium, >2000 = High)\n",
    "customer_spending = df.groupby('Customer_ID')['Total_Amount'].sum().reset_index()"
   ]
  },
  {
   "cell_type": "code",
   "execution_count": 29,
   "id": "9d22fa7e-a1d4-42a6-b560-9f6d5177f4c3",
   "metadata": {},
   "outputs": [
    {
     "data": {
      "text/html": [
       "<div>\n",
       "<style scoped>\n",
       "    .dataframe tbody tr th:only-of-type {\n",
       "        vertical-align: middle;\n",
       "    }\n",
       "\n",
       "    .dataframe tbody tr th {\n",
       "        vertical-align: top;\n",
       "    }\n",
       "\n",
       "    .dataframe thead th {\n",
       "        text-align: right;\n",
       "    }\n",
       "</style>\n",
       "<table border=\"1\" class=\"dataframe\">\n",
       "  <thead>\n",
       "    <tr style=\"text-align: right;\">\n",
       "      <th></th>\n",
       "      <th>Customer_ID</th>\n",
       "      <th>Total_Amount</th>\n",
       "      <th>Spending_Category</th>\n",
       "    </tr>\n",
       "  </thead>\n",
       "  <tbody>\n",
       "    <tr>\n",
       "      <th>0</th>\n",
       "      <td>C00001</td>\n",
       "      <td>1271.69</td>\n",
       "      <td>Medium</td>\n",
       "    </tr>\n",
       "    <tr>\n",
       "      <th>1</th>\n",
       "      <td>C00002</td>\n",
       "      <td>234.40</td>\n",
       "      <td>Low</td>\n",
       "    </tr>\n",
       "    <tr>\n",
       "      <th>2</th>\n",
       "      <td>C00003</td>\n",
       "      <td>1706.64</td>\n",
       "      <td>Medium</td>\n",
       "    </tr>\n",
       "    <tr>\n",
       "      <th>3</th>\n",
       "      <td>C00004</td>\n",
       "      <td>1824.60</td>\n",
       "      <td>Medium</td>\n",
       "    </tr>\n",
       "    <tr>\n",
       "      <th>4</th>\n",
       "      <td>C00005</td>\n",
       "      <td>406.77</td>\n",
       "      <td>Low</td>\n",
       "    </tr>\n",
       "    <tr>\n",
       "      <th>...</th>\n",
       "      <td>...</td>\n",
       "      <td>...</td>\n",
       "      <td>...</td>\n",
       "    </tr>\n",
       "    <tr>\n",
       "      <th>9995</th>\n",
       "      <td>C09996</td>\n",
       "      <td>289.07</td>\n",
       "      <td>Low</td>\n",
       "    </tr>\n",
       "    <tr>\n",
       "      <th>9996</th>\n",
       "      <td>C09997</td>\n",
       "      <td>708.05</td>\n",
       "      <td>Medium</td>\n",
       "    </tr>\n",
       "    <tr>\n",
       "      <th>9997</th>\n",
       "      <td>C09998</td>\n",
       "      <td>1796.58</td>\n",
       "      <td>Medium</td>\n",
       "    </tr>\n",
       "    <tr>\n",
       "      <th>9998</th>\n",
       "      <td>C09999</td>\n",
       "      <td>3410.28</td>\n",
       "      <td>High</td>\n",
       "    </tr>\n",
       "    <tr>\n",
       "      <th>9999</th>\n",
       "      <td>C10000</td>\n",
       "      <td>514.57</td>\n",
       "      <td>Medium</td>\n",
       "    </tr>\n",
       "  </tbody>\n",
       "</table>\n",
       "<p>10000 rows × 3 columns</p>\n",
       "</div>"
      ],
      "text/plain": [
       "     Customer_ID  Total_Amount Spending_Category\n",
       "0         C00001       1271.69            Medium\n",
       "1         C00002        234.40               Low\n",
       "2         C00003       1706.64            Medium\n",
       "3         C00004       1824.60            Medium\n",
       "4         C00005        406.77               Low\n",
       "...          ...           ...               ...\n",
       "9995      C09996        289.07               Low\n",
       "9996      C09997        708.05            Medium\n",
       "9997      C09998       1796.58            Medium\n",
       "9998      C09999       3410.28              High\n",
       "9999      C10000        514.57            Medium\n",
       "\n",
       "[10000 rows x 3 columns]"
      ]
     },
     "execution_count": 29,
     "metadata": {},
     "output_type": "execute_result"
    }
   ],
   "source": [
    "bins = [0, 500, 2000, 4500]\n",
    "labels = ['Low', 'Medium', 'High']\n",
    "\n",
    "customer_spending['Spending_Category'] = pd.cut(customer_spending['Total_Amount'],\n",
    "                                                bins=bins,\n",
    "                                                labels=labels,\n",
    "                                                right=False)\n",
    "customer_spending"
   ]
  },
  {
   "cell_type": "code",
   "execution_count": null,
   "id": "aa579215-1ea7-447a-b469-deae50b31ac0",
   "metadata": {},
   "outputs": [],
   "source": [
    "# Create a pie chart showing the proportion of customers in each section"
   ]
  },
  {
   "cell_type": "code",
   "execution_count": 31,
   "id": "6d1b09d3-9829-4316-9b7d-de07088a6f1a",
   "metadata": {},
   "outputs": [],
   "source": [
    "category_counts = df['Category'].value_counts()"
   ]
  },
  {
   "cell_type": "code",
   "execution_count": 34,
   "id": "ca5d57fc-f907-47a0-b5ff-b3079a46426b",
   "metadata": {},
   "outputs": [
    {
     "data": {
      "text/plain": [
       "Category\n",
       "Home & Kitchen    2071\n",
       "Toys              2002\n",
       "Clothing          1985\n",
       "Electronics       1976\n",
       "Books             1969\n",
       "Name: count, dtype: int64"
      ]
     },
     "execution_count": 34,
     "metadata": {},
     "output_type": "execute_result"
    }
   ],
   "source": [
    "category_counts"
   ]
  },
  {
   "cell_type": "code",
   "execution_count": 37,
   "id": "78f02a6c-138c-41d7-aa8a-a9774d25a89e",
   "metadata": {},
   "outputs": [
    {
     "data": {
      "image/png": "[encoded data removed]",
      "text/plain": [
       "<Figure size 640x480 with 1 Axes>"
      ]
     },
     "metadata": {},
     "output_type": "display_data"
    }
   ],
   "source": [
    "plt.pie(category_counts, labels=category_counts.index)\n",
    "plt.show()"
   ]
  },
  {
   "cell_type": "markdown",
   "id": "2977c3a1-1f04-4094-8a70-5e22935f0ea3",
   "metadata": {},
   "source": [
    "### 3. Regional Analysis:\n",
    "- Group by Region and compute the average Total_Amount and total Quantity\n",
    "- Create a stacked bar plot showing the Total_Amount by Category for each Region"
   ]
  },
  {
   "cell_type": "code",
   "execution_count": 46,
   "id": "1c322ef0-7363-4323-b055-d38cdb8c2021",
   "metadata": {},
   "outputs": [],
   "source": [
    "group_by_total_amount_mean = (df.groupby('Region')['Total_Amount'].mean().reset_index()).round(2)\n",
    "group_by_total_quantity_sum = df.groupby('Region')['Quantity'].sum().reset_index()"
   ]
  },
  {
   "cell_type": "code",
   "execution_count": 47,
   "id": "88d5b1b1-5502-402d-ae5a-24e3893363c4",
   "metadata": {},
   "outputs": [
    {
     "data": {
      "text/html": [
       "<div>\n",
       "<style scoped>\n",
       "    .dataframe tbody tr th:only-of-type {\n",
       "        vertical-align: middle;\n",
       "    }\n",
       "\n",
       "    .dataframe tbody tr th {\n",
       "        vertical-align: top;\n",
       "    }\n",
       "\n",
       "    .dataframe thead th {\n",
       "        text-align: right;\n",
       "    }\n",
       "</style>\n",
       "<table border=\"1\" class=\"dataframe\">\n",
       "  <thead>\n",
       "    <tr style=\"text-align: right;\">\n",
       "      <th></th>\n",
       "      <th>Region</th>\n",
       "      <th>Total_Amount</th>\n",
       "    </tr>\n",
       "  </thead>\n",
       "  <tbody>\n",
       "    <tr>\n",
       "      <th>0</th>\n",
       "      <td>East</td>\n",
       "      <td>1243.28</td>\n",
       "    </tr>\n",
       "    <tr>\n",
       "      <th>1</th>\n",
       "      <td>North</td>\n",
       "      <td>1238.37</td>\n",
       "    </tr>\n",
       "    <tr>\n",
       "      <th>2</th>\n",
       "      <td>South</td>\n",
       "      <td>1252.24</td>\n",
       "    </tr>\n",
       "    <tr>\n",
       "      <th>3</th>\n",
       "      <td>West</td>\n",
       "      <td>1274.80</td>\n",
       "    </tr>\n",
       "  </tbody>\n",
       "</table>\n",
       "</div>"
      ],
      "text/plain": [
       "  Region  Total_Amount\n",
       "0   East       1243.28\n",
       "1  North       1238.37\n",
       "2  South       1252.24\n",
       "3   West       1274.80"
      ]
     },
     "execution_count": 47,
     "metadata": {},
     "output_type": "execute_result"
    }
   ],
   "source": [
    "group_by_total_amount_mean"
   ]
  },
  {
   "cell_type": "code",
   "execution_count": 45,
   "id": "bf350871-1305-47e1-84ce-9cb433878439",
   "metadata": {},
   "outputs": [
    {
     "data": {
      "text/html": [
       "<div>\n",
       "<style scoped>\n",
       "    .dataframe tbody tr th:only-of-type {\n",
       "        vertical-align: middle;\n",
       "    }\n",
       "\n",
       "    .dataframe tbody tr th {\n",
       "        vertical-align: top;\n",
       "    }\n",
       "\n",
       "    .dataframe thead th {\n",
       "        text-align: right;\n",
       "    }\n",
       "</style>\n",
       "<table border=\"1\" class=\"dataframe\">\n",
       "  <thead>\n",
       "    <tr style=\"text-align: right;\">\n",
       "      <th></th>\n",
       "      <th>Region</th>\n",
       "      <th>Quantity</th>\n",
       "    </tr>\n",
       "  </thead>\n",
       "  <tbody>\n",
       "    <tr>\n",
       "      <th>0</th>\n",
       "      <td>East</td>\n",
       "      <td>12571</td>\n",
       "    </tr>\n",
       "    <tr>\n",
       "      <th>1</th>\n",
       "      <td>North</td>\n",
       "      <td>12350</td>\n",
       "    </tr>\n",
       "    <tr>\n",
       "      <th>2</th>\n",
       "      <td>South</td>\n",
       "      <td>12329</td>\n",
       "    </tr>\n",
       "    <tr>\n",
       "      <th>3</th>\n",
       "      <td>West</td>\n",
       "      <td>12705</td>\n",
       "    </tr>\n",
       "  </tbody>\n",
       "</table>\n",
       "</div>"
      ],
      "text/plain": [
       "  Region  Quantity\n",
       "0   East     12571\n",
       "1  North     12350\n",
       "2  South     12329\n",
       "3   West     12705"
      ]
     },
     "execution_count": 45,
     "metadata": {},
     "output_type": "execute_result"
    }
   ],
   "source": [
    "group_by_total_quantity_sum"
   ]
  },
  {
   "cell_type": "code",
   "execution_count": 55,
   "id": "815c5684-6a58-4076-9ee7-b61a05843b0d",
   "metadata": {},
   "outputs": [
    {
     "data": {
      "image/png": "[encoded data removed]",
      "text/plain": [
       "<Figure size 1000x600 with 1 Axes>"
      ]
     },
     "metadata": {},
     "output_type": "display_data"
    }
   ],
   "source": [
    "pivot = df.pivot_table(values='Total_Amount', index='Region', columns='Category', aggfunc='sum', fill_value=0)\n",
    "\n",
    "pivot.plot(kind='bar', stacked=True, figsize=(10, 6), colormap='viridis')\n",
    "plt.show()"
   ]
  },
  {
   "cell_type": "markdown",
   "id": "5d2fc9bb-ff84-4bb5-bf45-7c636f949122",
   "metadata": {},
   "source": [
    "### 4. Payment Method Trends:\n",
    "- Analyze the preference of Payment_Method by Customer_Age groups (e.g., 18-30, 31-50, 51+).\n",
    "- Visualize the results using a grouped bar plot."
   ]
  },
  {
   "cell_type": "code",
   "execution_count": 57,
   "id": "7961f656-a92e-47c6-ad80-53348cf3e2b9",
   "metadata": {},
   "outputs": [],
   "source": [
    "bins = [0, 30, 50, float('inf')]\n",
    "labels = ['18-30', '31-50', '51+']\n",
    "df['Age_Group'] = pd.cut(df['Customer_Age'], bins=bins, labels=labels, right=True)"
   ]
  },
  {
   "cell_type": "code",
   "execution_count": 62,
   "id": "94028641-c7bb-4025-adc2-63767f9b2ad1",
   "metadata": {},
   "outputs": [],
   "source": [
    "age_payment = pd.crosstab(df['Age_Group'], df['Payment_Method'])\n",
    "age_payment_percent = (age_payment.div(age_payment.sum(axis=1), axis=0) * 100).round(2)"
   ]
  },
  {
   "cell_type": "code",
   "execution_count": 67,
   "id": "2928eaa1-5883-4241-99ff-4eddc6b59cd3",
   "metadata": {},
   "outputs": [
    {
     "data": {
      "text/html": [
       "<div>\n",
       "<style scoped>\n",
       "    .dataframe tbody tr th:only-of-type {\n",
       "        vertical-align: middle;\n",
       "    }\n",
       "\n",
       "    .dataframe tbody tr th {\n",
       "        vertical-align: top;\n",
       "    }\n",
       "\n",
       "    .dataframe thead th {\n",
       "        text-align: right;\n",
       "    }\n",
       "</style>\n",
       "<table border=\"1\" class=\"dataframe\">\n",
       "  <thead>\n",
       "    <tr style=\"text-align: right;\">\n",
       "      <th>Payment_Method</th>\n",
       "      <th>Cash</th>\n",
       "      <th>Credit Card</th>\n",
       "      <th>Debit Card</th>\n",
       "      <th>PayPal</th>\n",
       "    </tr>\n",
       "    <tr>\n",
       "      <th>Age_Group</th>\n",
       "      <th></th>\n",
       "      <th></th>\n",
       "      <th></th>\n",
       "      <th></th>\n",
       "    </tr>\n",
       "  </thead>\n",
       "  <tbody>\n",
       "    <tr>\n",
       "      <th>18-30</th>\n",
       "      <td>24.88</td>\n",
       "      <td>25.07</td>\n",
       "      <td>27.23</td>\n",
       "      <td>22.81</td>\n",
       "    </tr>\n",
       "    <tr>\n",
       "      <th>31-50</th>\n",
       "      <td>23.40</td>\n",
       "      <td>25.82</td>\n",
       "      <td>25.61</td>\n",
       "      <td>25.17</td>\n",
       "    </tr>\n",
       "    <tr>\n",
       "      <th>51+</th>\n",
       "      <td>25.96</td>\n",
       "      <td>24.32</td>\n",
       "      <td>25.94</td>\n",
       "      <td>23.77</td>\n",
       "    </tr>\n",
       "  </tbody>\n",
       "</table>\n",
       "</div>"
      ],
      "text/plain": [
       "Payment_Method   Cash  Credit Card  Debit Card  PayPal\n",
       "Age_Group                                             \n",
       "18-30           24.88        25.07       27.23   22.81\n",
       "31-50           23.40        25.82       25.61   25.17\n",
       "51+             25.96        24.32       25.94   23.77"
      ]
     },
     "execution_count": 67,
     "metadata": {},
     "output_type": "execute_result"
    }
   ],
   "source": [
    "age_payment_percent"
   ]
  },
  {
   "cell_type": "code",
   "execution_count": 65,
   "id": "c505ca20-dc6c-4aa0-adf7-3d90e7b482b4",
   "metadata": {},
   "outputs": [
    {
     "data": {
      "image/png": "[encoded data removed]",
      "text/plain": [
       "<Figure size 1000x600 with 1 Axes>"
      ]
     },
     "metadata": {},
     "output_type": "display_data"
    }
   ],
   "source": [
    "age_payment_percent.plot(kind='bar', stacked=True, figsize=(10, 6), colormap='Accent')\n",
    "\n",
    "plt.title('Payment Method Preference by Age Group')\n",
    "plt.xlabel('Customer Age Group')\n",
    "plt.ylabel('Percentage of Payment Methods')\n",
    "plt.legend(title='Payment Method', loc='upper left')\n",
    "plt.tight_layout()\n",
    "plt.show()"
   ]
  },
  {
   "cell_type": "markdown",
   "id": "a163a4da-3f73-4db0-a26a-47331e498668",
   "metadata": {},
   "source": [
    "# Task 4: Insights and Visualization"
   ]
  },
  {
   "cell_type": "markdown",
   "id": "d1762709-e2f2-450f-96a7-f25c812fd6db",
   "metadata": {},
   "source": [
    "### 1. Key Insights:\n",
    "- Summarize at least five actionable insights based on your analysis\n",
    "(e.g., which category performs best, which region has growth potential, etc.).\n",
    "- Support each insight with relevant data or visualizations."
   ]
  },
  {
   "cell_type": "code",
   "execution_count": 72,
   "id": "68c8a28f-e56d-4222-9ccd-b4d57a4c620b",
   "metadata": {},
   "outputs": [
    {
     "data": {
      "text/plain": [
       "Category\n",
       "Home & Kitchen    2071\n",
       "Toys              2002\n",
       "Clothing          1985\n",
       "Electronics       1976\n",
       "Books             1969\n",
       "Name: Order_ID, dtype: int64"
      ]
     },
     "execution_count": 72,
     "metadata": {},
     "output_type": "execute_result"
    }
   ],
   "source": [
    "df.groupby('Category')['Order_ID'].count().sort_values(ascending=False)"
   ]
  },
  {
   "cell_type": "markdown",
   "id": "bf1224e0-a5eb-4399-bcb6-c6791d61d092",
   "metadata": {},
   "source": [
    "1. Books and Electronics have a room for growth, they are clearly lagging behind in their sales\n",
    "- They have approximately 100 units less sold then that of Home & Kitchen"
   ]
  },
  {
   "cell_type": "code",
   "execution_count": 90,
   "id": "1684c43e-e7c9-4982-8de8-6413c5c06441",
   "metadata": {},
   "outputs": [
    {
     "name": "stderr",
     "output_type": "stream",
     "text": [
      "C:\\Users\\AYAT LAPTOP POINT\\AppData\\Local\\Temp\\ipykernel_8788\\2257903637.py:1: FutureWarning: The default of observed=False is deprecated and will be changed to True in a future version of pandas. Pass observed=False to retain current behavior or observed=True to adopt the future default and silence this warning.\n",
      "  age_grouped = df.groupby('Age_Group')['Order_ID'].count().sort_values(ascending=False)\n"
     ]
    }
   ],
   "source": [
    "age_grouped = df.groupby('Age_Group')['Order_ID'].count().sort_values(ascending=False)"
   ]
  },
  {
   "cell_type": "code",
   "execution_count": 99,
   "id": "e2fbd680-86d8-4794-be47-cc5530a03b42",
   "metadata": {},
   "outputs": [
    {
     "data": {
      "image/png": "[encoded data removed]",
      "text/plain": [
       "<Figure size 640x480 with 1 Axes>"
      ]
     },
     "metadata": {},
     "output_type": "display_data"
    }
   ],
   "source": [
    "plt.pie(age_grouped, labels=age_grouped.index)\n",
    "plt.show()"
   ]
  },
  {
   "cell_type": "markdown",
   "id": "72dfb43a-2be6-41b8-a7e8-8dbaae8130bc",
   "metadata": {},
   "source": [
    "2. Majority of our costomers are of age group of 51+ and the least one have in age group 18-30,\n",
    "we need to market our brand to 18-30 age group to attract that age group of customers"
   ]
  },
  {
   "cell_type": "code",
   "execution_count": 106,
   "id": "f767344f-7e6d-488b-9f76-84059f8b4252",
   "metadata": {},
   "outputs": [],
   "source": [
    "gender_grouped = df.groupby('Customer_Gender')['Total_Amount'].sum().sort_values(ascending=False).reset_index()"
   ]
  },
  {
   "cell_type": "code",
   "execution_count": 112,
   "id": "a900f5a7-2fdc-49f4-9fa3-eceef9accf04",
   "metadata": {},
   "outputs": [
    {
     "data": {
      "text/plain": [
       "<BarContainer object of 3 artists>"
      ]
     },
     "execution_count": 112,
     "metadata": {},
     "output_type": "execute_result"
    },
    {
     "data": {
      "image/png": "[encoded data removed]",
      "text/plain": [
       "<Figure size 640x480 with 1 Axes>"
      ]
     },
     "metadata": {},
     "output_type": "display_data"
    }
   ],
   "source": [
    "plt.bar(gender_grouped['Customer_Gender'], gender_grouped['Total_Amount'])"
   ]
  },
  {
   "cell_type": "markdown",
   "id": "04e6ba5e-a52a-4988-97b6-2a82ab0a731a",
   "metadata": {},
   "source": [
    "3. We need to target females more because sales to females are much less then that of Males"
   ]
  },
  {
   "cell_type": "code",
   "execution_count": 113,
   "id": "70ee71c4-af05-49ee-91bd-49e61907e301",
   "metadata": {},
   "outputs": [
    {
     "data": {
      "text/plain": [
       "Customer_Gender\n",
       "Female    1277.0\n",
       "Male      1244.0\n",
       "Other     1237.0\n",
       "Name: Total_Amount, dtype: float64"
      ]
     },
     "execution_count": 113,
     "metadata": {},
     "output_type": "execute_result"
    }
   ],
   "source": [
    "(df.groupby('Customer_Gender')['Total_Amount'].mean().sort_values(ascending=False)).round(0)"
   ]
  },
  {
   "cell_type": "markdown",
   "id": "3e844054-45b6-45f4-b176-a18df45dc901",
   "metadata": {},
   "source": [
    "4. Females spends 30 dollars more then on average then that of men and our females customers are also lagging behind, so there is a need of attract and target more females"
   ]
  },
  {
   "cell_type": "code",
   "execution_count": 89,
   "id": "1b09c5cb-b530-446f-a61e-60884c834914",
   "metadata": {},
   "outputs": [
    {
     "data": {
      "text/plain": [
       "Region\n",
       "West     26.0\n",
       "East     25.0\n",
       "North    24.5\n",
       "South    24.4\n",
       "Name: Total_Amount, dtype: float64"
      ]
     },
     "execution_count": 89,
     "metadata": {},
     "output_type": "execute_result"
    }
   ],
   "source": [
    "group_by_region = df.groupby('Region')['Total_Amount'].sum().sort_values(ascending=False)\n",
    "percentage_by_region = (group_by_region / group_by_region.sum()) * 100\n",
    "(percentage_by_region).round(1)"
   ]
  },
  {
   "cell_type": "markdown",
   "id": "09311c16-453a-4892-8030-5c6837f639e0",
   "metadata": {},
   "source": [
    "5. West region has the greatest share of total sales i.e. 26%\n",
    "and south has the least share of sales i.e. 24.4%"
   ]
  },
  {
   "cell_type": "markdown",
   "id": "8c5536fa-ee02-4873-9a96-1485b691613c",
   "metadata": {},
   "source": [
    "### 2. Dashboard:\n",
    "- Create a single figure with four subplots using Matplotlib:\n",
    "1. A bar plot of total sales by Category .\n",
    "2. A line plot of monthly sales trends.\n",
    "3. A pie chart of customer spending segments.\n",
    "4. A boxplot of Total_Amount by Region .\n",
    "- Ensure the dashboard is well-labeled and visually appealing."
   ]
  },
  {
   "cell_type": "code",
   "execution_count": 119,
   "id": "7228bbb5-2c60-453e-8737-c10c7d97c856",
   "metadata": {},
   "outputs": [
    {
     "data": {
      "image/png": "[encoded data removed]",
      "text/plain": [
       "<Figure size 1400x1000 with 4 Axes>"
      ]
     },
     "metadata": {},
     "output_type": "display_data"
    }
   ],
   "source": [
    "import matplotlib.pyplot as plt\n",
    "\n",
    "df['Order_Date'] = pd.to_datetime(df['Order_Date'], errors='coerce')\n",
    "\n",
    "category_sales = df.groupby('Category')['Total_Amount'].sum()\n",
    "monthly_sales = df.groupby(df['Order_Date'].dt.to_period('M').astype(str))['Total_Amount'].sum()\n",
    "segment_counts = df['Category'].value_counts()\n",
    "region_order = df['Region'].unique()\n",
    "\n",
    "fig, axs = plt.subplots(2, 2, figsize=(14, 10))\n",
    "fig.suptitle('Sales Overview Dashboard', fontsize=16, fontweight='bold')\n",
    "\n",
    "axs[0, 0].bar(category_sales.index, category_sales.values, color='skyblue')\n",
    "axs[0, 0].set_title('Total Sales by Category')\n",
    "axs[0, 0].set_xlabel('Category')\n",
    "axs[0, 0].set_ylabel('Total Sales')\n",
    "\n",
    "axs[0, 1].plot(monthly_sales.index, monthly_sales.values, marker='o', color='green')\n",
    "axs[0, 1].set_title('Monthly Sales Trend')\n",
    "axs[0, 1].set_xlabel('Month')\n",
    "axs[0, 1].set_ylabel('Total Sales')\n",
    "axs[0, 1].tick_params(axis='x', rotation=45)\n",
    "\n",
    "axs[1, 0].pie(segment_counts.values, labels=segment_counts.index, autopct='%1.1f%%', colors=plt.cm.Pastel1.colors)\n",
    "axs[1, 0].set_title('Customer Spending Segments')\n",
    "\n",
    "df.boxplot(column='Total_Amount', by='Region', ax=axs[1, 1], grid=False)\n",
    "axs[1, 1].set_title('Total Amount by Region')\n",
    "axs[1, 1].set_xlabel('Region')\n",
    "axs[1, 1].set_ylabel('Total Amount')\n",
    "plt.suptitle('')\n",
    "\n",
    "plt.tight_layout(rect=[0, 0, 1, 0.95])\n",
    "plt.show()"
   ]
  }
 ],
 "metadata": {
  "kernelspec": {
   "display_name": "Python 3 (ipykernel)",
   "language": "python",
   "name": "python3"
  },
  "language_info": {
   "codemirror_mode": {
    "name": "ipython",
    "version": 3
   },
   "file_extension": ".py",
   "mimetype": "text/x-python",
   "name": "python",
   "nbconvert_exporter": "python",
   "pygments_lexer": "ipython3",
   "version": "3.10.16"
  }
 },
 "nbformat": 4,
 "nbformat_minor": 5
}
